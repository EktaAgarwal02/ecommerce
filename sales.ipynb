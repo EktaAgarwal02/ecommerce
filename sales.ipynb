{
 "cells": [
  {
   "cell_type": "code",
   "execution_count": 1,
   "metadata": {},
   "outputs": [],
   "source": [
    "import pandas as pd\n",
    "\n",
    "# Load the dataset\n",
    "df = pd.read_csv('BlinkIT-Grocery-Data (1).csv')"
   ]
  },
  {
   "cell_type": "code",
   "execution_count": 2,
   "metadata": {},
   "outputs": [
    {
     "name": "stdout",
     "output_type": "stream",
     "text": [
      "   ItemFat Content Item Identifier              Item Type  \\\n",
      "0          Regular           FDX32  Fruits and Vegetables   \n",
      "1          Low Fat           NCB42     Health and Hygiene   \n",
      "2          Regular           FDR28           Frozen Foods   \n",
      "3          Regular           FDL50                 Canned   \n",
      "4          Low Fat           DRI25            Soft Drinks   \n",
      "\n",
      "   Outlet Establishment Year Outlet Identifier Outlet Location Type  \\\n",
      "0                       2012            OUT049               Tier 1   \n",
      "1                       2022            OUT018               Tier 3   \n",
      "2                       2016            OUT046               Tier 1   \n",
      "3                       2014            OUT013               Tier 3   \n",
      "4                       2015            OUT045               Tier 2   \n",
      "\n",
      "  Outlet Siz0e        Outlet Type  Item Visibility  Item Weight     Sales  \\\n",
      "0       Medium  Supermarket Type1         0.100014        15.10  145.4786   \n",
      "1       Medium  Supermarket Type2         0.008596        11.80  115.3492   \n",
      "2        Small  Supermarket Type1         0.025896        13.85  165.0210   \n",
      "3         High  Supermarket Type1         0.042278        12.15  126.5046   \n",
      "4        Small  Supermarket Type1         0.033970        19.60   55.1614   \n",
      "\n",
      "   Rating  \n",
      "0     5.0  \n",
      "1     5.0  \n",
      "2     5.0  \n",
      "3     5.0  \n",
      "4     5.0  \n"
     ]
    }
   ],
   "source": [
    "print(df.head())"
   ]
  },
  {
   "cell_type": "code",
   "execution_count": 3,
   "metadata": {},
   "outputs": [
    {
     "data": {
      "text/plain": [
       "[' ItemFat Content',\n",
       " 'Item Identifier',\n",
       " 'Item Type',\n",
       " 'Outlet Establishment Year',\n",
       " 'Outlet Identifier',\n",
       " 'Outlet Location Type',\n",
       " 'Outlet Siz0e',\n",
       " 'Outlet Type',\n",
       " 'Item Visibility',\n",
       " 'Item Weight',\n",
       " 'Sales',\n",
       " 'Rating']"
      ]
     },
     "execution_count": 3,
     "metadata": {},
     "output_type": "execute_result"
    }
   ],
   "source": [
    "df.columns.tolist()"
   ]
  },
  {
   "cell_type": "code",
   "execution_count": 4,
   "metadata": {},
   "outputs": [
    {
     "data": {
      "text/plain": [
       "array(['Fruits and Vegetables', 'Health and Hygiene', 'Frozen Foods',\n",
       "       'Canned', 'Soft Drinks', 'Household', 'Snack Foods', 'Meat',\n",
       "       'Breads', 'Hard Drinks', 'Others', 'Dairy', 'Breakfast',\n",
       "       'Baking Goods', 'Seafood', 'Starchy Foods'], dtype=object)"
      ]
     },
     "execution_count": 4,
     "metadata": {},
     "output_type": "execute_result"
    }
   ],
   "source": [
    "df['Item Type'].unique()"
   ]
  },
  {
   "cell_type": "code",
   "execution_count": 5,
   "metadata": {},
   "outputs": [
    {
     "name": "stdout",
     "output_type": "stream",
     "text": [
      "       Outlet Establishment Year  Item Visibility  Item Weight        Sales  \\\n",
      "count                8523.000000      8523.000000  7060.000000  8523.000000   \n",
      "mean                 2016.450546         0.066132    12.857645   140.992783   \n",
      "std                     3.189396         0.051598     4.643456    62.275067   \n",
      "min                  2011.000000         0.000000     4.555000    31.290000   \n",
      "25%                  2014.000000         0.026989     8.773750    93.826500   \n",
      "50%                  2016.000000         0.053931    12.600000   143.012800   \n",
      "75%                  2018.000000         0.094585    16.850000   185.643700   \n",
      "max                  2022.000000         0.328391    21.350000   266.888400   \n",
      "\n",
      "            Rating  \n",
      "count  8523.000000  \n",
      "mean      3.965857  \n",
      "std       0.605651  \n",
      "min       1.000000  \n",
      "25%       4.000000  \n",
      "50%       4.000000  \n",
      "75%       4.200000  \n",
      "max       5.000000  \n"
     ]
    }
   ],
   "source": [
    "print(df.describe())"
   ]
  },
  {
   "cell_type": "code",
   "execution_count": 6,
   "metadata": {},
   "outputs": [
    {
     "name": "stdout",
     "output_type": "stream",
     "text": [
      "Item Identifier\n",
      "FDG33    10\n",
      "FDW13    10\n",
      "FDW26     9\n",
      "NCQ06     9\n",
      "FDX20     9\n",
      "FDF52     9\n",
      "DRE49     9\n",
      "NCI54     9\n",
      "FDF56     9\n",
      "FDD38     9\n",
      "Name: count, dtype: int64\n"
     ]
    }
   ],
   "source": [
    "popular_products = df['Item Identifier'].value_counts().head(10)\n",
    "print(popular_products)"
   ]
  },
  {
   "cell_type": "code",
   "execution_count": 7,
   "metadata": {},
   "outputs": [
    {
     "name": "stdout",
     "output_type": "stream",
     "text": [
      "Item Type\n",
      "Fruits and Vegetables    1232\n",
      "Snack Foods              1200\n",
      "Household                 910\n",
      "Frozen Foods              856\n",
      "Dairy                     682\n",
      "Canned                    649\n",
      "Baking Goods              648\n",
      "Health and Hygiene        520\n",
      "Soft Drinks               445\n",
      "Meat                      425\n",
      "Name: count, dtype: int64\n"
     ]
    }
   ],
   "source": [
    "popular_categories = df['Item Type'].value_counts().head(10)\n",
    "print(popular_categories)"
   ]
  },
  {
   "cell_type": "code",
   "execution_count": 8,
   "metadata": {},
   "outputs": [],
   "source": [
    "#import matplotlib.pyplot as plt\n",
    "#import seaborn as sns\n",
    "\n",
    "#Plot popular products\n",
    "#Sales = df['Sales'].value_counts().head(10)\n",
    "#plt.figure(figsize=(10, 6))\n",
    "#sns.barplot(x=Sales.values, y= Sales.index)\n",
    "#plt.title('Top 10 Popular Products')\n",
    "#plt.xlabel('Number of Orders')\n",
    "#plt.ylabel('Sales')\n",
    "#plt.show()\n",
    "\n"
   ]
  },
  {
   "cell_type": "code",
   "execution_count": null,
   "metadata": {},
   "outputs": [],
   "source": []
  },
  {
   "cell_type": "code",
   "execution_count": 9,
   "metadata": {},
   "outputs": [
    {
     "ename": "AttributeError",
     "evalue": "'Series' object has no attribute 'patches'",
     "output_type": "error",
     "traceback": [
      "\u001b[1;31m---------------------------------------------------------------------------\u001b[0m",
      "\u001b[1;31mAttributeError\u001b[0m                            Traceback (most recent call last)",
      "\u001b[1;32m~\\AppData\\Local\\Temp\\ipykernel_11288\\1759064947.py\u001b[0m in \u001b[0;36m?\u001b[1;34m()\u001b[0m\n\u001b[0;32m      7\u001b[0m \u001b[0max\u001b[0m\u001b[1;33m.\u001b[0m\u001b[0mbar_label\u001b[0m\u001b[1;33m(\u001b[0m\u001b[0max\u001b[0m\u001b[1;33m.\u001b[0m\u001b[0mcontainers\u001b[0m\u001b[1;33m[\u001b[0m\u001b[1;36m0\u001b[0m\u001b[1;33m]\u001b[0m\u001b[1;33m,\u001b[0m \u001b[0mfmt\u001b[0m\u001b[1;33m=\u001b[0m\u001b[1;34m'%.0f'\u001b[0m\u001b[1;33m)\u001b[0m\u001b[1;33m\u001b[0m\u001b[1;33m\u001b[0m\u001b[0m\n\u001b[0;32m      8\u001b[0m \u001b[0mplt\u001b[0m\u001b[1;33m.\u001b[0m\u001b[0mtitle\u001b[0m\u001b[1;33m(\u001b[0m\u001b[1;34m'Distribution of Fat Content'\u001b[0m\u001b[1;33m)\u001b[0m\u001b[1;33m\u001b[0m\u001b[1;33m\u001b[0m\u001b[0m\n\u001b[0;32m      9\u001b[0m \u001b[0mplt\u001b[0m\u001b[1;33m.\u001b[0m\u001b[0mxlabel\u001b[0m\u001b[1;33m(\u001b[0m\u001b[1;34m'Fat Content'\u001b[0m\u001b[1;33m)\u001b[0m\u001b[1;33m\u001b[0m\u001b[1;33m\u001b[0m\u001b[0m\n\u001b[0;32m     10\u001b[0m \u001b[0mplt\u001b[0m\u001b[1;33m.\u001b[0m\u001b[0mylabel\u001b[0m\u001b[1;33m(\u001b[0m\u001b[1;34m'Frequency'\u001b[0m\u001b[1;33m)\u001b[0m\u001b[1;33m\u001b[0m\u001b[1;33m\u001b[0m\u001b[0m\n\u001b[1;32m---> 11\u001b[1;33m \u001b[0mplt\u001b[0m\u001b[1;33m.\u001b[0m\u001b[0mbar_label\u001b[0m\u001b[1;33m(\u001b[0m\u001b[0mdf\u001b[0m\u001b[1;33m[\u001b[0m\u001b[1;34m'Item Type'\u001b[0m\u001b[1;33m]\u001b[0m\u001b[1;33m)\u001b[0m\u001b[1;33m\u001b[0m\u001b[1;33m\u001b[0m\u001b[0m\n\u001b[0m\u001b[0;32m     12\u001b[0m \u001b[0mplt\u001b[0m\u001b[1;33m.\u001b[0m\u001b[0mshow\u001b[0m\u001b[1;33m(\u001b[0m\u001b[1;33m)\u001b[0m\u001b[1;33m\u001b[0m\u001b[1;33m\u001b[0m\u001b[0m\n",
      "\u001b[1;32mc:\\Users\\DELL\\miniconda3\\Lib\\site-packages\\matplotlib\\pyplot.py\u001b[0m in \u001b[0;36m?\u001b[1;34m(container, labels, fmt, label_type, padding, **kwargs)\u001b[0m\n\u001b[0;32m   3003\u001b[0m     \u001b[0mlabel_type\u001b[0m\u001b[1;33m:\u001b[0m \u001b[0mLiteral\u001b[0m\u001b[1;33m[\u001b[0m\u001b[1;34m\"center\"\u001b[0m\u001b[1;33m,\u001b[0m \u001b[1;34m\"edge\"\u001b[0m\u001b[1;33m]\u001b[0m \u001b[1;33m=\u001b[0m \u001b[1;34m\"edge\"\u001b[0m\u001b[1;33m,\u001b[0m\u001b[1;33m\u001b[0m\u001b[1;33m\u001b[0m\u001b[0m\n\u001b[0;32m   3004\u001b[0m     \u001b[0mpadding\u001b[0m\u001b[1;33m:\u001b[0m \u001b[0mfloat\u001b[0m \u001b[1;33m=\u001b[0m \u001b[1;36m0\u001b[0m\u001b[1;33m,\u001b[0m\u001b[1;33m\u001b[0m\u001b[1;33m\u001b[0m\u001b[0m\n\u001b[0;32m   3005\u001b[0m     \u001b[1;33m**\u001b[0m\u001b[0mkwargs\u001b[0m\u001b[1;33m,\u001b[0m\u001b[1;33m\u001b[0m\u001b[1;33m\u001b[0m\u001b[0m\n\u001b[0;32m   3006\u001b[0m \u001b[1;33m)\u001b[0m \u001b[1;33m->\u001b[0m \u001b[0mlist\u001b[0m\u001b[1;33m[\u001b[0m\u001b[0mAnnotation\u001b[0m\u001b[1;33m]\u001b[0m\u001b[1;33m:\u001b[0m\u001b[1;33m\u001b[0m\u001b[1;33m\u001b[0m\u001b[0m\n\u001b[1;32m-> 3007\u001b[1;33m     return gca().bar_label(\n\u001b[0m\u001b[0;32m   3008\u001b[0m         \u001b[0mcontainer\u001b[0m\u001b[1;33m,\u001b[0m\u001b[1;33m\u001b[0m\u001b[1;33m\u001b[0m\u001b[0m\n\u001b[0;32m   3009\u001b[0m         \u001b[0mlabels\u001b[0m\u001b[1;33m=\u001b[0m\u001b[0mlabels\u001b[0m\u001b[1;33m,\u001b[0m\u001b[1;33m\u001b[0m\u001b[1;33m\u001b[0m\u001b[0m\n\u001b[0;32m   3010\u001b[0m         \u001b[0mfmt\u001b[0m\u001b[1;33m=\u001b[0m\u001b[0mfmt\u001b[0m\u001b[1;33m,\u001b[0m\u001b[1;33m\u001b[0m\u001b[1;33m\u001b[0m\u001b[0m\n",
      "\u001b[1;32mc:\\Users\\DELL\\miniconda3\\Lib\\site-packages\\matplotlib\\axes\\_axes.py\u001b[0m in \u001b[0;36m?\u001b[1;34m(self, container, labels, fmt, label_type, padding, **kwargs)\u001b[0m\n\u001b[0;32m   2829\u001b[0m             \u001b[1;32mreturn\u001b[0m \u001b[1;36m1\u001b[0m \u001b[1;32mif\u001b[0m \u001b[0mx\u001b[0m \u001b[1;33m>=\u001b[0m \u001b[1;36m0\u001b[0m \u001b[1;32melse\u001b[0m \u001b[1;33m-\u001b[0m\u001b[1;36m1\u001b[0m\u001b[1;33m\u001b[0m\u001b[1;33m\u001b[0m\u001b[0m\n\u001b[0;32m   2830\u001b[0m \u001b[1;33m\u001b[0m\u001b[0m\n\u001b[0;32m   2831\u001b[0m         \u001b[0m_api\u001b[0m\u001b[1;33m.\u001b[0m\u001b[0mcheck_in_list\u001b[0m\u001b[1;33m(\u001b[0m\u001b[1;33m[\u001b[0m\u001b[1;34m'edge'\u001b[0m\u001b[1;33m,\u001b[0m \u001b[1;34m'center'\u001b[0m\u001b[1;33m]\u001b[0m\u001b[1;33m,\u001b[0m \u001b[0mlabel_type\u001b[0m\u001b[1;33m=\u001b[0m\u001b[0mlabel_type\u001b[0m\u001b[1;33m)\u001b[0m\u001b[1;33m\u001b[0m\u001b[1;33m\u001b[0m\u001b[0m\n\u001b[0;32m   2832\u001b[0m \u001b[1;33m\u001b[0m\u001b[0m\n\u001b[1;32m-> 2833\u001b[1;33m         \u001b[0mbars\u001b[0m \u001b[1;33m=\u001b[0m \u001b[0mcontainer\u001b[0m\u001b[1;33m.\u001b[0m\u001b[0mpatches\u001b[0m\u001b[1;33m\u001b[0m\u001b[1;33m\u001b[0m\u001b[0m\n\u001b[0m\u001b[0;32m   2834\u001b[0m         \u001b[0merrorbar\u001b[0m \u001b[1;33m=\u001b[0m \u001b[0mcontainer\u001b[0m\u001b[1;33m.\u001b[0m\u001b[0merrorbar\u001b[0m\u001b[1;33m\u001b[0m\u001b[1;33m\u001b[0m\u001b[0m\n\u001b[0;32m   2835\u001b[0m         \u001b[0mdatavalues\u001b[0m \u001b[1;33m=\u001b[0m \u001b[0mcontainer\u001b[0m\u001b[1;33m.\u001b[0m\u001b[0mdatavalues\u001b[0m\u001b[1;33m\u001b[0m\u001b[1;33m\u001b[0m\u001b[0m\n\u001b[0;32m   2836\u001b[0m         \u001b[0morientation\u001b[0m \u001b[1;33m=\u001b[0m \u001b[0mcontainer\u001b[0m\u001b[1;33m.\u001b[0m\u001b[0morientation\u001b[0m\u001b[1;33m\u001b[0m\u001b[1;33m\u001b[0m\u001b[0m\n",
      "\u001b[1;32mc:\\Users\\DELL\\miniconda3\\Lib\\site-packages\\pandas\\core\\generic.py\u001b[0m in \u001b[0;36m?\u001b[1;34m(self, name)\u001b[0m\n\u001b[0;32m   6295\u001b[0m             \u001b[1;32mand\u001b[0m \u001b[0mname\u001b[0m \u001b[1;32mnot\u001b[0m \u001b[1;32min\u001b[0m \u001b[0mself\u001b[0m\u001b[1;33m.\u001b[0m\u001b[0m_accessors\u001b[0m\u001b[1;33m\u001b[0m\u001b[1;33m\u001b[0m\u001b[0m\n\u001b[0;32m   6296\u001b[0m             \u001b[1;32mand\u001b[0m \u001b[0mself\u001b[0m\u001b[1;33m.\u001b[0m\u001b[0m_info_axis\u001b[0m\u001b[1;33m.\u001b[0m\u001b[0m_can_hold_identifiers_and_holds_name\u001b[0m\u001b[1;33m(\u001b[0m\u001b[0mname\u001b[0m\u001b[1;33m)\u001b[0m\u001b[1;33m\u001b[0m\u001b[1;33m\u001b[0m\u001b[0m\n\u001b[0;32m   6297\u001b[0m         \u001b[1;33m)\u001b[0m\u001b[1;33m:\u001b[0m\u001b[1;33m\u001b[0m\u001b[1;33m\u001b[0m\u001b[0m\n\u001b[0;32m   6298\u001b[0m             \u001b[1;32mreturn\u001b[0m \u001b[0mself\u001b[0m\u001b[1;33m[\u001b[0m\u001b[0mname\u001b[0m\u001b[1;33m]\u001b[0m\u001b[1;33m\u001b[0m\u001b[1;33m\u001b[0m\u001b[0m\n\u001b[1;32m-> 6299\u001b[1;33m         \u001b[1;32mreturn\u001b[0m \u001b[0mobject\u001b[0m\u001b[1;33m.\u001b[0m\u001b[0m__getattribute__\u001b[0m\u001b[1;33m(\u001b[0m\u001b[0mself\u001b[0m\u001b[1;33m,\u001b[0m \u001b[0mname\u001b[0m\u001b[1;33m)\u001b[0m\u001b[1;33m\u001b[0m\u001b[1;33m\u001b[0m\u001b[0m\n\u001b[0m",
      "\u001b[1;31mAttributeError\u001b[0m: 'Series' object has no attribute 'patches'"
     ]
    },
    {
     "data": {
      "image/png": "[encoded data removed]",
      "text/plain": [
       "<Figure size 1000x600 with 1 Axes>"
      ]
     },
     "metadata": {},
     "output_type": "display_data"
    }
   ],
   "source": [
    "import matplotlib.pyplot as plt\n",
    "import seaborn as sns\n",
    "\n",
    "# Plot distribution of fat content\n",
    "plt.figure(figsize=(10, 6))\n",
    "ax = sns.histplot(df[' ItemFat Content'], bins=30, kde=True)\n",
    "ax.bar_label(ax.containers[0], fmt='%.0f')\n",
    "plt.title('Distribution of Fat Content')\n",
    "plt.xlabel('Fat Content')\n",
    "plt.ylabel('Frequency')\n",
    "plt.bar_label(df['Item Type'])\n",
    "plt.show()\n"
   ]
  },
  {
   "cell_type": "code",
   "execution_count": null,
   "metadata": {},
   "outputs": [
    {
     "name": "stdout",
     "output_type": "stream",
     "text": [
      "Total Sales: 1201681.4928\n"
     ]
    }
   ],
   "source": [
    "# Calculate total sales\n",
    "total_sales = df['Sales'].sum()\n",
    "print(f\"Total Sales: {total_sales}\")\n"
   ]
  },
  {
   "cell_type": "code",
   "execution_count": null,
   "metadata": {},
   "outputs": [
    {
     "data": {
      "image/png": "[encoded data removed]",
      "text/plain": [
       "<Figure size 1000x600 with 1 Axes>"
      ]
     },
     "metadata": {},
     "output_type": "display_data"
    }
   ],
   "source": [
    "import matplotlib.pyplot as plt\n",
    "import seaborn as sns\n",
    "\n",
    "# Plot total sales\n",
    "plt.figure(figsize=(10, 6))\n",
    "sns.barplot(x=['Sales'], y=[total_sales])\n",
    "plt.title('Total Sales')\n",
    "plt.ylabel('Sales Amount')\n",
    "plt.show()\n"
   ]
  },
  {
   "cell_type": "code",
   "execution_count": null,
   "metadata": {},
   "outputs": [
    {
     "name": "stdout",
     "output_type": "stream",
     "text": [
      "   ItemFat Content Item Identifier              Item Type  \\\n",
      "0          Regular           FDX32  Fruits and Vegetables   \n",
      "1          Low Fat           NCB42     Health and Hygiene   \n",
      "2          Regular           FDR28           Frozen Foods   \n",
      "3          Regular           FDL50                 Canned   \n",
      "4          Low Fat           DRI25            Soft Drinks   \n",
      "\n",
      "   Outlet Establishment Year Outlet Identifier Outlet Location Type  \\\n",
      "0                       2012            OUT049               Tier 1   \n",
      "1                       2022            OUT018               Tier 3   \n",
      "2                       2016            OUT046               Tier 1   \n",
      "3                       2014            OUT013               Tier 3   \n",
      "4                       2015            OUT045               Tier 2   \n",
      "\n",
      "  Outlet Siz0e        Outlet Type  Item Visibility  Item Weight     Sales  \\\n",
      "0       Medium  Supermarket Type1         0.100014        15.10  145.4786   \n",
      "1       Medium  Supermarket Type2         0.008596        11.80  115.3492   \n",
      "2        Small  Supermarket Type1         0.025896        13.85  165.0210   \n",
      "3         High  Supermarket Type1         0.042278        12.15  126.5046   \n",
      "4        Small  Supermarket Type1         0.033970        19.60   55.1614   \n",
      "\n",
      "   Rating  \n",
      "0     5.0  \n",
      "1     5.0  \n",
      "2     5.0  \n",
      "3     5.0  \n",
      "4     5.0  \n"
     ]
    }
   ],
   "source": [
    "#Check the first few rows of the dataset\n",
    "print(df.head())\n",
    "# Calculate the distribution of outlet sizes\n",
    "outlet_size_distribution = df['Outlet Siz0e'].value_counts()"
   ]
  },
  {
   "cell_type": "code",
   "execution_count": null,
   "metadata": {},
   "outputs": [
    {
     "data": {
      "image/png": "[encoded data removed]",
      "text/plain": [
       "<Figure size 800x800 with 1 Axes>"
      ]
     },
     "metadata": {},
     "output_type": "display_data"
    }
   ],
   "source": [
    "outlet_size_distribution = df['Outlet Siz0e'].value_counts()\n",
    "\n",
    "plt.figure(figsize=(8, 8))\n",
    "plt.pie(outlet_size_distribution, labels=outlet_size_distribution.index, autopct='%1.1f%%', startangle=140)\n",
    "plt.title('Distribution of Outlet Sizes')\n",
    "#plt.savefig('static/images/Outlet_Size_distribution.png')\n",
    "plt.show()"
   ]
  },
  {
   "cell_type": "code",
   "execution_count": null,
   "metadata": {},
   "outputs": [],
   "source": [
    "# Calculate the total number of items sold for each product\n",
    "# items_sold = df.groupby('Item Identifier')[''].sum().reset_index()\n",
    "# items_sold = items_sold.sort_values(by='quantity', ascending=False).head(10)\n",
    "# print(items_sold)\n"
   ]
  },
  {
   "cell_type": "code",
   "execution_count": null,
   "metadata": {},
   "outputs": [
    {
     "data": {
      "image/png": "[encoded data removed]",
      "text/plain": [
       "<Figure size 1000x600 with 1 Axes>"
      ]
     },
     "metadata": {},
     "output_type": "display_data"
    }
   ],
   "source": [
    "\n",
    "import seaborn as sns\n",
    "# Set the theme for seaborn\n",
    "sns.set_theme()\n",
    "\n",
    "# Visualization of Outlet Establishment Year\n",
    "plt.figure(figsize=(10, 6))\n",
    "sns.countplot(data=df, x='Outlet Establishment Year')\n",
    "sns.countplot(data=df, x='Outlet Establishment Year')\n",
    "plt.title('Outlet Establishment Year Distribution')\n",
    "plt.xlabel('Year')\n",
    "plt.ylabel('Count')\n",
    "plt.show()\n"
   ]
  },
  {
   "cell_type": "code",
   "execution_count": null,
   "metadata": {},
   "outputs": [
    {
     "data": {
      "image/png": "[encoded data removed]",
      "text/plain": [
       "<Figure size 1200x800 with 1 Axes>"
      ]
     },
     "metadata": {},
     "output_type": "display_data"
    }
   ],
   "source": [
    "# Visualization of Item Types\n",
    "plt.figure(figsize=(12, 8))\n",
    "sns.countplot(data=df, x='Item Type', order=df['Item Type'].value_counts().index)\n",
    "plt.title('Distribution of Item Types')\n",
    "plt.xlabel('Item Type')\n",
    "plt.ylabel('Count')\n",
    "plt.xticks(rotation=90)\n",
    "plt.show()\n"
   ]
  },
  {
   "cell_type": "code",
   "execution_count": null,
   "metadata": {},
   "outputs": [
    {
     "data": {
      "image/png": "[encoded data removed]",
      "text/plain": [
       "<Figure size 1200x800 with 1 Axes>"
      ]
     },
     "metadata": {},
     "output_type": "display_data"
    }
   ],
   "source": [
    "# Set the theme for seaborn\n",
    "sns.set_theme()\n",
    "\n",
    "# Visualization of Outlet Locations\n",
    "plt.figure(figsize=(12, 8))\n",
    "sns.countplot(data=df, x='Outlet Location Type', order=df['Outlet Location Type'].value_counts().index)\n",
    "plt.title('Distribution of Outlet Locations')\n",
    "plt.xlabel('Outlet Location Type')\n",
    "plt.ylabel('Count')\n",
    "plt.xticks(rotation=45)\n",
    "plt.show()\n",
    "\n"
   ]
  },
  {
   "cell_type": "code",
   "execution_count": null,
   "metadata": {},
   "outputs": [
    {
     "data": {
      "image/png": "[encoded data removed]",
      "text/plain": [
       "<Figure size 1000x600 with 1 Axes>"
      ]
     },
     "metadata": {},
     "output_type": "display_data"
    }
   ],
   "source": [
    "# Sales by Outlet Location Type\n",
    "#def create_sales_by_location_analysis():\n",
    "import pandas as pd\n",
    "import matplotlib.pyplot as plt\n",
    "location_sales = df.groupby('Outlet Location Type')['Sales'].sum()\n",
    "location_sales.plot(kind='bar', figsize=(10, 6))\n",
    "plt.title('Sales by Outlet Location Type')\n",
    "plt.xlabel('Outlet Location Type')\n",
    "plt.ylabel('Total Sales')\n",
    "plt.show()"
   ]
  },
  {
   "cell_type": "code",
   "execution_count": null,
   "metadata": {},
   "outputs": [
    {
     "data": {
      "application/vnd.plotly.v1+json": {
       "config": {
        "plotlyServerURL": "https://plot.ly"
       },
       "data": [
        {
         "alignmentgroup": "True",
         "bingroup": "x",
         "hovertemplate": " ItemFat Content=%{x}<br>count=%{y}<extra></extra>",
         "legendgroup": "Regular",
         "marker": {
          "color": "#636EFA",
          "pattern": {
           "shape": ""
          }
         },
         "name": "Regular",
         "nbinsx": 30,
         "offsetgroup": "Regular",
         "orientation": "v",
         "showlegend": true,
         "type": "histogram",
         "x": [
          "Regular",
          "Regular",
          "Regular",
          "Regular",
          "Regular",
          "Regular",
          "Regular",
          "Regular",
          "Regular",
          "Regular",
          "Regular",
          "Regular",
          "Regular",
          "Regular",
          "Regular",
          "Regular",
          "Regular",
          "Regular",
          "Regular",
          "Regular",
          "Regular",
          "Regular",
          "Regular",
          "Regular",
          "Regular",
          "Regular",
          "Regular",
          "Regular",
          "Regular",
          "Regular",
          "Regular",
          "Regular",
          "Regular",
          "Regular",
          "Regular",
          "Regular",
          "Regular",
          "Regular",
          "Regular",
          "Regular",
          "Regular",
          "Regular",
          "Regular",
          "Regular",
          "Regular",
          "Regular",
          "Regular",
          "Regular",
          "Regular",
          "Regular",
          "Regular",
          "Regular",
          "Regular",
          "Regular",
          "Regular",
          "Regular",
          "Regular",
          "Regular",
          "Regular",
          "Regular",
          "Regular",
          "Regular",
          "Regular",
          "Regular",
          "Regular",
          "Regular",
          "Regular",
          "Regular",
          "Regular",
          "Regular",
          "Regular",
          "Regular",
          "Regular",
          "Regular",
          "Regular",
          "Regular",
          "Regular",
          "Regular",
          "Regular",
          "Regular",
          "Regular",
          "Regular",
          "Regular",
          "Regular",
          "Regular",
          "Regular",
          "Regular",
          "Regular",
          "Regular",
          "Regular",
          "Regular",
          "Regular",
          "Regular",
          "Regular",
          "Regular",
          "Regular",
          "Regular",
          "Regular",
          "Regular",
          "Regular",
          "Regular",
          "Regular",
          "Regular",
          "Regular",
          "Regular",
          "Regular",
          "Regular",
          "Regular",
          "Regular",
          "Regular",
          "Regular",
          "Regular",
          "Regular",
          "Regular",
          "Regular",
          "Regular",
          "Regular",
          "Regular",
          "Regular",
          "Regular",
          "Regular",
          "Regular",
          "Regular",
          "Regular",
          "Regular",
          "Regular",
          "Regular",
          "Regular",
          "Regular",
          "Regular",
          "Regular",
          "Regular",
          "Regular",
          "Regular",
          "Regular",
          "Regular",
          "Regular",
          "Regular",
          "Regular",
          "Regular",
          "Regular",
          "Regular",
          "Regular",
          "Regular",
          "Regular",
          "Regular",
          "Regular",
          "Regular",
          "Regular",
          "Regular",
          "Regular",
          "Regular",
          "Regular",
          "Regular",
          "Regular",
          "Regular",
          "Regular",
          "Regular",
          "Regular",
          "Regular",
          "Regular",
          "Regular",
          "Regular",
          "Regular",
          "Regular",
          "Regular",
          "Regular",
          "Regular",
          "Regular",
          "Regular",
          "Regular",
          "Regular",
          "Regular",
          "Regular",
          "Regular",
          "Regular",
          "Regular",
          "Regular",
          "Regular",
          "Regular",
          "Regular",
          "Regular",
          "Regular",
          "Regular",
          "Regular",
          "Regular",
          "Regular",
          "Regular",
          "Regular",
          "Regular",
          "Regular",
          "Regular",
          "Regular",
          "Regular",
          "Regular",
          "Regular",
          "Regular",
          "Regular",
          "Regular",
          "Regular",
          "Regular",
          "Regular",
          "Regular",
          "Regular",
          "Regular",
          "Regular",
          "Regular",
          "Regular",
          "Regular",
          "Regular",
          "Regular",
          "Regular",
          "Regular",
          "Regular",
          "Regular",
          "Regular",
          "Regular",
          "Regular",
          "Regular",
          "Regular",
          "Regular",
          "Regular",
          "Regular",
          "Regular",
          "Regular",
          "Regular",
          "Regular",
          "Regular",
          "Regular",
          "Regular",
          "Regular",
          "Regular",
          "Regular",
          "Regular",
          "Regular",
          "Regular",
          "Regular",
          "Regular",
          "Regular",
          "Regular",
          "Regular",
          "Regular",
          "Regular",
          "Regular",
          "Regular",
          "Regular",
          "Regular",
          "Regular",
          "Regular",
          "Regular",
          "Regular",
          "Regular",
          "Regular",
          "Regular",
          "Regular",
          "Regular",
          "Regular",
          "Regular",
          "Regular",
          "Regular",
          "Regular",
          "Regular",
          "Regular",
          "Regular",
          "Regular",
          "Regular",
          "Regular",
          "Regular",
          "Regular",
          "Regular",
          "Regular",
          "Regular",
          "Regular",
          "Regular",
          "Regular",
          "Regular",
          "Regular",
          "Regular",
          "Regular",
          "Regular",
          "Regular",
          "Regular",
          "Regular",
          "Regular",
          "Regular",
          "Regular",
          "Regular",
          "Regular",
          "Regular",
          "Regular",
          "Regular",
          "Regular",
          "Regular",
          "Regular",
          "Regular",
          "Regular",
          "Regular",
          "Regular",
          "Regular",
          "Regular",
          "Regular",
          "Regular",
          "Regular",
          "Regular",
          "Regular",
          "Regular",
          "Regular",
          "Regular",
          "Regular",
          "Regular",
          "Regular",
          "Regular",
          "Regular",
          "Regular",
          "Regular",
          "Regular",
          "Regular",
          "Regular",
          "Regular",
          "Regular",
          "Regular",
          "Regular",
          "Regular",
          "Regular",
          "Regular",
          "Regular",
          "Regular",
          "Regular",
          "Regular",
          "Regular",
          "Regular",
          "Regular",
          "Regular",
          "Regular",
          "Regular",
          "Regular",
          "Regular",
          "Regular",
          "Regular",
          "Regular",
          "Regular",
          "Regular",
          "Regular",
          "Regular",
          "Regular",
          "Regular",
          "Regular",
          "Regular",
          "Regular",
          "Regular",
          "Regular",
          "Regular",
          "Regular",
          "Regular",
          "Regular",
          "Regular",
          "Regular",
          "Regular",
          "Regular",
          "Regular",
          "Regular",
          "Regular",
          "Regular",
          "Regular",
          "Regular",
          "Regular",
          "Regular",
          "Regular",
          "Regular",
          "Regular",
          "Regular",
          "Regular",
          "Regular",
          "Regular",
          "Regular",
          "Regular",
          "Regular",
          "Regular",
          "Regular",
          "Regular",
          "Regular",
          "Regular",
          "Regular",
          "Regular",
          "Regular",
          "Regular",
          "Regular",
          "Regular",
          "Regular",
          "Regular",
          "Regular",
          "Regular",
          "Regular",
          "Regular",
          "Regular",
          "Regular",
          "Regular",
          "Regular",
          "Regular",
          "Regular",
          "Regular",
          "Regular",
          "Regular",
          "Regular",
          "Regular",
          "Regular",
          "Regular",
          "Regular",
          "Regular",
          "Regular",
          "Regular",
          "Regular",
          "Regular",
          "Regular",
          "Regular",
          "Regular",
          "Regular",
          "Regular",
          "Regular",
          "Regular",
          "Regular",
          "Regular",
          "Regular",
          "Regular",
          "Regular",
          "Regular",
          "Regular",
          "Regular",
          "Regular",
          "Regular",
          "Regular",
          "Regular",
          "Regular",
          "Regular",
          "Regular",
          "Regular",
          "Regular",
          "Regular",
          "Regular",
          "Regular",
          "Regular",
          "Regular",
          "Regular",
          "Regular",
          "Regular",
          "Regular",
          "Regular",
          "Regular",
          "Regular",
          "Regular",
          "Regular",
          "Regular",
          "Regular",
          "Regular",
          "Regular",
          "Regular",
          "Regular",
          "Regular",
          "Regular",
          "Regular",
          "Regular",
          "Regular",
          "Regular",
          "Regular",
          "Regular",
          "Regular",
          "Regular",
          "Regular",
          "Regular",
          "Regular",
          "Regular",
          "Regular",
          "Regular",
          "Regular",
          "Regular",
          "Regular",
          "Regular",
          "Regular",
          "Regular",
          "Regular",
          "Regular",
          "Regular",
          "Regular",
          "Regular",
          "Regular",
          "Regular",
          "Regular",
          "Regular",
          "Regular",
          "Regular",
          "Regular",
          "Regular",
          "Regular",
          "Regular",
          "Regular",
          "Regular",
          "Regular",
          "Regular",
          "Regular",
          "Regular",
          "Regular",
          "Regular",
          "Regular",
          "Regular",
          "Regular",
          "Regular",
          "Regular",
          "Regular",
          "Regular",
          "Regular",
          "Regular",
          "Regular",
          "Regular",
          "Regular",
          "Regular",
          "Regular",
          "Regular",
          "Regular",
          "Regular",
          "Regular",
          "Regular",
          "Regular",
          "Regular",
          "Regular",
          "Regular",
          "Regular",
          "Regular",
          "Regular",
          "Regular",
          "Regular",
          "Regular",
          "Regular",
          "Regular",
          "Regular",
          "Regular",
          "Regular",
          "Regular",
          "Regular",
          "Regular",
          "Regular",
          "Regular",
          "Regular",
          "Regular",
          "Regular",
          "Regular",
          "Regular",
          "Regular",
          "Regular",
          "Regular",
          "Regular",
          "Regular",
          "Regular",
          "Regular",
          "Regular",
          "Regular",
          "Regular",
          "Regular",
          "Regular",
          "Regular",
          "Regular",
          "Regular",
          "Regular",
          "Regular",
          "Regular",
          "Regular",
          "Regular",
          "Regular",
          "Regular",
          "Regular",
          "Regular",
          "Regular",
          "Regular",
          "Regular",
          "Regular",
          "Regular",
          "Regular",
          "Regular",
          "Regular",
          "Regular",
          "Regular",
          "Regular",
          "Regular",
          "Regular",
          "Regular",
          "Regular",
          "Regular",
          "Regular",
          "Regular",
          "Regular",
          "Regular",
          "Regular",
          "Regular",
          "Regular",
          "Regular",
          "Regular",
          "Regular",
          "Regular",
          "Regular",
          "Regular",
          "Regular",
          "Regular",
          "Regular",
          "Regular",
          "Regular",
          "Regular",
          "Regular",
          "Regular",
          "Regular",
          "Regular",
          "Regular",
          "Regular",
          "Regular",
          "Regular",
          "Regular",
          "Regular",
          "Regular",
          "Regular",
          "Regular",
          "Regular",
          "Regular",
          "Regular",
          "Regular",
          "Regular",
          "Regular",
          "Regular",
          "Regular",
          "Regular",
          "Regular",
          "Regular",
          "Regular",
          "Regular",
          "Regular",
          "Regular",
          "Regular",
          "Regular",
          "Regular",
          "Regular",
          "Regular",
          "Regular",
          "Regular",
          "Regular",
          "Regular",
          "Regular",
          "Regular",
          "Regular",
          "Regular",
          "Regular",
          "Regular",
          "Regular",
          "Regular",
          "Regular",
          "Regular",
          "Regular",
          "Regular",
          "Regular",
          "Regular",
          "Regular",
          "Regular",
          "Regular",
          "Regular",
          "Regular",
          "Regular",
          "Regular",
          "Regular",
          "Regular",
          "Regular",
          "Regular",
          "Regular",
          "Regular",
          "Regular",
          "Regular",
          "Regular",
          "Regular",
          "Regular",
          "Regular",
          "Regular",
          "Regular",
          "Regular",
          "Regular",
          "Regular",
          "Regular",
          "Regular",
          "Regular",
          "Regular",
          "Regular",
          "Regular",
          "Regular",
          "Regular",
          "Regular",
          "Regular",
          "Regular",
          "Regular",
          "Regular",
          "Regular",
          "Regular",
          "Regular",
          "Regular",
          "Regular",
          "Regular",
          "Regular",
          "Regular",
          "Regular",
          "Regular",
          "Regular",
          "Regular",
          "Regular",
          "Regular",
          "Regular",
          "Regular",
          "Regular",
          "Regular",
          "Regular",
          "Regular",
          "Regular",
          "Regular",
          "Regular",
          "Regular",
          "Regular",
          "Regular",
          "Regular",
          "Regular",
          "Regular",
          "Regular",
          "Regular",
          "Regular",
          "Regular",
          "Regular",
          "Regular",
          "Regular",
          "Regular",
          "Regular",
          "Regular",
          "Regular",
          "Regular",
          "Regular",
          "Regular",
          "Regular",
          "Regular",
          "Regular",
          "Regular",
          "Regular",
          "Regular",
          "Regular",
          "Regular",
          "Regular",
          "Regular",
          "Regular",
          "Regular",
          "Regular",
          "Regular",
          "Regular",
          "Regular",
          "Regular",
          "Regular",
          "Regular",
          "Regular",
          "Regular",
          "Regular",
          "Regular",
          "Regular",
          "Regular",
          "Regular",
          "Regular",
          "Regular",
          "Regular",
          "Regular",
          "Regular",
          "Regular",
          "Regular",
          "Regular",
          "Regular",
          "Regular",
          "Regular",
          "Regular",
          "Regular",
          "Regular",
          "Regular",
          "Regular",
          "Regular",
          "Regular",
          "Regular",
          "Regular",
          "Regular",
          "Regular",
          "Regular",
          "Regular",
          "Regular",
          "Regular",
          "Regular",
          "Regular",
          "Regular",
          "Regular",
          "Regular",
          "Regular",
          "Regular",
          "Regular",
          "Regular",
          "Regular",
          "Regular",
          "Regular",
          "Regular",
          "Regular",
          "Regular",
          "Regular",
          "Regular",
          "Regular",
          "Regular",
          "Regular",
          "Regular",
          "Regular",
          "Regular",
          "Regular",
          "Regular",
          "Regular",
          "Regular",
          "Regular",
          "Regular",
          "Regular",
          "Regular",
          "Regular",
          "Regular",
          "Regular",
          "Regular",
          "Regular",
          "Regular",
          "Regular",
          "Regular",
          "Regular",
          "Regular",
          "Regular",
          "Regular",
          "Regular",
          "Regular",
          "Regular",
          "Regular",
          "Regular",
          "Regular",
          "Regular",
          "Regular",
          "Regular",
          "Regular",
          "Regular",
          "Regular",
          "Regular",
          "Regular",
          "Regular",
          "Regular",
          "Regular",
          "Regular",
          "Regular",
          "Regular",
          "Regular",
          "Regular",
          "Regular",
          "Regular",
          "Regular",
          "Regular",
          "Regular",
          "Regular",
          "Regular",
          "Regular",
          "Regular",
          "Regular",
          "Regular",
          "Regular",
          "Regular",
          "Regular",
          "Regular",
          "Regular",
          "Regular",
          "Regular",
          "Regular",
          "Regular",
          "Regular",
          "Regular",
          "Regular",
          "Regular",
          "Regular",
          "Regular",
          "Regular",
          "Regular",
          "Regular",
          "Regular",
          "Regular",
          "Regular",
          "Regular",
          "Regular",
          "Regular",
          "Regular",
          "Regular",
          "Regular",
          "Regular",
          "Regular",
          "Regular",
          "Regular",
          "Regular",
          "Regular",
          "Regular",
          "Regular",
          "Regular",
          "Regular",
          "Regular",
          "Regular",
          "Regular",
          "Regular",
          "Regular",
          "Regular",
          "Regular",
          "Regular",
          "Regular",
          "Regular",
          "Regular",
          "Regular",
          "Regular",
          "Regular",
          "Regular",
          "Regular",
          "Regular",
          "Regular",
          "Regular",
          "Regular",
          "Regular",
          "Regular",
          "Regular",
          "Regular",
          "Regular",
          "Regular",
          "Regular",
          "Regular",
          "Regular",
          "Regular",
          "Regular",
          "Regular",
          "Regular",
          "Regular",
          "Regular",
          "Regular",
          "Regular",
          "Regular",
          "Regular",
          "Regular",
          "Regular",
          "Regular",
          "Regular",
          "Regular",
          "Regular",
          "Regular",
          "Regular",
          "Regular",
          "Regular",
          "Regular",
          "Regular",
          "Regular",
          "Regular",
          "Regular",
          "Regular",
          "Regular",
          "Regular",
          "Regular",
          "Regular",
          "Regular",
          "Regular",
          "Regular",
          "Regular",
          "Regular",
          "Regular",
          "Regular",
          "Regular",
          "Regular",
          "Regular",
          "Regular",
          "Regular",
          "Regular",
          "Regular",
          "Regular",
          "Regular",
          "Regular",
          "Regular",
          "Regular",
          "Regular",
          "Regular",
          "Regular",
          "Regular",
          "Regular",
          "Regular",
          "Regular",
          "Regular",
          "Regular",
          "Regular",
          "Regular",
          "Regular",
          "Regular",
          "Regular",
          "Regular",
          "Regular",
          "Regular",
          "Regular",
          "Regular",
          "Regular",
          "Regular",
          "Regular",
          "Regular",
          "Regular",
          "Regular",
          "Regular",
          "Regular",
          "Regular",
          "Regular",
          "Regular",
          "Regular",
          "Regular",
          "Regular",
          "Regular",
          "Regular",
          "Regular",
          "Regular",
          "Regular",
          "Regular",
          "Regular",
          "Regular",
          "Regular",
          "Regular",
          "Regular",
          "Regular",
          "Regular",
          "Regular",
          "Regular",
          "Regular",
          "Regular",
          "Regular",
          "Regular",
          "Regular",
          "Regular",
          "Regular",
          "Regular",
          "Regular",
          "Regular",
          "Regular",
          "Regular",
          "Regular",
          "Regular",
          "Regular",
          "Regular",
          "Regular",
          "Regular",
          "Regular",
          "Regular",
          "Regular",
          "Regular",
          "Regular",
          "Regular",
          "Regular",
          "Regular",
          "Regular",
          "Regular",
          "Regular",
          "Regular",
          "Regular",
          "Regular",
          "Regular",
          "Regular",
          "Regular",
          "Regular",
          "Regular",
          "Regular",
          "Regular",
          "Regular",
          "Regular",
          "Regular",
          "Regular",
          "Regular",
          "Regular",
          "Regular",
          "Regular",
          "Regular",
          "Regular",
          "Regular",
          "Regular",
          "Regular",
          "Regular",
          "Regular",
          "Regular",
          "Regular",
          "Regular",
          "Regular",
          "Regular",
          "Regular",
          "Regular",
          "Regular",
          "Regular",
          "Regular",
          "Regular",
          "Regular",
          "Regular",
          "Regular",
          "Regular",
          "Regular",
          "Regular",
          "Regular",
          "Regular",
          "Regular",
          "Regular",
          "Regular",
          "Regular",
          "Regular",
          "Regular",
          "Regular",
          "Regular",
          "Regular",
          "Regular",
          "Regular",
          "Regular",
          "Regular",
          "Regular",
          "Regular",
          "Regular",
          "Regular",
          "Regular",
          "Regular",
          "Regular",
          "Regular",
          "Regular",
          "Regular",
          "Regular",
          "Regular",
          "Regular",
          "Regular",
          "Regular",
          "Regular",
          "Regular",
          "Regular",
          "Regular",
          "Regular",
          "Regular",
          "Regular",
          "Regular",
          "Regular",
          "Regular",
          "Regular",
          "Regular",
          "Regular",
          "Regular",
          "Regular",
          "Regular",
          "Regular",
          "Regular",
          "Regular",
          "Regular",
          "Regular",
          "Regular",
          "Regular",
          "Regular",
          "Regular",
          "Regular",
          "Regular",
          "Regular",
          "Regular",
          "Regular",
          "Regular",
          "Regular",
          "Regular",
          "Regular",
          "Regular",
          "Regular",
          "Regular",
          "Regular",
          "Regular",
          "Regular",
          "Regular",
          "Regular",
          "Regular",
          "Regular",
          "Regular",
          "Regular",
          "Regular",
          "Regular",
          "Regular",
          "Regular",
          "Regular",
          "Regular",
          "Regular",
          "Regular",
          "Regular",
          "Regular",
          "Regular",
          "Regular",
          "Regular",
          "Regular",
          "Regular",
          "Regular",
          "Regular",
          "Regular",
          "Regular",
          "Regular",
          "Regular",
          "Regular",
          "Regular",
          "Regular",
          "Regular",
          "Regular",
          "Regular",
          "Regular",
          "Regular",
          "Regular",
          "Regular",
          "Regular",
          "Regular",
          "Regular",
          "Regular",
          "Regular",
          "Regular",
          "Regular",
          "Regular",
          "Regular",
          "Regular",
          "Regular",
          "Regular",
          "Regular",
          "Regular",
          "Regular",
          "Regular",
          "Regular",
          "Regular",
          "Regular",
          "Regular",
          "Regular",
          "Regular",
          "Regular",
          "Regular",
          "Regular",
          "Regular",
          "Regular",
          "Regular",
          "Regular",
          "Regular",
          "Regular",
          "Regular",
          "Regular",
          "Regular",
          "Regular",
          "Regular",
          "Regular",
          "Regular",
          "Regular",
          "Regular",
          "Regular",
          "Regular",
          "Regular",
          "Regular",
          "Regular",
          "Regular",
          "Regular",
          "Regular",
          "Regular",
          "Regular",
          "Regular",
          "Regular",
          "Regular",
          "Regular",
          "Regular",
          "Regular",
          "Regular",
          "Regular",
          "Regular",
          "Regular",
          "Regular",
          "Regular",
          "Regular",
          "Regular",
          "Regular",
          "Regular",
          "Regular",
          "Regular",
          "Regular",
          "Regular",
          "Regular",
          "Regular",
          "Regular",
          "Regular",
          "Regular",
          "Regular",
          "Regular",
          "Regular",
          "Regular",
          "Regular",
          "Regular",
          "Regular",
          "Regular",
          "Regular",
          "Regular",
          "Regular",
          "Regular",
          "Regular",
          "Regular",
          "Regular",
          "Regular",
          "Regular",
          "Regular",
          "Regular",
          "Regular",
          "Regular",
          "Regular",
          "Regular",
          "Regular",
          "Regular",
          "Regular",
          "Regular",
          "Regular",
          "Regular",
          "Regular",
          "Regular",
          "Regular",
          "Regular",
          "Regular",
          "Regular",
          "Regular",
          "Regular",
          "Regular",
          "Regular",
          "Regular",
          "Regular",
          "Regular",
          "Regular",
          "Regular",
          "Regular",
          "Regular",
          "Regular",
          "Regular",
          "Regular",
          "Regular",
          "Regular",
          "Regular",
          "Regular",
          "Regular",
          "Regular",
          "Regular",
          "Regular",
          "Regular",
          "Regular",
          "Regular",
          "Regular",
          "Regular",
          "Regular",
          "Regular",
          "Regular",
          "Regular",
          "Regular",
          "Regular",
          "Regular",
          "Regular",
          "Regular",
          "Regular",
          "Regular",
          "Regular",
          "Regular",
          "Regular",
          "Regular",
          "Regular",
          "Regular",
          "Regular",
          "Regular",
          "Regular",
          "Regular",
          "Regular",
          "Regular",
          "Regular",
          "Regular",
          "Regular",
          "Regular",
          "Regular",
          "Regular",
          "Regular",
          "Regular",
          "Regular",
          "Regular",
          "Regular",
          "Regular",
          "Regular",
          "Regular",
          "Regular",
          "Regular",
          "Regular",
          "Regular",
          "Regular",
          "Regular",
          "Regular",
          "Regular",
          "Regular",
          "Regular",
          "Regular",
          "Regular",
          "Regular",
          "Regular",
          "Regular",
          "Regular",
          "Regular",
          "Regular",
          "Regular",
          "Regular",
          "Regular",
          "Regular",
          "Regular",
          "Regular",
          "Regular",
          "Regular",
          "Regular",
          "Regular",
          "Regular",
          "Regular",
          "Regular",
          "Regular",
          "Regular",
          "Regular",
          "Regular",
          "Regular",
          "Regular",
          "Regular",
          "Regular",
          "Regular",
          "Regular",
          "Regular",
          "Regular",
          "Regular",
          "Regular",
          "Regular",
          "Regular",
          "Regular",
          "Regular",
          "Regular",
          "Regular",
          "Regular",
          "Regular",
          "Regular",
          "Regular",
          "Regular",
          "Regular",
          "Regular",
          "Regular",
          "Regular",
          "Regular",
          "Regular",
          "Regular",
          "Regular",
          "Regular",
          "Regular",
          "Regular",
          "Regular",
          "Regular",
          "Regular",
          "Regular",
          "Regular",
          "Regular",
          "Regular",
          "Regular",
          "Regular",
          "Regular",
          "Regular",
          "Regular",
          "Regular",
          "Regular",
          "Regular",
          "Regular",
          "Regular",
          "Regular",
          "Regular",
          "Regular",
          "Regular",
          "Regular",
          "Regular",
          "Regular",
          "Regular",
          "Regular",
          "Regular",
          "Regular",
          "Regular",
          "Regular",
          "Regular",
          "Regular",
          "Regular",
          "Regular",
          "Regular",
          "Regular",
          "Regular",
          "Regular",
          "Regular",
          "Regular",
          "Regular",
          "Regular",
          "Regular",
          "Regular",
          "Regular",
          "Regular",
          "Regular",
          "Regular",
          "Regular",
          "Regular",
          "Regular",
          "Regular",
          "Regular",
          "Regular",
          "Regular",
          "Regular",
          "Regular",
          "Regular",
          "Regular",
          "Regular",
          "Regular",
          "Regular",
          "Regular",
          "Regular",
          "Regular",
          "Regular",
          "Regular",
          "Regular",
          "Regular",
          "Regular",
          "Regular",
          "Regular",
          "Regular",
          "Regular",
          "Regular",
          "Regular",
          "Regular",
          "Regular",
          "Regular",
          "Regular",
          "Regular",
          "Regular",
          "Regular",
          "Regular",
          "Regular",
          "Regular",
          "Regular",
          "Regular",
          "Regular",
          "Regular",
          "Regular",
          "Regular",
          "Regular",
          "Regular",
          "Regular",
          "Regular",
          "Regular",
          "Regular",
          "Regular",
          "Regular",
          "Regular",
          "Regular",
          "Regular",
          "Regular",
          "Regular",
          "Regular",
          "Regular",
          "Regular",
          "Regular",
          "Regular",
          "Regular",
          "Regular",
          "Regular",
          "Regular",
          "Regular",
          "Regular",
          "Regular",
          "Regular",
          "Regular",
          "Regular",
          "Regular",
          "Regular",
          "Regular",
          "Regular",
          "Regular",
          "Regular",
          "Regular",
          "Regular",
          "Regular",
          "Regular",
          "Regular",
          "Regular",
          "Regular",
          "Regular",
          "Regular",
          "Regular",
          "Regular",
          "Regular",
          "Regular",
          "Regular",
          "Regular",
          "Regular",
          "Regular",
          "Regular",
          "Regular",
          "Regular",
          "Regular",
          "Regular",
          "Regular",
          "Regular",
          "Regular",
          "Regular",
          "Regular",
          "Regular",
          "Regular",
          "Regular",
          "Regular",
          "Regular",
          "Regular",
          "Regular",
          "Regular",
          "Regular",
          "Regular",
          "Regular",
          "Regular",
          "Regular",
          "Regular",
          "Regular",
          "Regular",
          "Regular",
          "Regular",
          "Regular",
          "Regular",
          "Regular",
          "Regular",
          "Regular",
          "Regular",
          "Regular",
          "Regular",
          "Regular",
          "Regular",
          "Regular",
          "Regular",
          "Regular",
          "Regular",
          "Regular",
          "Regular",
          "Regular",
          "Regular",
          "Regular",
          "Regular",
          "Regular",
          "Regular",
          "Regular",
          "Regular",
          "Regular",
          "Regular",
          "Regular",
          "Regular",
          "Regular",
          "Regular",
          "Regular",
          "Regular",
          "Regular",
          "Regular",
          "Regular",
          "Regular",
          "Regular",
          "Regular",
          "Regular",
          "Regular",
          "Regular",
          "Regular",
          "Regular",
          "Regular",
          "Regular",
          "Regular",
          "Regular",
          "Regular",
          "Regular",
          "Regular",
          "Regular",
          "Regular",
          "Regular",
          "Regular",
          "Regular",
          "Regular",
          "Regular",
          "Regular",
          "Regular",
          "Regular",
          "Regular",
          "Regular",
          "Regular",
          "Regular",
          "Regular",
          "Regular",
          "Regular",
          "Regular",
          "Regular",
          "Regular",
          "Regular",
          "Regular",
          "Regular",
          "Regular",
          "Regular",
          "Regular",
          "Regular",
          "Regular",
          "Regular",
          "Regular",
          "Regular",
          "Regular",
          "Regular",
          "Regular",
          "Regular",
          "Regular",
          "Regular",
          "Regular",
          "Regular",
          "Regular",
          "Regular",
          "Regular",
          "Regular",
          "Regular",
          "Regular",
          "Regular",
          "Regular",
          "Regular",
          "Regular",
          "Regular",
          "Regular",
          "Regular",
          "Regular",
          "Regular",
          "Regular",
          "Regular",
          "Regular",
          "Regular",
          "Regular",
          "Regular",
          "Regular",
          "Regular",
          "Regular",
          "Regular",
          "Regular",
          "Regular",
          "Regular",
          "Regular",
          "Regular",
          "Regular",
          "Regular",
          "Regular",
          "Regular",
          "Regular",
          "Regular",
          "Regular",
          "Regular",
          "Regular",
          "Regular",
          "Regular",
          "Regular",
          "Regular",
          "Regular",
          "Regular",
          "Regular",
          "Regular",
          "Regular",
          "Regular",
          "Regular",
          "Regular",
          "Regular",
          "Regular",
          "Regular",
          "Regular",
          "Regular",
          "Regular",
          "Regular",
          "Regular",
          "Regular",
          "Regular",
          "Regular",
          "Regular",
          "Regular",
          "Regular",
          "Regular",
          "Regular",
          "Regular",
          "Regular",
          "Regular",
          "Regular",
          "Regular",
          "Regular",
          "Regular",
          "Regular",
          "Regular",
          "Regular",
          "Regular",
          "Regular",
          "Regular",
          "Regular",
          "Regular",
          "Regular",
          "Regular",
          "Regular",
          "Regular",
          "Regular",
          "Regular",
          "Regular",
          "Regular",
          "Regular",
          "Regular",
          "Regular",
          "Regular",
          "Regular",
          "Regular",
          "Regular",
          "Regular",
          "Regular",
          "Regular",
          "Regular",
          "Regular",
          "Regular",
          "Regular",
          "Regular",
          "Regular",
          "Regular",
          "Regular",
          "Regular",
          "Regular",
          "Regular",
          "Regular",
          "Regular",
          "Regular",
          "Regular",
          "Regular",
          "Regular",
          "Regular",
          "Regular",
          "Regular",
          "Regular",
          "Regular",
          "Regular",
          "Regular",
          "Regular",
          "Regular",
          "Regular",
          "Regular",
          "Regular",
          "Regular",
          "Regular",
          "Regular",
          "Regular",
          "Regular",
          "Regular",
          "Regular",
          "Regular",
          "Regular",
          "Regular",
          "Regular",
          "Regular",
          "Regular",
          "Regular",
          "Regular",
          "Regular",
          "Regular",
          "Regular",
          "Regular",
          "Regular",
          "Regular",
          "Regular",
          "Regular",
          "Regular",
          "Regular",
          "Regular",
          "Regular",
          "Regular",
          "Regular",
          "Regular",
          "Regular",
          "Regular",
          "Regular",
          "Regular",
          "Regular",
          "Regular",
          "Regular",
          "Regular",
          "Regular",
          "Regular",
          "Regular",
          "Regular",
          "Regular",
          "Regular",
          "Regular",
          "Regular",
          "Regular",
          "Regular",
          "Regular",
          "Regular",
          "Regular",
          "Regular",
          "Regular",
          "Regular",
          "Regular",
          "Regular",
          "Regular",
          "Regular",
          "Regular",
          "Regular",
          "Regular",
          "Regular",
          "Regular",
          "Regular",
          "Regular",
          "Regular",
          "Regular",
          "Regular",
          "Regular",
          "Regular",
          "Regular",
          "Regular",
          "Regular",
          "Regular",
          "Regular",
          "Regular",
          "Regular",
          "Regular",
          "Regular",
          "Regular",
          "Regular",
          "Regular",
          "Regular",
          "Regular",
          "Regular",
          "Regular",
          "Regular",
          "Regular",
          "Regular",
          "Regular",
          "Regular",
          "Regular",
          "Regular",
          "Regular",
          "Regular",
          "Regular",
          "Regular",
          "Regular",
          "Regular",
          "Regular",
          "Regular",
          "Regular",
          "Regular",
          "Regular",
          "Regular",
          "Regular",
          "Regular",
          "Regular",
          "Regular",
          "Regular",
          "Regular",
          "Regular",
          "Regular",
          "Regular",
          "Regular",
          "Regular",
          "Regular",
          "Regular",
          "Regular",
          "Regular",
          "Regular",
          "Regular",
          "Regular",
          "Regular",
          "Regular",
          "Regular",
          "Regular",
          "Regular",
          "Regular",
          "Regular",
          "Regular",
          "Regular",
          "Regular",
          "Regular",
          "Regular",
          "Regular",
          "Regular",
          "Regular",
          "Regular",
          "Regular",
          "Regular",
          "Regular",
          "Regular",
          "Regular",
          "Regular",
          "Regular",
          "Regular",
          "Regular",
          "Regular",
          "Regular",
          "Regular",
          "Regular",
          "Regular",
          "Regular",
          "Regular",
          "Regular",
          "Regular",
          "Regular",
          "Regular",
          "Regular",
          "Regular",
          "Regular",
          "Regular",
          "Regular",
          "Regular",
          "Regular",
          "Regular",
          "Regular",
          "Regular",
          "Regular",
          "Regular",
          "Regular",
          "Regular",
          "Regular",
          "Regular",
          "Regular",
          "Regular",
          "Regular",
          "Regular",
          "Regular",
          "Regular",
          "Regular",
          "Regular",
          "Regular",
          "Regular",
          "Regular",
          "Regular",
          "Regular",
          "Regular",
          "Regular",
          "Regular",
          "Regular",
          "Regular",
          "Regular",
          "Regular",
          "Regular",
          "Regular",
          "Regular",
          "Regular",
          "Regular",
          "Regular",
          "Regular",
          "Regular",
          "Regular",
          "Regular",
          "Regular",
          "Regular",
          "Regular",
          "Regular",
          "Regular",
          "Regular",
          "Regular",
          "Regular",
          "Regular",
          "Regular",
          "Regular",
          "Regular",
          "Regular",
          "Regular",
          "Regular",
          "Regular",
          "Regular",
          "Regular",
          "Regular",
          "Regular",
          "Regular",
          "Regular",
          "Regular",
          "Regular",
          "Regular",
          "Regular",
          "Regular",
          "Regular",
          "Regular",
          "Regular",
          "Regular",
          "Regular",
          "Regular",
          "Regular",
          "Regular",
          "Regular",
          "Regular",
          "Regular",
          "Regular",
          "Regular",
          "Regular",
          "Regular",
          "Regular",
          "Regular",
          "Regular",
          "Regular",
          "Regular",
          "Regular",
          "Regular",
          "Regular",
          "Regular",
          "Regular",
          "Regular",
          "Regular",
          "Regular",
          "Regular",
          "Regular",
          "Regular",
          "Regular",
          "Regular",
          "Regular",
          "Regular",
          "Regular",
          "Regular",
          "Regular",
          "Regular",
          "Regular",
          "Regular",
          "Regular",
          "Regular",
          "Regular",
          "Regular",
          "Regular",
          "Regular",
          "Regular",
          "Regular",
          "Regular",
          "Regular",
          "Regular",
          "Regular",
          "Regular",
          "Regular",
          "Regular",
          "Regular",
          "Regular",
          "Regular",
          "Regular",
          "Regular",
          "Regular",
          "Regular",
          "Regular",
          "Regular",
          "Regular",
          "Regular",
          "Regular",
          "Regular",
          "Regular",
          "Regular",
          "Regular",
          "Regular",
          "Regular",
          "Regular",
          "Regular",
          "Regular",
          "Regular",
          "Regular",
          "Regular",
          "Regular",
          "Regular",
          "Regular",
          "Regular",
          "Regular",
          "Regular",
          "Regular",
          "Regular",
          "Regular",
          "Regular",
          "Regular",
          "Regular",
          "Regular",
          "Regular",
          "Regular",
          "Regular",
          "Regular",
          "Regular",
          "Regular",
          "Regular",
          "Regular",
          "Regular",
          "Regular",
          "Regular",
          "Regular",
          "Regular",
          "Regular",
          "Regular",
          "Regular",
          "Regular",
          "Regular",
          "Regular",
          "Regular",
          "Regular",
          "Regular",
          "Regular",
          "Regular",
          "Regular",
          "Regular",
          "Regular",
          "Regular",
          "Regular",
          "Regular",
          "Regular",
          "Regular",
          "Regular",
          "Regular",
          "Regular",
          "Regular",
          "Regular",
          "Regular",
          "Regular",
          "Regular",
          "Regular",
          "Regular",
          "Regular",
          "Regular",
          "Regular",
          "Regular",
          "Regular",
          "Regular",
          "Regular",
          "Regular",
          "Regular",
          "Regular",
          "Regular",
          "Regular",
          "Regular",
          "Regular",
          "Regular",
          "Regular",
          "Regular",
          "Regular",
          "Regular",
          "Regular",
          "Regular",
          "Regular",
          "Regular",
          "Regular",
          "Regular",
          "Regular",
          "Regular",
          "Regular",
          "Regular",
          "Regular",
          "Regular",
          "Regular",
          "Regular",
          "Regular",
          "Regular",
          "Regular",
          "Regular",
          "Regular",
          "Regular",
          "Regular",
          "Regular",
          "Regular",
          "Regular",
          "Regular",
          "Regular",
          "Regular",
          "Regular",
          "Regular",
          "Regular",
          "Regular",
          "Regular",
          "Regular",
          "Regular",
          "Regular",
          "Regular",
          "Regular",
          "Regular",
          "Regular",
          "Regular",
          "Regular",
          "Regular",
          "Regular",
          "Regular",
          "Regular",
          "Regular",
          "Regular",
          "Regular",
          "Regular",
          "Regular",
          "Regular",
          "Regular",
          "Regular",
          "Regular",
          "Regular",
          "Regular",
          "Regular",
          "Regular",
          "Regular",
          "Regular",
          "Regular",
          "Regular",
          "Regular",
          "Regular",
          "Regular",
          "Regular",
          "Regular",
          "Regular",
          "Regular",
          "Regular",
          "Regular",
          "Regular",
          "Regular",
          "Regular",
          "Regular",
          "Regular",
          "Regular",
          "Regular",
          "Regular",
          "Regular",
          "Regular",
          "Regular",
          "Regular",
          "Regular",
          "Regular",
          "Regular",
          "Regular",
          "Regular",
          "Regular",
          "Regular",
          "Regular",
          "Regular",
          "Regular",
          "Regular",
          "Regular",
          "Regular",
          "Regular",
          "Regular",
          "Regular",
          "Regular",
          "Regular",
          "Regular",
          "Regular",
          "Regular",
          "Regular",
          "Regular",
          "Regular",
          "Regular",
          "Regular",
          "Regular",
          "Regular",
          "Regular",
          "Regular",
          "Regular",
          "Regular",
          "Regular",
          "Regular",
          "Regular",
          "Regular",
          "Regular",
          "Regular",
          "Regular",
          "Regular",
          "Regular",
          "Regular",
          "Regular",
          "Regular",
          "Regular",
          "Regular",
          "Regular",
          "Regular",
          "Regular",
          "Regular",
          "Regular",
          "Regular",
          "Regular",
          "Regular",
          "Regular",
          "Regular",
          "Regular",
          "Regular",
          "Regular",
          "Regular",
          "Regular",
          "Regular",
          "Regular",
          "Regular",
          "Regular",
          "Regular",
          "Regular",
          "Regular",
          "Regular",
          "Regular",
          "Regular",
          "Regular",
          "Regular",
          "Regular",
          "Regular",
          "Regular",
          "Regular",
          "Regular",
          "Regular",
          "Regular",
          "Regular",
          "Regular",
          "Regular",
          "Regular",
          "Regular",
          "Regular",
          "Regular",
          "Regular",
          "Regular",
          "Regular",
          "Regular",
          "Regular",
          "Regular",
          "Regular",
          "Regular",
          "Regular",
          "Regular",
          "Regular",
          "Regular",
          "Regular",
          "Regular",
          "Regular",
          "Regular",
          "Regular",
          "Regular",
          "Regular",
          "Regular",
          "Regular",
          "Regular",
          "Regular",
          "Regular",
          "Regular",
          "Regular",
          "Regular",
          "Regular",
          "Regular",
          "Regular",
          "Regular",
          "Regular",
          "Regular",
          "Regular",
          "Regular",
          "Regular",
          "Regular",
          "Regular",
          "Regular",
          "Regular",
          "Regular",
          "Regular",
          "Regular",
          "Regular",
          "Regular",
          "Regular",
          "Regular",
          "Regular",
          "Regular",
          "Regular",
          "Regular",
          "Regular",
          "Regular",
          "Regular",
          "Regular",
          "Regular",
          "Regular",
          "Regular",
          "Regular",
          "Regular",
          "Regular",
          "Regular",
          "Regular",
          "Regular",
          "Regular",
          "Regular",
          "Regular",
          "Regular",
          "Regular",
          "Regular",
          "Regular",
          "Regular",
          "Regular",
          "Regular",
          "Regular",
          "Regular",
          "Regular",
          "Regular",
          "Regular",
          "Regular",
          "Regular",
          "Regular",
          "Regular",
          "Regular",
          "Regular",
          "Regular",
          "Regular",
          "Regular",
          "Regular",
          "Regular",
          "Regular",
          "Regular",
          "Regular",
          "Regular",
          "Regular",
          "Regular",
          "Regular",
          "Regular",
          "Regular",
          "Regular",
          "Regular",
          "Regular",
          "Regular",
          "Regular",
          "Regular",
          "Regular",
          "Regular",
          "Regular",
          "Regular",
          "Regular",
          "Regular",
          "Regular",
          "Regular",
          "Regular",
          "Regular",
          "Regular",
          "Regular",
          "Regular",
          "Regular",
          "Regular",
          "Regular",
          "Regular",
          "Regular",
          "Regular",
          "Regular",
          "Regular",
          "Regular",
          "Regular",
          "Regular",
          "Regular",
          "Regular",
          "Regular",
          "Regular",
          "Regular",
          "Regular",
          "Regular",
          "Regular",
          "Regular",
          "Regular",
          "Regular",
          "Regular",
          "Regular",
          "Regular",
          "Regular",
          "Regular",
          "Regular",
          "Regular",
          "Regular",
          "Regular",
          "Regular",
          "Regular",
          "Regular",
          "Regular",
          "Regular",
          "Regular",
          "Regular",
          "Regular",
          "Regular",
          "Regular",
          "Regular",
          "Regular",
          "Regular",
          "Regular",
          "Regular",
          "Regular",
          "Regular",
          "Regular",
          "Regular",
          "Regular",
          "Regular",
          "Regular",
          "Regular",
          "Regular",
          "Regular",
          "Regular",
          "Regular",
          "Regular",
          "Regular",
          "Regular",
          "Regular",
          "Regular",
          "Regular",
          "Regular",
          "Regular",
          "Regular",
          "Regular",
          "Regular",
          "Regular",
          "Regular",
          "Regular",
          "Regular",
          "Regular",
          "Regular",
          "Regular",
          "Regular",
          "Regular",
          "Regular",
          "Regular",
          "Regular",
          "Regular",
          "Regular",
          "Regular",
          "Regular",
          "Regular",
          "Regular",
          "Regular",
          "Regular",
          "Regular",
          "Regular",
          "Regular",
          "Regular",
          "Regular",
          "Regular",
          "Regular",
          "Regular",
          "Regular",
          "Regular",
          "Regular",
          "Regular",
          "Regular",
          "Regular",
          "Regular",
          "Regular",
          "Regular",
          "Regular",
          "Regular",
          "Regular",
          "Regular",
          "Regular",
          "Regular",
          "Regular",
          "Regular",
          "Regular",
          "Regular",
          "Regular",
          "Regular",
          "Regular",
          "Regular",
          "Regular",
          "Regular",
          "Regular",
          "Regular",
          "Regular",
          "Regular",
          "Regular",
          "Regular",
          "Regular",
          "Regular",
          "Regular",
          "Regular",
          "Regular",
          "Regular",
          "Regular",
          "Regular",
          "Regular",
          "Regular",
          "Regular",
          "Regular",
          "Regular",
          "Regular",
          "Regular",
          "Regular",
          "Regular",
          "Regular",
          "Regular",
          "Regular",
          "Regular",
          "Regular",
          "Regular",
          "Regular",
          "Regular",
          "Regular",
          "Regular",
          "Regular",
          "Regular",
          "Regular",
          "Regular",
          "Regular",
          "Regular",
          "Regular",
          "Regular",
          "Regular",
          "Regular",
          "Regular",
          "Regular",
          "Regular",
          "Regular",
          "Regular",
          "Regular",
          "Regular",
          "Regular",
          "Regular",
          "Regular",
          "Regular",
          "Regular",
          "Regular",
          "Regular",
          "Regular",
          "Regular",
          "Regular",
          "Regular",
          "Regular",
          "Regular",
          "Regular",
          "Regular",
          "Regular",
          "Regular",
          "Regular",
          "Regular",
          "Regular",
          "Regular",
          "Regular",
          "Regular",
          "Regular",
          "Regular",
          "Regular",
          "Regular",
          "Regular",
          "Regular",
          "Regular",
          "Regular",
          "Regular",
          "Regular",
          "Regular",
          "Regular",
          "Regular",
          "Regular",
          "Regular",
          "Regular",
          "Regular",
          "Regular",
          "Regular",
          "Regular",
          "Regular",
          "Regular",
          "Regular",
          "Regular",
          "Regular",
          "Regular",
          "Regular",
          "Regular",
          "Regular",
          "Regular",
          "Regular",
          "Regular",
          "Regular",
          "Regular",
          "Regular",
          "Regular",
          "Regular",
          "Regular",
          "Regular",
          "Regular",
          "Regular",
          "Regular",
          "Regular",
          "Regular",
          "Regular",
          "Regular",
          "Regular",
          "Regular",
          "Regular",
          "Regular",
          "Regular",
          "Regular",
          "Regular",
          "Regular",
          "Regular",
          "Regular",
          "Regular",
          "Regular",
          "Regular",
          "Regular",
          "Regular",
          "Regular",
          "Regular",
          "Regular",
          "Regular",
          "Regular",
          "Regular",
          "Regular",
          "Regular",
          "Regular",
          "Regular",
          "Regular",
          "Regular",
          "Regular",
          "Regular",
          "Regular",
          "Regular",
          "Regular",
          "Regular",
          "Regular",
          "Regular",
          "Regular",
          "Regular",
          "Regular",
          "Regular",
          "Regular",
          "Regular",
          "Regular",
          "Regular",
          "Regular",
          "Regular",
          "Regular",
          "Regular",
          "Regular",
          "Regular",
          "Regular",
          "Regular",
          "Regular",
          "Regular",
          "Regular",
          "Regular",
          "Regular",
          "Regular",
          "Regular",
          "Regular",
          "Regular",
          "Regular",
          "Regular",
          "Regular",
          "Regular",
          "Regular",
          "Regular",
          "Regular",
          "Regular",
          "Regular",
          "Regular",
          "Regular",
          "Regular",
          "Regular",
          "Regular",
          "Regular",
          "Regular",
          "Regular",
          "Regular",
          "Regular",
          "Regular",
          "Regular",
          "Regular",
          "Regular",
          "Regular",
          "Regular",
          "Regular",
          "Regular",
          "Regular",
          "Regular",
          "Regular",
          "Regular",
          "Regular",
          "Regular",
          "Regular",
          "Regular",
          "Regular",
          "Regular",
          "Regular",
          "Regular",
          "Regular",
          "Regular",
          "Regular",
          "Regular",
          "Regular",
          "Regular",
          "Regular",
          "Regular",
          "Regular",
          "Regular",
          "Regular",
          "Regular",
          "Regular",
          "Regular",
          "Regular",
          "Regular",
          "Regular",
          "Regular",
          "Regular",
          "Regular",
          "Regular",
          "Regular",
          "Regular",
          "Regular",
          "Regular",
          "Regular",
          "Regular",
          "Regular",
          "Regular",
          "Regular",
          "Regular",
          "Regular",
          "Regular",
          "Regular",
          "Regular",
          "Regular",
          "Regular",
          "Regular",
          "Regular",
          "Regular"
         ],
         "xaxis": "x",
         "yaxis": "y"
        },
        {
         "alignmentgroup": "True",
         "hovertemplate": " ItemFat Content=%{x}<extra></extra>",
         "legendgroup": "Regular",
         "marker": {
          "color": "#636EFA"
         },
         "name": "Regular",
         "offsetgroup": "Regular",
         "scalegroup": "x",
         "showlegend": false,
         "type": "violin",
         "x": [
          "Regular",
          "Regular",
          "Regular",
          "Regular",
          "Regular",
          "Regular",
          "Regular",
          "Regular",
          "Regular",
          "Regular",
          "Regular",
          "Regular",
          "Regular",
          "Regular",
          "Regular",
          "Regular",
          "Regular",
          "Regular",
          "Regular",
          "Regular",
          "Regular",
          "Regular",
          "Regular",
          "Regular",
          "Regular",
          "Regular",
          "Regular",
          "Regular",
          "Regular",
          "Regular",
          "Regular",
          "Regular",
          "Regular",
          "Regular",
          "Regular",
          "Regular",
          "Regular",
          "Regular",
          "Regular",
          "Regular",
          "Regular",
          "Regular",
          "Regular",
          "Regular",
          "Regular",
          "Regular",
          "Regular",
          "Regular",
          "Regular",
          "Regular",
          "Regular",
          "Regular",
          "Regular",
          "Regular",
          "Regular",
          "Regular",
          "Regular",
          "Regular",
          "Regular",
          "Regular",
          "Regular",
          "Regular",
          "Regular",
          "Regular",
          "Regular",
          "Regular",
          "Regular",
          "Regular",
          "Regular",
          "Regular",
          "Regular",
          "Regular",
          "Regular",
          "Regular",
          "Regular",
          "Regular",
          "Regular",
          "Regular",
          "Regular",
          "Regular",
          "Regular",
          "Regular",
          "Regular",
          "Regular",
          "Regular",
          "Regular",
          "Regular",
          "Regular",
          "Regular",
          "Regular",
          "Regular",
          "Regular",
          "Regular",
          "Regular",
          "Regular",
          "Regular",
          "Regular",
          "Regular",
          "Regular",
          "Regular",
          "Regular",
          "Regular",
          "Regular",
          "Regular",
          "Regular",
          "Regular",
          "Regular",
          "Regular",
          "Regular",
          "Regular",
          "Regular",
          "Regular",
          "Regular",
          "Regular",
          "Regular",
          "Regular",
          "Regular",
          "Regular",
          "Regular",
          "Regular",
          "Regular",
          "Regular",
          "Regular",
          "Regular",
          "Regular",
          "Regular",
          "Regular",
          "Regular",
          "Regular",
          "Regular",
          "Regular",
          "Regular",
          "Regular",
          "Regular",
          "Regular",
          "Regular",
          "Regular",
          "Regular",
          "Regular",
          "Regular",
          "Regular",
          "Regular",
          "Regular",
          "Regular",
          "Regular",
          "Regular",
          "Regular",
          "Regular",
          "Regular",
          "Regular",
          "Regular",
          "Regular",
          "Regular",
          "Regular",
          "Regular",
          "Regular",
          "Regular",
          "Regular",
          "Regular",
          "Regular",
          "Regular",
          "Regular",
          "Regular",
          "Regular",
          "Regular",
          "Regular",
          "Regular",
          "Regular",
          "Regular",
          "Regular",
          "Regular",
          "Regular",
          "Regular",
          "Regular",
          "Regular",
          "Regular",
          "Regular",
          "Regular",
          "Regular",
          "Regular",
          "Regular",
          "Regular",
          "Regular",
          "Regular",
          "Regular",
          "Regular",
          "Regular",
          "Regular",
          "Regular",
          "Regular",
          "Regular",
          "Regular",
          "Regular",
          "Regular",
          "Regular",
          "Regular",
          "Regular",
          "Regular",
          "Regular",
          "Regular",
          "Regular",
          "Regular",
          "Regular",
          "Regular",
          "Regular",
          "Regular",
          "Regular",
          "Regular",
          "Regular",
          "Regular",
          "Regular",
          "Regular",
          "Regular",
          "Regular",
          "Regular",
          "Regular",
          "Regular",
          "Regular",
          "Regular",
          "Regular",
          "Regular",
          "Regular",
          "Regular",
          "Regular",
          "Regular",
          "Regular",
          "Regular",
          "Regular",
          "Regular",
          "Regular",
          "Regular",
          "Regular",
          "Regular",
          "Regular",
          "Regular",
          "Regular",
          "Regular",
          "Regular",
          "Regular",
          "Regular",
          "Regular",
          "Regular",
          "Regular",
          "Regular",
          "Regular",
          "Regular",
          "Regular",
          "Regular",
          "Regular",
          "Regular",
          "Regular",
          "Regular",
          "Regular",
          "Regular",
          "Regular",
          "Regular",
          "Regular",
          "Regular",
          "Regular",
          "Regular",
          "Regular",
          "Regular",
          "Regular",
          "Regular",
          "Regular",
          "Regular",
          "Regular",
          "Regular",
          "Regular",
          "Regular",
          "Regular",
          "Regular",
          "Regular",
          "Regular",
          "Regular",
          "Regular",
          "Regular",
          "Regular",
          "Regular",
          "Regular",
          "Regular",
          "Regular",
          "Regular",
          "Regular",
          "Regular",
          "Regular",
          "Regular",
          "Regular",
          "Regular",
          "Regular",
          "Regular",
          "Regular",
          "Regular",
          "Regular",
          "Regular",
          "Regular",
          "Regular",
          "Regular",
          "Regular",
          "Regular",
          "Regular",
          "Regular",
          "Regular",
          "Regular",
          "Regular",
          "Regular",
          "Regular",
          "Regular",
          "Regular",
          "Regular",
          "Regular",
          "Regular",
          "Regular",
          "Regular",
          "Regular",
          "Regular",
          "Regular",
          "Regular",
          "Regular",
          "Regular",
          "Regular",
          "Regular",
          "Regular",
          "Regular",
          "Regular",
          "Regular",
          "Regular",
          "Regular",
          "Regular",
          "Regular",
          "Regular",
          "Regular",
          "Regular",
          "Regular",
          "Regular",
          "Regular",
          "Regular",
          "Regular",
          "Regular",
          "Regular",
          "Regular",
          "Regular",
          "Regular",
          "Regular",
          "Regular",
          "Regular",
          "Regular",
          "Regular",
          "Regular",
          "Regular",
          "Regular",
          "Regular",
          "Regular",
          "Regular",
          "Regular",
          "Regular",
          "Regular",
          "Regular",
          "Regular",
          "Regular",
          "Regular",
          "Regular",
          "Regular",
          "Regular",
          "Regular",
          "Regular",
          "Regular",
          "Regular",
          "Regular",
          "Regular",
          "Regular",
          "Regular",
          "Regular",
          "Regular",
          "Regular",
          "Regular",
          "Regular",
          "Regular",
          "Regular",
          "Regular",
          "Regular",
          "Regular",
          "Regular",
          "Regular",
          "Regular",
          "Regular",
          "Regular",
          "Regular",
          "Regular",
          "Regular",
          "Regular",
          "Regular",
          "Regular",
          "Regular",
          "Regular",
          "Regular",
          "Regular",
          "Regular",
          "Regular",
          "Regular",
          "Regular",
          "Regular",
          "Regular",
          "Regular",
          "Regular",
          "Regular",
          "Regular",
          "Regular",
          "Regular",
          "Regular",
          "Regular",
          "Regular",
          "Regular",
          "Regular",
          "Regular",
          "Regular",
          "Regular",
          "Regular",
          "Regular",
          "Regular",
          "Regular",
          "Regular",
          "Regular",
          "Regular",
          "Regular",
          "Regular",
          "Regular",
          "Regular",
          "Regular",
          "Regular",
          "Regular",
          "Regular",
          "Regular",
          "Regular",
          "Regular",
          "Regular",
          "Regular",
          "Regular",
          "Regular",
          "Regular",
          "Regular",
          "Regular",
          "Regular",
          "Regular",
          "Regular",
          "Regular",
          "Regular",
          "Regular",
          "Regular",
          "Regular",
          "Regular",
          "Regular",
          "Regular",
          "Regular",
          "Regular",
          "Regular",
          "Regular",
          "Regular",
          "Regular",
          "Regular",
          "Regular",
          "Regular",
          "Regular",
          "Regular",
          "Regular",
          "Regular",
          "Regular",
          "Regular",
          "Regular",
          "Regular",
          "Regular",
          "Regular",
          "Regular",
          "Regular",
          "Regular",
          "Regular",
          "Regular",
          "Regular",
          "Regular",
          "Regular",
          "Regular",
          "Regular",
          "Regular",
          "Regular",
          "Regular",
          "Regular",
          "Regular",
          "Regular",
          "Regular",
          "Regular",
          "Regular",
          "Regular",
          "Regular",
          "Regular",
          "Regular",
          "Regular",
          "Regular",
          "Regular",
          "Regular",
          "Regular",
          "Regular",
          "Regular",
          "Regular",
          "Regular",
          "Regular",
          "Regular",
          "Regular",
          "Regular",
          "Regular",
          "Regular",
          "Regular",
          "Regular",
          "Regular",
          "Regular",
          "Regular",
          "Regular",
          "Regular",
          "Regular",
          "Regular",
          "Regular",
          "Regular",
          "Regular",
          "Regular",
          "Regular",
          "Regular",
          "Regular",
          "Regular",
          "Regular",
          "Regular",
          "Regular",
          "Regular",
          "Regular",
          "Regular",
          "Regular",
          "Regular",
          "Regular",
          "Regular",
          "Regular",
          "Regular",
          "Regular",
          "Regular",
          "Regular",
          "Regular",
          "Regular",
          "Regular",
          "Regular",
          "Regular",
          "Regular",
          "Regular",
          "Regular",
          "Regular",
          "Regular",
          "Regular",
          "Regular",
          "Regular",
          "Regular",
          "Regular",
          "Regular",
          "Regular",
          "Regular",
          "Regular",
          "Regular",
          "Regular",
          "Regular",
          "Regular",
          "Regular",
          "Regular",
          "Regular",
          "Regular",
          "Regular",
          "Regular",
          "Regular",
          "Regular",
          "Regular",
          "Regular",
          "Regular",
          "Regular",
          "Regular",
          "Regular",
          "Regular",
          "Regular",
          "Regular",
          "Regular",
          "Regular",
          "Regular",
          "Regular",
          "Regular",
          "Regular",
          "Regular",
          "Regular",
          "Regular",
          "Regular",
          "Regular",
          "Regular",
          "Regular",
          "Regular",
          "Regular",
          "Regular",
          "Regular",
          "Regular",
          "Regular",
          "Regular",
          "Regular",
          "Regular",
          "Regular",
          "Regular",
          "Regular",
          "Regular",
          "Regular",
          "Regular",
          "Regular",
          "Regular",
          "Regular",
          "Regular",
          "Regular",
          "Regular",
          "Regular",
          "Regular",
          "Regular",
          "Regular",
          "Regular",
          "Regular",
          "Regular",
          "Regular",
          "Regular",
          "Regular",
          "Regular",
          "Regular",
          "Regular",
          "Regular",
          "Regular",
          "Regular",
          "Regular",
          "Regular",
          "Regular",
          "Regular",
          "Regular",
          "Regular",
          "Regular",
          "Regular",
          "Regular",
          "Regular",
          "Regular",
          "Regular",
          "Regular",
          "Regular",
          "Regular",
          "Regular",
          "Regular",
          "Regular",
          "Regular",
          "Regular",
          "Regular",
          "Regular",
          "Regular",
          "Regular",
          "Regular",
          "Regular",
          "Regular",
          "Regular",
          "Regular",
          "Regular",
          "Regular",
          "Regular",
          "Regular",
          "Regular",
          "Regular",
          "Regular",
          "Regular",
          "Regular",
          "Regular",
          "Regular",
          "Regular",
          "Regular",
          "Regular",
          "Regular",
          "Regular",
          "Regular",
          "Regular",
          "Regular",
          "Regular",
          "Regular",
          "Regular",
          "Regular",
          "Regular",
          "Regular",
          "Regular",
          "Regular",
          "Regular",
          "Regular",
          "Regular",
          "Regular",
          "Regular",
          "Regular",
          "Regular",
          "Regular",
          "Regular",
          "Regular",
          "Regular",
          "Regular",
          "Regular",
          "Regular",
          "Regular",
          "Regular",
          "Regular",
          "Regular",
          "Regular",
          "Regular",
          "Regular",
          "Regular",
          "Regular",
          "Regular",
          "Regular",
          "Regular",
          "Regular",
          "Regular",
          "Regular",
          "Regular",
          "Regular",
          "Regular",
          "Regular",
          "Regular",
          "Regular",
          "Regular",
          "Regular",
          "Regular",
          "Regular",
          "Regular",
          "Regular",
          "Regular",
          "Regular",
          "Regular",
          "Regular",
          "Regular",
          "Regular",
          "Regular",
          "Regular",
          "Regular",
          "Regular",
          "Regular",
          "Regular",
          "Regular",
          "Regular",
          "Regular",
          "Regular",
          "Regular",
          "Regular",
          "Regular",
          "Regular",
          "Regular",
          "Regular",
          "Regular",
          "Regular",
          "Regular",
          "Regular",
          "Regular",
          "Regular",
          "Regular",
          "Regular",
          "Regular",
          "Regular",
          "Regular",
          "Regular",
          "Regular",
          "Regular",
          "Regular",
          "Regular",
          "Regular",
          "Regular",
          "Regular",
          "Regular",
          "Regular",
          "Regular",
          "Regular",
          "Regular",
          "Regular",
          "Regular",
          "Regular",
          "Regular",
          "Regular",
          "Regular",
          "Regular",
          "Regular",
          "Regular",
          "Regular",
          "Regular",
          "Regular",
          "Regular",
          "Regular",
          "Regular",
          "Regular",
          "Regular",
          "Regular",
          "Regular",
          "Regular",
          "Regular",
          "Regular",
          "Regular",
          "Regular",
          "Regular",
          "Regular",
          "Regular",
          "Regular",
          "Regular",
          "Regular",
          "Regular",
          "Regular",
          "Regular",
          "Regular",
          "Regular",
          "Regular",
          "Regular",
          "Regular",
          "Regular",
          "Regular",
          "Regular",
          "Regular",
          "Regular",
          "Regular",
          "Regular",
          "Regular",
          "Regular",
          "Regular",
          "Regular",
          "Regular",
          "Regular",
          "Regular",
          "Regular",
          "Regular",
          "Regular",
          "Regular",
          "Regular",
          "Regular",
          "Regular",
          "Regular",
          "Regular",
          "Regular",
          "Regular",
          "Regular",
          "Regular",
          "Regular",
          "Regular",
          "Regular",
          "Regular",
          "Regular",
          "Regular",
          "Regular",
          "Regular",
          "Regular",
          "Regular",
          "Regular",
          "Regular",
          "Regular",
          "Regular",
          "Regular",
          "Regular",
          "Regular",
          "Regular",
          "Regular",
          "Regular",
          "Regular",
          "Regular",
          "Regular",
          "Regular",
          "Regular",
          "Regular",
          "Regular",
          "Regular",
          "Regular",
          "Regular",
          "Regular",
          "Regular",
          "Regular",
          "Regular",
          "Regular",
          "Regular",
          "Regular",
          "Regular",
          "Regular",
          "Regular",
          "Regular",
          "Regular",
          "Regular",
          "Regular",
          "Regular",
          "Regular",
          "Regular",
          "Regular",
          "Regular",
          "Regular",
          "Regular",
          "Regular",
          "Regular",
          "Regular",
          "Regular",
          "Regular",
          "Regular",
          "Regular",
          "Regular",
          "Regular",
          "Regular",
          "Regular",
          "Regular",
          "Regular",
          "Regular",
          "Regular",
          "Regular",
          "Regular",
          "Regular",
          "Regular",
          "Regular",
          "Regular",
          "Regular",
          "Regular",
          "Regular",
          "Regular",
          "Regular",
          "Regular",
          "Regular",
          "Regular",
          "Regular",
          "Regular",
          "Regular",
          "Regular",
          "Regular",
          "Regular",
          "Regular",
          "Regular",
          "Regular",
          "Regular",
          "Regular",
          "Regular",
          "Regular",
          "Regular",
          "Regular",
          "Regular",
          "Regular",
          "Regular",
          "Regular",
          "Regular",
          "Regular",
          "Regular",
          "Regular",
          "Regular",
          "Regular",
          "Regular",
          "Regular",
          "Regular",
          "Regular",
          "Regular",
          "Regular",
          "Regular",
          "Regular",
          "Regular",
          "Regular",
          "Regular",
          "Regular",
          "Regular",
          "Regular",
          "Regular",
          "Regular",
          "Regular",
          "Regular",
          "Regular",
          "Regular",
          "Regular",
          "Regular",
          "Regular",
          "Regular",
          "Regular",
          "Regular",
          "Regular",
          "Regular",
          "Regular",
          "Regular",
          "Regular",
          "Regular",
          "Regular",
          "Regular",
          "Regular",
          "Regular",
          "Regular",
          "Regular",
          "Regular",
          "Regular",
          "Regular",
          "Regular",
          "Regular",
          "Regular",
          "Regular",
          "Regular",
          "Regular",
          "Regular",
          "Regular",
          "Regular",
          "Regular",
          "Regular",
          "Regular",
          "Regular",
          "Regular",
          "Regular",
          "Regular",
          "Regular",
          "Regular",
          "Regular",
          "Regular",
          "Regular",
          "Regular",
          "Regular",
          "Regular",
          "Regular",
          "Regular",
          "Regular",
          "Regular",
          "Regular",
          "Regular",
          "Regular",
          "Regular",
          "Regular",
          "Regular",
          "Regular",
          "Regular",
          "Regular",
          "Regular",
          "Regular",
          "Regular",
          "Regular",
          "Regular",
          "Regular",
          "Regular",
          "Regular",
          "Regular",
          "Regular",
          "Regular",
          "Regular",
          "Regular",
          "Regular",
          "Regular",
          "Regular",
          "Regular",
          "Regular",
          "Regular",
          "Regular",
          "Regular",
          "Regular",
          "Regular",
          "Regular",
          "Regular",
          "Regular",
          "Regular",
          "Regular",
          "Regular",
          "Regular",
          "Regular",
          "Regular",
          "Regular",
          "Regular",
          "Regular",
          "Regular",
          "Regular",
          "Regular",
          "Regular",
          "Regular",
          "Regular",
          "Regular",
          "Regular",
          "Regular",
          "Regular",
          "Regular",
          "Regular",
          "Regular",
          "Regular",
          "Regular",
          "Regular",
          "Regular",
          "Regular",
          "Regular",
          "Regular",
          "Regular",
          "Regular",
          "Regular",
          "Regular",
          "Regular",
          "Regular",
          "Regular",
          "Regular",
          "Regular",
          "Regular",
          "Regular",
          "Regular",
          "Regular",
          "Regular",
          "Regular",
          "Regular",
          "Regular",
          "Regular",
          "Regular",
          "Regular",
          "Regular",
          "Regular",
          "Regular",
          "Regular",
          "Regular",
          "Regular",
          "Regular",
          "Regular",
          "Regular",
          "Regular",
          "Regular",
          "Regular",
          "Regular",
          "Regular",
          "Regular",
          "Regular",
          "Regular",
          "Regular",
          "Regular",
          "Regular",
          "Regular",
          "Regular",
          "Regular",
          "Regular",
          "Regular",
          "Regular",
          "Regular",
          "Regular",
          "Regular",
          "Regular",
          "Regular",
          "Regular",
          "Regular",
          "Regular",
          "Regular",
          "Regular",
          "Regular",
          "Regular",
          "Regular",
          "Regular",
          "Regular",
          "Regular",
          "Regular",
          "Regular",
          "Regular",
          "Regular",
          "Regular",
          "Regular",
          "Regular",
          "Regular",
          "Regular",
          "Regular",
          "Regular",
          "Regular",
          "Regular",
          "Regular",
          "Regular",
          "Regular",
          "Regular",
          "Regular",
          "Regular",
          "Regular",
          "Regular",
          "Regular",
          "Regular",
          "Regular",
          "Regular",
          "Regular",
          "Regular",
          "Regular",
          "Regular",
          "Regular",
          "Regular",
          "Regular",
          "Regular",
          "Regular",
          "Regular",
          "Regular",
          "Regular",
          "Regular",
          "Regular",
          "Regular",
          "Regular",
          "Regular",
          "Regular",
          "Regular",
          "Regular",
          "Regular",
          "Regular",
          "Regular",
          "Regular",
          "Regular",
          "Regular",
          "Regular",
          "Regular",
          "Regular",
          "Regular",
          "Regular",
          "Regular",
          "Regular",
          "Regular",
          "Regular",
          "Regular",
          "Regular",
          "Regular",
          "Regular",
          "Regular",
          "Regular",
          "Regular",
          "Regular",
          "Regular",
          "Regular",
          "Regular",
          "Regular",
          "Regular",
          "Regular",
          "Regular",
          "Regular",
          "Regular",
          "Regular",
          "Regular",
          "Regular",
          "Regular",
          "Regular",
          "Regular",
          "Regular",
          "Regular",
          "Regular",
          "Regular",
          "Regular",
          "Regular",
          "Regular",
          "Regular",
          "Regular",
          "Regular",
          "Regular",
          "Regular",
          "Regular",
          "Regular",
          "Regular",
          "Regular",
          "Regular",
          "Regular",
          "Regular",
          "Regular",
          "Regular",
          "Regular",
          "Regular",
          "Regular",
          "Regular",
          "Regular",
          "Regular",
          "Regular",
          "Regular",
          "Regular",
          "Regular",
          "Regular",
          "Regular",
          "Regular",
          "Regular",
          "Regular",
          "Regular",
          "Regular",
          "Regular",
          "Regular",
          "Regular",
          "Regular",
          "Regular",
          "Regular",
          "Regular",
          "Regular",
          "Regular",
          "Regular",
          "Regular",
          "Regular",
          "Regular",
          "Regular",
          "Regular",
          "Regular",
          "Regular",
          "Regular",
          "Regular",
          "Regular",
          "Regular",
          "Regular",
          "Regular",
          "Regular",
          "Regular",
          "Regular",
          "Regular",
          "Regular",
          "Regular",
          "Regular",
          "Regular",
          "Regular",
          "Regular",
          "Regular",
          "Regular",
          "Regular",
          "Regular",
          "Regular",
          "Regular",
          "Regular",
          "Regular",
          "Regular",
          "Regular",
          "Regular",
          "Regular",
          "Regular",
          "Regular",
          "Regular",
          "Regular",
          "Regular",
          "Regular",
          "Regular",
          "Regular",
          "Regular",
          "Regular",
          "Regular",
          "Regular",
          "Regular",
          "Regular",
          "Regular",
          "Regular",
          "Regular",
          "Regular",
          "Regular",
          "Regular",
          "Regular",
          "Regular",
          "Regular",
          "Regular",
          "Regular",
          "Regular",
          "Regular",
          "Regular",
          "Regular",
          "Regular",
          "Regular",
          "Regular",
          "Regular",
          "Regular",
          "Regular",
          "Regular",
          "Regular",
          "Regular",
          "Regular",
          "Regular",
          "Regular",
          "Regular",
          "Regular",
          "Regular",
          "Regular",
          "Regular",
          "Regular",
          "Regular",
          "Regular",
          "Regular",
          "Regular",
          "Regular",
          "Regular",
          "Regular",
          "Regular",
          "Regular",
          "Regular",
          "Regular",
          "Regular",
          "Regular",
          "Regular",
          "Regular",
          "Regular",
          "Regular",
          "Regular",
          "Regular",
          "Regular",
          "Regular",
          "Regular",
          "Regular",
          "Regular",
          "Regular",
          "Regular",
          "Regular",
          "Regular",
          "Regular",
          "Regular",
          "Regular",
          "Regular",
          "Regular",
          "Regular",
          "Regular",
          "Regular",
          "Regular",
          "Regular",
          "Regular",
          "Regular",
          "Regular",
          "Regular",
          "Regular",
          "Regular",
          "Regular",
          "Regular",
          "Regular",
          "Regular",
          "Regular",
          "Regular",
          "Regular",
          "Regular",
          "Regular",
          "Regular",
          "Regular",
          "Regular",
          "Regular",
          "Regular",
          "Regular",
          "Regular",
          "Regular",
          "Regular",
          "Regular",
          "Regular",
          "Regular",
          "Regular",
          "Regular",
          "Regular",
          "Regular",
          "Regular",
          "Regular",
          "Regular",
          "Regular",
          "Regular",
          "Regular",
          "Regular",
          "Regular",
          "Regular",
          "Regular",
          "Regular",
          "Regular",
          "Regular",
          "Regular",
          "Regular",
          "Regular",
          "Regular",
          "Regular",
          "Regular",
          "Regular",
          "Regular",
          "Regular",
          "Regular",
          "Regular",
          "Regular",
          "Regular",
          "Regular",
          "Regular",
          "Regular",
          "Regular",
          "Regular",
          "Regular",
          "Regular",
          "Regular",
          "Regular",
          "Regular",
          "Regular",
          "Regular",
          "Regular",
          "Regular",
          "Regular",
          "Regular",
          "Regular",
          "Regular",
          "Regular",
          "Regular",
          "Regular",
          "Regular",
          "Regular",
          "Regular",
          "Regular",
          "Regular",
          "Regular",
          "Regular",
          "Regular",
          "Regular",
          "Regular",
          "Regular",
          "Regular",
          "Regular",
          "Regular",
          "Regular",
          "Regular",
          "Regular",
          "Regular",
          "Regular",
          "Regular",
          "Regular",
          "Regular",
          "Regular",
          "Regular",
          "Regular",
          "Regular",
          "Regular",
          "Regular",
          "Regular",
          "Regular",
          "Regular",
          "Regular",
          "Regular",
          "Regular",
          "Regular",
          "Regular",
          "Regular",
          "Regular",
          "Regular",
          "Regular",
          "Regular",
          "Regular",
          "Regular",
          "Regular",
          "Regular",
          "Regular",
          "Regular",
          "Regular",
          "Regular",
          "Regular",
          "Regular",
          "Regular",
          "Regular",
          "Regular",
          "Regular",
          "Regular",
          "Regular",
          "Regular",
          "Regular",
          "Regular",
          "Regular",
          "Regular",
          "Regular",
          "Regular",
          "Regular",
          "Regular",
          "Regular",
          "Regular",
          "Regular",
          "Regular",
          "Regular",
          "Regular",
          "Regular",
          "Regular",
          "Regular",
          "Regular",
          "Regular",
          "Regular",
          "Regular",
          "Regular",
          "Regular",
          "Regular",
          "Regular",
          "Regular",
          "Regular",
          "Regular",
          "Regular",
          "Regular",
          "Regular",
          "Regular",
          "Regular",
          "Regular",
          "Regular",
          "Regular",
          "Regular",
          "Regular",
          "Regular",
          "Regular",
          "Regular",
          "Regular",
          "Regular",
          "Regular",
          "Regular",
          "Regular",
          "Regular",
          "Regular",
          "Regular",
          "Regular",
          "Regular",
          "Regular",
          "Regular",
          "Regular",
          "Regular",
          "Regular",
          "Regular",
          "Regular",
          "Regular",
          "Regular",
          "Regular",
          "Regular",
          "Regular",
          "Regular",
          "Regular",
          "Regular",
          "Regular",
          "Regular",
          "Regular",
          "Regular",
          "Regular",
          "Regular",
          "Regular",
          "Regular",
          "Regular",
          "Regular",
          "Regular",
          "Regular",
          "Regular",
          "Regular",
          "Regular",
          "Regular",
          "Regular",
          "Regular",
          "Regular",
          "Regular",
          "Regular",
          "Regular",
          "Regular",
          "Regular",
          "Regular",
          "Regular",
          "Regular",
          "Regular",
          "Regular",
          "Regular",
          "Regular",
          "Regular",
          "Regular",
          "Regular",
          "Regular",
          "Regular",
          "Regular",
          "Regular",
          "Regular",
          "Regular",
          "Regular",
          "Regular",
          "Regular",
          "Regular",
          "Regular",
          "Regular",
          "Regular",
          "Regular",
          "Regular",
          "Regular",
          "Regular",
          "Regular",
          "Regular",
          "Regular",
          "Regular",
          "Regular",
          "Regular",
          "Regular",
          "Regular",
          "Regular",
          "Regular",
          "Regular",
          "Regular",
          "Regular",
          "Regular",
          "Regular",
          "Regular",
          "Regular",
          "Regular",
          "Regular",
          "Regular",
          "Regular",
          "Regular",
          "Regular",
          "Regular",
          "Regular",
          "Regular",
          "Regular",
          "Regular",
          "Regular",
          "Regular",
          "Regular",
          "Regular",
          "Regular",
          "Regular",
          "Regular",
          "Regular",
          "Regular",
          "Regular",
          "Regular",
          "Regular",
          "Regular",
          "Regular",
          "Regular",
          "Regular",
          "Regular",
          "Regular",
          "Regular",
          "Regular",
          "Regular",
          "Regular",
          "Regular",
          "Regular",
          "Regular",
          "Regular",
          "Regular",
          "Regular",
          "Regular",
          "Regular",
          "Regular",
          "Regular",
          "Regular",
          "Regular",
          "Regular",
          "Regular",
          "Regular",
          "Regular",
          "Regular",
          "Regular",
          "Regular",
          "Regular",
          "Regular",
          "Regular",
          "Regular",
          "Regular",
          "Regular",
          "Regular",
          "Regular",
          "Regular",
          "Regular",
          "Regular",
          "Regular",
          "Regular",
          "Regular",
          "Regular",
          "Regular",
          "Regular",
          "Regular",
          "Regular",
          "Regular",
          "Regular",
          "Regular",
          "Regular",
          "Regular",
          "Regular",
          "Regular",
          "Regular",
          "Regular",
          "Regular",
          "Regular",
          "Regular",
          "Regular",
          "Regular",
          "Regular",
          "Regular",
          "Regular",
          "Regular",
          "Regular",
          "Regular",
          "Regular",
          "Regular",
          "Regular",
          "Regular",
          "Regular",
          "Regular",
          "Regular",
          "Regular",
          "Regular",
          "Regular",
          "Regular",
          "Regular",
          "Regular",
          "Regular",
          "Regular",
          "Regular",
          "Regular",
          "Regular",
          "Regular",
          "Regular",
          "Regular",
          "Regular",
          "Regular",
          "Regular",
          "Regular",
          "Regular",
          "Regular",
          "Regular",
          "Regular",
          "Regular",
          "Regular",
          "Regular",
          "Regular",
          "Regular",
          "Regular",
          "Regular",
          "Regular",
          "Regular",
          "Regular",
          "Regular",
          "Regular",
          "Regular",
          "Regular",
          "Regular",
          "Regular",
          "Regular",
          "Regular",
          "Regular",
          "Regular",
          "Regular",
          "Regular",
          "Regular",
          "Regular",
          "Regular",
          "Regular",
          "Regular",
          "Regular",
          "Regular",
          "Regular",
          "Regular",
          "Regular",
          "Regular",
          "Regular",
          "Regular",
          "Regular",
          "Regular",
          "Regular",
          "Regular",
          "Regular",
          "Regular",
          "Regular",
          "Regular",
          "Regular",
          "Regular",
          "Regular",
          "Regular",
          "Regular",
          "Regular",
          "Regular",
          "Regular",
          "Regular",
          "Regular",
          "Regular",
          "Regular",
          "Regular",
          "Regular",
          "Regular",
          "Regular",
          "Regular",
          "Regular",
          "Regular",
          "Regular",
          "Regular",
          "Regular",
          "Regular",
          "Regular",
          "Regular",
          "Regular",
          "Regular",
          "Regular",
          "Regular",
          "Regular",
          "Regular",
          "Regular",
          "Regular",
          "Regular",
          "Regular",
          "Regular",
          "Regular",
          "Regular",
          "Regular",
          "Regular",
          "Regular",
          "Regular",
          "Regular",
          "Regular",
          "Regular",
          "Regular",
          "Regular",
          "Regular",
          "Regular",
          "Regular",
          "Regular",
          "Regular",
          "Regular",
          "Regular",
          "Regular",
          "Regular",
          "Regular",
          "Regular",
          "Regular",
          "Regular",
          "Regular",
          "Regular",
          "Regular",
          "Regular",
          "Regular",
          "Regular",
          "Regular",
          "Regular",
          "Regular",
          "Regular",
          "Regular",
          "Regular",
          "Regular",
          "Regular",
          "Regular",
          "Regular",
          "Regular",
          "Regular",
          "Regular",
          "Regular",
          "Regular",
          "Regular",
          "Regular",
          "Regular",
          "Regular",
          "Regular",
          "Regular",
          "Regular",
          "Regular",
          "Regular",
          "Regular",
          "Regular",
          "Regular",
          "Regular",
          "Regular",
          "Regular",
          "Regular",
          "Regular",
          "Regular",
          "Regular",
          "Regular",
          "Regular",
          "Regular",
          "Regular",
          "Regular",
          "Regular",
          "Regular",
          "Regular",
          "Regular",
          "Regular",
          "Regular",
          "Regular",
          "Regular",
          "Regular",
          "Regular",
          "Regular",
          "Regular",
          "Regular",
          "Regular",
          "Regular",
          "Regular",
          "Regular",
          "Regular",
          "Regular",
          "Regular",
          "Regular",
          "Regular",
          "Regular",
          "Regular",
          "Regular",
          "Regular",
          "Regular",
          "Regular",
          "Regular",
          "Regular",
          "Regular",
          "Regular",
          "Regular",
          "Regular",
          "Regular",
          "Regular",
          "Regular",
          "Regular",
          "Regular",
          "Regular",
          "Regular",
          "Regular",
          "Regular",
          "Regular",
          "Regular",
          "Regular",
          "Regular",
          "Regular",
          "Regular",
          "Regular",
          "Regular",
          "Regular",
          "Regular",
          "Regular",
          "Regular",
          "Regular",
          "Regular",
          "Regular",
          "Regular",
          "Regular",
          "Regular",
          "Regular",
          "Regular",
          "Regular",
          "Regular",
          "Regular",
          "Regular",
          "Regular",
          "Regular",
          "Regular",
          "Regular",
          "Regular",
          "Regular",
          "Regular",
          "Regular",
          "Regular",
          "Regular",
          "Regular",
          "Regular",
          "Regular",
          "Regular",
          "Regular",
          "Regular",
          "Regular",
          "Regular",
          "Regular",
          "Regular",
          "Regular",
          "Regular",
          "Regular",
          "Regular",
          "Regular",
          "Regular",
          "Regular",
          "Regular",
          "Regular",
          "Regular",
          "Regular",
          "Regular",
          "Regular",
          "Regular",
          "Regular",
          "Regular",
          "Regular",
          "Regular",
          "Regular",
          "Regular",
          "Regular",
          "Regular",
          "Regular",
          "Regular",
          "Regular",
          "Regular",
          "Regular",
          "Regular",
          "Regular",
          "Regular",
          "Regular",
          "Regular",
          "Regular",
          "Regular",
          "Regular",
          "Regular",
          "Regular",
          "Regular",
          "Regular",
          "Regular",
          "Regular",
          "Regular",
          "Regular",
          "Regular",
          "Regular",
          "Regular",
          "Regular",
          "Regular",
          "Regular",
          "Regular",
          "Regular",
          "Regular",
          "Regular",
          "Regular",
          "Regular",
          "Regular",
          "Regular",
          "Regular",
          "Regular",
          "Regular",
          "Regular",
          "Regular",
          "Regular",
          "Regular",
          "Regular",
          "Regular",
          "Regular",
          "Regular",
          "Regular",
          "Regular",
          "Regular",
          "Regular",
          "Regular",
          "Regular",
          "Regular",
          "Regular",
          "Regular",
          "Regular",
          "Regular",
          "Regular",
          "Regular",
          "Regular",
          "Regular",
          "Regular",
          "Regular",
          "Regular",
          "Regular",
          "Regular",
          "Regular",
          "Regular",
          "Regular",
          "Regular",
          "Regular",
          "Regular",
          "Regular",
          "Regular",
          "Regular",
          "Regular",
          "Regular",
          "Regular",
          "Regular",
          "Regular",
          "Regular",
          "Regular",
          "Regular",
          "Regular",
          "Regular",
          "Regular",
          "Regular",
          "Regular",
          "Regular",
          "Regular",
          "Regular",
          "Regular",
          "Regular",
          "Regular",
          "Regular",
          "Regular",
          "Regular",
          "Regular",
          "Regular",
          "Regular",
          "Regular",
          "Regular",
          "Regular",
          "Regular",
          "Regular",
          "Regular",
          "Regular",
          "Regular",
          "Regular",
          "Regular",
          "Regular",
          "Regular",
          "Regular",
          "Regular",
          "Regular",
          "Regular",
          "Regular",
          "Regular",
          "Regular",
          "Regular",
          "Regular",
          "Regular",
          "Regular",
          "Regular",
          "Regular",
          "Regular",
          "Regular",
          "Regular",
          "Regular",
          "Regular",
          "Regular",
          "Regular",
          "Regular",
          "Regular",
          "Regular",
          "Regular",
          "Regular",
          "Regular",
          "Regular",
          "Regular",
          "Regular",
          "Regular",
          "Regular",
          "Regular",
          "Regular",
          "Regular",
          "Regular",
          "Regular",
          "Regular",
          "Regular",
          "Regular",
          "Regular",
          "Regular",
          "Regular",
          "Regular",
          "Regular",
          "Regular",
          "Regular",
          "Regular",
          "Regular",
          "Regular",
          "Regular",
          "Regular",
          "Regular",
          "Regular",
          "Regular",
          "Regular",
          "Regular",
          "Regular",
          "Regular",
          "Regular",
          "Regular",
          "Regular",
          "Regular",
          "Regular",
          "Regular",
          "Regular",
          "Regular",
          "Regular",
          "Regular",
          "Regular",
          "Regular",
          "Regular",
          "Regular",
          "Regular",
          "Regular",
          "Regular",
          "Regular",
          "Regular",
          "Regular",
          "Regular",
          "Regular",
          "Regular",
          "Regular",
          "Regular",
          "Regular",
          "Regular",
          "Regular",
          "Regular",
          "Regular",
          "Regular",
          "Regular",
          "Regular",
          "Regular",
          "Regular",
          "Regular",
          "Regular",
          "Regular",
          "Regular",
          "Regular",
          "Regular",
          "Regular",
          "Regular",
          "Regular",
          "Regular",
          "Regular",
          "Regular",
          "Regular",
          "Regular",
          "Regular",
          "Regular",
          "Regular",
          "Regular",
          "Regular",
          "Regular",
          "Regular",
          "Regular",
          "Regular",
          "Regular",
          "Regular",
          "Regular",
          "Regular",
          "Regular",
          "Regular",
          "Regular",
          "Regular",
          "Regular",
          "Regular",
          "Regular",
          "Regular",
          "Regular",
          "Regular",
          "Regular",
          "Regular",
          "Regular",
          "Regular",
          "Regular",
          "Regular",
          "Regular",
          "Regular",
          "Regular",
          "Regular",
          "Regular",
          "Regular",
          "Regular",
          "Regular",
          "Regular",
          "Regular",
          "Regular",
          "Regular",
          "Regular",
          "Regular",
          "Regular",
          "Regular",
          "Regular",
          "Regular",
          "Regular",
          "Regular",
          "Regular",
          "Regular",
          "Regular",
          "Regular",
          "Regular",
          "Regular",
          "Regular",
          "Regular",
          "Regular",
          "Regular",
          "Regular",
          "Regular",
          "Regular",
          "Regular",
          "Regular",
          "Regular",
          "Regular",
          "Regular",
          "Regular",
          "Regular",
          "Regular",
          "Regular",
          "Regular",
          "Regular",
          "Regular",
          "Regular",
          "Regular",
          "Regular",
          "Regular",
          "Regular",
          "Regular",
          "Regular",
          "Regular",
          "Regular",
          "Regular",
          "Regular",
          "Regular",
          "Regular",
          "Regular",
          "Regular",
          "Regular",
          "Regular",
          "Regular",
          "Regular",
          "Regular",
          "Regular",
          "Regular",
          "Regular",
          "Regular",
          "Regular",
          "Regular",
          "Regular",
          "Regular",
          "Regular",
          "Regular",
          "Regular",
          "Regular",
          "Regular",
          "Regular",
          "Regular",
          "Regular",
          "Regular",
          "Regular",
          "Regular",
          "Regular",
          "Regular",
          "Regular",
          "Regular",
          "Regular",
          "Regular",
          "Regular",
          "Regular",
          "Regular",
          "Regular",
          "Regular",
          "Regular",
          "Regular",
          "Regular",
          "Regular",
          "Regular",
          "Regular",
          "Regular",
          "Regular",
          "Regular",
          "Regular",
          "Regular",
          "Regular",
          "Regular",
          "Regular",
          "Regular",
          "Regular",
          "Regular",
          "Regular",
          "Regular",
          "Regular",
          "Regular",
          "Regular",
          "Regular",
          "Regular",
          "Regular",
          "Regular",
          "Regular",
          "Regular",
          "Regular",
          "Regular",
          "Regular",
          "Regular",
          "Regular",
          "Regular",
          "Regular",
          "Regular",
          "Regular",
          "Regular",
          "Regular",
          "Regular",
          "Regular",
          "Regular",
          "Regular",
          "Regular",
          "Regular",
          "Regular",
          "Regular",
          "Regular",
          "Regular",
          "Regular",
          "Regular",
          "Regular",
          "Regular",
          "Regular",
          "Regular",
          "Regular",
          "Regular",
          "Regular",
          "Regular",
          "Regular",
          "Regular",
          "Regular",
          "Regular",
          "Regular",
          "Regular",
          "Regular",
          "Regular",
          "Regular",
          "Regular",
          "Regular",
          "Regular",
          "Regular",
          "Regular",
          "Regular",
          "Regular",
          "Regular",
          "Regular",
          "Regular",
          "Regular",
          "Regular",
          "Regular",
          "Regular",
          "Regular",
          "Regular",
          "Regular",
          "Regular",
          "Regular",
          "Regular",
          "Regular",
          "Regular",
          "Regular",
          "Regular",
          "Regular",
          "Regular",
          "Regular",
          "Regular",
          "Regular",
          "Regular",
          "Regular",
          "Regular",
          "Regular",
          "Regular",
          "Regular",
          "Regular",
          "Regular",
          "Regular",
          "Regular",
          "Regular",
          "Regular",
          "Regular",
          "Regular",
          "Regular",
          "Regular",
          "Regular",
          "Regular",
          "Regular",
          "Regular",
          "Regular",
          "Regular",
          "Regular",
          "Regular",
          "Regular",
          "Regular",
          "Regular",
          "Regular",
          "Regular",
          "Regular",
          "Regular",
          "Regular",
          "Regular",
          "Regular",
          "Regular",
          "Regular",
          "Regular",
          "Regular",
          "Regular",
          "Regular",
          "Regular",
          "Regular",
          "Regular",
          "Regular",
          "Regular",
          "Regular",
          "Regular",
          "Regular",
          "Regular",
          "Regular",
          "Regular",
          "Regular",
          "Regular",
          "Regular",
          "Regular",
          "Regular",
          "Regular",
          "Regular",
          "Regular",
          "Regular",
          "Regular",
          "Regular",
          "Regular",
          "Regular",
          "Regular",
          "Regular",
          "Regular",
          "Regular",
          "Regular",
          "Regular",
          "Regular",
          "Regular",
          "Regular",
          "Regular",
          "Regular",
          "Regular",
          "Regular",
          "Regular",
          "Regular",
          "Regular",
          "Regular",
          "Regular",
          "Regular",
          "Regular",
          "Regular",
          "Regular",
          "Regular",
          "Regular",
          "Regular",
          "Regular",
          "Regular",
          "Regular",
          "Regular",
          "Regular",
          "Regular",
          "Regular",
          "Regular",
          "Regular",
          "Regular",
          "Regular",
          "Regular",
          "Regular",
          "Regular",
          "Regular",
          "Regular",
          "Regular",
          "Regular",
          "Regular",
          "Regular",
          "Regular",
          "Regular",
          "Regular",
          "Regular",
          "Regular",
          "Regular",
          "Regular",
          "Regular",
          "Regular",
          "Regular",
          "Regular",
          "Regular",
          "Regular",
          "Regular",
          "Regular",
          "Regular",
          "Regular",
          "Regular",
          "Regular",
          "Regular",
          "Regular",
          "Regular",
          "Regular",
          "Regular",
          "Regular",
          "Regular",
          "Regular",
          "Regular",
          "Regular",
          "Regular",
          "Regular",
          "Regular",
          "Regular",
          "Regular",
          "Regular",
          "Regular",
          "Regular",
          "Regular",
          "Regular",
          "Regular",
          "Regular",
          "Regular",
          "Regular",
          "Regular",
          "Regular",
          "Regular",
          "Regular",
          "Regular",
          "Regular",
          "Regular",
          "Regular",
          "Regular",
          "Regular",
          "Regular",
          "Regular",
          "Regular",
          "Regular",
          "Regular",
          "Regular",
          "Regular",
          "Regular",
          "Regular",
          "Regular",
          "Regular",
          "Regular",
          "Regular",
          "Regular",
          "Regular",
          "Regular",
          "Regular",
          "Regular",
          "Regular",
          "Regular",
          "Regular",
          "Regular",
          "Regular",
          "Regular",
          "Regular",
          "Regular",
          "Regular",
          "Regular",
          "Regular",
          "Regular",
          "Regular",
          "Regular",
          "Regular",
          "Regular",
          "Regular",
          "Regular",
          "Regular",
          "Regular",
          "Regular",
          "Regular",
          "Regular",
          "Regular",
          "Regular",
          "Regular",
          "Regular",
          "Regular",
          "Regular",
          "Regular",
          "Regular",
          "Regular",
          "Regular",
          "Regular",
          "Regular",
          "Regular",
          "Regular",
          "Regular",
          "Regular",
          "Regular",
          "Regular",
          "Regular",
          "Regular",
          "Regular",
          "Regular",
          "Regular",
          "Regular",
          "Regular",
          "Regular",
          "Regular",
          "Regular",
          "Regular",
          "Regular",
          "Regular",
          "Regular",
          "Regular",
          "Regular",
          "Regular",
          "Regular",
          "Regular",
          "Regular",
          "Regular",
          "Regular",
          "Regular",
          "Regular",
          "Regular",
          "Regular",
          "Regular",
          "Regular",
          "Regular",
          "Regular",
          "Regular",
          "Regular",
          "Regular",
          "Regular",
          "Regular",
          "Regular",
          "Regular",
          "Regular",
          "Regular",
          "Regular",
          "Regular",
          "Regular",
          "Regular",
          "Regular",
          "Regular",
          "Regular",
          "Regular",
          "Regular",
          "Regular",
          "Regular",
          "Regular",
          "Regular",
          "Regular",
          "Regular",
          "Regular",
          "Regular",
          "Regular",
          "Regular",
          "Regular",
          "Regular",
          "Regular",
          "Regular",
          "Regular",
          "Regular",
          "Regular",
          "Regular",
          "Regular",
          "Regular",
          "Regular",
          "Regular",
          "Regular",
          "Regular",
          "Regular",
          "Regular",
          "Regular",
          "Regular",
          "Regular",
          "Regular",
          "Regular",
          "Regular",
          "Regular",
          "Regular",
          "Regular",
          "Regular",
          "Regular",
          "Regular",
          "Regular",
          "Regular",
          "Regular",
          "Regular",
          "Regular",
          "Regular",
          "Regular",
          "Regular",
          "Regular",
          "Regular",
          "Regular",
          "Regular",
          "Regular",
          "Regular",
          "Regular",
          "Regular",
          "Regular",
          "Regular",
          "Regular",
          "Regular",
          "Regular",
          "Regular",
          "Regular",
          "Regular",
          "Regular",
          "Regular",
          "Regular",
          "Regular",
          "Regular",
          "Regular",
          "Regular",
          "Regular",
          "Regular",
          "Regular",
          "Regular",
          "Regular",
          "Regular",
          "Regular",
          "Regular",
          "Regular",
          "Regular",
          "Regular",
          "Regular",
          "Regular",
          "Regular",
          "Regular",
          "Regular",
          "Regular",
          "Regular",
          "Regular",
          "Regular",
          "Regular",
          "Regular",
          "Regular",
          "Regular",
          "Regular",
          "Regular",
          "Regular",
          "Regular",
          "Regular",
          "Regular",
          "Regular",
          "Regular",
          "Regular",
          "Regular",
          "Regular",
          "Regular",
          "Regular",
          "Regular",
          "Regular",
          "Regular",
          "Regular",
          "Regular",
          "Regular",
          "Regular",
          "Regular",
          "Regular",
          "Regular",
          "Regular",
          "Regular",
          "Regular",
          "Regular",
          "Regular",
          "Regular",
          "Regular",
          "Regular",
          "Regular",
          "Regular",
          "Regular",
          "Regular",
          "Regular",
          "Regular",
          "Regular",
          "Regular",
          "Regular",
          "Regular",
          "Regular",
          "Regular",
          "Regular",
          "Regular",
          "Regular",
          "Regular",
          "Regular",
          "Regular"
         ],
         "xaxis": "x2",
         "yaxis": "y2"
        },
        {
         "alignmentgroup": "True",
         "bingroup": "x",
         "hovertemplate": " ItemFat Content=%{x}<br>count=%{y}<extra></extra>",
         "legendgroup": "Low Fat",
         "marker": {
          "color": "#EF553B",
          "pattern": {
           "shape": ""
          }
         },
         "name": "Low Fat",
         "nbinsx": 30,
         "offsetgroup": "Low Fat",
         "orientation": "v",
         "showlegend": true,
         "type": "histogram",
         "x": [
          "Low Fat",
          "Low Fat",
          "Low Fat",
          "Low Fat",
          "Low Fat",
          "Low Fat",
          "Low Fat",
          "Low Fat",
          "Low Fat",
          "Low Fat",
          "Low Fat",
          "Low Fat",
          "Low Fat",
          "Low Fat",
          "Low Fat",
          "Low Fat",
          "Low Fat",
          "Low Fat",
          "Low Fat",
          "Low Fat",
          "Low Fat",
          "Low Fat",
          "Low Fat",
          "Low Fat",
          "Low Fat",
          "Low Fat",
          "Low Fat",
          "Low Fat",
          "Low Fat",
          "Low Fat",
          "Low Fat",
          "Low Fat",
          "Low Fat",
          "Low Fat",
          "Low Fat",
          "Low Fat",
          "Low Fat",
          "Low Fat",
          "Low Fat",
          "Low Fat",
          "Low Fat",
          "Low Fat",
          "Low Fat",
          "Low Fat",
          "Low Fat",
          "Low Fat",
          "Low Fat",
          "Low Fat",
          "Low Fat",
          "Low Fat",
          "Low Fat",
          "Low Fat",
          "Low Fat",
          "Low Fat",
          "Low Fat",
          "Low Fat",
          "Low Fat",
          "Low Fat",
          "Low Fat",
          "Low Fat",
          "Low Fat",
          "Low Fat",
          "Low Fat",
          "Low Fat",
          "Low Fat",
          "Low Fat",
          "Low Fat",
          "Low Fat",
          "Low Fat",
          "Low Fat",
          "Low Fat",
          "Low Fat",
          "Low Fat",
          "Low Fat",
          "Low Fat",
          "Low Fat",
          "Low Fat",
          "Low Fat",
          "Low Fat",
          "Low Fat",
          "Low Fat",
          "Low Fat",
          "Low Fat",
          "Low Fat",
          "Low Fat",
          "Low Fat",
          "Low Fat",
          "Low Fat",
          "Low Fat",
          "Low Fat",
          "Low Fat",
          "Low Fat",
          "Low Fat",
          "Low Fat",
          "Low Fat",
          "Low Fat",
          "Low Fat",
          "Low Fat",
          "Low Fat",
          "Low Fat",
          "Low Fat",
          "Low Fat",
          "Low Fat",
          "Low Fat",
          "Low Fat",
          "Low Fat",
          "Low Fat",
          "Low Fat",
          "Low Fat",
          "Low Fat",
          "Low Fat",
          "Low Fat",
          "Low Fat",
          "Low Fat",
          "Low Fat",
          "Low Fat",
          "Low Fat",
          "Low Fat",
          "Low Fat",
          "Low Fat",
          "Low Fat",
          "Low Fat",
          "Low Fat",
          "Low Fat",
          "Low Fat",
          "Low Fat",
          "Low Fat",
          "Low Fat",
          "Low Fat",
          "Low Fat",
          "Low Fat",
          "Low Fat",
          "Low Fat",
          "Low Fat",
          "Low Fat",
          "Low Fat",
          "Low Fat",
          "Low Fat",
          "Low Fat",
          "Low Fat",
          "Low Fat",
          "Low Fat",
          "Low Fat",
          "Low Fat",
          "Low Fat",
          "Low Fat",
          "Low Fat",
          "Low Fat",
          "Low Fat",
          "Low Fat",
          "Low Fat",
          "Low Fat",
          "Low Fat",
          "Low Fat",
          "Low Fat",
          "Low Fat",
          "Low Fat",
          "Low Fat",
          "Low Fat",
          "Low Fat",
          "Low Fat",
          "Low Fat",
          "Low Fat",
          "Low Fat",
          "Low Fat",
          "Low Fat",
          "Low Fat",
          "Low Fat",
          "Low Fat",
          "Low Fat",
          "Low Fat",
          "Low Fat",
          "Low Fat",
          "Low Fat",
          "Low Fat",
          "Low Fat",
          "Low Fat",
          "Low Fat",
          "Low Fat",
          "Low Fat",
          "Low Fat",
          "Low Fat",
          "Low Fat",
          "Low Fat",
          "Low Fat",
          "Low Fat",
          "Low Fat",
          "Low Fat",
          "Low Fat",
          "Low Fat",
          "Low Fat",
          "Low Fat",
          "Low Fat",
          "Low Fat",
          "Low Fat",
          "Low Fat",
          "Low Fat",
          "Low Fat",
          "Low Fat",
          "Low Fat",
          "Low Fat",
          "Low Fat",
          "Low Fat",
          "Low Fat",
          "Low Fat",
          "Low Fat",
          "Low Fat",
          "Low Fat",
          "Low Fat",
          "Low Fat",
          "Low Fat",
          "Low Fat",
          "Low Fat",
          "Low Fat",
          "Low Fat",
          "Low Fat",
          "Low Fat",
          "Low Fat",
          "Low Fat",
          "Low Fat",
          "Low Fat",
          "Low Fat",
          "Low Fat",
          "Low Fat",
          "Low Fat",
          "Low Fat",
          "Low Fat",
          "Low Fat",
          "Low Fat",
          "Low Fat",
          "Low Fat",
          "Low Fat",
          "Low Fat",
          "Low Fat",
          "Low Fat",
          "Low Fat",
          "Low Fat",
          "Low Fat",
          "Low Fat",
          "Low Fat",
          "Low Fat",
          "Low Fat",
          "Low Fat",
          "Low Fat",
          "Low Fat",
          "Low Fat",
          "Low Fat",
          "Low Fat",
          "Low Fat",
          "Low Fat",
          "Low Fat",
          "Low Fat",
          "Low Fat",
          "Low Fat",
          "Low Fat",
          "Low Fat",
          "Low Fat",
          "Low Fat",
          "Low Fat",
          "Low Fat",
          "Low Fat",
          "Low Fat",
          "Low Fat",
          "Low Fat",
          "Low Fat",
          "Low Fat",
          "Low Fat",
          "Low Fat",
          "Low Fat",
          "Low Fat",
          "Low Fat",
          "Low Fat",
          "Low Fat",
          "Low Fat",
          "Low Fat",
          "Low Fat",
          "Low Fat",
          "Low Fat",
          "Low Fat",
          "Low Fat",
          "Low Fat",
          "Low Fat",
          "Low Fat",
          "Low Fat",
          "Low Fat",
          "Low Fat",
          "Low Fat",
          "Low Fat",
          "Low Fat",
          "Low Fat",
          "Low Fat",
          "Low Fat",
          "Low Fat",
          "Low Fat",
          "Low Fat",
          "Low Fat",
          "Low Fat",
          "Low Fat",
          "Low Fat",
          "Low Fat",
          "Low Fat",
          "Low Fat",
          "Low Fat",
          "Low Fat",
          "Low Fat",
          "Low Fat",
          "Low Fat",
          "Low Fat",
          "Low Fat",
          "Low Fat",
          "Low Fat",
          "Low Fat",
          "Low Fat",
          "Low Fat",
          "Low Fat",
          "Low Fat",
          "Low Fat",
          "Low Fat",
          "Low Fat",
          "Low Fat",
          "Low Fat",
          "Low Fat",
          "Low Fat",
          "Low Fat",
          "Low Fat",
          "Low Fat",
          "Low Fat",
          "Low Fat",
          "Low Fat",
          "Low Fat",
          "Low Fat",
          "Low Fat",
          "Low Fat",
          "Low Fat",
          "Low Fat",
          "Low Fat",
          "Low Fat",
          "Low Fat",
          "Low Fat",
          "Low Fat",
          "Low Fat",
          "Low Fat",
          "Low Fat",
          "Low Fat",
          "Low Fat",
          "Low Fat",
          "Low Fat",
          "Low Fat",
          "Low Fat",
          "Low Fat",
          "Low Fat",
          "Low Fat",
          "Low Fat",
          "Low Fat",
          "Low Fat",
          "Low Fat",
          "Low Fat",
          "Low Fat",
          "Low Fat",
          "Low Fat",
          "Low Fat",
          "Low Fat",
          "Low Fat",
          "Low Fat",
          "Low Fat",
          "Low Fat",
          "Low Fat",
          "Low Fat",
          "Low Fat",
          "Low Fat",
          "Low Fat",
          "Low Fat",
          "Low Fat",
          "Low Fat",
          "Low Fat",
          "Low Fat",
          "Low Fat",
          "Low Fat",
          "Low Fat",
          "Low Fat",
          "Low Fat",
          "Low Fat",
          "Low Fat",
          "Low Fat",
          "Low Fat",
          "Low Fat",
          "Low Fat",
          "Low Fat",
          "Low Fat",
          "Low Fat",
          "Low Fat",
          "Low Fat",
          "Low Fat",
          "Low Fat",
          "Low Fat",
          "Low Fat",
          "Low Fat",
          "Low Fat",
          "Low Fat",
          "Low Fat",
          "Low Fat",
          "Low Fat",
          "Low Fat",
          "Low Fat",
          "Low Fat",
          "Low Fat",
          "Low Fat",
          "Low Fat",
          "Low Fat",
          "Low Fat",
          "Low Fat",
          "Low Fat",
          "Low Fat",
          "Low Fat",
          "Low Fat",
          "Low Fat",
          "Low Fat",
          "Low Fat",
          "Low Fat",
          "Low Fat",
          "Low Fat",
          "Low Fat",
          "Low Fat",
          "Low Fat",
          "Low Fat",
          "Low Fat",
          "Low Fat",
          "Low Fat",
          "Low Fat",
          "Low Fat",
          "Low Fat",
          "Low Fat",
          "Low Fat",
          "Low Fat",
          "Low Fat",
          "Low Fat",
          "Low Fat",
          "Low Fat",
          "Low Fat",
          "Low Fat",
          "Low Fat",
          "Low Fat",
          "Low Fat",
          "Low Fat",
          "Low Fat",
          "Low Fat",
          "Low Fat",
          "Low Fat",
          "Low Fat",
          "Low Fat",
          "Low Fat",
          "Low Fat",
          "Low Fat",
          "Low Fat",
          "Low Fat",
          "Low Fat",
          "Low Fat",
          "Low Fat",
          "Low Fat",
          "Low Fat",
          "Low Fat",
          "Low Fat",
          "Low Fat",
          "Low Fat",
          "Low Fat",
          "Low Fat",
          "Low Fat",
          "Low Fat",
          "Low Fat",
          "Low Fat",
          "Low Fat",
          "Low Fat",
          "Low Fat",
          "Low Fat",
          "Low Fat",
          "Low Fat",
          "Low Fat",
          "Low Fat",
          "Low Fat",
          "Low Fat",
          "Low Fat",
          "Low Fat",
          "Low Fat",
          "Low Fat",
          "Low Fat",
          "Low Fat",
          "Low Fat",
          "Low Fat",
          "Low Fat",
          "Low Fat",
          "Low Fat",
          "Low Fat",
          "Low Fat",
          "Low Fat",
          "Low Fat",
          "Low Fat",
          "Low Fat",
          "Low Fat",
          "Low Fat",
          "Low Fat",
          "Low Fat",
          "Low Fat",
          "Low Fat",
          "Low Fat",
          "Low Fat",
          "Low Fat",
          "Low Fat",
          "Low Fat",
          "Low Fat",
          "Low Fat",
          "Low Fat",
          "Low Fat",
          "Low Fat",
          "Low Fat",
          "Low Fat",
          "Low Fat",
          "Low Fat",
          "Low Fat",
          "Low Fat",
          "Low Fat",
          "Low Fat",
          "Low Fat",
          "Low Fat",
          "Low Fat",
          "Low Fat",
          "Low Fat",
          "Low Fat",
          "Low Fat",
          "Low Fat",
          "Low Fat",
          "Low Fat",
          "Low Fat",
          "Low Fat",
          "Low Fat",
          "Low Fat",
          "Low Fat",
          "Low Fat",
          "Low Fat",
          "Low Fat",
          "Low Fat",
          "Low Fat",
          "Low Fat",
          "Low Fat",
          "Low Fat",
          "Low Fat",
          "Low Fat",
          "Low Fat",
          "Low Fat",
          "Low Fat",
          "Low Fat",
          "Low Fat",
          "Low Fat",
          "Low Fat",
          "Low Fat",
          "Low Fat",
          "Low Fat",
          "Low Fat",
          "Low Fat",
          "Low Fat",
          "Low Fat",
          "Low Fat",
          "Low Fat",
          "Low Fat",
          "Low Fat",
          "Low Fat",
          "Low Fat",
          "Low Fat",
          "Low Fat",
          "Low Fat",
          "Low Fat",
          "Low Fat",
          "Low Fat",
          "Low Fat",
          "Low Fat",
          "Low Fat",
          "Low Fat",
          "Low Fat",
          "Low Fat",
          "Low Fat",
          "Low Fat",
          "Low Fat",
          "Low Fat",
          "Low Fat",
          "Low Fat",
          "Low Fat",
          "Low Fat",
          "Low Fat",
          "Low Fat",
          "Low Fat",
          "Low Fat",
          "Low Fat",
          "Low Fat",
          "Low Fat",
          "Low Fat",
          "Low Fat",
          "Low Fat",
          "Low Fat",
          "Low Fat",
          "Low Fat",
          "Low Fat",
          "Low Fat",
          "Low Fat",
          "Low Fat",
          "Low Fat",
          "Low Fat",
          "Low Fat",
          "Low Fat",
          "Low Fat",
          "Low Fat",
          "Low Fat",
          "Low Fat",
          "Low Fat",
          "Low Fat",
          "Low Fat",
          "Low Fat",
          "Low Fat",
          "Low Fat",
          "Low Fat",
          "Low Fat",
          "Low Fat",
          "Low Fat",
          "Low Fat",
          "Low Fat",
          "Low Fat",
          "Low Fat",
          "Low Fat",
          "Low Fat",
          "Low Fat",
          "Low Fat",
          "Low Fat",
          "Low Fat",
          "Low Fat",
          "Low Fat",
          "Low Fat",
          "Low Fat",
          "Low Fat",
          "Low Fat",
          "Low Fat",
          "Low Fat",
          "Low Fat",
          "Low Fat",
          "Low Fat",
          "Low Fat",
          "Low Fat",
          "Low Fat",
          "Low Fat",
          "Low Fat",
          "Low Fat",
          "Low Fat",
          "Low Fat",
          "Low Fat",
          "Low Fat",
          "Low Fat",
          "Low Fat",
          "Low Fat",
          "Low Fat",
          "Low Fat",
          "Low Fat",
          "Low Fat",
          "Low Fat",
          "Low Fat",
          "Low Fat",
          "Low Fat",
          "Low Fat",
          "Low Fat",
          "Low Fat",
          "Low Fat",
          "Low Fat",
          "Low Fat",
          "Low Fat",
          "Low Fat",
          "Low Fat",
          "Low Fat",
          "Low Fat",
          "Low Fat",
          "Low Fat",
          "Low Fat",
          "Low Fat",
          "Low Fat",
          "Low Fat",
          "Low Fat",
          "Low Fat",
          "Low Fat",
          "Low Fat",
          "Low Fat",
          "Low Fat",
          "Low Fat",
          "Low Fat",
          "Low Fat",
          "Low Fat",
          "Low Fat",
          "Low Fat",
          "Low Fat",
          "Low Fat",
          "Low Fat",
          "Low Fat",
          "Low Fat",
          "Low Fat",
          "Low Fat",
          "Low Fat",
          "Low Fat",
          "Low Fat",
          "Low Fat",
          "Low Fat",
          "Low Fat",
          "Low Fat",
          "Low Fat",
          "Low Fat",
          "Low Fat",
          "Low Fat",
          "Low Fat",
          "Low Fat",
          "Low Fat",
          "Low Fat",
          "Low Fat",
          "Low Fat",
          "Low Fat",
          "Low Fat",
          "Low Fat",
          "Low Fat",
          "Low Fat",
          "Low Fat",
          "Low Fat",
          "Low Fat",
          "Low Fat",
          "Low Fat",
          "Low Fat",
          "Low Fat",
          "Low Fat",
          "Low Fat",
          "Low Fat",
          "Low Fat",
          "Low Fat",
          "Low Fat",
          "Low Fat",
          "Low Fat",
          "Low Fat",
          "Low Fat",
          "Low Fat",
          "Low Fat",
          "Low Fat",
          "Low Fat",
          "Low Fat",
          "Low Fat",
          "Low Fat",
          "Low Fat",
          "Low Fat",
          "Low Fat",
          "Low Fat",
          "Low Fat",
          "Low Fat",
          "Low Fat",
          "Low Fat",
          "Low Fat",
          "Low Fat",
          "Low Fat",
          "Low Fat",
          "Low Fat",
          "Low Fat",
          "Low Fat",
          "Low Fat",
          "Low Fat",
          "Low Fat",
          "Low Fat",
          "Low Fat",
          "Low Fat",
          "Low Fat",
          "Low Fat",
          "Low Fat",
          "Low Fat",
          "Low Fat",
          "Low Fat",
          "Low Fat",
          "Low Fat",
          "Low Fat",
          "Low Fat",
          "Low Fat",
          "Low Fat",
          "Low Fat",
          "Low Fat",
          "Low Fat",
          "Low Fat",
          "Low Fat",
          "Low Fat",
          "Low Fat",
          "Low Fat",
          "Low Fat",
          "Low Fat",
          "Low Fat",
          "Low Fat",
          "Low Fat",
          "Low Fat",
          "Low Fat",
          "Low Fat",
          "Low Fat",
          "Low Fat",
          "Low Fat",
          "Low Fat",
          "Low Fat",
          "Low Fat",
          "Low Fat",
          "Low Fat",
          "Low Fat",
          "Low Fat",
          "Low Fat",
          "Low Fat",
          "Low Fat",
          "Low Fat",
          "Low Fat",
          "Low Fat",
          "Low Fat",
          "Low Fat",
          "Low Fat",
          "Low Fat",
          "Low Fat",
          "Low Fat",
          "Low Fat",
          "Low Fat",
          "Low Fat",
          "Low Fat",
          "Low Fat",
          "Low Fat",
          "Low Fat",
          "Low Fat",
          "Low Fat",
          "Low Fat",
          "Low Fat",
          "Low Fat",
          "Low Fat",
          "Low Fat",
          "Low Fat",
          "Low Fat",
          "Low Fat",
          "Low Fat",
          "Low Fat",
          "Low Fat",
          "Low Fat",
          "Low Fat",
          "Low Fat",
          "Low Fat",
          "Low Fat",
          "Low Fat",
          "Low Fat",
          "Low Fat",
          "Low Fat",
          "Low Fat",
          "Low Fat",
          "Low Fat",
          "Low Fat",
          "Low Fat",
          "Low Fat",
          "Low Fat",
          "Low Fat",
          "Low Fat",
          "Low Fat",
          "Low Fat",
          "Low Fat",
          "Low Fat",
          "Low Fat",
          "Low Fat",
          "Low Fat",
          "Low Fat",
          "Low Fat",
          "Low Fat",
          "Low Fat",
          "Low Fat",
          "Low Fat",
          "Low Fat",
          "Low Fat",
          "Low Fat",
          "Low Fat",
          "Low Fat",
          "Low Fat",
          "Low Fat",
          "Low Fat",
          "Low Fat",
          "Low Fat",
          "Low Fat",
          "Low Fat",
          "Low Fat",
          "Low Fat",
          "Low Fat",
          "Low Fat",
          "Low Fat",
          "Low Fat",
          "Low Fat",
          "Low Fat",
          "Low Fat",
          "Low Fat",
          "Low Fat",
          "Low Fat",
          "Low Fat",
          "Low Fat",
          "Low Fat",
          "Low Fat",
          "Low Fat",
          "Low Fat",
          "Low Fat",
          "Low Fat",
          "Low Fat",
          "Low Fat",
          "Low Fat",
          "Low Fat",
          "Low Fat",
          "Low Fat",
          "Low Fat",
          "Low Fat",
          "Low Fat",
          "Low Fat",
          "Low Fat",
          "Low Fat",
          "Low Fat",
          "Low Fat",
          "Low Fat",
          "Low Fat",
          "Low Fat",
          "Low Fat",
          "Low Fat",
          "Low Fat",
          "Low Fat",
          "Low Fat",
          "Low Fat",
          "Low Fat",
          "Low Fat",
          "Low Fat",
          "Low Fat",
          "Low Fat",
          "Low Fat",
          "Low Fat",
          "Low Fat",
          "Low Fat",
          "Low Fat",
          "Low Fat",
          "Low Fat",
          "Low Fat",
          "Low Fat",
          "Low Fat",
          "Low Fat",
          "Low Fat",
          "Low Fat",
          "Low Fat",
          "Low Fat",
          "Low Fat",
          "Low Fat",
          "Low Fat",
          "Low Fat",
          "Low Fat",
          "Low Fat",
          "Low Fat",
          "Low Fat",
          "Low Fat",
          "Low Fat",
          "Low Fat",
          "Low Fat",
          "Low Fat",
          "Low Fat",
          "Low Fat",
          "Low Fat",
          "Low Fat",
          "Low Fat",
          "Low Fat",
          "Low Fat",
          "Low Fat",
          "Low Fat",
          "Low Fat",
          "Low Fat",
          "Low Fat",
          "Low Fat",
          "Low Fat",
          "Low Fat",
          "Low Fat",
          "Low Fat",
          "Low Fat",
          "Low Fat",
          "Low Fat",
          "Low Fat",
          "Low Fat",
          "Low Fat",
          "Low Fat",
          "Low Fat",
          "Low Fat",
          "Low Fat",
          "Low Fat",
          "Low Fat",
          "Low Fat",
          "Low Fat",
          "Low Fat",
          "Low Fat",
          "Low Fat",
          "Low Fat",
          "Low Fat",
          "Low Fat",
          "Low Fat",
          "Low Fat",
          "Low Fat",
          "Low Fat",
          "Low Fat",
          "Low Fat",
          "Low Fat",
          "Low Fat",
          "Low Fat",
          "Low Fat",
          "Low Fat",
          "Low Fat",
          "Low Fat",
          "Low Fat",
          "Low Fat",
          "Low Fat",
          "Low Fat",
          "Low Fat",
          "Low Fat",
          "Low Fat",
          "Low Fat",
          "Low Fat",
          "Low Fat",
          "Low Fat",
          "Low Fat",
          "Low Fat",
          "Low Fat",
          "Low Fat",
          "Low Fat",
          "Low Fat",
          "Low Fat",
          "Low Fat",
          "Low Fat",
          "Low Fat",
          "Low Fat",
          "Low Fat",
          "Low Fat",
          "Low Fat",
          "Low Fat",
          "Low Fat",
          "Low Fat",
          "Low Fat",
          "Low Fat",
          "Low Fat",
          "Low Fat",
          "Low Fat",
          "Low Fat",
          "Low Fat",
          "Low Fat",
          "Low Fat",
          "Low Fat",
          "Low Fat",
          "Low Fat",
          "Low Fat",
          "Low Fat",
          "Low Fat",
          "Low Fat",
          "Low Fat",
          "Low Fat",
          "Low Fat",
          "Low Fat",
          "Low Fat",
          "Low Fat",
          "Low Fat",
          "Low Fat",
          "Low Fat",
          "Low Fat",
          "Low Fat",
          "Low Fat",
          "Low Fat",
          "Low Fat",
          "Low Fat",
          "Low Fat",
          "Low Fat",
          "Low Fat",
          "Low Fat",
          "Low Fat",
          "Low Fat",
          "Low Fat",
          "Low Fat",
          "Low Fat",
          "Low Fat",
          "Low Fat",
          "Low Fat",
          "Low Fat",
          "Low Fat",
          "Low Fat",
          "Low Fat",
          "Low Fat",
          "Low Fat",
          "Low Fat",
          "Low Fat",
          "Low Fat",
          "Low Fat",
          "Low Fat",
          "Low Fat",
          "Low Fat",
          "Low Fat",
          "Low Fat",
          "Low Fat",
          "Low Fat",
          "Low Fat",
          "Low Fat",
          "Low Fat",
          "Low Fat",
          "Low Fat",
          "Low Fat",
          "Low Fat",
          "Low Fat",
          "Low Fat",
          "Low Fat",
          "Low Fat",
          "Low Fat",
          "Low Fat",
          "Low Fat",
          "Low Fat",
          "Low Fat",
          "Low Fat",
          "Low Fat",
          "Low Fat",
          "Low Fat",
          "Low Fat",
          "Low Fat",
          "Low Fat",
          "Low Fat",
          "Low Fat",
          "Low Fat",
          "Low Fat",
          "Low Fat",
          "Low Fat",
          "Low Fat",
          "Low Fat",
          "Low Fat",
          "Low Fat",
          "Low Fat",
          "Low Fat",
          "Low Fat",
          "Low Fat",
          "Low Fat",
          "Low Fat",
          "Low Fat",
          "Low Fat",
          "Low Fat",
          "Low Fat",
          "Low Fat",
          "Low Fat",
          "Low Fat",
          "Low Fat",
          "Low Fat",
          "Low Fat",
          "Low Fat",
          "Low Fat",
          "Low Fat",
          "Low Fat",
          "Low Fat",
          "Low Fat",
          "Low Fat",
          "Low Fat",
          "Low Fat",
          "Low Fat",
          "Low Fat",
          "Low Fat",
          "Low Fat",
          "Low Fat",
          "Low Fat",
          "Low Fat",
          "Low Fat",
          "Low Fat",
          "Low Fat",
          "Low Fat",
          "Low Fat",
          "Low Fat",
          "Low Fat",
          "Low Fat",
          "Low Fat",
          "Low Fat",
          "Low Fat",
          "Low Fat",
          "Low Fat",
          "Low Fat",
          "Low Fat",
          "Low Fat",
          "Low Fat",
          "Low Fat",
          "Low Fat",
          "Low Fat",
          "Low Fat",
          "Low Fat",
          "Low Fat",
          "Low Fat",
          "Low Fat",
          "Low Fat",
          "Low Fat",
          "Low Fat",
          "Low Fat",
          "Low Fat",
          "Low Fat",
          "Low Fat",
          "Low Fat",
          "Low Fat",
          "Low Fat",
          "Low Fat",
          "Low Fat",
          "Low Fat",
          "Low Fat",
          "Low Fat",
          "Low Fat",
          "Low Fat",
          "Low Fat",
          "Low Fat",
          "Low Fat",
          "Low Fat",
          "Low Fat",
          "Low Fat",
          "Low Fat",
          "Low Fat",
          "Low Fat",
          "Low Fat",
          "Low Fat",
          "Low Fat",
          "Low Fat",
          "Low Fat",
          "Low Fat",
          "Low Fat",
          "Low Fat",
          "Low Fat",
          "Low Fat",
          "Low Fat",
          "Low Fat",
          "Low Fat",
          "Low Fat",
          "Low Fat",
          "Low Fat",
          "Low Fat",
          "Low Fat",
          "Low Fat",
          "Low Fat",
          "Low Fat",
          "Low Fat",
          "Low Fat",
          "Low Fat",
          "Low Fat",
          "Low Fat",
          "Low Fat",
          "Low Fat",
          "Low Fat",
          "Low Fat",
          "Low Fat",
          "Low Fat",
          "Low Fat",
          "Low Fat",
          "Low Fat",
          "Low Fat",
          "Low Fat",
          "Low Fat",
          "Low Fat",
          "Low Fat",
          "Low Fat",
          "Low Fat",
          "Low Fat",
          "Low Fat",
          "Low Fat",
          "Low Fat",
          "Low Fat",
          "Low Fat",
          "Low Fat",
          "Low Fat",
          "Low Fat",
          "Low Fat",
          "Low Fat",
          "Low Fat",
          "Low Fat",
          "Low Fat",
          "Low Fat",
          "Low Fat",
          "Low Fat",
          "Low Fat",
          "Low Fat",
          "Low Fat",
          "Low Fat",
          "Low Fat",
          "Low Fat",
          "Low Fat",
          "Low Fat",
          "Low Fat",
          "Low Fat",
          "Low Fat",
          "Low Fat",
          "Low Fat",
          "Low Fat",
          "Low Fat",
          "Low Fat",
          "Low Fat",
          "Low Fat",
          "Low Fat",
          "Low Fat",
          "Low Fat",
          "Low Fat",
          "Low Fat",
          "Low Fat",
          "Low Fat",
          "Low Fat",
          "Low Fat",
          "Low Fat",
          "Low Fat",
          "Low Fat",
          "Low Fat",
          "Low Fat",
          "Low Fat",
          "Low Fat",
          "Low Fat",
          "Low Fat",
          "Low Fat",
          "Low Fat",
          "Low Fat",
          "Low Fat",
          "Low Fat",
          "Low Fat",
          "Low Fat",
          "Low Fat",
          "Low Fat",
          "Low Fat",
          "Low Fat",
          "Low Fat",
          "Low Fat",
          "Low Fat",
          "Low Fat",
          "Low Fat",
          "Low Fat",
          "Low Fat",
          "Low Fat",
          "Low Fat",
          "Low Fat",
          "Low Fat",
          "Low Fat",
          "Low Fat",
          "Low Fat",
          "Low Fat",
          "Low Fat",
          "Low Fat",
          "Low Fat",
          "Low Fat",
          "Low Fat",
          "Low Fat",
          "Low Fat",
          "Low Fat",
          "Low Fat",
          "Low Fat",
          "Low Fat",
          "Low Fat",
          "Low Fat",
          "Low Fat",
          "Low Fat",
          "Low Fat",
          "Low Fat",
          "Low Fat",
          "Low Fat",
          "Low Fat",
          "Low Fat",
          "Low Fat",
          "Low Fat",
          "Low Fat",
          "Low Fat",
          "Low Fat",
          "Low Fat",
          "Low Fat",
          "Low Fat",
          "Low Fat",
          "Low Fat",
          "Low Fat",
          "Low Fat",
          "Low Fat",
          "Low Fat",
          "Low Fat",
          "Low Fat",
          "Low Fat",
          "Low Fat",
          "Low Fat",
          "Low Fat",
          "Low Fat",
          "Low Fat",
          "Low Fat",
          "Low Fat",
          "Low Fat",
          "Low Fat",
          "Low Fat",
          "Low Fat",
          "Low Fat",
          "Low Fat",
          "Low Fat",
          "Low Fat",
          "Low Fat",
          "Low Fat",
          "Low Fat",
          "Low Fat",
          "Low Fat",
          "Low Fat",
          "Low Fat",
          "Low Fat",
          "Low Fat",
          "Low Fat",
          "Low Fat",
          "Low Fat",
          "Low Fat",
          "Low Fat",
          "Low Fat",
          "Low Fat",
          "Low Fat",
          "Low Fat",
          "Low Fat",
          "Low Fat",
          "Low Fat",
          "Low Fat",
          "Low Fat",
          "Low Fat",
          "Low Fat",
          "Low Fat",
          "Low Fat",
          "Low Fat",
          "Low Fat",
          "Low Fat",
          "Low Fat",
          "Low Fat",
          "Low Fat",
          "Low Fat",
          "Low Fat",
          "Low Fat",
          "Low Fat",
          "Low Fat",
          "Low Fat",
          "Low Fat",
          "Low Fat",
          "Low Fat",
          "Low Fat",
          "Low Fat",
          "Low Fat",
          "Low Fat",
          "Low Fat",
          "Low Fat",
          "Low Fat",
          "Low Fat",
          "Low Fat",
          "Low Fat",
          "Low Fat",
          "Low Fat",
          "Low Fat",
          "Low Fat",
          "Low Fat",
          "Low Fat",
          "Low Fat",
          "Low Fat",
          "Low Fat",
          "Low Fat",
          "Low Fat",
          "Low Fat",
          "Low Fat",
          "Low Fat",
          "Low Fat",
          "Low Fat",
          "Low Fat",
          "Low Fat",
          "Low Fat",
          "Low Fat",
          "Low Fat",
          "Low Fat",
          "Low Fat",
          "Low Fat",
          "Low Fat",
          "Low Fat",
          "Low Fat",
          "Low Fat",
          "Low Fat",
          "Low Fat",
          "Low Fat",
          "Low Fat",
          "Low Fat",
          "Low Fat",
          "Low Fat",
          "Low Fat",
          "Low Fat",
          "Low Fat",
          "Low Fat",
          "Low Fat",
          "Low Fat",
          "Low Fat",
          "Low Fat",
          "Low Fat",
          "Low Fat",
          "Low Fat",
          "Low Fat",
          "Low Fat",
          "Low Fat",
          "Low Fat",
          "Low Fat",
          "Low Fat",
          "Low Fat",
          "Low Fat",
          "Low Fat",
          "Low Fat",
          "Low Fat",
          "Low Fat",
          "Low Fat",
          "Low Fat",
          "Low Fat",
          "Low Fat",
          "Low Fat",
          "Low Fat",
          "Low Fat",
          "Low Fat",
          "Low Fat",
          "Low Fat",
          "Low Fat",
          "Low Fat",
          "Low Fat",
          "Low Fat",
          "Low Fat",
          "Low Fat",
          "Low Fat",
          "Low Fat",
          "Low Fat",
          "Low Fat",
          "Low Fat",
          "Low Fat",
          "Low Fat",
          "Low Fat",
          "Low Fat",
          "Low Fat",
          "Low Fat",
          "Low Fat",
          "Low Fat",
          "Low Fat",
          "Low Fat",
          "Low Fat",
          "Low Fat",
          "Low Fat",
          "Low Fat",
          "Low Fat",
          "Low Fat",
          "Low Fat",
          "Low Fat",
          "Low Fat",
          "Low Fat",
          "Low Fat",
          "Low Fat",
          "Low Fat",
          "Low Fat",
          "Low Fat",
          "Low Fat",
          "Low Fat",
          "Low Fat",
          "Low Fat",
          "Low Fat",
          "Low Fat",
          "Low Fat",
          "Low Fat",
          "Low Fat",
          "Low Fat",
          "Low Fat",
          "Low Fat",
          "Low Fat",
          "Low Fat",
          "Low Fat",
          "Low Fat",
          "Low Fat",
          "Low Fat",
          "Low Fat",
          "Low Fat",
          "Low Fat",
          "Low Fat",
          "Low Fat",
          "Low Fat",
          "Low Fat",
          "Low Fat",
          "Low Fat",
          "Low Fat",
          "Low Fat",
          "Low Fat",
          "Low Fat",
          "Low Fat",
          "Low Fat",
          "Low Fat",
          "Low Fat",
          "Low Fat",
          "Low Fat",
          "Low Fat",
          "Low Fat",
          "Low Fat",
          "Low Fat",
          "Low Fat",
          "Low Fat",
          "Low Fat",
          "Low Fat",
          "Low Fat",
          "Low Fat",
          "Low Fat",
          "Low Fat",
          "Low Fat",
          "Low Fat",
          "Low Fat",
          "Low Fat",
          "Low Fat",
          "Low Fat",
          "Low Fat",
          "Low Fat",
          "Low Fat",
          "Low Fat",
          "Low Fat",
          "Low Fat",
          "Low Fat",
          "Low Fat",
          "Low Fat",
          "Low Fat",
          "Low Fat",
          "Low Fat",
          "Low Fat",
          "Low Fat",
          "Low Fat",
          "Low Fat",
          "Low Fat",
          "Low Fat",
          "Low Fat",
          "Low Fat",
          "Low Fat",
          "Low Fat",
          "Low Fat",
          "Low Fat",
          "Low Fat",
          "Low Fat",
          "Low Fat",
          "Low Fat",
          "Low Fat",
          "Low Fat",
          "Low Fat",
          "Low Fat",
          "Low Fat",
          "Low Fat",
          "Low Fat",
          "Low Fat",
          "Low Fat",
          "Low Fat",
          "Low Fat",
          "Low Fat",
          "Low Fat",
          "Low Fat",
          "Low Fat",
          "Low Fat",
          "Low Fat",
          "Low Fat",
          "Low Fat",
          "Low Fat",
          "Low Fat",
          "Low Fat",
          "Low Fat",
          "Low Fat",
          "Low Fat",
          "Low Fat",
          "Low Fat",
          "Low Fat",
          "Low Fat",
          "Low Fat",
          "Low Fat",
          "Low Fat",
          "Low Fat",
          "Low Fat",
          "Low Fat",
          "Low Fat",
          "Low Fat",
          "Low Fat",
          "Low Fat",
          "Low Fat",
          "Low Fat",
          "Low Fat",
          "Low Fat",
          "Low Fat",
          "Low Fat",
          "Low Fat",
          "Low Fat",
          "Low Fat",
          "Low Fat",
          "Low Fat",
          "Low Fat",
          "Low Fat",
          "Low Fat",
          "Low Fat",
          "Low Fat",
          "Low Fat",
          "Low Fat",
          "Low Fat",
          "Low Fat",
          "Low Fat",
          "Low Fat",
          "Low Fat",
          "Low Fat",
          "Low Fat",
          "Low Fat",
          "Low Fat",
          "Low Fat",
          "Low Fat",
          "Low Fat",
          "Low Fat",
          "Low Fat",
          "Low Fat",
          "Low Fat",
          "Low Fat",
          "Low Fat",
          "Low Fat",
          "Low Fat",
          "Low Fat",
          "Low Fat",
          "Low Fat",
          "Low Fat",
          "Low Fat",
          "Low Fat",
          "Low Fat",
          "Low Fat",
          "Low Fat",
          "Low Fat",
          "Low Fat",
          "Low Fat",
          "Low Fat",
          "Low Fat",
          "Low Fat",
          "Low Fat",
          "Low Fat",
          "Low Fat",
          "Low Fat",
          "Low Fat",
          "Low Fat",
          "Low Fat",
          "Low Fat",
          "Low Fat",
          "Low Fat",
          "Low Fat",
          "Low Fat",
          "Low Fat",
          "Low Fat",
          "Low Fat",
          "Low Fat",
          "Low Fat",
          "Low Fat",
          "Low Fat",
          "Low Fat",
          "Low Fat",
          "Low Fat",
          "Low Fat",
          "Low Fat",
          "Low Fat",
          "Low Fat",
          "Low Fat",
          "Low Fat",
          "Low Fat",
          "Low Fat",
          "Low Fat",
          "Low Fat",
          "Low Fat",
          "Low Fat",
          "Low Fat",
          "Low Fat",
          "Low Fat",
          "Low Fat",
          "Low Fat",
          "Low Fat",
          "Low Fat",
          "Low Fat",
          "Low Fat",
          "Low Fat",
          "Low Fat",
          "Low Fat",
          "Low Fat",
          "Low Fat",
          "Low Fat",
          "Low Fat",
          "Low Fat",
          "Low Fat",
          "Low Fat",
          "Low Fat",
          "Low Fat",
          "Low Fat",
          "Low Fat",
          "Low Fat",
          "Low Fat",
          "Low Fat",
          "Low Fat",
          "Low Fat",
          "Low Fat",
          "Low Fat",
          "Low Fat",
          "Low Fat",
          "Low Fat",
          "Low Fat",
          "Low Fat",
          "Low Fat",
          "Low Fat",
          "Low Fat",
          "Low Fat",
          "Low Fat",
          "Low Fat",
          "Low Fat",
          "Low Fat",
          "Low Fat",
          "Low Fat",
          "Low Fat",
          "Low Fat",
          "Low Fat",
          "Low Fat",
          "Low Fat",
          "Low Fat",
          "Low Fat",
          "Low Fat",
          "Low Fat",
          "Low Fat",
          "Low Fat",
          "Low Fat",
          "Low Fat",
          "Low Fat",
          "Low Fat",
          "Low Fat",
          "Low Fat",
          "Low Fat",
          "Low Fat",
          "Low Fat",
          "Low Fat",
          "Low Fat",
          "Low Fat",
          "Low Fat",
          "Low Fat",
          "Low Fat",
          "Low Fat",
          "Low Fat",
          "Low Fat",
          "Low Fat",
          "Low Fat",
          "Low Fat",
          "Low Fat",
          "Low Fat",
          "Low Fat",
          "Low Fat",
          "Low Fat",
          "Low Fat",
          "Low Fat",
          "Low Fat",
          "Low Fat",
          "Low Fat",
          "Low Fat",
          "Low Fat",
          "Low Fat",
          "Low Fat",
          "Low Fat",
          "Low Fat",
          "Low Fat",
          "Low Fat",
          "Low Fat",
          "Low Fat",
          "Low Fat",
          "Low Fat",
          "Low Fat",
          "Low Fat",
          "Low Fat",
          "Low Fat",
          "Low Fat",
          "Low Fat",
          "Low Fat",
          "Low Fat",
          "Low Fat",
          "Low Fat",
          "Low Fat",
          "Low Fat",
          "Low Fat",
          "Low Fat",
          "Low Fat",
          "Low Fat",
          "Low Fat",
          "Low Fat",
          "Low Fat",
          "Low Fat",
          "Low Fat",
          "Low Fat",
          "Low Fat",
          "Low Fat",
          "Low Fat",
          "Low Fat",
          "Low Fat",
          "Low Fat",
          "Low Fat",
          "Low Fat",
          "Low Fat",
          "Low Fat",
          "Low Fat",
          "Low Fat",
          "Low Fat",
          "Low Fat",
          "Low Fat",
          "Low Fat",
          "Low Fat",
          "Low Fat",
          "Low Fat",
          "Low Fat",
          "Low Fat",
          "Low Fat",
          "Low Fat",
          "Low Fat",
          "Low Fat",
          "Low Fat",
          "Low Fat",
          "Low Fat",
          "Low Fat",
          "Low Fat",
          "Low Fat",
          "Low Fat",
          "Low Fat",
          "Low Fat",
          "Low Fat",
          "Low Fat",
          "Low Fat",
          "Low Fat",
          "Low Fat",
          "Low Fat",
          "Low Fat",
          "Low Fat",
          "Low Fat",
          "Low Fat",
          "Low Fat",
          "Low Fat",
          "Low Fat",
          "Low Fat",
          "Low Fat",
          "Low Fat",
          "Low Fat",
          "Low Fat",
          "Low Fat",
          "Low Fat",
          "Low Fat",
          "Low Fat",
          "Low Fat",
          "Low Fat",
          "Low Fat",
          "Low Fat",
          "Low Fat",
          "Low Fat",
          "Low Fat",
          "Low Fat",
          "Low Fat",
          "Low Fat",
          "Low Fat",
          "Low Fat",
          "Low Fat",
          "Low Fat",
          "Low Fat",
          "Low Fat",
          "Low Fat",
          "Low Fat",
          "Low Fat",
          "Low Fat",
          "Low Fat",
          "Low Fat",
          "Low Fat",
          "Low Fat",
          "Low Fat",
          "Low Fat",
          "Low Fat",
          "Low Fat",
          "Low Fat",
          "Low Fat",
          "Low Fat",
          "Low Fat",
          "Low Fat",
          "Low Fat",
          "Low Fat",
          "Low Fat",
          "Low Fat",
          "Low Fat",
          "Low Fat",
          "Low Fat",
          "Low Fat",
          "Low Fat",
          "Low Fat",
          "Low Fat",
          "Low Fat",
          "Low Fat",
          "Low Fat",
          "Low Fat",
          "Low Fat",
          "Low Fat",
          "Low Fat",
          "Low Fat",
          "Low Fat",
          "Low Fat",
          "Low Fat",
          "Low Fat",
          "Low Fat",
          "Low Fat",
          "Low Fat",
          "Low Fat",
          "Low Fat",
          "Low Fat",
          "Low Fat",
          "Low Fat",
          "Low Fat",
          "Low Fat",
          "Low Fat",
          "Low Fat",
          "Low Fat",
          "Low Fat",
          "Low Fat",
          "Low Fat",
          "Low Fat",
          "Low Fat",
          "Low Fat",
          "Low Fat",
          "Low Fat",
          "Low Fat",
          "Low Fat",
          "Low Fat",
          "Low Fat",
          "Low Fat",
          "Low Fat",
          "Low Fat",
          "Low Fat",
          "Low Fat",
          "Low Fat",
          "Low Fat",
          "Low Fat",
          "Low Fat",
          "Low Fat",
          "Low Fat",
          "Low Fat",
          "Low Fat",
          "Low Fat",
          "Low Fat",
          "Low Fat",
          "Low Fat",
          "Low Fat",
          "Low Fat",
          "Low Fat",
          "Low Fat",
          "Low Fat",
          "Low Fat",
          "Low Fat",
          "Low Fat",
          "Low Fat",
          "Low Fat",
          "Low Fat",
          "Low Fat",
          "Low Fat",
          "Low Fat",
          "Low Fat",
          "Low Fat",
          "Low Fat",
          "Low Fat",
          "Low Fat",
          "Low Fat",
          "Low Fat",
          "Low Fat",
          "Low Fat",
          "Low Fat",
          "Low Fat",
          "Low Fat",
          "Low Fat",
          "Low Fat",
          "Low Fat",
          "Low Fat",
          "Low Fat",
          "Low Fat",
          "Low Fat",
          "Low Fat",
          "Low Fat",
          "Low Fat",
          "Low Fat",
          "Low Fat",
          "Low Fat",
          "Low Fat",
          "Low Fat",
          "Low Fat",
          "Low Fat",
          "Low Fat",
          "Low Fat",
          "Low Fat",
          "Low Fat",
          "Low Fat",
          "Low Fat",
          "Low Fat",
          "Low Fat",
          "Low Fat",
          "Low Fat",
          "Low Fat",
          "Low Fat",
          "Low Fat",
          "Low Fat",
          "Low Fat",
          "Low Fat",
          "Low Fat",
          "Low Fat",
          "Low Fat",
          "Low Fat",
          "Low Fat",
          "Low Fat",
          "Low Fat",
          "Low Fat",
          "Low Fat",
          "Low Fat",
          "Low Fat",
          "Low Fat",
          "Low Fat",
          "Low Fat",
          "Low Fat",
          "Low Fat",
          "Low Fat",
          "Low Fat",
          "Low Fat",
          "Low Fat",
          "Low Fat",
          "Low Fat",
          "Low Fat",
          "Low Fat",
          "Low Fat",
          "Low Fat",
          "Low Fat",
          "Low Fat",
          "Low Fat",
          "Low Fat",
          "Low Fat",
          "Low Fat",
          "Low Fat",
          "Low Fat",
          "Low Fat",
          "Low Fat",
          "Low Fat",
          "Low Fat",
          "Low Fat",
          "Low Fat",
          "Low Fat",
          "Low Fat",
          "Low Fat",
          "Low Fat",
          "Low Fat",
          "Low Fat",
          "Low Fat",
          "Low Fat",
          "Low Fat",
          "Low Fat",
          "Low Fat",
          "Low Fat",
          "Low Fat",
          "Low Fat",
          "Low Fat",
          "Low Fat",
          "Low Fat",
          "Low Fat",
          "Low Fat",
          "Low Fat",
          "Low Fat",
          "Low Fat",
          "Low Fat",
          "Low Fat",
          "Low Fat",
          "Low Fat",
          "Low Fat",
          "Low Fat",
          "Low Fat",
          "Low Fat",
          "Low Fat",
          "Low Fat",
          "Low Fat",
          "Low Fat",
          "Low Fat",
          "Low Fat",
          "Low Fat",
          "Low Fat",
          "Low Fat",
          "Low Fat",
          "Low Fat",
          "Low Fat",
          "Low Fat",
          "Low Fat",
          "Low Fat",
          "Low Fat",
          "Low Fat",
          "Low Fat",
          "Low Fat",
          "Low Fat",
          "Low Fat",
          "Low Fat",
          "Low Fat",
          "Low Fat",
          "Low Fat",
          "Low Fat",
          "Low Fat",
          "Low Fat",
          "Low Fat",
          "Low Fat",
          "Low Fat",
          "Low Fat",
          "Low Fat",
          "Low Fat",
          "Low Fat",
          "Low Fat",
          "Low Fat",
          "Low Fat",
          "Low Fat",
          "Low Fat",
          "Low Fat",
          "Low Fat",
          "Low Fat",
          "Low Fat",
          "Low Fat",
          "Low Fat",
          "Low Fat",
          "Low Fat",
          "Low Fat",
          "Low Fat",
          "Low Fat",
          "Low Fat",
          "Low Fat",
          "Low Fat",
          "Low Fat",
          "Low Fat",
          "Low Fat",
          "Low Fat",
          "Low Fat",
          "Low Fat",
          "Low Fat",
          "Low Fat",
          "Low Fat",
          "Low Fat",
          "Low Fat",
          "Low Fat",
          "Low Fat",
          "Low Fat",
          "Low Fat",
          "Low Fat",
          "Low Fat",
          "Low Fat",
          "Low Fat",
          "Low Fat",
          "Low Fat",
          "Low Fat",
          "Low Fat",
          "Low Fat",
          "Low Fat",
          "Low Fat",
          "Low Fat",
          "Low Fat",
          "Low Fat",
          "Low Fat",
          "Low Fat",
          "Low Fat",
          "Low Fat",
          "Low Fat",
          "Low Fat",
          "Low Fat",
          "Low Fat",
          "Low Fat",
          "Low Fat",
          "Low Fat",
          "Low Fat",
          "Low Fat",
          "Low Fat",
          "Low Fat",
          "Low Fat",
          "Low Fat",
          "Low Fat",
          "Low Fat",
          "Low Fat",
          "Low Fat",
          "Low Fat",
          "Low Fat",
          "Low Fat",
          "Low Fat",
          "Low Fat",
          "Low Fat",
          "Low Fat",
          "Low Fat",
          "Low Fat",
          "Low Fat",
          "Low Fat",
          "Low Fat",
          "Low Fat",
          "Low Fat",
          "Low Fat",
          "Low Fat",
          "Low Fat",
          "Low Fat",
          "Low Fat",
          "Low Fat",
          "Low Fat",
          "Low Fat",
          "Low Fat",
          "Low Fat",
          "Low Fat",
          "Low Fat",
          "Low Fat",
          "Low Fat",
          "Low Fat",
          "Low Fat",
          "Low Fat",
          "Low Fat",
          "Low Fat",
          "Low Fat",
          "Low Fat",
          "Low Fat",
          "Low Fat",
          "Low Fat",
          "Low Fat",
          "Low Fat",
          "Low Fat",
          "Low Fat",
          "Low Fat",
          "Low Fat",
          "Low Fat",
          "Low Fat",
          "Low Fat",
          "Low Fat",
          "Low Fat",
          "Low Fat",
          "Low Fat",
          "Low Fat",
          "Low Fat",
          "Low Fat",
          "Low Fat",
          "Low Fat",
          "Low Fat",
          "Low Fat",
          "Low Fat",
          "Low Fat",
          "Low Fat",
          "Low Fat",
          "Low Fat",
          "Low Fat",
          "Low Fat",
          "Low Fat",
          "Low Fat",
          "Low Fat",
          "Low Fat",
          "Low Fat",
          "Low Fat",
          "Low Fat",
          "Low Fat",
          "Low Fat",
          "Low Fat",
          "Low Fat",
          "Low Fat",
          "Low Fat",
          "Low Fat",
          "Low Fat",
          "Low Fat",
          "Low Fat",
          "Low Fat",
          "Low Fat",
          "Low Fat",
          "Low Fat",
          "Low Fat",
          "Low Fat",
          "Low Fat",
          "Low Fat",
          "Low Fat",
          "Low Fat",
          "Low Fat",
          "Low Fat",
          "Low Fat",
          "Low Fat",
          "Low Fat",
          "Low Fat",
          "Low Fat",
          "Low Fat",
          "Low Fat",
          "Low Fat",
          "Low Fat",
          "Low Fat",
          "Low Fat",
          "Low Fat",
          "Low Fat",
          "Low Fat",
          "Low Fat",
          "Low Fat",
          "Low Fat",
          "Low Fat",
          "Low Fat",
          "Low Fat",
          "Low Fat",
          "Low Fat",
          "Low Fat",
          "Low Fat",
          "Low Fat",
          "Low Fat",
          "Low Fat",
          "Low Fat",
          "Low Fat",
          "Low Fat",
          "Low Fat",
          "Low Fat",
          "Low Fat",
          "Low Fat",
          "Low Fat",
          "Low Fat",
          "Low Fat",
          "Low Fat",
          "Low Fat",
          "Low Fat",
          "Low Fat",
          "Low Fat",
          "Low Fat",
          "Low Fat",
          "Low Fat",
          "Low Fat",
          "Low Fat",
          "Low Fat",
          "Low Fat",
          "Low Fat",
          "Low Fat",
          "Low Fat",
          "Low Fat",
          "Low Fat",
          "Low Fat",
          "Low Fat",
          "Low Fat",
          "Low Fat",
          "Low Fat",
          "Low Fat",
          "Low Fat",
          "Low Fat",
          "Low Fat",
          "Low Fat",
          "Low Fat",
          "Low Fat",
          "Low Fat",
          "Low Fat",
          "Low Fat",
          "Low Fat",
          "Low Fat",
          "Low Fat",
          "Low Fat",
          "Low Fat",
          "Low Fat",
          "Low Fat",
          "Low Fat",
          "Low Fat",
          "Low Fat",
          "Low Fat",
          "Low Fat",
          "Low Fat",
          "Low Fat",
          "Low Fat",
          "Low Fat",
          "Low Fat",
          "Low Fat",
          "Low Fat",
          "Low Fat",
          "Low Fat",
          "Low Fat",
          "Low Fat",
          "Low Fat",
          "Low Fat",
          "Low Fat",
          "Low Fat",
          "Low Fat",
          "Low Fat",
          "Low Fat",
          "Low Fat",
          "Low Fat",
          "Low Fat",
          "Low Fat",
          "Low Fat",
          "Low Fat",
          "Low Fat",
          "Low Fat",
          "Low Fat",
          "Low Fat",
          "Low Fat",
          "Low Fat",
          "Low Fat",
          "Low Fat",
          "Low Fat",
          "Low Fat",
          "Low Fat",
          "Low Fat",
          "Low Fat",
          "Low Fat",
          "Low Fat",
          "Low Fat",
          "Low Fat",
          "Low Fat",
          "Low Fat",
          "Low Fat",
          "Low Fat",
          "Low Fat",
          "Low Fat",
          "Low Fat",
          "Low Fat",
          "Low Fat",
          "Low Fat",
          "Low Fat",
          "Low Fat",
          "Low Fat",
          "Low Fat",
          "Low Fat",
          "Low Fat",
          "Low Fat",
          "Low Fat",
          "Low Fat",
          "Low Fat",
          "Low Fat",
          "Low Fat",
          "Low Fat",
          "Low Fat",
          "Low Fat",
          "Low Fat",
          "Low Fat",
          "Low Fat",
          "Low Fat",
          "Low Fat",
          "Low Fat",
          "Low Fat",
          "Low Fat",
          "Low Fat",
          "Low Fat",
          "Low Fat",
          "Low Fat",
          "Low Fat",
          "Low Fat",
          "Low Fat",
          "Low Fat",
          "Low Fat",
          "Low Fat",
          "Low Fat",
          "Low Fat",
          "Low Fat",
          "Low Fat",
          "Low Fat",
          "Low Fat",
          "Low Fat",
          "Low Fat",
          "Low Fat",
          "Low Fat",
          "Low Fat",
          "Low Fat",
          "Low Fat",
          "Low Fat",
          "Low Fat",
          "Low Fat",
          "Low Fat",
          "Low Fat",
          "Low Fat",
          "Low Fat",
          "Low Fat",
          "Low Fat",
          "Low Fat",
          "Low Fat",
          "Low Fat",
          "Low Fat",
          "Low Fat",
          "Low Fat",
          "Low Fat",
          "Low Fat",
          "Low Fat",
          "Low Fat",
          "Low Fat",
          "Low Fat",
          "Low Fat",
          "Low Fat",
          "Low Fat",
          "Low Fat",
          "Low Fat",
          "Low Fat",
          "Low Fat",
          "Low Fat",
          "Low Fat",
          "Low Fat",
          "Low Fat",
          "Low Fat",
          "Low Fat",
          "Low Fat",
          "Low Fat",
          "Low Fat",
          "Low Fat",
          "Low Fat",
          "Low Fat",
          "Low Fat",
          "Low Fat",
          "Low Fat",
          "Low Fat",
          "Low Fat",
          "Low Fat",
          "Low Fat",
          "Low Fat",
          "Low Fat",
          "Low Fat",
          "Low Fat",
          "Low Fat",
          "Low Fat",
          "Low Fat",
          "Low Fat",
          "Low Fat",
          "Low Fat",
          "Low Fat",
          "Low Fat",
          "Low Fat",
          "Low Fat",
          "Low Fat",
          "Low Fat",
          "Low Fat",
          "Low Fat",
          "Low Fat",
          "Low Fat",
          "Low Fat",
          "Low Fat",
          "Low Fat",
          "Low Fat",
          "Low Fat",
          "Low Fat",
          "Low Fat",
          "Low Fat",
          "Low Fat",
          "Low Fat",
          "Low Fat",
          "Low Fat",
          "Low Fat",
          "Low Fat",
          "Low Fat",
          "Low Fat",
          "Low Fat",
          "Low Fat",
          "Low Fat",
          "Low Fat",
          "Low Fat",
          "Low Fat",
          "Low Fat",
          "Low Fat",
          "Low Fat",
          "Low Fat",
          "Low Fat",
          "Low Fat",
          "Low Fat",
          "Low Fat",
          "Low Fat",
          "Low Fat",
          "Low Fat",
          "Low Fat",
          "Low Fat",
          "Low Fat",
          "Low Fat",
          "Low Fat",
          "Low Fat",
          "Low Fat",
          "Low Fat",
          "Low Fat",
          "Low Fat",
          "Low Fat",
          "Low Fat",
          "Low Fat",
          "Low Fat",
          "Low Fat",
          "Low Fat",
          "Low Fat",
          "Low Fat",
          "Low Fat",
          "Low Fat",
          "Low Fat",
          "Low Fat",
          "Low Fat",
          "Low Fat",
          "Low Fat",
          "Low Fat",
          "Low Fat",
          "Low Fat",
          "Low Fat",
          "Low Fat",
          "Low Fat",
          "Low Fat",
          "Low Fat",
          "Low Fat",
          "Low Fat",
          "Low Fat",
          "Low Fat",
          "Low Fat",
          "Low Fat",
          "Low Fat",
          "Low Fat",
          "Low Fat",
          "Low Fat",
          "Low Fat",
          "Low Fat",
          "Low Fat",
          "Low Fat",
          "Low Fat",
          "Low Fat",
          "Low Fat",
          "Low Fat",
          "Low Fat",
          "Low Fat",
          "Low Fat",
          "Low Fat",
          "Low Fat",
          "Low Fat",
          "Low Fat",
          "Low Fat",
          "Low Fat",
          "Low Fat",
          "Low Fat",
          "Low Fat",
          "Low Fat",
          "Low Fat",
          "Low Fat",
          "Low Fat",
          "Low Fat",
          "Low Fat",
          "Low Fat",
          "Low Fat",
          "Low Fat",
          "Low Fat",
          "Low Fat",
          "Low Fat",
          "Low Fat",
          "Low Fat",
          "Low Fat",
          "Low Fat",
          "Low Fat",
          "Low Fat",
          "Low Fat",
          "Low Fat",
          "Low Fat",
          "Low Fat",
          "Low Fat",
          "Low Fat",
          "Low Fat",
          "Low Fat",
          "Low Fat",
          "Low Fat",
          "Low Fat",
          "Low Fat",
          "Low Fat",
          "Low Fat",
          "Low Fat",
          "Low Fat",
          "Low Fat",
          "Low Fat",
          "Low Fat",
          "Low Fat",
          "Low Fat",
          "Low Fat",
          "Low Fat",
          "Low Fat",
          "Low Fat",
          "Low Fat",
          "Low Fat",
          "Low Fat",
          "Low Fat",
          "Low Fat",
          "Low Fat",
          "Low Fat",
          "Low Fat",
          "Low Fat",
          "Low Fat",
          "Low Fat",
          "Low Fat",
          "Low Fat",
          "Low Fat",
          "Low Fat",
          "Low Fat",
          "Low Fat",
          "Low Fat",
          "Low Fat",
          "Low Fat",
          "Low Fat",
          "Low Fat",
          "Low Fat",
          "Low Fat",
          "Low Fat",
          "Low Fat",
          "Low Fat",
          "Low Fat",
          "Low Fat",
          "Low Fat",
          "Low Fat",
          "Low Fat",
          "Low Fat",
          "Low Fat",
          "Low Fat",
          "Low Fat",
          "Low Fat",
          "Low Fat",
          "Low Fat",
          "Low Fat",
          "Low Fat",
          "Low Fat",
          "Low Fat",
          "Low Fat",
          "Low Fat",
          "Low Fat",
          "Low Fat",
          "Low Fat",
          "Low Fat",
          "Low Fat",
          "Low Fat",
          "Low Fat",
          "Low Fat",
          "Low Fat",
          "Low Fat",
          "Low Fat",
          "Low Fat",
          "Low Fat",
          "Low Fat",
          "Low Fat",
          "Low Fat",
          "Low Fat",
          "Low Fat",
          "Low Fat",
          "Low Fat",
          "Low Fat",
          "Low Fat",
          "Low Fat",
          "Low Fat",
          "Low Fat",
          "Low Fat",
          "Low Fat",
          "Low Fat",
          "Low Fat",
          "Low Fat",
          "Low Fat",
          "Low Fat",
          "Low Fat",
          "Low Fat",
          "Low Fat",
          "Low Fat",
          "Low Fat",
          "Low Fat",
          "Low Fat",
          "Low Fat",
          "Low Fat",
          "Low Fat",
          "Low Fat",
          "Low Fat",
          "Low Fat",
          "Low Fat",
          "Low Fat",
          "Low Fat",
          "Low Fat",
          "Low Fat",
          "Low Fat",
          "Low Fat",
          "Low Fat",
          "Low Fat",
          "Low Fat",
          "Low Fat",
          "Low Fat",
          "Low Fat",
          "Low Fat",
          "Low Fat",
          "Low Fat",
          "Low Fat",
          "Low Fat",
          "Low Fat",
          "Low Fat",
          "Low Fat",
          "Low Fat",
          "Low Fat",
          "Low Fat",
          "Low Fat",
          "Low Fat",
          "Low Fat",
          "Low Fat",
          "Low Fat",
          "Low Fat",
          "Low Fat",
          "Low Fat",
          "Low Fat",
          "Low Fat",
          "Low Fat",
          "Low Fat",
          "Low Fat",
          "Low Fat",
          "Low Fat",
          "Low Fat",
          "Low Fat",
          "Low Fat",
          "Low Fat",
          "Low Fat",
          "Low Fat",
          "Low Fat",
          "Low Fat",
          "Low Fat",
          "Low Fat",
          "Low Fat",
          "Low Fat",
          "Low Fat",
          "Low Fat",
          "Low Fat",
          "Low Fat",
          "Low Fat",
          "Low Fat",
          "Low Fat",
          "Low Fat",
          "Low Fat",
          "Low Fat",
          "Low Fat",
          "Low Fat",
          "Low Fat",
          "Low Fat",
          "Low Fat",
          "Low Fat",
          "Low Fat",
          "Low Fat",
          "Low Fat",
          "Low Fat",
          "Low Fat",
          "Low Fat",
          "Low Fat",
          "Low Fat",
          "Low Fat",
          "Low Fat",
          "Low Fat",
          "Low Fat",
          "Low Fat",
          "Low Fat",
          "Low Fat",
          "Low Fat",
          "Low Fat",
          "Low Fat",
          "Low Fat",
          "Low Fat",
          "Low Fat",
          "Low Fat",
          "Low Fat",
          "Low Fat",
          "Low Fat",
          "Low Fat",
          "Low Fat",
          "Low Fat",
          "Low Fat",
          "Low Fat",
          "Low Fat",
          "Low Fat",
          "Low Fat",
          "Low Fat",
          "Low Fat",
          "Low Fat",
          "Low Fat",
          "Low Fat",
          "Low Fat",
          "Low Fat",
          "Low Fat",
          "Low Fat",
          "Low Fat",
          "Low Fat",
          "Low Fat",
          "Low Fat",
          "Low Fat",
          "Low Fat",
          "Low Fat",
          "Low Fat",
          "Low Fat",
          "Low Fat",
          "Low Fat",
          "Low Fat",
          "Low Fat",
          "Low Fat",
          "Low Fat",
          "Low Fat",
          "Low Fat",
          "Low Fat",
          "Low Fat",
          "Low Fat",
          "Low Fat",
          "Low Fat",
          "Low Fat",
          "Low Fat",
          "Low Fat",
          "Low Fat",
          "Low Fat",
          "Low Fat",
          "Low Fat",
          "Low Fat",
          "Low Fat",
          "Low Fat",
          "Low Fat",
          "Low Fat",
          "Low Fat",
          "Low Fat",
          "Low Fat",
          "Low Fat",
          "Low Fat",
          "Low Fat",
          "Low Fat",
          "Low Fat",
          "Low Fat",
          "Low Fat",
          "Low Fat",
          "Low Fat",
          "Low Fat",
          "Low Fat",
          "Low Fat",
          "Low Fat",
          "Low Fat",
          "Low Fat",
          "Low Fat",
          "Low Fat",
          "Low Fat",
          "Low Fat",
          "Low Fat",
          "Low Fat",
          "Low Fat",
          "Low Fat",
          "Low Fat",
          "Low Fat",
          "Low Fat",
          "Low Fat",
          "Low Fat",
          "Low Fat",
          "Low Fat",
          "Low Fat",
          "Low Fat",
          "Low Fat",
          "Low Fat",
          "Low Fat",
          "Low Fat",
          "Low Fat",
          "Low Fat",
          "Low Fat",
          "Low Fat",
          "Low Fat",
          "Low Fat",
          "Low Fat",
          "Low Fat",
          "Low Fat",
          "Low Fat",
          "Low Fat",
          "Low Fat",
          "Low Fat",
          "Low Fat",
          "Low Fat",
          "Low Fat",
          "Low Fat",
          "Low Fat",
          "Low Fat",
          "Low Fat",
          "Low Fat",
          "Low Fat",
          "Low Fat",
          "Low Fat",
          "Low Fat",
          "Low Fat",
          "Low Fat",
          "Low Fat",
          "Low Fat",
          "Low Fat",
          "Low Fat",
          "Low Fat",
          "Low Fat",
          "Low Fat",
          "Low Fat",
          "Low Fat",
          "Low Fat",
          "Low Fat",
          "Low Fat",
          "Low Fat",
          "Low Fat",
          "Low Fat",
          "Low Fat",
          "Low Fat",
          "Low Fat",
          "Low Fat",
          "Low Fat",
          "Low Fat",
          "Low Fat",
          "Low Fat",
          "Low Fat",
          "Low Fat",
          "Low Fat",
          "Low Fat",
          "Low Fat",
          "Low Fat",
          "Low Fat",
          "Low Fat",
          "Low Fat",
          "Low Fat",
          "Low Fat",
          "Low Fat",
          "Low Fat",
          "Low Fat",
          "Low Fat",
          "Low Fat",
          "Low Fat",
          "Low Fat",
          "Low Fat",
          "Low Fat",
          "Low Fat",
          "Low Fat",
          "Low Fat",
          "Low Fat",
          "Low Fat",
          "Low Fat",
          "Low Fat",
          "Low Fat",
          "Low Fat",
          "Low Fat",
          "Low Fat",
          "Low Fat",
          "Low Fat",
          "Low Fat",
          "Low Fat",
          "Low Fat",
          "Low Fat",
          "Low Fat",
          "Low Fat",
          "Low Fat",
          "Low Fat",
          "Low Fat",
          "Low Fat",
          "Low Fat",
          "Low Fat",
          "Low Fat",
          "Low Fat",
          "Low Fat",
          "Low Fat",
          "Low Fat",
          "Low Fat",
          "Low Fat",
          "Low Fat",
          "Low Fat",
          "Low Fat",
          "Low Fat",
          "Low Fat",
          "Low Fat",
          "Low Fat",
          "Low Fat",
          "Low Fat",
          "Low Fat",
          "Low Fat",
          "Low Fat",
          "Low Fat",
          "Low Fat",
          "Low Fat",
          "Low Fat",
          "Low Fat",
          "Low Fat",
          "Low Fat",
          "Low Fat",
          "Low Fat",
          "Low Fat",
          "Low Fat",
          "Low Fat",
          "Low Fat",
          "Low Fat",
          "Low Fat",
          "Low Fat",
          "Low Fat",
          "Low Fat",
          "Low Fat",
          "Low Fat",
          "Low Fat",
          "Low Fat",
          "Low Fat",
          "Low Fat",
          "Low Fat",
          "Low Fat",
          "Low Fat",
          "Low Fat",
          "Low Fat",
          "Low Fat",
          "Low Fat",
          "Low Fat",
          "Low Fat",
          "Low Fat",
          "Low Fat",
          "Low Fat",
          "Low Fat",
          "Low Fat",
          "Low Fat",
          "Low Fat",
          "Low Fat",
          "Low Fat",
          "Low Fat",
          "Low Fat",
          "Low Fat",
          "Low Fat",
          "Low Fat",
          "Low Fat",
          "Low Fat",
          "Low Fat",
          "Low Fat",
          "Low Fat",
          "Low Fat",
          "Low Fat",
          "Low Fat",
          "Low Fat",
          "Low Fat",
          "Low Fat",
          "Low Fat",
          "Low Fat",
          "Low Fat",
          "Low Fat",
          "Low Fat",
          "Low Fat",
          "Low Fat",
          "Low Fat",
          "Low Fat",
          "Low Fat",
          "Low Fat",
          "Low Fat",
          "Low Fat",
          "Low Fat",
          "Low Fat",
          "Low Fat",
          "Low Fat",
          "Low Fat",
          "Low Fat",
          "Low Fat",
          "Low Fat",
          "Low Fat",
          "Low Fat",
          "Low Fat",
          "Low Fat",
          "Low Fat",
          "Low Fat",
          "Low Fat",
          "Low Fat",
          "Low Fat",
          "Low Fat",
          "Low Fat",
          "Low Fat",
          "Low Fat",
          "Low Fat",
          "Low Fat",
          "Low Fat",
          "Low Fat",
          "Low Fat",
          "Low Fat",
          "Low Fat",
          "Low Fat",
          "Low Fat",
          "Low Fat",
          "Low Fat",
          "Low Fat",
          "Low Fat",
          "Low Fat",
          "Low Fat",
          "Low Fat",
          "Low Fat",
          "Low Fat",
          "Low Fat",
          "Low Fat",
          "Low Fat",
          "Low Fat",
          "Low Fat",
          "Low Fat",
          "Low Fat",
          "Low Fat",
          "Low Fat",
          "Low Fat",
          "Low Fat",
          "Low Fat",
          "Low Fat",
          "Low Fat",
          "Low Fat",
          "Low Fat",
          "Low Fat",
          "Low Fat",
          "Low Fat",
          "Low Fat",
          "Low Fat",
          "Low Fat",
          "Low Fat",
          "Low Fat",
          "Low Fat",
          "Low Fat",
          "Low Fat",
          "Low Fat",
          "Low Fat",
          "Low Fat",
          "Low Fat",
          "Low Fat",
          "Low Fat",
          "Low Fat",
          "Low Fat",
          "Low Fat",
          "Low Fat",
          "Low Fat",
          "Low Fat",
          "Low Fat",
          "Low Fat",
          "Low Fat",
          "Low Fat",
          "Low Fat",
          "Low Fat",
          "Low Fat",
          "Low Fat",
          "Low Fat",
          "Low Fat",
          "Low Fat",
          "Low Fat",
          "Low Fat",
          "Low Fat",
          "Low Fat",
          "Low Fat",
          "Low Fat",
          "Low Fat",
          "Low Fat",
          "Low Fat",
          "Low Fat",
          "Low Fat",
          "Low Fat",
          "Low Fat",
          "Low Fat",
          "Low Fat",
          "Low Fat",
          "Low Fat",
          "Low Fat",
          "Low Fat",
          "Low Fat",
          "Low Fat",
          "Low Fat",
          "Low Fat",
          "Low Fat",
          "Low Fat",
          "Low Fat",
          "Low Fat",
          "Low Fat",
          "Low Fat",
          "Low Fat",
          "Low Fat",
          "Low Fat",
          "Low Fat",
          "Low Fat",
          "Low Fat",
          "Low Fat",
          "Low Fat",
          "Low Fat",
          "Low Fat",
          "Low Fat",
          "Low Fat",
          "Low Fat",
          "Low Fat",
          "Low Fat",
          "Low Fat",
          "Low Fat",
          "Low Fat",
          "Low Fat",
          "Low Fat",
          "Low Fat",
          "Low Fat",
          "Low Fat",
          "Low Fat",
          "Low Fat",
          "Low Fat",
          "Low Fat",
          "Low Fat",
          "Low Fat",
          "Low Fat",
          "Low Fat",
          "Low Fat",
          "Low Fat",
          "Low Fat",
          "Low Fat",
          "Low Fat",
          "Low Fat",
          "Low Fat",
          "Low Fat",
          "Low Fat",
          "Low Fat",
          "Low Fat",
          "Low Fat",
          "Low Fat",
          "Low Fat",
          "Low Fat",
          "Low Fat",
          "Low Fat",
          "Low Fat",
          "Low Fat",
          "Low Fat",
          "Low Fat",
          "Low Fat",
          "Low Fat",
          "Low Fat",
          "Low Fat",
          "Low Fat",
          "Low Fat",
          "Low Fat",
          "Low Fat",
          "Low Fat",
          "Low Fat",
          "Low Fat",
          "Low Fat",
          "Low Fat",
          "Low Fat",
          "Low Fat",
          "Low Fat",
          "Low Fat",
          "Low Fat",
          "Low Fat",
          "Low Fat",
          "Low Fat",
          "Low Fat",
          "Low Fat",
          "Low Fat",
          "Low Fat",
          "Low Fat",
          "Low Fat",
          "Low Fat",
          "Low Fat",
          "Low Fat",
          "Low Fat",
          "Low Fat",
          "Low Fat",
          "Low Fat",
          "Low Fat",
          "Low Fat",
          "Low Fat",
          "Low Fat",
          "Low Fat",
          "Low Fat",
          "Low Fat",
          "Low Fat",
          "Low Fat",
          "Low Fat",
          "Low Fat",
          "Low Fat",
          "Low Fat",
          "Low Fat",
          "Low Fat",
          "Low Fat",
          "Low Fat",
          "Low Fat",
          "Low Fat",
          "Low Fat",
          "Low Fat",
          "Low Fat",
          "Low Fat",
          "Low Fat",
          "Low Fat",
          "Low Fat",
          "Low Fat",
          "Low Fat",
          "Low Fat",
          "Low Fat",
          "Low Fat",
          "Low Fat",
          "Low Fat",
          "Low Fat",
          "Low Fat",
          "Low Fat",
          "Low Fat",
          "Low Fat",
          "Low Fat",
          "Low Fat",
          "Low Fat",
          "Low Fat",
          "Low Fat",
          "Low Fat",
          "Low Fat",
          "Low Fat",
          "Low Fat",
          "Low Fat",
          "Low Fat",
          "Low Fat",
          "Low Fat",
          "Low Fat",
          "Low Fat",
          "Low Fat",
          "Low Fat",
          "Low Fat",
          "Low Fat",
          "Low Fat",
          "Low Fat",
          "Low Fat",
          "Low Fat",
          "Low Fat",
          "Low Fat",
          "Low Fat",
          "Low Fat",
          "Low Fat",
          "Low Fat",
          "Low Fat",
          "Low Fat",
          "Low Fat",
          "Low Fat",
          "Low Fat",
          "Low Fat",
          "Low Fat",
          "Low Fat",
          "Low Fat",
          "Low Fat",
          "Low Fat",
          "Low Fat",
          "Low Fat",
          "Low Fat",
          "Low Fat",
          "Low Fat",
          "Low Fat",
          "Low Fat",
          "Low Fat",
          "Low Fat",
          "Low Fat",
          "Low Fat",
          "Low Fat",
          "Low Fat",
          "Low Fat",
          "Low Fat",
          "Low Fat",
          "Low Fat",
          "Low Fat",
          "Low Fat",
          "Low Fat",
          "Low Fat",
          "Low Fat",
          "Low Fat",
          "Low Fat",
          "Low Fat",
          "Low Fat",
          "Low Fat",
          "Low Fat",
          "Low Fat",
          "Low Fat",
          "Low Fat",
          "Low Fat",
          "Low Fat",
          "Low Fat",
          "Low Fat",
          "Low Fat",
          "Low Fat",
          "Low Fat",
          "Low Fat",
          "Low Fat",
          "Low Fat",
          "Low Fat",
          "Low Fat",
          "Low Fat",
          "Low Fat",
          "Low Fat",
          "Low Fat",
          "Low Fat",
          "Low Fat",
          "Low Fat",
          "Low Fat",
          "Low Fat",
          "Low Fat",
          "Low Fat",
          "Low Fat",
          "Low Fat",
          "Low Fat",
          "Low Fat",
          "Low Fat",
          "Low Fat",
          "Low Fat",
          "Low Fat",
          "Low Fat",
          "Low Fat",
          "Low Fat",
          "Low Fat",
          "Low Fat",
          "Low Fat",
          "Low Fat",
          "Low Fat",
          "Low Fat",
          "Low Fat",
          "Low Fat",
          "Low Fat",
          "Low Fat",
          "Low Fat",
          "Low Fat",
          "Low Fat",
          "Low Fat",
          "Low Fat",
          "Low Fat",
          "Low Fat",
          "Low Fat",
          "Low Fat",
          "Low Fat",
          "Low Fat",
          "Low Fat",
          "Low Fat",
          "Low Fat",
          "Low Fat",
          "Low Fat",
          "Low Fat",
          "Low Fat",
          "Low Fat",
          "Low Fat",
          "Low Fat",
          "Low Fat",
          "Low Fat",
          "Low Fat",
          "Low Fat",
          "Low Fat",
          "Low Fat",
          "Low Fat",
          "Low Fat",
          "Low Fat",
          "Low Fat",
          "Low Fat",
          "Low Fat",
          "Low Fat",
          "Low Fat",
          "Low Fat",
          "Low Fat",
          "Low Fat",
          "Low Fat",
          "Low Fat",
          "Low Fat",
          "Low Fat",
          "Low Fat",
          "Low Fat",
          "Low Fat",
          "Low Fat",
          "Low Fat",
          "Low Fat",
          "Low Fat",
          "Low Fat",
          "Low Fat",
          "Low Fat",
          "Low Fat",
          "Low Fat",
          "Low Fat",
          "Low Fat",
          "Low Fat",
          "Low Fat",
          "Low Fat",
          "Low Fat",
          "Low Fat",
          "Low Fat",
          "Low Fat",
          "Low Fat",
          "Low Fat",
          "Low Fat",
          "Low Fat",
          "Low Fat",
          "Low Fat",
          "Low Fat",
          "Low Fat",
          "Low Fat",
          "Low Fat",
          "Low Fat",
          "Low Fat",
          "Low Fat",
          "Low Fat",
          "Low Fat",
          "Low Fat",
          "Low Fat",
          "Low Fat",
          "Low Fat",
          "Low Fat",
          "Low Fat",
          "Low Fat",
          "Low Fat",
          "Low Fat",
          "Low Fat",
          "Low Fat",
          "Low Fat",
          "Low Fat",
          "Low Fat",
          "Low Fat",
          "Low Fat",
          "Low Fat",
          "Low Fat",
          "Low Fat",
          "Low Fat",
          "Low Fat",
          "Low Fat",
          "Low Fat",
          "Low Fat",
          "Low Fat",
          "Low Fat",
          "Low Fat",
          "Low Fat",
          "Low Fat",
          "Low Fat",
          "Low Fat",
          "Low Fat",
          "Low Fat",
          "Low Fat",
          "Low Fat",
          "Low Fat",
          "Low Fat",
          "Low Fat",
          "Low Fat",
          "Low Fat",
          "Low Fat",
          "Low Fat",
          "Low Fat",
          "Low Fat",
          "Low Fat",
          "Low Fat",
          "Low Fat",
          "Low Fat",
          "Low Fat",
          "Low Fat",
          "Low Fat",
          "Low Fat",
          "Low Fat",
          "Low Fat",
          "Low Fat",
          "Low Fat",
          "Low Fat",
          "Low Fat",
          "Low Fat",
          "Low Fat",
          "Low Fat",
          "Low Fat",
          "Low Fat",
          "Low Fat",
          "Low Fat",
          "Low Fat",
          "Low Fat",
          "Low Fat",
          "Low Fat",
          "Low Fat",
          "Low Fat",
          "Low Fat",
          "Low Fat",
          "Low Fat",
          "Low Fat",
          "Low Fat",
          "Low Fat",
          "Low Fat",
          "Low Fat",
          "Low Fat",
          "Low Fat",
          "Low Fat",
          "Low Fat",
          "Low Fat",
          "Low Fat",
          "Low Fat",
          "Low Fat",
          "Low Fat",
          "Low Fat",
          "Low Fat",
          "Low Fat",
          "Low Fat",
          "Low Fat",
          "Low Fat",
          "Low Fat",
          "Low Fat",
          "Low Fat",
          "Low Fat",
          "Low Fat",
          "Low Fat",
          "Low Fat",
          "Low Fat",
          "Low Fat",
          "Low Fat",
          "Low Fat",
          "Low Fat",
          "Low Fat",
          "Low Fat",
          "Low Fat",
          "Low Fat",
          "Low Fat",
          "Low Fat",
          "Low Fat",
          "Low Fat",
          "Low Fat",
          "Low Fat",
          "Low Fat",
          "Low Fat",
          "Low Fat",
          "Low Fat",
          "Low Fat",
          "Low Fat",
          "Low Fat",
          "Low Fat",
          "Low Fat",
          "Low Fat",
          "Low Fat",
          "Low Fat",
          "Low Fat",
          "Low Fat",
          "Low Fat",
          "Low Fat",
          "Low Fat",
          "Low Fat",
          "Low Fat",
          "Low Fat",
          "Low Fat",
          "Low Fat",
          "Low Fat",
          "Low Fat",
          "Low Fat",
          "Low Fat",
          "Low Fat",
          "Low Fat",
          "Low Fat",
          "Low Fat",
          "Low Fat",
          "Low Fat",
          "Low Fat",
          "Low Fat",
          "Low Fat",
          "Low Fat",
          "Low Fat",
          "Low Fat",
          "Low Fat",
          "Low Fat",
          "Low Fat",
          "Low Fat",
          "Low Fat",
          "Low Fat",
          "Low Fat",
          "Low Fat",
          "Low Fat",
          "Low Fat",
          "Low Fat",
          "Low Fat",
          "Low Fat",
          "Low Fat",
          "Low Fat",
          "Low Fat",
          "Low Fat",
          "Low Fat",
          "Low Fat",
          "Low Fat",
          "Low Fat",
          "Low Fat",
          "Low Fat",
          "Low Fat",
          "Low Fat",
          "Low Fat",
          "Low Fat",
          "Low Fat",
          "Low Fat",
          "Low Fat",
          "Low Fat",
          "Low Fat",
          "Low Fat",
          "Low Fat",
          "Low Fat",
          "Low Fat",
          "Low Fat",
          "Low Fat",
          "Low Fat",
          "Low Fat",
          "Low Fat",
          "Low Fat",
          "Low Fat",
          "Low Fat",
          "Low Fat",
          "Low Fat",
          "Low Fat",
          "Low Fat",
          "Low Fat",
          "Low Fat",
          "Low Fat",
          "Low Fat",
          "Low Fat",
          "Low Fat",
          "Low Fat",
          "Low Fat",
          "Low Fat",
          "Low Fat",
          "Low Fat",
          "Low Fat",
          "Low Fat",
          "Low Fat",
          "Low Fat",
          "Low Fat",
          "Low Fat",
          "Low Fat",
          "Low Fat",
          "Low Fat",
          "Low Fat",
          "Low Fat",
          "Low Fat",
          "Low Fat",
          "Low Fat",
          "Low Fat",
          "Low Fat",
          "Low Fat",
          "Low Fat",
          "Low Fat",
          "Low Fat",
          "Low Fat",
          "Low Fat",
          "Low Fat",
          "Low Fat",
          "Low Fat",
          "Low Fat",
          "Low Fat",
          "Low Fat",
          "Low Fat",
          "Low Fat",
          "Low Fat",
          "Low Fat",
          "Low Fat",
          "Low Fat",
          "Low Fat",
          "Low Fat",
          "Low Fat",
          "Low Fat",
          "Low Fat",
          "Low Fat",
          "Low Fat",
          "Low Fat",
          "Low Fat",
          "Low Fat",
          "Low Fat",
          "Low Fat",
          "Low Fat",
          "Low Fat",
          "Low Fat",
          "Low Fat",
          "Low Fat",
          "Low Fat",
          "Low Fat",
          "Low Fat",
          "Low Fat",
          "Low Fat",
          "Low Fat",
          "Low Fat",
          "Low Fat",
          "Low Fat",
          "Low Fat",
          "Low Fat",
          "Low Fat",
          "Low Fat",
          "Low Fat",
          "Low Fat",
          "Low Fat",
          "Low Fat",
          "Low Fat",
          "Low Fat",
          "Low Fat",
          "Low Fat",
          "Low Fat",
          "Low Fat",
          "Low Fat",
          "Low Fat",
          "Low Fat",
          "Low Fat",
          "Low Fat",
          "Low Fat",
          "Low Fat",
          "Low Fat",
          "Low Fat",
          "Low Fat",
          "Low Fat",
          "Low Fat",
          "Low Fat",
          "Low Fat",
          "Low Fat",
          "Low Fat",
          "Low Fat",
          "Low Fat",
          "Low Fat",
          "Low Fat",
          "Low Fat",
          "Low Fat",
          "Low Fat",
          "Low Fat",
          "Low Fat",
          "Low Fat",
          "Low Fat",
          "Low Fat",
          "Low Fat",
          "Low Fat",
          "Low Fat",
          "Low Fat",
          "Low Fat",
          "Low Fat",
          "Low Fat",
          "Low Fat",
          "Low Fat",
          "Low Fat",
          "Low Fat",
          "Low Fat",
          "Low Fat",
          "Low Fat",
          "Low Fat",
          "Low Fat",
          "Low Fat",
          "Low Fat",
          "Low Fat",
          "Low Fat",
          "Low Fat",
          "Low Fat",
          "Low Fat",
          "Low Fat",
          "Low Fat",
          "Low Fat",
          "Low Fat",
          "Low Fat",
          "Low Fat",
          "Low Fat",
          "Low Fat",
          "Low Fat",
          "Low Fat",
          "Low Fat",
          "Low Fat",
          "Low Fat",
          "Low Fat",
          "Low Fat",
          "Low Fat",
          "Low Fat",
          "Low Fat",
          "Low Fat",
          "Low Fat",
          "Low Fat",
          "Low Fat",
          "Low Fat",
          "Low Fat",
          "Low Fat",
          "Low Fat",
          "Low Fat",
          "Low Fat",
          "Low Fat",
          "Low Fat",
          "Low Fat",
          "Low Fat",
          "Low Fat",
          "Low Fat",
          "Low Fat",
          "Low Fat",
          "Low Fat",
          "Low Fat",
          "Low Fat",
          "Low Fat",
          "Low Fat",
          "Low Fat",
          "Low Fat",
          "Low Fat",
          "Low Fat",
          "Low Fat",
          "Low Fat",
          "Low Fat",
          "Low Fat",
          "Low Fat",
          "Low Fat",
          "Low Fat",
          "Low Fat",
          "Low Fat",
          "Low Fat",
          "Low Fat",
          "Low Fat",
          "Low Fat",
          "Low Fat",
          "Low Fat",
          "Low Fat",
          "Low Fat",
          "Low Fat",
          "Low Fat",
          "Low Fat",
          "Low Fat",
          "Low Fat",
          "Low Fat",
          "Low Fat",
          "Low Fat",
          "Low Fat",
          "Low Fat",
          "Low Fat",
          "Low Fat",
          "Low Fat",
          "Low Fat",
          "Low Fat",
          "Low Fat",
          "Low Fat",
          "Low Fat",
          "Low Fat",
          "Low Fat",
          "Low Fat",
          "Low Fat",
          "Low Fat",
          "Low Fat",
          "Low Fat",
          "Low Fat",
          "Low Fat",
          "Low Fat",
          "Low Fat",
          "Low Fat",
          "Low Fat",
          "Low Fat",
          "Low Fat",
          "Low Fat",
          "Low Fat",
          "Low Fat",
          "Low Fat",
          "Low Fat",
          "Low Fat",
          "Low Fat",
          "Low Fat",
          "Low Fat",
          "Low Fat",
          "Low Fat",
          "Low Fat",
          "Low Fat",
          "Low Fat",
          "Low Fat",
          "Low Fat",
          "Low Fat",
          "Low Fat",
          "Low Fat",
          "Low Fat",
          "Low Fat",
          "Low Fat",
          "Low Fat",
          "Low Fat",
          "Low Fat",
          "Low Fat",
          "Low Fat",
          "Low Fat",
          "Low Fat",
          "Low Fat",
          "Low Fat",
          "Low Fat",
          "Low Fat",
          "Low Fat",
          "Low Fat",
          "Low Fat",
          "Low Fat",
          "Low Fat",
          "Low Fat",
          "Low Fat",
          "Low Fat",
          "Low Fat",
          "Low Fat",
          "Low Fat",
          "Low Fat",
          "Low Fat",
          "Low Fat",
          "Low Fat",
          "Low Fat",
          "Low Fat",
          "Low Fat",
          "Low Fat",
          "Low Fat",
          "Low Fat",
          "Low Fat",
          "Low Fat",
          "Low Fat",
          "Low Fat",
          "Low Fat",
          "Low Fat",
          "Low Fat",
          "Low Fat",
          "Low Fat",
          "Low Fat",
          "Low Fat",
          "Low Fat",
          "Low Fat",
          "Low Fat",
          "Low Fat",
          "Low Fat",
          "Low Fat",
          "Low Fat",
          "Low Fat",
          "Low Fat",
          "Low Fat",
          "Low Fat",
          "Low Fat",
          "Low Fat",
          "Low Fat",
          "Low Fat",
          "Low Fat",
          "Low Fat",
          "Low Fat",
          "Low Fat",
          "Low Fat",
          "Low Fat",
          "Low Fat",
          "Low Fat",
          "Low Fat",
          "Low Fat",
          "Low Fat",
          "Low Fat",
          "Low Fat",
          "Low Fat",
          "Low Fat",
          "Low Fat",
          "Low Fat",
          "Low Fat",
          "Low Fat",
          "Low Fat",
          "Low Fat",
          "Low Fat",
          "Low Fat",
          "Low Fat",
          "Low Fat",
          "Low Fat",
          "Low Fat",
          "Low Fat",
          "Low Fat",
          "Low Fat",
          "Low Fat",
          "Low Fat",
          "Low Fat",
          "Low Fat",
          "Low Fat",
          "Low Fat",
          "Low Fat",
          "Low Fat",
          "Low Fat",
          "Low Fat",
          "Low Fat",
          "Low Fat",
          "Low Fat",
          "Low Fat",
          "Low Fat",
          "Low Fat",
          "Low Fat",
          "Low Fat",
          "Low Fat",
          "Low Fat",
          "Low Fat",
          "Low Fat",
          "Low Fat",
          "Low Fat",
          "Low Fat",
          "Low Fat",
          "Low Fat",
          "Low Fat",
          "Low Fat",
          "Low Fat",
          "Low Fat",
          "Low Fat",
          "Low Fat",
          "Low Fat",
          "Low Fat",
          "Low Fat",
          "Low Fat",
          "Low Fat",
          "Low Fat",
          "Low Fat",
          "Low Fat",
          "Low Fat",
          "Low Fat",
          "Low Fat",
          "Low Fat",
          "Low Fat",
          "Low Fat",
          "Low Fat",
          "Low Fat",
          "Low Fat",
          "Low Fat",
          "Low Fat",
          "Low Fat",
          "Low Fat",
          "Low Fat",
          "Low Fat",
          "Low Fat",
          "Low Fat",
          "Low Fat",
          "Low Fat",
          "Low Fat",
          "Low Fat",
          "Low Fat",
          "Low Fat",
          "Low Fat",
          "Low Fat",
          "Low Fat",
          "Low Fat",
          "Low Fat",
          "Low Fat",
          "Low Fat",
          "Low Fat",
          "Low Fat",
          "Low Fat",
          "Low Fat",
          "Low Fat",
          "Low Fat",
          "Low Fat",
          "Low Fat",
          "Low Fat",
          "Low Fat",
          "Low Fat",
          "Low Fat",
          "Low Fat",
          "Low Fat",
          "Low Fat",
          "Low Fat",
          "Low Fat",
          "Low Fat",
          "Low Fat",
          "Low Fat",
          "Low Fat",
          "Low Fat",
          "Low Fat",
          "Low Fat",
          "Low Fat",
          "Low Fat",
          "Low Fat",
          "Low Fat",
          "Low Fat",
          "Low Fat",
          "Low Fat",
          "Low Fat",
          "Low Fat",
          "Low Fat",
          "Low Fat",
          "Low Fat",
          "Low Fat",
          "Low Fat",
          "Low Fat",
          "Low Fat",
          "Low Fat",
          "Low Fat",
          "Low Fat",
          "Low Fat",
          "Low Fat",
          "Low Fat",
          "Low Fat",
          "Low Fat",
          "Low Fat",
          "Low Fat",
          "Low Fat",
          "Low Fat",
          "Low Fat",
          "Low Fat",
          "Low Fat",
          "Low Fat",
          "Low Fat",
          "Low Fat",
          "Low Fat",
          "Low Fat",
          "Low Fat",
          "Low Fat",
          "Low Fat",
          "Low Fat",
          "Low Fat",
          "Low Fat",
          "Low Fat",
          "Low Fat",
          "Low Fat",
          "Low Fat",
          "Low Fat",
          "Low Fat",
          "Low Fat",
          "Low Fat",
          "Low Fat",
          "Low Fat",
          "Low Fat",
          "Low Fat",
          "Low Fat",
          "Low Fat",
          "Low Fat",
          "Low Fat",
          "Low Fat",
          "Low Fat",
          "Low Fat",
          "Low Fat",
          "Low Fat",
          "Low Fat",
          "Low Fat",
          "Low Fat",
          "Low Fat",
          "Low Fat",
          "Low Fat",
          "Low Fat",
          "Low Fat",
          "Low Fat",
          "Low Fat",
          "Low Fat",
          "Low Fat",
          "Low Fat",
          "Low Fat",
          "Low Fat",
          "Low Fat",
          "Low Fat",
          "Low Fat",
          "Low Fat",
          "Low Fat",
          "Low Fat",
          "Low Fat",
          "Low Fat",
          "Low Fat",
          "Low Fat",
          "Low Fat",
          "Low Fat",
          "Low Fat",
          "Low Fat",
          "Low Fat",
          "Low Fat",
          "Low Fat",
          "Low Fat",
          "Low Fat",
          "Low Fat",
          "Low Fat",
          "Low Fat",
          "Low Fat",
          "Low Fat",
          "Low Fat",
          "Low Fat",
          "Low Fat",
          "Low Fat",
          "Low Fat",
          "Low Fat",
          "Low Fat",
          "Low Fat",
          "Low Fat",
          "Low Fat",
          "Low Fat",
          "Low Fat",
          "Low Fat",
          "Low Fat",
          "Low Fat",
          "Low Fat",
          "Low Fat",
          "Low Fat",
          "Low Fat",
          "Low Fat",
          "Low Fat",
          "Low Fat",
          "Low Fat",
          "Low Fat",
          "Low Fat",
          "Low Fat",
          "Low Fat",
          "Low Fat",
          "Low Fat",
          "Low Fat",
          "Low Fat",
          "Low Fat",
          "Low Fat",
          "Low Fat",
          "Low Fat",
          "Low Fat",
          "Low Fat",
          "Low Fat",
          "Low Fat",
          "Low Fat",
          "Low Fat",
          "Low Fat",
          "Low Fat",
          "Low Fat",
          "Low Fat",
          "Low Fat",
          "Low Fat",
          "Low Fat",
          "Low Fat",
          "Low Fat",
          "Low Fat",
          "Low Fat",
          "Low Fat",
          "Low Fat",
          "Low Fat",
          "Low Fat",
          "Low Fat",
          "Low Fat",
          "Low Fat",
          "Low Fat",
          "Low Fat",
          "Low Fat",
          "Low Fat",
          "Low Fat",
          "Low Fat",
          "Low Fat",
          "Low Fat",
          "Low Fat",
          "Low Fat",
          "Low Fat",
          "Low Fat",
          "Low Fat",
          "Low Fat",
          "Low Fat",
          "Low Fat",
          "Low Fat",
          "Low Fat",
          "Low Fat",
          "Low Fat",
          "Low Fat",
          "Low Fat",
          "Low Fat",
          "Low Fat",
          "Low Fat",
          "Low Fat",
          "Low Fat",
          "Low Fat",
          "Low Fat",
          "Low Fat",
          "Low Fat",
          "Low Fat",
          "Low Fat",
          "Low Fat",
          "Low Fat",
          "Low Fat",
          "Low Fat",
          "Low Fat",
          "Low Fat",
          "Low Fat",
          "Low Fat",
          "Low Fat",
          "Low Fat",
          "Low Fat",
          "Low Fat",
          "Low Fat",
          "Low Fat",
          "Low Fat",
          "Low Fat",
          "Low Fat",
          "Low Fat",
          "Low Fat",
          "Low Fat",
          "Low Fat",
          "Low Fat",
          "Low Fat",
          "Low Fat",
          "Low Fat",
          "Low Fat",
          "Low Fat",
          "Low Fat",
          "Low Fat",
          "Low Fat",
          "Low Fat",
          "Low Fat",
          "Low Fat",
          "Low Fat",
          "Low Fat",
          "Low Fat",
          "Low Fat",
          "Low Fat",
          "Low Fat",
          "Low Fat",
          "Low Fat",
          "Low Fat",
          "Low Fat",
          "Low Fat",
          "Low Fat",
          "Low Fat",
          "Low Fat",
          "Low Fat",
          "Low Fat",
          "Low Fat",
          "Low Fat",
          "Low Fat",
          "Low Fat",
          "Low Fat",
          "Low Fat",
          "Low Fat",
          "Low Fat",
          "Low Fat",
          "Low Fat",
          "Low Fat",
          "Low Fat",
          "Low Fat",
          "Low Fat",
          "Low Fat",
          "Low Fat",
          "Low Fat",
          "Low Fat",
          "Low Fat",
          "Low Fat",
          "Low Fat",
          "Low Fat",
          "Low Fat",
          "Low Fat",
          "Low Fat",
          "Low Fat",
          "Low Fat",
          "Low Fat",
          "Low Fat",
          "Low Fat",
          "Low Fat",
          "Low Fat",
          "Low Fat",
          "Low Fat",
          "Low Fat",
          "Low Fat",
          "Low Fat",
          "Low Fat",
          "Low Fat",
          "Low Fat",
          "Low Fat",
          "Low Fat",
          "Low Fat",
          "Low Fat",
          "Low Fat",
          "Low Fat",
          "Low Fat",
          "Low Fat",
          "Low Fat",
          "Low Fat",
          "Low Fat",
          "Low Fat",
          "Low Fat",
          "Low Fat",
          "Low Fat",
          "Low Fat",
          "Low Fat",
          "Low Fat",
          "Low Fat",
          "Low Fat",
          "Low Fat",
          "Low Fat",
          "Low Fat",
          "Low Fat",
          "Low Fat",
          "Low Fat",
          "Low Fat",
          "Low Fat",
          "Low Fat",
          "Low Fat",
          "Low Fat",
          "Low Fat",
          "Low Fat",
          "Low Fat",
          "Low Fat",
          "Low Fat",
          "Low Fat",
          "Low Fat",
          "Low Fat",
          "Low Fat",
          "Low Fat",
          "Low Fat",
          "Low Fat",
          "Low Fat",
          "Low Fat",
          "Low Fat",
          "Low Fat",
          "Low Fat",
          "Low Fat",
          "Low Fat",
          "Low Fat",
          "Low Fat",
          "Low Fat",
          "Low Fat",
          "Low Fat",
          "Low Fat",
          "Low Fat",
          "Low Fat",
          "Low Fat",
          "Low Fat",
          "Low Fat",
          "Low Fat",
          "Low Fat",
          "Low Fat",
          "Low Fat",
          "Low Fat",
          "Low Fat",
          "Low Fat",
          "Low Fat",
          "Low Fat",
          "Low Fat",
          "Low Fat",
          "Low Fat",
          "Low Fat",
          "Low Fat",
          "Low Fat",
          "Low Fat",
          "Low Fat",
          "Low Fat",
          "Low Fat",
          "Low Fat",
          "Low Fat",
          "Low Fat",
          "Low Fat",
          "Low Fat",
          "Low Fat",
          "Low Fat",
          "Low Fat",
          "Low Fat",
          "Low Fat",
          "Low Fat",
          "Low Fat",
          "Low Fat",
          "Low Fat",
          "Low Fat",
          "Low Fat",
          "Low Fat",
          "Low Fat",
          "Low Fat",
          "Low Fat",
          "Low Fat",
          "Low Fat",
          "Low Fat",
          "Low Fat",
          "Low Fat",
          "Low Fat",
          "Low Fat",
          "Low Fat",
          "Low Fat",
          "Low Fat",
          "Low Fat",
          "Low Fat",
          "Low Fat",
          "Low Fat",
          "Low Fat",
          "Low Fat",
          "Low Fat",
          "Low Fat",
          "Low Fat",
          "Low Fat",
          "Low Fat",
          "Low Fat",
          "Low Fat",
          "Low Fat",
          "Low Fat",
          "Low Fat",
          "Low Fat",
          "Low Fat",
          "Low Fat",
          "Low Fat",
          "Low Fat",
          "Low Fat",
          "Low Fat",
          "Low Fat",
          "Low Fat",
          "Low Fat",
          "Low Fat",
          "Low Fat",
          "Low Fat",
          "Low Fat",
          "Low Fat",
          "Low Fat",
          "Low Fat",
          "Low Fat",
          "Low Fat",
          "Low Fat",
          "Low Fat",
          "Low Fat",
          "Low Fat",
          "Low Fat",
          "Low Fat",
          "Low Fat",
          "Low Fat",
          "Low Fat",
          "Low Fat",
          "Low Fat",
          "Low Fat",
          "Low Fat",
          "Low Fat",
          "Low Fat",
          "Low Fat",
          "Low Fat",
          "Low Fat",
          "Low Fat",
          "Low Fat",
          "Low Fat",
          "Low Fat",
          "Low Fat",
          "Low Fat",
          "Low Fat",
          "Low Fat",
          "Low Fat",
          "Low Fat",
          "Low Fat",
          "Low Fat",
          "Low Fat",
          "Low Fat",
          "Low Fat",
          "Low Fat",
          "Low Fat",
          "Low Fat",
          "Low Fat",
          "Low Fat",
          "Low Fat",
          "Low Fat",
          "Low Fat",
          "Low Fat",
          "Low Fat",
          "Low Fat",
          "Low Fat",
          "Low Fat",
          "Low Fat",
          "Low Fat",
          "Low Fat",
          "Low Fat",
          "Low Fat",
          "Low Fat",
          "Low Fat",
          "Low Fat",
          "Low Fat",
          "Low Fat",
          "Low Fat",
          "Low Fat",
          "Low Fat",
          "Low Fat",
          "Low Fat",
          "Low Fat",
          "Low Fat",
          "Low Fat",
          "Low Fat",
          "Low Fat",
          "Low Fat",
          "Low Fat",
          "Low Fat",
          "Low Fat",
          "Low Fat",
          "Low Fat",
          "Low Fat",
          "Low Fat",
          "Low Fat",
          "Low Fat",
          "Low Fat",
          "Low Fat",
          "Low Fat",
          "Low Fat",
          "Low Fat",
          "Low Fat",
          "Low Fat",
          "Low Fat",
          "Low Fat",
          "Low Fat",
          "Low Fat",
          "Low Fat",
          "Low Fat",
          "Low Fat",
          "Low Fat",
          "Low Fat",
          "Low Fat",
          "Low Fat",
          "Low Fat",
          "Low Fat",
          "Low Fat",
          "Low Fat",
          "Low Fat",
          "Low Fat",
          "Low Fat",
          "Low Fat",
          "Low Fat",
          "Low Fat",
          "Low Fat",
          "Low Fat",
          "Low Fat",
          "Low Fat",
          "Low Fat",
          "Low Fat",
          "Low Fat",
          "Low Fat",
          "Low Fat",
          "Low Fat",
          "Low Fat",
          "Low Fat",
          "Low Fat",
          "Low Fat",
          "Low Fat",
          "Low Fat",
          "Low Fat",
          "Low Fat",
          "Low Fat",
          "Low Fat",
          "Low Fat",
          "Low Fat",
          "Low Fat",
          "Low Fat",
          "Low Fat",
          "Low Fat",
          "Low Fat",
          "Low Fat",
          "Low Fat",
          "Low Fat",
          "Low Fat",
          "Low Fat",
          "Low Fat",
          "Low Fat",
          "Low Fat",
          "Low Fat",
          "Low Fat",
          "Low Fat",
          "Low Fat",
          "Low Fat",
          "Low Fat",
          "Low Fat",
          "Low Fat",
          "Low Fat",
          "Low Fat",
          "Low Fat",
          "Low Fat",
          "Low Fat",
          "Low Fat",
          "Low Fat",
          "Low Fat",
          "Low Fat",
          "Low Fat",
          "Low Fat",
          "Low Fat",
          "Low Fat",
          "Low Fat",
          "Low Fat",
          "Low Fat",
          "Low Fat",
          "Low Fat",
          "Low Fat",
          "Low Fat",
          "Low Fat",
          "Low Fat",
          "Low Fat",
          "Low Fat",
          "Low Fat",
          "Low Fat",
          "Low Fat",
          "Low Fat",
          "Low Fat",
          "Low Fat",
          "Low Fat",
          "Low Fat",
          "Low Fat",
          "Low Fat",
          "Low Fat",
          "Low Fat",
          "Low Fat",
          "Low Fat",
          "Low Fat",
          "Low Fat",
          "Low Fat",
          "Low Fat",
          "Low Fat",
          "Low Fat",
          "Low Fat",
          "Low Fat",
          "Low Fat",
          "Low Fat",
          "Low Fat",
          "Low Fat",
          "Low Fat",
          "Low Fat",
          "Low Fat",
          "Low Fat",
          "Low Fat",
          "Low Fat",
          "Low Fat",
          "Low Fat",
          "Low Fat",
          "Low Fat",
          "Low Fat",
          "Low Fat",
          "Low Fat",
          "Low Fat",
          "Low Fat",
          "Low Fat",
          "Low Fat",
          "Low Fat",
          "Low Fat",
          "Low Fat",
          "Low Fat",
          "Low Fat",
          "Low Fat",
          "Low Fat",
          "Low Fat",
          "Low Fat",
          "Low Fat",
          "Low Fat",
          "Low Fat",
          "Low Fat",
          "Low Fat",
          "Low Fat",
          "Low Fat",
          "Low Fat",
          "Low Fat",
          "Low Fat",
          "Low Fat",
          "Low Fat",
          "Low Fat",
          "Low Fat",
          "Low Fat",
          "Low Fat",
          "Low Fat",
          "Low Fat",
          "Low Fat",
          "Low Fat",
          "Low Fat",
          "Low Fat",
          "Low Fat",
          "Low Fat",
          "Low Fat",
          "Low Fat",
          "Low Fat",
          "Low Fat",
          "Low Fat",
          "Low Fat",
          "Low Fat",
          "Low Fat",
          "Low Fat",
          "Low Fat",
          "Low Fat",
          "Low Fat",
          "Low Fat",
          "Low Fat",
          "Low Fat",
          "Low Fat",
          "Low Fat",
          "Low Fat",
          "Low Fat",
          "Low Fat",
          "Low Fat",
          "Low Fat",
          "Low Fat",
          "Low Fat",
          "Low Fat",
          "Low Fat",
          "Low Fat",
          "Low Fat",
          "Low Fat",
          "Low Fat",
          "Low Fat",
          "Low Fat",
          "Low Fat",
          "Low Fat",
          "Low Fat",
          "Low Fat",
          "Low Fat",
          "Low Fat",
          "Low Fat",
          "Low Fat",
          "Low Fat",
          "Low Fat",
          "Low Fat",
          "Low Fat",
          "Low Fat",
          "Low Fat",
          "Low Fat",
          "Low Fat",
          "Low Fat",
          "Low Fat",
          "Low Fat",
          "Low Fat",
          "Low Fat",
          "Low Fat",
          "Low Fat",
          "Low Fat",
          "Low Fat",
          "Low Fat",
          "Low Fat",
          "Low Fat",
          "Low Fat",
          "Low Fat",
          "Low Fat",
          "Low Fat",
          "Low Fat",
          "Low Fat",
          "Low Fat",
          "Low Fat",
          "Low Fat",
          "Low Fat",
          "Low Fat",
          "Low Fat",
          "Low Fat",
          "Low Fat",
          "Low Fat",
          "Low Fat",
          "Low Fat",
          "Low Fat",
          "Low Fat",
          "Low Fat",
          "Low Fat",
          "Low Fat",
          "Low Fat",
          "Low Fat",
          "Low Fat",
          "Low Fat",
          "Low Fat",
          "Low Fat",
          "Low Fat",
          "Low Fat",
          "Low Fat",
          "Low Fat",
          "Low Fat",
          "Low Fat",
          "Low Fat",
          "Low Fat",
          "Low Fat",
          "Low Fat",
          "Low Fat",
          "Low Fat",
          "Low Fat",
          "Low Fat",
          "Low Fat",
          "Low Fat",
          "Low Fat",
          "Low Fat",
          "Low Fat",
          "Low Fat",
          "Low Fat",
          "Low Fat",
          "Low Fat",
          "Low Fat",
          "Low Fat",
          "Low Fat",
          "Low Fat",
          "Low Fat",
          "Low Fat",
          "Low Fat",
          "Low Fat",
          "Low Fat",
          "Low Fat",
          "Low Fat",
          "Low Fat",
          "Low Fat",
          "Low Fat",
          "Low Fat",
          "Low Fat",
          "Low Fat",
          "Low Fat",
          "Low Fat",
          "Low Fat",
          "Low Fat",
          "Low Fat",
          "Low Fat",
          "Low Fat",
          "Low Fat",
          "Low Fat",
          "Low Fat",
          "Low Fat",
          "Low Fat",
          "Low Fat",
          "Low Fat",
          "Low Fat",
          "Low Fat",
          "Low Fat",
          "Low Fat",
          "Low Fat",
          "Low Fat",
          "Low Fat",
          "Low Fat"
         ],
         "xaxis": "x",
         "yaxis": "y"
        },
        {
         "alignmentgroup": "True",
         "hovertemplate": " ItemFat Content=%{x}<extra></extra>",
         "legendgroup": "Low Fat",
         "marker": {
          "color": "#EF553B"
         },
         "name": "Low Fat",
         "offsetgroup": "Low Fat",
         "scalegroup": "x",
         "showlegend": false,
         "type": "violin",
         "x": [
          "Low Fat",
          "Low Fat",
          "Low Fat",
          "Low Fat",
          "Low Fat",
          "Low Fat",
          "Low Fat",
          "Low Fat",
          "Low Fat",
          "Low Fat",
          "Low Fat",
          "Low Fat",
          "Low Fat",
          "Low Fat",
          "Low Fat",
          "Low Fat",
          "Low Fat",
          "Low Fat",
          "Low Fat",
          "Low Fat",
          "Low Fat",
          "Low Fat",
          "Low Fat",
          "Low Fat",
          "Low Fat",
          "Low Fat",
          "Low Fat",
          "Low Fat",
          "Low Fat",
          "Low Fat",
          "Low Fat",
          "Low Fat",
          "Low Fat",
          "Low Fat",
          "Low Fat",
          "Low Fat",
          "Low Fat",
          "Low Fat",
          "Low Fat",
          "Low Fat",
          "Low Fat",
          "Low Fat",
          "Low Fat",
          "Low Fat",
          "Low Fat",
          "Low Fat",
          "Low Fat",
          "Low Fat",
          "Low Fat",
          "Low Fat",
          "Low Fat",
          "Low Fat",
          "Low Fat",
          "Low Fat",
          "Low Fat",
          "Low Fat",
          "Low Fat",
          "Low Fat",
          "Low Fat",
          "Low Fat",
          "Low Fat",
          "Low Fat",
          "Low Fat",
          "Low Fat",
          "Low Fat",
          "Low Fat",
          "Low Fat",
          "Low Fat",
          "Low Fat",
          "Low Fat",
          "Low Fat",
          "Low Fat",
          "Low Fat",
          "Low Fat",
          "Low Fat",
          "Low Fat",
          "Low Fat",
          "Low Fat",
          "Low Fat",
          "Low Fat",
          "Low Fat",
          "Low Fat",
          "Low Fat",
          "Low Fat",
          "Low Fat",
          "Low Fat",
          "Low Fat",
          "Low Fat",
          "Low Fat",
          "Low Fat",
          "Low Fat",
          "Low Fat",
          "Low Fat",
          "Low Fat",
          "Low Fat",
          "Low Fat",
          "Low Fat",
          "Low Fat",
          "Low Fat",
          "Low Fat",
          "Low Fat",
          "Low Fat",
          "Low Fat",
          "Low Fat",
          "Low Fat",
          "Low Fat",
          "Low Fat",
          "Low Fat",
          "Low Fat",
          "Low Fat",
          "Low Fat",
          "Low Fat",
          "Low Fat",
          "Low Fat",
          "Low Fat",
          "Low Fat",
          "Low Fat",
          "Low Fat",
          "Low Fat",
          "Low Fat",
          "Low Fat",
          "Low Fat",
          "Low Fat",
          "Low Fat",
          "Low Fat",
          "Low Fat",
          "Low Fat",
          "Low Fat",
          "Low Fat",
          "Low Fat",
          "Low Fat",
          "Low Fat",
          "Low Fat",
          "Low Fat",
          "Low Fat",
          "Low Fat",
          "Low Fat",
          "Low Fat",
          "Low Fat",
          "Low Fat",
          "Low Fat",
          "Low Fat",
          "Low Fat",
          "Low Fat",
          "Low Fat",
          "Low Fat",
          "Low Fat",
          "Low Fat",
          "Low Fat",
          "Low Fat",
          "Low Fat",
          "Low Fat",
          "Low Fat",
          "Low Fat",
          "Low Fat",
          "Low Fat",
          "Low Fat",
          "Low Fat",
          "Low Fat",
          "Low Fat",
          "Low Fat",
          "Low Fat",
          "Low Fat",
          "Low Fat",
          "Low Fat",
          "Low Fat",
          "Low Fat",
          "Low Fat",
          "Low Fat",
          "Low Fat",
          "Low Fat",
          "Low Fat",
          "Low Fat",
          "Low Fat",
          "Low Fat",
          "Low Fat",
          "Low Fat",
          "Low Fat",
          "Low Fat",
          "Low Fat",
          "Low Fat",
          "Low Fat",
          "Low Fat",
          "Low Fat",
          "Low Fat",
          "Low Fat",
          "Low Fat",
          "Low Fat",
          "Low Fat",
          "Low Fat",
          "Low Fat",
          "Low Fat",
          "Low Fat",
          "Low Fat",
          "Low Fat",
          "Low Fat",
          "Low Fat",
          "Low Fat",
          "Low Fat",
          "Low Fat",
          "Low Fat",
          "Low Fat",
          "Low Fat",
          "Low Fat",
          "Low Fat",
          "Low Fat",
          "Low Fat",
          "Low Fat",
          "Low Fat",
          "Low Fat",
          "Low Fat",
          "Low Fat",
          "Low Fat",
          "Low Fat",
          "Low Fat",
          "Low Fat",
          "Low Fat",
          "Low Fat",
          "Low Fat",
          "Low Fat",
          "Low Fat",
          "Low Fat",
          "Low Fat",
          "Low Fat",
          "Low Fat",
          "Low Fat",
          "Low Fat",
          "Low Fat",
          "Low Fat",
          "Low Fat",
          "Low Fat",
          "Low Fat",
          "Low Fat",
          "Low Fat",
          "Low Fat",
          "Low Fat",
          "Low Fat",
          "Low Fat",
          "Low Fat",
          "Low Fat",
          "Low Fat",
          "Low Fat",
          "Low Fat",
          "Low Fat",
          "Low Fat",
          "Low Fat",
          "Low Fat",
          "Low Fat",
          "Low Fat",
          "Low Fat",
          "Low Fat",
          "Low Fat",
          "Low Fat",
          "Low Fat",
          "Low Fat",
          "Low Fat",
          "Low Fat",
          "Low Fat",
          "Low Fat",
          "Low Fat",
          "Low Fat",
          "Low Fat",
          "Low Fat",
          "Low Fat",
          "Low Fat",
          "Low Fat",
          "Low Fat",
          "Low Fat",
          "Low Fat",
          "Low Fat",
          "Low Fat",
          "Low Fat",
          "Low Fat",
          "Low Fat",
          "Low Fat",
          "Low Fat",
          "Low Fat",
          "Low Fat",
          "Low Fat",
          "Low Fat",
          "Low Fat",
          "Low Fat",
          "Low Fat",
          "Low Fat",
          "Low Fat",
          "Low Fat",
          "Low Fat",
          "Low Fat",
          "Low Fat",
          "Low Fat",
          "Low Fat",
          "Low Fat",
          "Low Fat",
          "Low Fat",
          "Low Fat",
          "Low Fat",
          "Low Fat",
          "Low Fat",
          "Low Fat",
          "Low Fat",
          "Low Fat",
          "Low Fat",
          "Low Fat",
          "Low Fat",
          "Low Fat",
          "Low Fat",
          "Low Fat",
          "Low Fat",
          "Low Fat",
          "Low Fat",
          "Low Fat",
          "Low Fat",
          "Low Fat",
          "Low Fat",
          "Low Fat",
          "Low Fat",
          "Low Fat",
          "Low Fat",
          "Low Fat",
          "Low Fat",
          "Low Fat",
          "Low Fat",
          "Low Fat",
          "Low Fat",
          "Low Fat",
          "Low Fat",
          "Low Fat",
          "Low Fat",
          "Low Fat",
          "Low Fat",
          "Low Fat",
          "Low Fat",
          "Low Fat",
          "Low Fat",
          "Low Fat",
          "Low Fat",
          "Low Fat",
          "Low Fat",
          "Low Fat",
          "Low Fat",
          "Low Fat",
          "Low Fat",
          "Low Fat",
          "Low Fat",
          "Low Fat",
          "Low Fat",
          "Low Fat",
          "Low Fat",
          "Low Fat",
          "Low Fat",
          "Low Fat",
          "Low Fat",
          "Low Fat",
          "Low Fat",
          "Low Fat",
          "Low Fat",
          "Low Fat",
          "Low Fat",
          "Low Fat",
          "Low Fat",
          "Low Fat",
          "Low Fat",
          "Low Fat",
          "Low Fat",
          "Low Fat",
          "Low Fat",
          "Low Fat",
          "Low Fat",
          "Low Fat",
          "Low Fat",
          "Low Fat",
          "Low Fat",
          "Low Fat",
          "Low Fat",
          "Low Fat",
          "Low Fat",
          "Low Fat",
          "Low Fat",
          "Low Fat",
          "Low Fat",
          "Low Fat",
          "Low Fat",
          "Low Fat",
          "Low Fat",
          "Low Fat",
          "Low Fat",
          "Low Fat",
          "Low Fat",
          "Low Fat",
          "Low Fat",
          "Low Fat",
          "Low Fat",
          "Low Fat",
          "Low Fat",
          "Low Fat",
          "Low Fat",
          "Low Fat",
          "Low Fat",
          "Low Fat",
          "Low Fat",
          "Low Fat",
          "Low Fat",
          "Low Fat",
          "Low Fat",
          "Low Fat",
          "Low Fat",
          "Low Fat",
          "Low Fat",
          "Low Fat",
          "Low Fat",
          "Low Fat",
          "Low Fat",
          "Low Fat",
          "Low Fat",
          "Low Fat",
          "Low Fat",
          "Low Fat",
          "Low Fat",
          "Low Fat",
          "Low Fat",
          "Low Fat",
          "Low Fat",
          "Low Fat",
          "Low Fat",
          "Low Fat",
          "Low Fat",
          "Low Fat",
          "Low Fat",
          "Low Fat",
          "Low Fat",
          "Low Fat",
          "Low Fat",
          "Low Fat",
          "Low Fat",
          "Low Fat",
          "Low Fat",
          "Low Fat",
          "Low Fat",
          "Low Fat",
          "Low Fat",
          "Low Fat",
          "Low Fat",
          "Low Fat",
          "Low Fat",
          "Low Fat",
          "Low Fat",
          "Low Fat",
          "Low Fat",
          "Low Fat",
          "Low Fat",
          "Low Fat",
          "Low Fat",
          "Low Fat",
          "Low Fat",
          "Low Fat",
          "Low Fat",
          "Low Fat",
          "Low Fat",
          "Low Fat",
          "Low Fat",
          "Low Fat",
          "Low Fat",
          "Low Fat",
          "Low Fat",
          "Low Fat",
          "Low Fat",
          "Low Fat",
          "Low Fat",
          "Low Fat",
          "Low Fat",
          "Low Fat",
          "Low Fat",
          "Low Fat",
          "Low Fat",
          "Low Fat",
          "Low Fat",
          "Low Fat",
          "Low Fat",
          "Low Fat",
          "Low Fat",
          "Low Fat",
          "Low Fat",
          "Low Fat",
          "Low Fat",
          "Low Fat",
          "Low Fat",
          "Low Fat",
          "Low Fat",
          "Low Fat",
          "Low Fat",
          "Low Fat",
          "Low Fat",
          "Low Fat",
          "Low Fat",
          "Low Fat",
          "Low Fat",
          "Low Fat",
          "Low Fat",
          "Low Fat",
          "Low Fat",
          "Low Fat",
          "Low Fat",
          "Low Fat",
          "Low Fat",
          "Low Fat",
          "Low Fat",
          "Low Fat",
          "Low Fat",
          "Low Fat",
          "Low Fat",
          "Low Fat",
          "Low Fat",
          "Low Fat",
          "Low Fat",
          "Low Fat",
          "Low Fat",
          "Low Fat",
          "Low Fat",
          "Low Fat",
          "Low Fat",
          "Low Fat",
          "Low Fat",
          "Low Fat",
          "Low Fat",
          "Low Fat",
          "Low Fat",
          "Low Fat",
          "Low Fat",
          "Low Fat",
          "Low Fat",
          "Low Fat",
          "Low Fat",
          "Low Fat",
          "Low Fat",
          "Low Fat",
          "Low Fat",
          "Low Fat",
          "Low Fat",
          "Low Fat",
          "Low Fat",
          "Low Fat",
          "Low Fat",
          "Low Fat",
          "Low Fat",
          "Low Fat",
          "Low Fat",
          "Low Fat",
          "Low Fat",
          "Low Fat",
          "Low Fat",
          "Low Fat",
          "Low Fat",
          "Low Fat",
          "Low Fat",
          "Low Fat",
          "Low Fat",
          "Low Fat",
          "Low Fat",
          "Low Fat",
          "Low Fat",
          "Low Fat",
          "Low Fat",
          "Low Fat",
          "Low Fat",
          "Low Fat",
          "Low Fat",
          "Low Fat",
          "Low Fat",
          "Low Fat",
          "Low Fat",
          "Low Fat",
          "Low Fat",
          "Low Fat",
          "Low Fat",
          "Low Fat",
          "Low Fat",
          "Low Fat",
          "Low Fat",
          "Low Fat",
          "Low Fat",
          "Low Fat",
          "Low Fat",
          "Low Fat",
          "Low Fat",
          "Low Fat",
          "Low Fat",
          "Low Fat",
          "Low Fat",
          "Low Fat",
          "Low Fat",
          "Low Fat",
          "Low Fat",
          "Low Fat",
          "Low Fat",
          "Low Fat",
          "Low Fat",
          "Low Fat",
          "Low Fat",
          "Low Fat",
          "Low Fat",
          "Low Fat",
          "Low Fat",
          "Low Fat",
          "Low Fat",
          "Low Fat",
          "Low Fat",
          "Low Fat",
          "Low Fat",
          "Low Fat",
          "Low Fat",
          "Low Fat",
          "Low Fat",
          "Low Fat",
          "Low Fat",
          "Low Fat",
          "Low Fat",
          "Low Fat",
          "Low Fat",
          "Low Fat",
          "Low Fat",
          "Low Fat",
          "Low Fat",
          "Low Fat",
          "Low Fat",
          "Low Fat",
          "Low Fat",
          "Low Fat",
          "Low Fat",
          "Low Fat",
          "Low Fat",
          "Low Fat",
          "Low Fat",
          "Low Fat",
          "Low Fat",
          "Low Fat",
          "Low Fat",
          "Low Fat",
          "Low Fat",
          "Low Fat",
          "Low Fat",
          "Low Fat",
          "Low Fat",
          "Low Fat",
          "Low Fat",
          "Low Fat",
          "Low Fat",
          "Low Fat",
          "Low Fat",
          "Low Fat",
          "Low Fat",
          "Low Fat",
          "Low Fat",
          "Low Fat",
          "Low Fat",
          "Low Fat",
          "Low Fat",
          "Low Fat",
          "Low Fat",
          "Low Fat",
          "Low Fat",
          "Low Fat",
          "Low Fat",
          "Low Fat",
          "Low Fat",
          "Low Fat",
          "Low Fat",
          "Low Fat",
          "Low Fat",
          "Low Fat",
          "Low Fat",
          "Low Fat",
          "Low Fat",
          "Low Fat",
          "Low Fat",
          "Low Fat",
          "Low Fat",
          "Low Fat",
          "Low Fat",
          "Low Fat",
          "Low Fat",
          "Low Fat",
          "Low Fat",
          "Low Fat",
          "Low Fat",
          "Low Fat",
          "Low Fat",
          "Low Fat",
          "Low Fat",
          "Low Fat",
          "Low Fat",
          "Low Fat",
          "Low Fat",
          "Low Fat",
          "Low Fat",
          "Low Fat",
          "Low Fat",
          "Low Fat",
          "Low Fat",
          "Low Fat",
          "Low Fat",
          "Low Fat",
          "Low Fat",
          "Low Fat",
          "Low Fat",
          "Low Fat",
          "Low Fat",
          "Low Fat",
          "Low Fat",
          "Low Fat",
          "Low Fat",
          "Low Fat",
          "Low Fat",
          "Low Fat",
          "Low Fat",
          "Low Fat",
          "Low Fat",
          "Low Fat",
          "Low Fat",
          "Low Fat",
          "Low Fat",
          "Low Fat",
          "Low Fat",
          "Low Fat",
          "Low Fat",
          "Low Fat",
          "Low Fat",
          "Low Fat",
          "Low Fat",
          "Low Fat",
          "Low Fat",
          "Low Fat",
          "Low Fat",
          "Low Fat",
          "Low Fat",
          "Low Fat",
          "Low Fat",
          "Low Fat",
          "Low Fat",
          "Low Fat",
          "Low Fat",
          "Low Fat",
          "Low Fat",
          "Low Fat",
          "Low Fat",
          "Low Fat",
          "Low Fat",
          "Low Fat",
          "Low Fat",
          "Low Fat",
          "Low Fat",
          "Low Fat",
          "Low Fat",
          "Low Fat",
          "Low Fat",
          "Low Fat",
          "Low Fat",
          "Low Fat",
          "Low Fat",
          "Low Fat",
          "Low Fat",
          "Low Fat",
          "Low Fat",
          "Low Fat",
          "Low Fat",
          "Low Fat",
          "Low Fat",
          "Low Fat",
          "Low Fat",
          "Low Fat",
          "Low Fat",
          "Low Fat",
          "Low Fat",
          "Low Fat",
          "Low Fat",
          "Low Fat",
          "Low Fat",
          "Low Fat",
          "Low Fat",
          "Low Fat",
          "Low Fat",
          "Low Fat",
          "Low Fat",
          "Low Fat",
          "Low Fat",
          "Low Fat",
          "Low Fat",
          "Low Fat",
          "Low Fat",
          "Low Fat",
          "Low Fat",
          "Low Fat",
          "Low Fat",
          "Low Fat",
          "Low Fat",
          "Low Fat",
          "Low Fat",
          "Low Fat",
          "Low Fat",
          "Low Fat",
          "Low Fat",
          "Low Fat",
          "Low Fat",
          "Low Fat",
          "Low Fat",
          "Low Fat",
          "Low Fat",
          "Low Fat",
          "Low Fat",
          "Low Fat",
          "Low Fat",
          "Low Fat",
          "Low Fat",
          "Low Fat",
          "Low Fat",
          "Low Fat",
          "Low Fat",
          "Low Fat",
          "Low Fat",
          "Low Fat",
          "Low Fat",
          "Low Fat",
          "Low Fat",
          "Low Fat",
          "Low Fat",
          "Low Fat",
          "Low Fat",
          "Low Fat",
          "Low Fat",
          "Low Fat",
          "Low Fat",
          "Low Fat",
          "Low Fat",
          "Low Fat",
          "Low Fat",
          "Low Fat",
          "Low Fat",
          "Low Fat",
          "Low Fat",
          "Low Fat",
          "Low Fat",
          "Low Fat",
          "Low Fat",
          "Low Fat",
          "Low Fat",
          "Low Fat",
          "Low Fat",
          "Low Fat",
          "Low Fat",
          "Low Fat",
          "Low Fat",
          "Low Fat",
          "Low Fat",
          "Low Fat",
          "Low Fat",
          "Low Fat",
          "Low Fat",
          "Low Fat",
          "Low Fat",
          "Low Fat",
          "Low Fat",
          "Low Fat",
          "Low Fat",
          "Low Fat",
          "Low Fat",
          "Low Fat",
          "Low Fat",
          "Low Fat",
          "Low Fat",
          "Low Fat",
          "Low Fat",
          "Low Fat",
          "Low Fat",
          "Low Fat",
          "Low Fat",
          "Low Fat",
          "Low Fat",
          "Low Fat",
          "Low Fat",
          "Low Fat",
          "Low Fat",
          "Low Fat",
          "Low Fat",
          "Low Fat",
          "Low Fat",
          "Low Fat",
          "Low Fat",
          "Low Fat",
          "Low Fat",
          "Low Fat",
          "Low Fat",
          "Low Fat",
          "Low Fat",
          "Low Fat",
          "Low Fat",
          "Low Fat",
          "Low Fat",
          "Low Fat",
          "Low Fat",
          "Low Fat",
          "Low Fat",
          "Low Fat",
          "Low Fat",
          "Low Fat",
          "Low Fat",
          "Low Fat",
          "Low Fat",
          "Low Fat",
          "Low Fat",
          "Low Fat",
          "Low Fat",
          "Low Fat",
          "Low Fat",
          "Low Fat",
          "Low Fat",
          "Low Fat",
          "Low Fat",
          "Low Fat",
          "Low Fat",
          "Low Fat",
          "Low Fat",
          "Low Fat",
          "Low Fat",
          "Low Fat",
          "Low Fat",
          "Low Fat",
          "Low Fat",
          "Low Fat",
          "Low Fat",
          "Low Fat",
          "Low Fat",
          "Low Fat",
          "Low Fat",
          "Low Fat",
          "Low Fat",
          "Low Fat",
          "Low Fat",
          "Low Fat",
          "Low Fat",
          "Low Fat",
          "Low Fat",
          "Low Fat",
          "Low Fat",
          "Low Fat",
          "Low Fat",
          "Low Fat",
          "Low Fat",
          "Low Fat",
          "Low Fat",
          "Low Fat",
          "Low Fat",
          "Low Fat",
          "Low Fat",
          "Low Fat",
          "Low Fat",
          "Low Fat",
          "Low Fat",
          "Low Fat",
          "Low Fat",
          "Low Fat",
          "Low Fat",
          "Low Fat",
          "Low Fat",
          "Low Fat",
          "Low Fat",
          "Low Fat",
          "Low Fat",
          "Low Fat",
          "Low Fat",
          "Low Fat",
          "Low Fat",
          "Low Fat",
          "Low Fat",
          "Low Fat",
          "Low Fat",
          "Low Fat",
          "Low Fat",
          "Low Fat",
          "Low Fat",
          "Low Fat",
          "Low Fat",
          "Low Fat",
          "Low Fat",
          "Low Fat",
          "Low Fat",
          "Low Fat",
          "Low Fat",
          "Low Fat",
          "Low Fat",
          "Low Fat",
          "Low Fat",
          "Low Fat",
          "Low Fat",
          "Low Fat",
          "Low Fat",
          "Low Fat",
          "Low Fat",
          "Low Fat",
          "Low Fat",
          "Low Fat",
          "Low Fat",
          "Low Fat",
          "Low Fat",
          "Low Fat",
          "Low Fat",
          "Low Fat",
          "Low Fat",
          "Low Fat",
          "Low Fat",
          "Low Fat",
          "Low Fat",
          "Low Fat",
          "Low Fat",
          "Low Fat",
          "Low Fat",
          "Low Fat",
          "Low Fat",
          "Low Fat",
          "Low Fat",
          "Low Fat",
          "Low Fat",
          "Low Fat",
          "Low Fat",
          "Low Fat",
          "Low Fat",
          "Low Fat",
          "Low Fat",
          "Low Fat",
          "Low Fat",
          "Low Fat",
          "Low Fat",
          "Low Fat",
          "Low Fat",
          "Low Fat",
          "Low Fat",
          "Low Fat",
          "Low Fat",
          "Low Fat",
          "Low Fat",
          "Low Fat",
          "Low Fat",
          "Low Fat",
          "Low Fat",
          "Low Fat",
          "Low Fat",
          "Low Fat",
          "Low Fat",
          "Low Fat",
          "Low Fat",
          "Low Fat",
          "Low Fat",
          "Low Fat",
          "Low Fat",
          "Low Fat",
          "Low Fat",
          "Low Fat",
          "Low Fat",
          "Low Fat",
          "Low Fat",
          "Low Fat",
          "Low Fat",
          "Low Fat",
          "Low Fat",
          "Low Fat",
          "Low Fat",
          "Low Fat",
          "Low Fat",
          "Low Fat",
          "Low Fat",
          "Low Fat",
          "Low Fat",
          "Low Fat",
          "Low Fat",
          "Low Fat",
          "Low Fat",
          "Low Fat",
          "Low Fat",
          "Low Fat",
          "Low Fat",
          "Low Fat",
          "Low Fat",
          "Low Fat",
          "Low Fat",
          "Low Fat",
          "Low Fat",
          "Low Fat",
          "Low Fat",
          "Low Fat",
          "Low Fat",
          "Low Fat",
          "Low Fat",
          "Low Fat",
          "Low Fat",
          "Low Fat",
          "Low Fat",
          "Low Fat",
          "Low Fat",
          "Low Fat",
          "Low Fat",
          "Low Fat",
          "Low Fat",
          "Low Fat",
          "Low Fat",
          "Low Fat",
          "Low Fat",
          "Low Fat",
          "Low Fat",
          "Low Fat",
          "Low Fat",
          "Low Fat",
          "Low Fat",
          "Low Fat",
          "Low Fat",
          "Low Fat",
          "Low Fat",
          "Low Fat",
          "Low Fat",
          "Low Fat",
          "Low Fat",
          "Low Fat",
          "Low Fat",
          "Low Fat",
          "Low Fat",
          "Low Fat",
          "Low Fat",
          "Low Fat",
          "Low Fat",
          "Low Fat",
          "Low Fat",
          "Low Fat",
          "Low Fat",
          "Low Fat",
          "Low Fat",
          "Low Fat",
          "Low Fat",
          "Low Fat",
          "Low Fat",
          "Low Fat",
          "Low Fat",
          "Low Fat",
          "Low Fat",
          "Low Fat",
          "Low Fat",
          "Low Fat",
          "Low Fat",
          "Low Fat",
          "Low Fat",
          "Low Fat",
          "Low Fat",
          "Low Fat",
          "Low Fat",
          "Low Fat",
          "Low Fat",
          "Low Fat",
          "Low Fat",
          "Low Fat",
          "Low Fat",
          "Low Fat",
          "Low Fat",
          "Low Fat",
          "Low Fat",
          "Low Fat",
          "Low Fat",
          "Low Fat",
          "Low Fat",
          "Low Fat",
          "Low Fat",
          "Low Fat",
          "Low Fat",
          "Low Fat",
          "Low Fat",
          "Low Fat",
          "Low Fat",
          "Low Fat",
          "Low Fat",
          "Low Fat",
          "Low Fat",
          "Low Fat",
          "Low Fat",
          "Low Fat",
          "Low Fat",
          "Low Fat",
          "Low Fat",
          "Low Fat",
          "Low Fat",
          "Low Fat",
          "Low Fat",
          "Low Fat",
          "Low Fat",
          "Low Fat",
          "Low Fat",
          "Low Fat",
          "Low Fat",
          "Low Fat",
          "Low Fat",
          "Low Fat",
          "Low Fat",
          "Low Fat",
          "Low Fat",
          "Low Fat",
          "Low Fat",
          "Low Fat",
          "Low Fat",
          "Low Fat",
          "Low Fat",
          "Low Fat",
          "Low Fat",
          "Low Fat",
          "Low Fat",
          "Low Fat",
          "Low Fat",
          "Low Fat",
          "Low Fat",
          "Low Fat",
          "Low Fat",
          "Low Fat",
          "Low Fat",
          "Low Fat",
          "Low Fat",
          "Low Fat",
          "Low Fat",
          "Low Fat",
          "Low Fat",
          "Low Fat",
          "Low Fat",
          "Low Fat",
          "Low Fat",
          "Low Fat",
          "Low Fat",
          "Low Fat",
          "Low Fat",
          "Low Fat",
          "Low Fat",
          "Low Fat",
          "Low Fat",
          "Low Fat",
          "Low Fat",
          "Low Fat",
          "Low Fat",
          "Low Fat",
          "Low Fat",
          "Low Fat",
          "Low Fat",
          "Low Fat",
          "Low Fat",
          "Low Fat",
          "Low Fat",
          "Low Fat",
          "Low Fat",
          "Low Fat",
          "Low Fat",
          "Low Fat",
          "Low Fat",
          "Low Fat",
          "Low Fat",
          "Low Fat",
          "Low Fat",
          "Low Fat",
          "Low Fat",
          "Low Fat",
          "Low Fat",
          "Low Fat",
          "Low Fat",
          "Low Fat",
          "Low Fat",
          "Low Fat",
          "Low Fat",
          "Low Fat",
          "Low Fat",
          "Low Fat",
          "Low Fat",
          "Low Fat",
          "Low Fat",
          "Low Fat",
          "Low Fat",
          "Low Fat",
          "Low Fat",
          "Low Fat",
          "Low Fat",
          "Low Fat",
          "Low Fat",
          "Low Fat",
          "Low Fat",
          "Low Fat",
          "Low Fat",
          "Low Fat",
          "Low Fat",
          "Low Fat",
          "Low Fat",
          "Low Fat",
          "Low Fat",
          "Low Fat",
          "Low Fat",
          "Low Fat",
          "Low Fat",
          "Low Fat",
          "Low Fat",
          "Low Fat",
          "Low Fat",
          "Low Fat",
          "Low Fat",
          "Low Fat",
          "Low Fat",
          "Low Fat",
          "Low Fat",
          "Low Fat",
          "Low Fat",
          "Low Fat",
          "Low Fat",
          "Low Fat",
          "Low Fat",
          "Low Fat",
          "Low Fat",
          "Low Fat",
          "Low Fat",
          "Low Fat",
          "Low Fat",
          "Low Fat",
          "Low Fat",
          "Low Fat",
          "Low Fat",
          "Low Fat",
          "Low Fat",
          "Low Fat",
          "Low Fat",
          "Low Fat",
          "Low Fat",
          "Low Fat",
          "Low Fat",
          "Low Fat",
          "Low Fat",
          "Low Fat",
          "Low Fat",
          "Low Fat",
          "Low Fat",
          "Low Fat",
          "Low Fat",
          "Low Fat",
          "Low Fat",
          "Low Fat",
          "Low Fat",
          "Low Fat",
          "Low Fat",
          "Low Fat",
          "Low Fat",
          "Low Fat",
          "Low Fat",
          "Low Fat",
          "Low Fat",
          "Low Fat",
          "Low Fat",
          "Low Fat",
          "Low Fat",
          "Low Fat",
          "Low Fat",
          "Low Fat",
          "Low Fat",
          "Low Fat",
          "Low Fat",
          "Low Fat",
          "Low Fat",
          "Low Fat",
          "Low Fat",
          "Low Fat",
          "Low Fat",
          "Low Fat",
          "Low Fat",
          "Low Fat",
          "Low Fat",
          "Low Fat",
          "Low Fat",
          "Low Fat",
          "Low Fat",
          "Low Fat",
          "Low Fat",
          "Low Fat",
          "Low Fat",
          "Low Fat",
          "Low Fat",
          "Low Fat",
          "Low Fat",
          "Low Fat",
          "Low Fat",
          "Low Fat",
          "Low Fat",
          "Low Fat",
          "Low Fat",
          "Low Fat",
          "Low Fat",
          "Low Fat",
          "Low Fat",
          "Low Fat",
          "Low Fat",
          "Low Fat",
          "Low Fat",
          "Low Fat",
          "Low Fat",
          "Low Fat",
          "Low Fat",
          "Low Fat",
          "Low Fat",
          "Low Fat",
          "Low Fat",
          "Low Fat",
          "Low Fat",
          "Low Fat",
          "Low Fat",
          "Low Fat",
          "Low Fat",
          "Low Fat",
          "Low Fat",
          "Low Fat",
          "Low Fat",
          "Low Fat",
          "Low Fat",
          "Low Fat",
          "Low Fat",
          "Low Fat",
          "Low Fat",
          "Low Fat",
          "Low Fat",
          "Low Fat",
          "Low Fat",
          "Low Fat",
          "Low Fat",
          "Low Fat",
          "Low Fat",
          "Low Fat",
          "Low Fat",
          "Low Fat",
          "Low Fat",
          "Low Fat",
          "Low Fat",
          "Low Fat",
          "Low Fat",
          "Low Fat",
          "Low Fat",
          "Low Fat",
          "Low Fat",
          "Low Fat",
          "Low Fat",
          "Low Fat",
          "Low Fat",
          "Low Fat",
          "Low Fat",
          "Low Fat",
          "Low Fat",
          "Low Fat",
          "Low Fat",
          "Low Fat",
          "Low Fat",
          "Low Fat",
          "Low Fat",
          "Low Fat",
          "Low Fat",
          "Low Fat",
          "Low Fat",
          "Low Fat",
          "Low Fat",
          "Low Fat",
          "Low Fat",
          "Low Fat",
          "Low Fat",
          "Low Fat",
          "Low Fat",
          "Low Fat",
          "Low Fat",
          "Low Fat",
          "Low Fat",
          "Low Fat",
          "Low Fat",
          "Low Fat",
          "Low Fat",
          "Low Fat",
          "Low Fat",
          "Low Fat",
          "Low Fat",
          "Low Fat",
          "Low Fat",
          "Low Fat",
          "Low Fat",
          "Low Fat",
          "Low Fat",
          "Low Fat",
          "Low Fat",
          "Low Fat",
          "Low Fat",
          "Low Fat",
          "Low Fat",
          "Low Fat",
          "Low Fat",
          "Low Fat",
          "Low Fat",
          "Low Fat",
          "Low Fat",
          "Low Fat",
          "Low Fat",
          "Low Fat",
          "Low Fat",
          "Low Fat",
          "Low Fat",
          "Low Fat",
          "Low Fat",
          "Low Fat",
          "Low Fat",
          "Low Fat",
          "Low Fat",
          "Low Fat",
          "Low Fat",
          "Low Fat",
          "Low Fat",
          "Low Fat",
          "Low Fat",
          "Low Fat",
          "Low Fat",
          "Low Fat",
          "Low Fat",
          "Low Fat",
          "Low Fat",
          "Low Fat",
          "Low Fat",
          "Low Fat",
          "Low Fat",
          "Low Fat",
          "Low Fat",
          "Low Fat",
          "Low Fat",
          "Low Fat",
          "Low Fat",
          "Low Fat",
          "Low Fat",
          "Low Fat",
          "Low Fat",
          "Low Fat",
          "Low Fat",
          "Low Fat",
          "Low Fat",
          "Low Fat",
          "Low Fat",
          "Low Fat",
          "Low Fat",
          "Low Fat",
          "Low Fat",
          "Low Fat",
          "Low Fat",
          "Low Fat",
          "Low Fat",
          "Low Fat",
          "Low Fat",
          "Low Fat",
          "Low Fat",
          "Low Fat",
          "Low Fat",
          "Low Fat",
          "Low Fat",
          "Low Fat",
          "Low Fat",
          "Low Fat",
          "Low Fat",
          "Low Fat",
          "Low Fat",
          "Low Fat",
          "Low Fat",
          "Low Fat",
          "Low Fat",
          "Low Fat",
          "Low Fat",
          "Low Fat",
          "Low Fat",
          "Low Fat",
          "Low Fat",
          "Low Fat",
          "Low Fat",
          "Low Fat",
          "Low Fat",
          "Low Fat",
          "Low Fat",
          "Low Fat",
          "Low Fat",
          "Low Fat",
          "Low Fat",
          "Low Fat",
          "Low Fat",
          "Low Fat",
          "Low Fat",
          "Low Fat",
          "Low Fat",
          "Low Fat",
          "Low Fat",
          "Low Fat",
          "Low Fat",
          "Low Fat",
          "Low Fat",
          "Low Fat",
          "Low Fat",
          "Low Fat",
          "Low Fat",
          "Low Fat",
          "Low Fat",
          "Low Fat",
          "Low Fat",
          "Low Fat",
          "Low Fat",
          "Low Fat",
          "Low Fat",
          "Low Fat",
          "Low Fat",
          "Low Fat",
          "Low Fat",
          "Low Fat",
          "Low Fat",
          "Low Fat",
          "Low Fat",
          "Low Fat",
          "Low Fat",
          "Low Fat",
          "Low Fat",
          "Low Fat",
          "Low Fat",
          "Low Fat",
          "Low Fat",
          "Low Fat",
          "Low Fat",
          "Low Fat",
          "Low Fat",
          "Low Fat",
          "Low Fat",
          "Low Fat",
          "Low Fat",
          "Low Fat",
          "Low Fat",
          "Low Fat",
          "Low Fat",
          "Low Fat",
          "Low Fat",
          "Low Fat",
          "Low Fat",
          "Low Fat",
          "Low Fat",
          "Low Fat",
          "Low Fat",
          "Low Fat",
          "Low Fat",
          "Low Fat",
          "Low Fat",
          "Low Fat",
          "Low Fat",
          "Low Fat",
          "Low Fat",
          "Low Fat",
          "Low Fat",
          "Low Fat",
          "Low Fat",
          "Low Fat",
          "Low Fat",
          "Low Fat",
          "Low Fat",
          "Low Fat",
          "Low Fat",
          "Low Fat",
          "Low Fat",
          "Low Fat",
          "Low Fat",
          "Low Fat",
          "Low Fat",
          "Low Fat",
          "Low Fat",
          "Low Fat",
          "Low Fat",
          "Low Fat",
          "Low Fat",
          "Low Fat",
          "Low Fat",
          "Low Fat",
          "Low Fat",
          "Low Fat",
          "Low Fat",
          "Low Fat",
          "Low Fat",
          "Low Fat",
          "Low Fat",
          "Low Fat",
          "Low Fat",
          "Low Fat",
          "Low Fat",
          "Low Fat",
          "Low Fat",
          "Low Fat",
          "Low Fat",
          "Low Fat",
          "Low Fat",
          "Low Fat",
          "Low Fat",
          "Low Fat",
          "Low Fat",
          "Low Fat",
          "Low Fat",
          "Low Fat",
          "Low Fat",
          "Low Fat",
          "Low Fat",
          "Low Fat",
          "Low Fat",
          "Low Fat",
          "Low Fat",
          "Low Fat",
          "Low Fat",
          "Low Fat",
          "Low Fat",
          "Low Fat",
          "Low Fat",
          "Low Fat",
          "Low Fat",
          "Low Fat",
          "Low Fat",
          "Low Fat",
          "Low Fat",
          "Low Fat",
          "Low Fat",
          "Low Fat",
          "Low Fat",
          "Low Fat",
          "Low Fat",
          "Low Fat",
          "Low Fat",
          "Low Fat",
          "Low Fat",
          "Low Fat",
          "Low Fat",
          "Low Fat",
          "Low Fat",
          "Low Fat",
          "Low Fat",
          "Low Fat",
          "Low Fat",
          "Low Fat",
          "Low Fat",
          "Low Fat",
          "Low Fat",
          "Low Fat",
          "Low Fat",
          "Low Fat",
          "Low Fat",
          "Low Fat",
          "Low Fat",
          "Low Fat",
          "Low Fat",
          "Low Fat",
          "Low Fat",
          "Low Fat",
          "Low Fat",
          "Low Fat",
          "Low Fat",
          "Low Fat",
          "Low Fat",
          "Low Fat",
          "Low Fat",
          "Low Fat",
          "Low Fat",
          "Low Fat",
          "Low Fat",
          "Low Fat",
          "Low Fat",
          "Low Fat",
          "Low Fat",
          "Low Fat",
          "Low Fat",
          "Low Fat",
          "Low Fat",
          "Low Fat",
          "Low Fat",
          "Low Fat",
          "Low Fat",
          "Low Fat",
          "Low Fat",
          "Low Fat",
          "Low Fat",
          "Low Fat",
          "Low Fat",
          "Low Fat",
          "Low Fat",
          "Low Fat",
          "Low Fat",
          "Low Fat",
          "Low Fat",
          "Low Fat",
          "Low Fat",
          "Low Fat",
          "Low Fat",
          "Low Fat",
          "Low Fat",
          "Low Fat",
          "Low Fat",
          "Low Fat",
          "Low Fat",
          "Low Fat",
          "Low Fat",
          "Low Fat",
          "Low Fat",
          "Low Fat",
          "Low Fat",
          "Low Fat",
          "Low Fat",
          "Low Fat",
          "Low Fat",
          "Low Fat",
          "Low Fat",
          "Low Fat",
          "Low Fat",
          "Low Fat",
          "Low Fat",
          "Low Fat",
          "Low Fat",
          "Low Fat",
          "Low Fat",
          "Low Fat",
          "Low Fat",
          "Low Fat",
          "Low Fat",
          "Low Fat",
          "Low Fat",
          "Low Fat",
          "Low Fat",
          "Low Fat",
          "Low Fat",
          "Low Fat",
          "Low Fat",
          "Low Fat",
          "Low Fat",
          "Low Fat",
          "Low Fat",
          "Low Fat",
          "Low Fat",
          "Low Fat",
          "Low Fat",
          "Low Fat",
          "Low Fat",
          "Low Fat",
          "Low Fat",
          "Low Fat",
          "Low Fat",
          "Low Fat",
          "Low Fat",
          "Low Fat",
          "Low Fat",
          "Low Fat",
          "Low Fat",
          "Low Fat",
          "Low Fat",
          "Low Fat",
          "Low Fat",
          "Low Fat",
          "Low Fat",
          "Low Fat",
          "Low Fat",
          "Low Fat",
          "Low Fat",
          "Low Fat",
          "Low Fat",
          "Low Fat",
          "Low Fat",
          "Low Fat",
          "Low Fat",
          "Low Fat",
          "Low Fat",
          "Low Fat",
          "Low Fat",
          "Low Fat",
          "Low Fat",
          "Low Fat",
          "Low Fat",
          "Low Fat",
          "Low Fat",
          "Low Fat",
          "Low Fat",
          "Low Fat",
          "Low Fat",
          "Low Fat",
          "Low Fat",
          "Low Fat",
          "Low Fat",
          "Low Fat",
          "Low Fat",
          "Low Fat",
          "Low Fat",
          "Low Fat",
          "Low Fat",
          "Low Fat",
          "Low Fat",
          "Low Fat",
          "Low Fat",
          "Low Fat",
          "Low Fat",
          "Low Fat",
          "Low Fat",
          "Low Fat",
          "Low Fat",
          "Low Fat",
          "Low Fat",
          "Low Fat",
          "Low Fat",
          "Low Fat",
          "Low Fat",
          "Low Fat",
          "Low Fat",
          "Low Fat",
          "Low Fat",
          "Low Fat",
          "Low Fat",
          "Low Fat",
          "Low Fat",
          "Low Fat",
          "Low Fat",
          "Low Fat",
          "Low Fat",
          "Low Fat",
          "Low Fat",
          "Low Fat",
          "Low Fat",
          "Low Fat",
          "Low Fat",
          "Low Fat",
          "Low Fat",
          "Low Fat",
          "Low Fat",
          "Low Fat",
          "Low Fat",
          "Low Fat",
          "Low Fat",
          "Low Fat",
          "Low Fat",
          "Low Fat",
          "Low Fat",
          "Low Fat",
          "Low Fat",
          "Low Fat",
          "Low Fat",
          "Low Fat",
          "Low Fat",
          "Low Fat",
          "Low Fat",
          "Low Fat",
          "Low Fat",
          "Low Fat",
          "Low Fat",
          "Low Fat",
          "Low Fat",
          "Low Fat",
          "Low Fat",
          "Low Fat",
          "Low Fat",
          "Low Fat",
          "Low Fat",
          "Low Fat",
          "Low Fat",
          "Low Fat",
          "Low Fat",
          "Low Fat",
          "Low Fat",
          "Low Fat",
          "Low Fat",
          "Low Fat",
          "Low Fat",
          "Low Fat",
          "Low Fat",
          "Low Fat",
          "Low Fat",
          "Low Fat",
          "Low Fat",
          "Low Fat",
          "Low Fat",
          "Low Fat",
          "Low Fat",
          "Low Fat",
          "Low Fat",
          "Low Fat",
          "Low Fat",
          "Low Fat",
          "Low Fat",
          "Low Fat",
          "Low Fat",
          "Low Fat",
          "Low Fat",
          "Low Fat",
          "Low Fat",
          "Low Fat",
          "Low Fat",
          "Low Fat",
          "Low Fat",
          "Low Fat",
          "Low Fat",
          "Low Fat",
          "Low Fat",
          "Low Fat",
          "Low Fat",
          "Low Fat",
          "Low Fat",
          "Low Fat",
          "Low Fat",
          "Low Fat",
          "Low Fat",
          "Low Fat",
          "Low Fat",
          "Low Fat",
          "Low Fat",
          "Low Fat",
          "Low Fat",
          "Low Fat",
          "Low Fat",
          "Low Fat",
          "Low Fat",
          "Low Fat",
          "Low Fat",
          "Low Fat",
          "Low Fat",
          "Low Fat",
          "Low Fat",
          "Low Fat",
          "Low Fat",
          "Low Fat",
          "Low Fat",
          "Low Fat",
          "Low Fat",
          "Low Fat",
          "Low Fat",
          "Low Fat",
          "Low Fat",
          "Low Fat",
          "Low Fat",
          "Low Fat",
          "Low Fat",
          "Low Fat",
          "Low Fat",
          "Low Fat",
          "Low Fat",
          "Low Fat",
          "Low Fat",
          "Low Fat",
          "Low Fat",
          "Low Fat",
          "Low Fat",
          "Low Fat",
          "Low Fat",
          "Low Fat",
          "Low Fat",
          "Low Fat",
          "Low Fat",
          "Low Fat",
          "Low Fat",
          "Low Fat",
          "Low Fat",
          "Low Fat",
          "Low Fat",
          "Low Fat",
          "Low Fat",
          "Low Fat",
          "Low Fat",
          "Low Fat",
          "Low Fat",
          "Low Fat",
          "Low Fat",
          "Low Fat",
          "Low Fat",
          "Low Fat",
          "Low Fat",
          "Low Fat",
          "Low Fat",
          "Low Fat",
          "Low Fat",
          "Low Fat",
          "Low Fat",
          "Low Fat",
          "Low Fat",
          "Low Fat",
          "Low Fat",
          "Low Fat",
          "Low Fat",
          "Low Fat",
          "Low Fat",
          "Low Fat",
          "Low Fat",
          "Low Fat",
          "Low Fat",
          "Low Fat",
          "Low Fat",
          "Low Fat",
          "Low Fat",
          "Low Fat",
          "Low Fat",
          "Low Fat",
          "Low Fat",
          "Low Fat",
          "Low Fat",
          "Low Fat",
          "Low Fat",
          "Low Fat",
          "Low Fat",
          "Low Fat",
          "Low Fat",
          "Low Fat",
          "Low Fat",
          "Low Fat",
          "Low Fat",
          "Low Fat",
          "Low Fat",
          "Low Fat",
          "Low Fat",
          "Low Fat",
          "Low Fat",
          "Low Fat",
          "Low Fat",
          "Low Fat",
          "Low Fat",
          "Low Fat",
          "Low Fat",
          "Low Fat",
          "Low Fat",
          "Low Fat",
          "Low Fat",
          "Low Fat",
          "Low Fat",
          "Low Fat",
          "Low Fat",
          "Low Fat",
          "Low Fat",
          "Low Fat",
          "Low Fat",
          "Low Fat",
          "Low Fat",
          "Low Fat",
          "Low Fat",
          "Low Fat",
          "Low Fat",
          "Low Fat",
          "Low Fat",
          "Low Fat",
          "Low Fat",
          "Low Fat",
          "Low Fat",
          "Low Fat",
          "Low Fat",
          "Low Fat",
          "Low Fat",
          "Low Fat",
          "Low Fat",
          "Low Fat",
          "Low Fat",
          "Low Fat",
          "Low Fat",
          "Low Fat",
          "Low Fat",
          "Low Fat",
          "Low Fat",
          "Low Fat",
          "Low Fat",
          "Low Fat",
          "Low Fat",
          "Low Fat",
          "Low Fat",
          "Low Fat",
          "Low Fat",
          "Low Fat",
          "Low Fat",
          "Low Fat",
          "Low Fat",
          "Low Fat",
          "Low Fat",
          "Low Fat",
          "Low Fat",
          "Low Fat",
          "Low Fat",
          "Low Fat",
          "Low Fat",
          "Low Fat",
          "Low Fat",
          "Low Fat",
          "Low Fat",
          "Low Fat",
          "Low Fat",
          "Low Fat",
          "Low Fat",
          "Low Fat",
          "Low Fat",
          "Low Fat",
          "Low Fat",
          "Low Fat",
          "Low Fat",
          "Low Fat",
          "Low Fat",
          "Low Fat",
          "Low Fat",
          "Low Fat",
          "Low Fat",
          "Low Fat",
          "Low Fat",
          "Low Fat",
          "Low Fat",
          "Low Fat",
          "Low Fat",
          "Low Fat",
          "Low Fat",
          "Low Fat",
          "Low Fat",
          "Low Fat",
          "Low Fat",
          "Low Fat",
          "Low Fat",
          "Low Fat",
          "Low Fat",
          "Low Fat",
          "Low Fat",
          "Low Fat",
          "Low Fat",
          "Low Fat",
          "Low Fat",
          "Low Fat",
          "Low Fat",
          "Low Fat",
          "Low Fat",
          "Low Fat",
          "Low Fat",
          "Low Fat",
          "Low Fat",
          "Low Fat",
          "Low Fat",
          "Low Fat",
          "Low Fat",
          "Low Fat",
          "Low Fat",
          "Low Fat",
          "Low Fat",
          "Low Fat",
          "Low Fat",
          "Low Fat",
          "Low Fat",
          "Low Fat",
          "Low Fat",
          "Low Fat",
          "Low Fat",
          "Low Fat",
          "Low Fat",
          "Low Fat",
          "Low Fat",
          "Low Fat",
          "Low Fat",
          "Low Fat",
          "Low Fat",
          "Low Fat",
          "Low Fat",
          "Low Fat",
          "Low Fat",
          "Low Fat",
          "Low Fat",
          "Low Fat",
          "Low Fat",
          "Low Fat",
          "Low Fat",
          "Low Fat",
          "Low Fat",
          "Low Fat",
          "Low Fat",
          "Low Fat",
          "Low Fat",
          "Low Fat",
          "Low Fat",
          "Low Fat",
          "Low Fat",
          "Low Fat",
          "Low Fat",
          "Low Fat",
          "Low Fat",
          "Low Fat",
          "Low Fat",
          "Low Fat",
          "Low Fat",
          "Low Fat",
          "Low Fat",
          "Low Fat",
          "Low Fat",
          "Low Fat",
          "Low Fat",
          "Low Fat",
          "Low Fat",
          "Low Fat",
          "Low Fat",
          "Low Fat",
          "Low Fat",
          "Low Fat",
          "Low Fat",
          "Low Fat",
          "Low Fat",
          "Low Fat",
          "Low Fat",
          "Low Fat",
          "Low Fat",
          "Low Fat",
          "Low Fat",
          "Low Fat",
          "Low Fat",
          "Low Fat",
          "Low Fat",
          "Low Fat",
          "Low Fat",
          "Low Fat",
          "Low Fat",
          "Low Fat",
          "Low Fat",
          "Low Fat",
          "Low Fat",
          "Low Fat",
          "Low Fat",
          "Low Fat",
          "Low Fat",
          "Low Fat",
          "Low Fat",
          "Low Fat",
          "Low Fat",
          "Low Fat",
          "Low Fat",
          "Low Fat",
          "Low Fat",
          "Low Fat",
          "Low Fat",
          "Low Fat",
          "Low Fat",
          "Low Fat",
          "Low Fat",
          "Low Fat",
          "Low Fat",
          "Low Fat",
          "Low Fat",
          "Low Fat",
          "Low Fat",
          "Low Fat",
          "Low Fat",
          "Low Fat",
          "Low Fat",
          "Low Fat",
          "Low Fat",
          "Low Fat",
          "Low Fat",
          "Low Fat",
          "Low Fat",
          "Low Fat",
          "Low Fat",
          "Low Fat",
          "Low Fat",
          "Low Fat",
          "Low Fat",
          "Low Fat",
          "Low Fat",
          "Low Fat",
          "Low Fat",
          "Low Fat",
          "Low Fat",
          "Low Fat",
          "Low Fat",
          "Low Fat",
          "Low Fat",
          "Low Fat",
          "Low Fat",
          "Low Fat",
          "Low Fat",
          "Low Fat",
          "Low Fat",
          "Low Fat",
          "Low Fat",
          "Low Fat",
          "Low Fat",
          "Low Fat",
          "Low Fat",
          "Low Fat",
          "Low Fat",
          "Low Fat",
          "Low Fat",
          "Low Fat",
          "Low Fat",
          "Low Fat",
          "Low Fat",
          "Low Fat",
          "Low Fat",
          "Low Fat",
          "Low Fat",
          "Low Fat",
          "Low Fat",
          "Low Fat",
          "Low Fat",
          "Low Fat",
          "Low Fat",
          "Low Fat",
          "Low Fat",
          "Low Fat",
          "Low Fat",
          "Low Fat",
          "Low Fat",
          "Low Fat",
          "Low Fat",
          "Low Fat",
          "Low Fat",
          "Low Fat",
          "Low Fat",
          "Low Fat",
          "Low Fat",
          "Low Fat",
          "Low Fat",
          "Low Fat",
          "Low Fat",
          "Low Fat",
          "Low Fat",
          "Low Fat",
          "Low Fat",
          "Low Fat",
          "Low Fat",
          "Low Fat",
          "Low Fat",
          "Low Fat",
          "Low Fat",
          "Low Fat",
          "Low Fat",
          "Low Fat",
          "Low Fat",
          "Low Fat",
          "Low Fat",
          "Low Fat",
          "Low Fat",
          "Low Fat",
          "Low Fat",
          "Low Fat",
          "Low Fat",
          "Low Fat",
          "Low Fat",
          "Low Fat",
          "Low Fat",
          "Low Fat",
          "Low Fat",
          "Low Fat",
          "Low Fat",
          "Low Fat",
          "Low Fat",
          "Low Fat",
          "Low Fat",
          "Low Fat",
          "Low Fat",
          "Low Fat",
          "Low Fat",
          "Low Fat",
          "Low Fat",
          "Low Fat",
          "Low Fat",
          "Low Fat",
          "Low Fat",
          "Low Fat",
          "Low Fat",
          "Low Fat",
          "Low Fat",
          "Low Fat",
          "Low Fat",
          "Low Fat",
          "Low Fat",
          "Low Fat",
          "Low Fat",
          "Low Fat",
          "Low Fat",
          "Low Fat",
          "Low Fat",
          "Low Fat",
          "Low Fat",
          "Low Fat",
          "Low Fat",
          "Low Fat",
          "Low Fat",
          "Low Fat",
          "Low Fat",
          "Low Fat",
          "Low Fat",
          "Low Fat",
          "Low Fat",
          "Low Fat",
          "Low Fat",
          "Low Fat",
          "Low Fat",
          "Low Fat",
          "Low Fat",
          "Low Fat",
          "Low Fat",
          "Low Fat",
          "Low Fat",
          "Low Fat",
          "Low Fat",
          "Low Fat",
          "Low Fat",
          "Low Fat",
          "Low Fat",
          "Low Fat",
          "Low Fat",
          "Low Fat",
          "Low Fat",
          "Low Fat",
          "Low Fat",
          "Low Fat",
          "Low Fat",
          "Low Fat",
          "Low Fat",
          "Low Fat",
          "Low Fat",
          "Low Fat",
          "Low Fat",
          "Low Fat",
          "Low Fat",
          "Low Fat",
          "Low Fat",
          "Low Fat",
          "Low Fat",
          "Low Fat",
          "Low Fat",
          "Low Fat",
          "Low Fat",
          "Low Fat",
          "Low Fat",
          "Low Fat",
          "Low Fat",
          "Low Fat",
          "Low Fat",
          "Low Fat",
          "Low Fat",
          "Low Fat",
          "Low Fat",
          "Low Fat",
          "Low Fat",
          "Low Fat",
          "Low Fat",
          "Low Fat",
          "Low Fat",
          "Low Fat",
          "Low Fat",
          "Low Fat",
          "Low Fat",
          "Low Fat",
          "Low Fat",
          "Low Fat",
          "Low Fat",
          "Low Fat",
          "Low Fat",
          "Low Fat",
          "Low Fat",
          "Low Fat",
          "Low Fat",
          "Low Fat",
          "Low Fat",
          "Low Fat",
          "Low Fat",
          "Low Fat",
          "Low Fat",
          "Low Fat",
          "Low Fat",
          "Low Fat",
          "Low Fat",
          "Low Fat",
          "Low Fat",
          "Low Fat",
          "Low Fat",
          "Low Fat",
          "Low Fat",
          "Low Fat",
          "Low Fat",
          "Low Fat",
          "Low Fat",
          "Low Fat",
          "Low Fat",
          "Low Fat",
          "Low Fat",
          "Low Fat",
          "Low Fat",
          "Low Fat",
          "Low Fat",
          "Low Fat",
          "Low Fat",
          "Low Fat",
          "Low Fat",
          "Low Fat",
          "Low Fat",
          "Low Fat",
          "Low Fat",
          "Low Fat",
          "Low Fat",
          "Low Fat",
          "Low Fat",
          "Low Fat",
          "Low Fat",
          "Low Fat",
          "Low Fat",
          "Low Fat",
          "Low Fat",
          "Low Fat",
          "Low Fat",
          "Low Fat",
          "Low Fat",
          "Low Fat",
          "Low Fat",
          "Low Fat",
          "Low Fat",
          "Low Fat",
          "Low Fat",
          "Low Fat",
          "Low Fat",
          "Low Fat",
          "Low Fat",
          "Low Fat",
          "Low Fat",
          "Low Fat",
          "Low Fat",
          "Low Fat",
          "Low Fat",
          "Low Fat",
          "Low Fat",
          "Low Fat",
          "Low Fat",
          "Low Fat",
          "Low Fat",
          "Low Fat",
          "Low Fat",
          "Low Fat",
          "Low Fat",
          "Low Fat",
          "Low Fat",
          "Low Fat",
          "Low Fat",
          "Low Fat",
          "Low Fat",
          "Low Fat",
          "Low Fat",
          "Low Fat",
          "Low Fat",
          "Low Fat",
          "Low Fat",
          "Low Fat",
          "Low Fat",
          "Low Fat",
          "Low Fat",
          "Low Fat",
          "Low Fat",
          "Low Fat",
          "Low Fat",
          "Low Fat",
          "Low Fat",
          "Low Fat",
          "Low Fat",
          "Low Fat",
          "Low Fat",
          "Low Fat",
          "Low Fat",
          "Low Fat",
          "Low Fat",
          "Low Fat",
          "Low Fat",
          "Low Fat",
          "Low Fat",
          "Low Fat",
          "Low Fat",
          "Low Fat",
          "Low Fat",
          "Low Fat",
          "Low Fat",
          "Low Fat",
          "Low Fat",
          "Low Fat",
          "Low Fat",
          "Low Fat",
          "Low Fat",
          "Low Fat",
          "Low Fat",
          "Low Fat",
          "Low Fat",
          "Low Fat",
          "Low Fat",
          "Low Fat",
          "Low Fat",
          "Low Fat",
          "Low Fat",
          "Low Fat",
          "Low Fat",
          "Low Fat",
          "Low Fat",
          "Low Fat",
          "Low Fat",
          "Low Fat",
          "Low Fat",
          "Low Fat",
          "Low Fat",
          "Low Fat",
          "Low Fat",
          "Low Fat",
          "Low Fat",
          "Low Fat",
          "Low Fat",
          "Low Fat",
          "Low Fat",
          "Low Fat",
          "Low Fat",
          "Low Fat",
          "Low Fat",
          "Low Fat",
          "Low Fat",
          "Low Fat",
          "Low Fat",
          "Low Fat",
          "Low Fat",
          "Low Fat",
          "Low Fat",
          "Low Fat",
          "Low Fat",
          "Low Fat",
          "Low Fat",
          "Low Fat",
          "Low Fat",
          "Low Fat",
          "Low Fat",
          "Low Fat",
          "Low Fat",
          "Low Fat",
          "Low Fat",
          "Low Fat",
          "Low Fat",
          "Low Fat",
          "Low Fat",
          "Low Fat",
          "Low Fat",
          "Low Fat",
          "Low Fat",
          "Low Fat",
          "Low Fat",
          "Low Fat",
          "Low Fat",
          "Low Fat",
          "Low Fat",
          "Low Fat",
          "Low Fat",
          "Low Fat",
          "Low Fat",
          "Low Fat",
          "Low Fat",
          "Low Fat",
          "Low Fat",
          "Low Fat",
          "Low Fat",
          "Low Fat",
          "Low Fat",
          "Low Fat",
          "Low Fat",
          "Low Fat",
          "Low Fat",
          "Low Fat",
          "Low Fat",
          "Low Fat",
          "Low Fat",
          "Low Fat",
          "Low Fat",
          "Low Fat",
          "Low Fat",
          "Low Fat",
          "Low Fat",
          "Low Fat",
          "Low Fat",
          "Low Fat",
          "Low Fat",
          "Low Fat",
          "Low Fat",
          "Low Fat",
          "Low Fat",
          "Low Fat",
          "Low Fat",
          "Low Fat",
          "Low Fat",
          "Low Fat",
          "Low Fat",
          "Low Fat",
          "Low Fat",
          "Low Fat",
          "Low Fat",
          "Low Fat",
          "Low Fat",
          "Low Fat",
          "Low Fat",
          "Low Fat",
          "Low Fat",
          "Low Fat",
          "Low Fat",
          "Low Fat",
          "Low Fat",
          "Low Fat",
          "Low Fat",
          "Low Fat",
          "Low Fat",
          "Low Fat",
          "Low Fat",
          "Low Fat",
          "Low Fat",
          "Low Fat",
          "Low Fat",
          "Low Fat",
          "Low Fat",
          "Low Fat",
          "Low Fat",
          "Low Fat",
          "Low Fat",
          "Low Fat",
          "Low Fat",
          "Low Fat",
          "Low Fat",
          "Low Fat",
          "Low Fat",
          "Low Fat",
          "Low Fat",
          "Low Fat",
          "Low Fat",
          "Low Fat",
          "Low Fat",
          "Low Fat",
          "Low Fat",
          "Low Fat",
          "Low Fat",
          "Low Fat",
          "Low Fat",
          "Low Fat",
          "Low Fat",
          "Low Fat",
          "Low Fat",
          "Low Fat",
          "Low Fat",
          "Low Fat",
          "Low Fat",
          "Low Fat",
          "Low Fat",
          "Low Fat",
          "Low Fat",
          "Low Fat",
          "Low Fat",
          "Low Fat",
          "Low Fat",
          "Low Fat",
          "Low Fat",
          "Low Fat",
          "Low Fat",
          "Low Fat",
          "Low Fat",
          "Low Fat",
          "Low Fat",
          "Low Fat",
          "Low Fat",
          "Low Fat",
          "Low Fat",
          "Low Fat",
          "Low Fat",
          "Low Fat",
          "Low Fat",
          "Low Fat",
          "Low Fat",
          "Low Fat",
          "Low Fat",
          "Low Fat",
          "Low Fat",
          "Low Fat",
          "Low Fat",
          "Low Fat",
          "Low Fat",
          "Low Fat",
          "Low Fat",
          "Low Fat",
          "Low Fat",
          "Low Fat",
          "Low Fat",
          "Low Fat",
          "Low Fat",
          "Low Fat",
          "Low Fat",
          "Low Fat",
          "Low Fat",
          "Low Fat",
          "Low Fat",
          "Low Fat",
          "Low Fat",
          "Low Fat",
          "Low Fat",
          "Low Fat",
          "Low Fat",
          "Low Fat",
          "Low Fat",
          "Low Fat",
          "Low Fat",
          "Low Fat",
          "Low Fat",
          "Low Fat",
          "Low Fat",
          "Low Fat",
          "Low Fat",
          "Low Fat",
          "Low Fat",
          "Low Fat",
          "Low Fat",
          "Low Fat",
          "Low Fat",
          "Low Fat",
          "Low Fat",
          "Low Fat",
          "Low Fat",
          "Low Fat",
          "Low Fat",
          "Low Fat",
          "Low Fat",
          "Low Fat",
          "Low Fat",
          "Low Fat",
          "Low Fat",
          "Low Fat",
          "Low Fat",
          "Low Fat",
          "Low Fat",
          "Low Fat",
          "Low Fat",
          "Low Fat",
          "Low Fat",
          "Low Fat",
          "Low Fat",
          "Low Fat",
          "Low Fat",
          "Low Fat",
          "Low Fat",
          "Low Fat",
          "Low Fat",
          "Low Fat",
          "Low Fat",
          "Low Fat",
          "Low Fat",
          "Low Fat",
          "Low Fat",
          "Low Fat",
          "Low Fat",
          "Low Fat",
          "Low Fat",
          "Low Fat",
          "Low Fat",
          "Low Fat",
          "Low Fat",
          "Low Fat",
          "Low Fat",
          "Low Fat",
          "Low Fat",
          "Low Fat",
          "Low Fat",
          "Low Fat",
          "Low Fat",
          "Low Fat",
          "Low Fat",
          "Low Fat",
          "Low Fat",
          "Low Fat",
          "Low Fat",
          "Low Fat",
          "Low Fat",
          "Low Fat",
          "Low Fat",
          "Low Fat",
          "Low Fat",
          "Low Fat",
          "Low Fat",
          "Low Fat",
          "Low Fat",
          "Low Fat",
          "Low Fat",
          "Low Fat",
          "Low Fat",
          "Low Fat",
          "Low Fat",
          "Low Fat",
          "Low Fat",
          "Low Fat",
          "Low Fat",
          "Low Fat",
          "Low Fat",
          "Low Fat",
          "Low Fat",
          "Low Fat",
          "Low Fat",
          "Low Fat",
          "Low Fat",
          "Low Fat",
          "Low Fat",
          "Low Fat",
          "Low Fat",
          "Low Fat",
          "Low Fat",
          "Low Fat",
          "Low Fat",
          "Low Fat",
          "Low Fat",
          "Low Fat",
          "Low Fat",
          "Low Fat",
          "Low Fat",
          "Low Fat",
          "Low Fat",
          "Low Fat",
          "Low Fat",
          "Low Fat",
          "Low Fat",
          "Low Fat",
          "Low Fat",
          "Low Fat",
          "Low Fat",
          "Low Fat",
          "Low Fat",
          "Low Fat",
          "Low Fat",
          "Low Fat",
          "Low Fat",
          "Low Fat",
          "Low Fat",
          "Low Fat",
          "Low Fat",
          "Low Fat",
          "Low Fat",
          "Low Fat",
          "Low Fat",
          "Low Fat",
          "Low Fat",
          "Low Fat",
          "Low Fat",
          "Low Fat",
          "Low Fat",
          "Low Fat",
          "Low Fat",
          "Low Fat",
          "Low Fat",
          "Low Fat",
          "Low Fat",
          "Low Fat",
          "Low Fat",
          "Low Fat",
          "Low Fat",
          "Low Fat",
          "Low Fat",
          "Low Fat",
          "Low Fat",
          "Low Fat",
          "Low Fat",
          "Low Fat",
          "Low Fat",
          "Low Fat",
          "Low Fat",
          "Low Fat",
          "Low Fat",
          "Low Fat",
          "Low Fat",
          "Low Fat",
          "Low Fat",
          "Low Fat",
          "Low Fat",
          "Low Fat",
          "Low Fat",
          "Low Fat",
          "Low Fat",
          "Low Fat",
          "Low Fat",
          "Low Fat",
          "Low Fat",
          "Low Fat",
          "Low Fat",
          "Low Fat",
          "Low Fat",
          "Low Fat",
          "Low Fat",
          "Low Fat",
          "Low Fat",
          "Low Fat",
          "Low Fat",
          "Low Fat",
          "Low Fat",
          "Low Fat",
          "Low Fat",
          "Low Fat",
          "Low Fat",
          "Low Fat",
          "Low Fat",
          "Low Fat",
          "Low Fat",
          "Low Fat",
          "Low Fat",
          "Low Fat",
          "Low Fat",
          "Low Fat",
          "Low Fat",
          "Low Fat",
          "Low Fat",
          "Low Fat",
          "Low Fat",
          "Low Fat",
          "Low Fat",
          "Low Fat",
          "Low Fat",
          "Low Fat",
          "Low Fat",
          "Low Fat",
          "Low Fat",
          "Low Fat",
          "Low Fat",
          "Low Fat",
          "Low Fat",
          "Low Fat",
          "Low Fat",
          "Low Fat",
          "Low Fat",
          "Low Fat",
          "Low Fat",
          "Low Fat",
          "Low Fat",
          "Low Fat",
          "Low Fat",
          "Low Fat",
          "Low Fat",
          "Low Fat",
          "Low Fat",
          "Low Fat",
          "Low Fat",
          "Low Fat",
          "Low Fat",
          "Low Fat",
          "Low Fat",
          "Low Fat",
          "Low Fat",
          "Low Fat",
          "Low Fat",
          "Low Fat",
          "Low Fat",
          "Low Fat",
          "Low Fat",
          "Low Fat",
          "Low Fat",
          "Low Fat",
          "Low Fat",
          "Low Fat",
          "Low Fat",
          "Low Fat",
          "Low Fat",
          "Low Fat",
          "Low Fat",
          "Low Fat",
          "Low Fat",
          "Low Fat",
          "Low Fat",
          "Low Fat",
          "Low Fat",
          "Low Fat",
          "Low Fat",
          "Low Fat",
          "Low Fat",
          "Low Fat",
          "Low Fat",
          "Low Fat",
          "Low Fat",
          "Low Fat",
          "Low Fat",
          "Low Fat",
          "Low Fat",
          "Low Fat",
          "Low Fat",
          "Low Fat",
          "Low Fat",
          "Low Fat",
          "Low Fat",
          "Low Fat",
          "Low Fat",
          "Low Fat",
          "Low Fat",
          "Low Fat",
          "Low Fat",
          "Low Fat",
          "Low Fat",
          "Low Fat",
          "Low Fat",
          "Low Fat",
          "Low Fat",
          "Low Fat",
          "Low Fat",
          "Low Fat",
          "Low Fat",
          "Low Fat",
          "Low Fat",
          "Low Fat",
          "Low Fat",
          "Low Fat",
          "Low Fat",
          "Low Fat",
          "Low Fat",
          "Low Fat",
          "Low Fat",
          "Low Fat",
          "Low Fat",
          "Low Fat",
          "Low Fat",
          "Low Fat",
          "Low Fat",
          "Low Fat",
          "Low Fat",
          "Low Fat",
          "Low Fat",
          "Low Fat",
          "Low Fat",
          "Low Fat",
          "Low Fat",
          "Low Fat",
          "Low Fat",
          "Low Fat",
          "Low Fat",
          "Low Fat",
          "Low Fat",
          "Low Fat",
          "Low Fat",
          "Low Fat",
          "Low Fat",
          "Low Fat",
          "Low Fat",
          "Low Fat",
          "Low Fat",
          "Low Fat",
          "Low Fat",
          "Low Fat",
          "Low Fat",
          "Low Fat",
          "Low Fat",
          "Low Fat",
          "Low Fat",
          "Low Fat",
          "Low Fat",
          "Low Fat",
          "Low Fat",
          "Low Fat",
          "Low Fat",
          "Low Fat",
          "Low Fat",
          "Low Fat",
          "Low Fat",
          "Low Fat",
          "Low Fat",
          "Low Fat",
          "Low Fat",
          "Low Fat",
          "Low Fat",
          "Low Fat",
          "Low Fat",
          "Low Fat",
          "Low Fat",
          "Low Fat",
          "Low Fat",
          "Low Fat",
          "Low Fat",
          "Low Fat",
          "Low Fat",
          "Low Fat",
          "Low Fat",
          "Low Fat",
          "Low Fat",
          "Low Fat",
          "Low Fat",
          "Low Fat",
          "Low Fat",
          "Low Fat",
          "Low Fat",
          "Low Fat",
          "Low Fat",
          "Low Fat",
          "Low Fat",
          "Low Fat",
          "Low Fat",
          "Low Fat",
          "Low Fat",
          "Low Fat",
          "Low Fat",
          "Low Fat",
          "Low Fat",
          "Low Fat",
          "Low Fat",
          "Low Fat",
          "Low Fat",
          "Low Fat",
          "Low Fat",
          "Low Fat",
          "Low Fat",
          "Low Fat",
          "Low Fat",
          "Low Fat",
          "Low Fat",
          "Low Fat",
          "Low Fat",
          "Low Fat",
          "Low Fat",
          "Low Fat",
          "Low Fat",
          "Low Fat",
          "Low Fat",
          "Low Fat",
          "Low Fat",
          "Low Fat",
          "Low Fat",
          "Low Fat",
          "Low Fat",
          "Low Fat",
          "Low Fat",
          "Low Fat",
          "Low Fat",
          "Low Fat",
          "Low Fat",
          "Low Fat",
          "Low Fat",
          "Low Fat",
          "Low Fat",
          "Low Fat",
          "Low Fat",
          "Low Fat",
          "Low Fat",
          "Low Fat",
          "Low Fat",
          "Low Fat",
          "Low Fat",
          "Low Fat",
          "Low Fat",
          "Low Fat",
          "Low Fat",
          "Low Fat",
          "Low Fat",
          "Low Fat",
          "Low Fat",
          "Low Fat",
          "Low Fat",
          "Low Fat",
          "Low Fat",
          "Low Fat",
          "Low Fat",
          "Low Fat",
          "Low Fat",
          "Low Fat",
          "Low Fat",
          "Low Fat",
          "Low Fat",
          "Low Fat",
          "Low Fat",
          "Low Fat",
          "Low Fat",
          "Low Fat",
          "Low Fat",
          "Low Fat",
          "Low Fat",
          "Low Fat",
          "Low Fat",
          "Low Fat",
          "Low Fat",
          "Low Fat",
          "Low Fat",
          "Low Fat",
          "Low Fat",
          "Low Fat",
          "Low Fat",
          "Low Fat",
          "Low Fat",
          "Low Fat",
          "Low Fat",
          "Low Fat",
          "Low Fat",
          "Low Fat",
          "Low Fat",
          "Low Fat",
          "Low Fat",
          "Low Fat",
          "Low Fat",
          "Low Fat",
          "Low Fat",
          "Low Fat",
          "Low Fat",
          "Low Fat",
          "Low Fat",
          "Low Fat",
          "Low Fat",
          "Low Fat",
          "Low Fat",
          "Low Fat",
          "Low Fat",
          "Low Fat",
          "Low Fat",
          "Low Fat",
          "Low Fat",
          "Low Fat",
          "Low Fat",
          "Low Fat",
          "Low Fat",
          "Low Fat",
          "Low Fat",
          "Low Fat",
          "Low Fat",
          "Low Fat",
          "Low Fat",
          "Low Fat",
          "Low Fat",
          "Low Fat",
          "Low Fat",
          "Low Fat",
          "Low Fat",
          "Low Fat",
          "Low Fat",
          "Low Fat",
          "Low Fat",
          "Low Fat",
          "Low Fat",
          "Low Fat",
          "Low Fat",
          "Low Fat",
          "Low Fat",
          "Low Fat",
          "Low Fat",
          "Low Fat",
          "Low Fat",
          "Low Fat",
          "Low Fat",
          "Low Fat",
          "Low Fat",
          "Low Fat",
          "Low Fat",
          "Low Fat",
          "Low Fat",
          "Low Fat",
          "Low Fat",
          "Low Fat",
          "Low Fat",
          "Low Fat",
          "Low Fat",
          "Low Fat",
          "Low Fat",
          "Low Fat",
          "Low Fat",
          "Low Fat",
          "Low Fat",
          "Low Fat",
          "Low Fat",
          "Low Fat",
          "Low Fat",
          "Low Fat",
          "Low Fat",
          "Low Fat",
          "Low Fat",
          "Low Fat",
          "Low Fat",
          "Low Fat",
          "Low Fat",
          "Low Fat",
          "Low Fat",
          "Low Fat",
          "Low Fat",
          "Low Fat",
          "Low Fat",
          "Low Fat",
          "Low Fat",
          "Low Fat",
          "Low Fat",
          "Low Fat",
          "Low Fat",
          "Low Fat",
          "Low Fat",
          "Low Fat",
          "Low Fat",
          "Low Fat",
          "Low Fat",
          "Low Fat",
          "Low Fat",
          "Low Fat",
          "Low Fat",
          "Low Fat",
          "Low Fat",
          "Low Fat",
          "Low Fat",
          "Low Fat",
          "Low Fat",
          "Low Fat",
          "Low Fat",
          "Low Fat",
          "Low Fat",
          "Low Fat",
          "Low Fat",
          "Low Fat",
          "Low Fat",
          "Low Fat",
          "Low Fat",
          "Low Fat",
          "Low Fat",
          "Low Fat",
          "Low Fat",
          "Low Fat",
          "Low Fat",
          "Low Fat",
          "Low Fat",
          "Low Fat",
          "Low Fat",
          "Low Fat",
          "Low Fat",
          "Low Fat",
          "Low Fat",
          "Low Fat",
          "Low Fat",
          "Low Fat",
          "Low Fat",
          "Low Fat",
          "Low Fat",
          "Low Fat",
          "Low Fat",
          "Low Fat",
          "Low Fat",
          "Low Fat",
          "Low Fat",
          "Low Fat",
          "Low Fat",
          "Low Fat",
          "Low Fat",
          "Low Fat",
          "Low Fat",
          "Low Fat",
          "Low Fat",
          "Low Fat",
          "Low Fat",
          "Low Fat",
          "Low Fat",
          "Low Fat",
          "Low Fat",
          "Low Fat",
          "Low Fat",
          "Low Fat",
          "Low Fat",
          "Low Fat",
          "Low Fat",
          "Low Fat",
          "Low Fat",
          "Low Fat",
          "Low Fat",
          "Low Fat",
          "Low Fat",
          "Low Fat",
          "Low Fat",
          "Low Fat",
          "Low Fat",
          "Low Fat",
          "Low Fat",
          "Low Fat",
          "Low Fat",
          "Low Fat",
          "Low Fat",
          "Low Fat",
          "Low Fat",
          "Low Fat",
          "Low Fat",
          "Low Fat",
          "Low Fat",
          "Low Fat",
          "Low Fat",
          "Low Fat",
          "Low Fat",
          "Low Fat",
          "Low Fat",
          "Low Fat",
          "Low Fat",
          "Low Fat",
          "Low Fat",
          "Low Fat",
          "Low Fat",
          "Low Fat",
          "Low Fat",
          "Low Fat",
          "Low Fat",
          "Low Fat",
          "Low Fat",
          "Low Fat",
          "Low Fat",
          "Low Fat",
          "Low Fat",
          "Low Fat",
          "Low Fat",
          "Low Fat",
          "Low Fat",
          "Low Fat",
          "Low Fat",
          "Low Fat",
          "Low Fat",
          "Low Fat",
          "Low Fat",
          "Low Fat",
          "Low Fat",
          "Low Fat",
          "Low Fat",
          "Low Fat",
          "Low Fat",
          "Low Fat",
          "Low Fat",
          "Low Fat",
          "Low Fat",
          "Low Fat",
          "Low Fat",
          "Low Fat",
          "Low Fat",
          "Low Fat",
          "Low Fat",
          "Low Fat",
          "Low Fat",
          "Low Fat",
          "Low Fat",
          "Low Fat",
          "Low Fat",
          "Low Fat",
          "Low Fat",
          "Low Fat",
          "Low Fat",
          "Low Fat",
          "Low Fat",
          "Low Fat",
          "Low Fat",
          "Low Fat",
          "Low Fat",
          "Low Fat",
          "Low Fat",
          "Low Fat",
          "Low Fat",
          "Low Fat",
          "Low Fat",
          "Low Fat",
          "Low Fat",
          "Low Fat",
          "Low Fat",
          "Low Fat",
          "Low Fat",
          "Low Fat",
          "Low Fat",
          "Low Fat",
          "Low Fat",
          "Low Fat",
          "Low Fat",
          "Low Fat",
          "Low Fat",
          "Low Fat",
          "Low Fat",
          "Low Fat",
          "Low Fat",
          "Low Fat",
          "Low Fat",
          "Low Fat",
          "Low Fat",
          "Low Fat",
          "Low Fat",
          "Low Fat",
          "Low Fat",
          "Low Fat",
          "Low Fat",
          "Low Fat",
          "Low Fat",
          "Low Fat",
          "Low Fat",
          "Low Fat",
          "Low Fat",
          "Low Fat",
          "Low Fat",
          "Low Fat",
          "Low Fat",
          "Low Fat",
          "Low Fat",
          "Low Fat",
          "Low Fat",
          "Low Fat",
          "Low Fat",
          "Low Fat",
          "Low Fat",
          "Low Fat",
          "Low Fat",
          "Low Fat",
          "Low Fat",
          "Low Fat",
          "Low Fat",
          "Low Fat",
          "Low Fat",
          "Low Fat",
          "Low Fat",
          "Low Fat",
          "Low Fat",
          "Low Fat",
          "Low Fat",
          "Low Fat",
          "Low Fat",
          "Low Fat",
          "Low Fat",
          "Low Fat",
          "Low Fat",
          "Low Fat",
          "Low Fat",
          "Low Fat",
          "Low Fat",
          "Low Fat",
          "Low Fat",
          "Low Fat",
          "Low Fat",
          "Low Fat",
          "Low Fat",
          "Low Fat",
          "Low Fat",
          "Low Fat",
          "Low Fat",
          "Low Fat",
          "Low Fat",
          "Low Fat",
          "Low Fat",
          "Low Fat",
          "Low Fat",
          "Low Fat",
          "Low Fat",
          "Low Fat",
          "Low Fat",
          "Low Fat",
          "Low Fat",
          "Low Fat",
          "Low Fat",
          "Low Fat",
          "Low Fat",
          "Low Fat",
          "Low Fat",
          "Low Fat",
          "Low Fat",
          "Low Fat",
          "Low Fat",
          "Low Fat",
          "Low Fat",
          "Low Fat",
          "Low Fat",
          "Low Fat",
          "Low Fat",
          "Low Fat",
          "Low Fat",
          "Low Fat",
          "Low Fat",
          "Low Fat",
          "Low Fat",
          "Low Fat",
          "Low Fat",
          "Low Fat",
          "Low Fat",
          "Low Fat",
          "Low Fat",
          "Low Fat",
          "Low Fat",
          "Low Fat",
          "Low Fat",
          "Low Fat",
          "Low Fat",
          "Low Fat",
          "Low Fat",
          "Low Fat",
          "Low Fat",
          "Low Fat",
          "Low Fat",
          "Low Fat",
          "Low Fat",
          "Low Fat",
          "Low Fat",
          "Low Fat",
          "Low Fat",
          "Low Fat",
          "Low Fat",
          "Low Fat",
          "Low Fat",
          "Low Fat",
          "Low Fat",
          "Low Fat",
          "Low Fat",
          "Low Fat",
          "Low Fat",
          "Low Fat",
          "Low Fat",
          "Low Fat",
          "Low Fat",
          "Low Fat",
          "Low Fat",
          "Low Fat",
          "Low Fat",
          "Low Fat",
          "Low Fat",
          "Low Fat",
          "Low Fat",
          "Low Fat",
          "Low Fat",
          "Low Fat",
          "Low Fat",
          "Low Fat",
          "Low Fat",
          "Low Fat",
          "Low Fat",
          "Low Fat",
          "Low Fat",
          "Low Fat",
          "Low Fat",
          "Low Fat",
          "Low Fat",
          "Low Fat",
          "Low Fat",
          "Low Fat",
          "Low Fat",
          "Low Fat",
          "Low Fat",
          "Low Fat",
          "Low Fat",
          "Low Fat",
          "Low Fat",
          "Low Fat",
          "Low Fat",
          "Low Fat",
          "Low Fat",
          "Low Fat",
          "Low Fat",
          "Low Fat",
          "Low Fat",
          "Low Fat",
          "Low Fat",
          "Low Fat",
          "Low Fat",
          "Low Fat",
          "Low Fat",
          "Low Fat",
          "Low Fat",
          "Low Fat",
          "Low Fat",
          "Low Fat",
          "Low Fat",
          "Low Fat",
          "Low Fat",
          "Low Fat",
          "Low Fat",
          "Low Fat",
          "Low Fat",
          "Low Fat",
          "Low Fat",
          "Low Fat",
          "Low Fat",
          "Low Fat",
          "Low Fat",
          "Low Fat",
          "Low Fat",
          "Low Fat",
          "Low Fat",
          "Low Fat",
          "Low Fat",
          "Low Fat",
          "Low Fat",
          "Low Fat",
          "Low Fat",
          "Low Fat",
          "Low Fat",
          "Low Fat",
          "Low Fat",
          "Low Fat",
          "Low Fat",
          "Low Fat",
          "Low Fat",
          "Low Fat",
          "Low Fat",
          "Low Fat",
          "Low Fat",
          "Low Fat",
          "Low Fat",
          "Low Fat",
          "Low Fat",
          "Low Fat",
          "Low Fat",
          "Low Fat",
          "Low Fat",
          "Low Fat",
          "Low Fat",
          "Low Fat",
          "Low Fat",
          "Low Fat",
          "Low Fat",
          "Low Fat",
          "Low Fat",
          "Low Fat",
          "Low Fat",
          "Low Fat",
          "Low Fat",
          "Low Fat",
          "Low Fat",
          "Low Fat",
          "Low Fat",
          "Low Fat",
          "Low Fat",
          "Low Fat",
          "Low Fat",
          "Low Fat",
          "Low Fat",
          "Low Fat",
          "Low Fat",
          "Low Fat",
          "Low Fat",
          "Low Fat",
          "Low Fat",
          "Low Fat",
          "Low Fat",
          "Low Fat",
          "Low Fat",
          "Low Fat",
          "Low Fat",
          "Low Fat",
          "Low Fat",
          "Low Fat",
          "Low Fat",
          "Low Fat",
          "Low Fat",
          "Low Fat",
          "Low Fat",
          "Low Fat",
          "Low Fat",
          "Low Fat",
          "Low Fat",
          "Low Fat",
          "Low Fat",
          "Low Fat",
          "Low Fat",
          "Low Fat",
          "Low Fat",
          "Low Fat",
          "Low Fat",
          "Low Fat",
          "Low Fat",
          "Low Fat",
          "Low Fat",
          "Low Fat",
          "Low Fat",
          "Low Fat",
          "Low Fat",
          "Low Fat",
          "Low Fat",
          "Low Fat",
          "Low Fat",
          "Low Fat",
          "Low Fat",
          "Low Fat",
          "Low Fat",
          "Low Fat",
          "Low Fat",
          "Low Fat",
          "Low Fat",
          "Low Fat",
          "Low Fat",
          "Low Fat",
          "Low Fat",
          "Low Fat",
          "Low Fat",
          "Low Fat",
          "Low Fat",
          "Low Fat",
          "Low Fat",
          "Low Fat",
          "Low Fat",
          "Low Fat",
          "Low Fat",
          "Low Fat",
          "Low Fat",
          "Low Fat",
          "Low Fat",
          "Low Fat",
          "Low Fat",
          "Low Fat",
          "Low Fat",
          "Low Fat",
          "Low Fat",
          "Low Fat",
          "Low Fat",
          "Low Fat",
          "Low Fat",
          "Low Fat",
          "Low Fat",
          "Low Fat",
          "Low Fat",
          "Low Fat",
          "Low Fat",
          "Low Fat",
          "Low Fat",
          "Low Fat",
          "Low Fat",
          "Low Fat",
          "Low Fat",
          "Low Fat",
          "Low Fat",
          "Low Fat",
          "Low Fat",
          "Low Fat",
          "Low Fat",
          "Low Fat",
          "Low Fat",
          "Low Fat",
          "Low Fat",
          "Low Fat",
          "Low Fat",
          "Low Fat",
          "Low Fat",
          "Low Fat",
          "Low Fat",
          "Low Fat",
          "Low Fat",
          "Low Fat",
          "Low Fat",
          "Low Fat",
          "Low Fat",
          "Low Fat",
          "Low Fat",
          "Low Fat",
          "Low Fat",
          "Low Fat",
          "Low Fat",
          "Low Fat",
          "Low Fat",
          "Low Fat",
          "Low Fat",
          "Low Fat",
          "Low Fat",
          "Low Fat",
          "Low Fat",
          "Low Fat",
          "Low Fat",
          "Low Fat",
          "Low Fat",
          "Low Fat",
          "Low Fat",
          "Low Fat",
          "Low Fat",
          "Low Fat",
          "Low Fat",
          "Low Fat",
          "Low Fat",
          "Low Fat",
          "Low Fat",
          "Low Fat",
          "Low Fat",
          "Low Fat",
          "Low Fat",
          "Low Fat",
          "Low Fat",
          "Low Fat",
          "Low Fat",
          "Low Fat",
          "Low Fat",
          "Low Fat",
          "Low Fat",
          "Low Fat",
          "Low Fat",
          "Low Fat",
          "Low Fat",
          "Low Fat",
          "Low Fat",
          "Low Fat",
          "Low Fat",
          "Low Fat",
          "Low Fat",
          "Low Fat",
          "Low Fat",
          "Low Fat",
          "Low Fat",
          "Low Fat",
          "Low Fat",
          "Low Fat",
          "Low Fat",
          "Low Fat",
          "Low Fat",
          "Low Fat",
          "Low Fat",
          "Low Fat",
          "Low Fat",
          "Low Fat",
          "Low Fat",
          "Low Fat",
          "Low Fat",
          "Low Fat",
          "Low Fat",
          "Low Fat",
          "Low Fat",
          "Low Fat",
          "Low Fat",
          "Low Fat",
          "Low Fat",
          "Low Fat",
          "Low Fat",
          "Low Fat",
          "Low Fat",
          "Low Fat",
          "Low Fat",
          "Low Fat",
          "Low Fat",
          "Low Fat",
          "Low Fat",
          "Low Fat",
          "Low Fat",
          "Low Fat",
          "Low Fat",
          "Low Fat",
          "Low Fat",
          "Low Fat",
          "Low Fat",
          "Low Fat",
          "Low Fat",
          "Low Fat",
          "Low Fat",
          "Low Fat",
          "Low Fat",
          "Low Fat",
          "Low Fat",
          "Low Fat",
          "Low Fat",
          "Low Fat",
          "Low Fat",
          "Low Fat",
          "Low Fat",
          "Low Fat",
          "Low Fat",
          "Low Fat",
          "Low Fat",
          "Low Fat",
          "Low Fat",
          "Low Fat",
          "Low Fat",
          "Low Fat",
          "Low Fat",
          "Low Fat",
          "Low Fat",
          "Low Fat",
          "Low Fat",
          "Low Fat",
          "Low Fat",
          "Low Fat",
          "Low Fat",
          "Low Fat",
          "Low Fat",
          "Low Fat",
          "Low Fat",
          "Low Fat",
          "Low Fat",
          "Low Fat",
          "Low Fat",
          "Low Fat",
          "Low Fat",
          "Low Fat",
          "Low Fat",
          "Low Fat",
          "Low Fat",
          "Low Fat",
          "Low Fat",
          "Low Fat",
          "Low Fat",
          "Low Fat",
          "Low Fat",
          "Low Fat",
          "Low Fat",
          "Low Fat",
          "Low Fat",
          "Low Fat",
          "Low Fat",
          "Low Fat",
          "Low Fat",
          "Low Fat",
          "Low Fat",
          "Low Fat",
          "Low Fat",
          "Low Fat",
          "Low Fat",
          "Low Fat",
          "Low Fat",
          "Low Fat",
          "Low Fat",
          "Low Fat",
          "Low Fat",
          "Low Fat",
          "Low Fat",
          "Low Fat",
          "Low Fat",
          "Low Fat",
          "Low Fat",
          "Low Fat",
          "Low Fat",
          "Low Fat",
          "Low Fat",
          "Low Fat",
          "Low Fat",
          "Low Fat",
          "Low Fat",
          "Low Fat",
          "Low Fat",
          "Low Fat",
          "Low Fat",
          "Low Fat",
          "Low Fat",
          "Low Fat",
          "Low Fat",
          "Low Fat",
          "Low Fat",
          "Low Fat",
          "Low Fat",
          "Low Fat",
          "Low Fat",
          "Low Fat",
          "Low Fat",
          "Low Fat",
          "Low Fat",
          "Low Fat",
          "Low Fat",
          "Low Fat",
          "Low Fat",
          "Low Fat",
          "Low Fat",
          "Low Fat",
          "Low Fat",
          "Low Fat",
          "Low Fat",
          "Low Fat",
          "Low Fat",
          "Low Fat",
          "Low Fat",
          "Low Fat",
          "Low Fat",
          "Low Fat",
          "Low Fat",
          "Low Fat",
          "Low Fat",
          "Low Fat",
          "Low Fat",
          "Low Fat",
          "Low Fat",
          "Low Fat",
          "Low Fat",
          "Low Fat",
          "Low Fat",
          "Low Fat",
          "Low Fat",
          "Low Fat",
          "Low Fat",
          "Low Fat",
          "Low Fat",
          "Low Fat",
          "Low Fat",
          "Low Fat",
          "Low Fat",
          "Low Fat",
          "Low Fat",
          "Low Fat",
          "Low Fat",
          "Low Fat",
          "Low Fat",
          "Low Fat",
          "Low Fat",
          "Low Fat",
          "Low Fat",
          "Low Fat",
          "Low Fat",
          "Low Fat",
          "Low Fat",
          "Low Fat",
          "Low Fat",
          "Low Fat",
          "Low Fat",
          "Low Fat",
          "Low Fat",
          "Low Fat",
          "Low Fat",
          "Low Fat",
          "Low Fat",
          "Low Fat",
          "Low Fat",
          "Low Fat",
          "Low Fat",
          "Low Fat",
          "Low Fat",
          "Low Fat",
          "Low Fat",
          "Low Fat",
          "Low Fat",
          "Low Fat",
          "Low Fat",
          "Low Fat",
          "Low Fat",
          "Low Fat",
          "Low Fat",
          "Low Fat",
          "Low Fat",
          "Low Fat",
          "Low Fat",
          "Low Fat",
          "Low Fat",
          "Low Fat",
          "Low Fat",
          "Low Fat",
          "Low Fat",
          "Low Fat",
          "Low Fat",
          "Low Fat",
          "Low Fat",
          "Low Fat",
          "Low Fat",
          "Low Fat",
          "Low Fat",
          "Low Fat",
          "Low Fat",
          "Low Fat",
          "Low Fat",
          "Low Fat",
          "Low Fat",
          "Low Fat",
          "Low Fat",
          "Low Fat",
          "Low Fat",
          "Low Fat",
          "Low Fat",
          "Low Fat",
          "Low Fat",
          "Low Fat",
          "Low Fat",
          "Low Fat",
          "Low Fat",
          "Low Fat",
          "Low Fat",
          "Low Fat",
          "Low Fat",
          "Low Fat",
          "Low Fat",
          "Low Fat",
          "Low Fat",
          "Low Fat",
          "Low Fat",
          "Low Fat",
          "Low Fat",
          "Low Fat",
          "Low Fat",
          "Low Fat",
          "Low Fat",
          "Low Fat",
          "Low Fat",
          "Low Fat",
          "Low Fat",
          "Low Fat",
          "Low Fat",
          "Low Fat",
          "Low Fat",
          "Low Fat",
          "Low Fat",
          "Low Fat",
          "Low Fat",
          "Low Fat",
          "Low Fat",
          "Low Fat",
          "Low Fat",
          "Low Fat",
          "Low Fat",
          "Low Fat",
          "Low Fat",
          "Low Fat",
          "Low Fat",
          "Low Fat",
          "Low Fat",
          "Low Fat",
          "Low Fat",
          "Low Fat",
          "Low Fat",
          "Low Fat",
          "Low Fat",
          "Low Fat",
          "Low Fat",
          "Low Fat",
          "Low Fat",
          "Low Fat",
          "Low Fat",
          "Low Fat",
          "Low Fat",
          "Low Fat",
          "Low Fat",
          "Low Fat",
          "Low Fat",
          "Low Fat",
          "Low Fat",
          "Low Fat",
          "Low Fat",
          "Low Fat",
          "Low Fat",
          "Low Fat",
          "Low Fat",
          "Low Fat",
          "Low Fat",
          "Low Fat",
          "Low Fat",
          "Low Fat",
          "Low Fat",
          "Low Fat",
          "Low Fat",
          "Low Fat",
          "Low Fat",
          "Low Fat",
          "Low Fat",
          "Low Fat",
          "Low Fat",
          "Low Fat",
          "Low Fat",
          "Low Fat",
          "Low Fat",
          "Low Fat",
          "Low Fat",
          "Low Fat",
          "Low Fat",
          "Low Fat",
          "Low Fat",
          "Low Fat",
          "Low Fat",
          "Low Fat",
          "Low Fat",
          "Low Fat",
          "Low Fat",
          "Low Fat",
          "Low Fat",
          "Low Fat",
          "Low Fat",
          "Low Fat",
          "Low Fat",
          "Low Fat",
          "Low Fat",
          "Low Fat",
          "Low Fat",
          "Low Fat",
          "Low Fat",
          "Low Fat",
          "Low Fat",
          "Low Fat",
          "Low Fat",
          "Low Fat",
          "Low Fat",
          "Low Fat",
          "Low Fat",
          "Low Fat",
          "Low Fat",
          "Low Fat",
          "Low Fat",
          "Low Fat",
          "Low Fat",
          "Low Fat",
          "Low Fat",
          "Low Fat",
          "Low Fat",
          "Low Fat",
          "Low Fat",
          "Low Fat",
          "Low Fat",
          "Low Fat",
          "Low Fat",
          "Low Fat",
          "Low Fat",
          "Low Fat",
          "Low Fat",
          "Low Fat",
          "Low Fat",
          "Low Fat",
          "Low Fat",
          "Low Fat",
          "Low Fat",
          "Low Fat",
          "Low Fat",
          "Low Fat",
          "Low Fat",
          "Low Fat",
          "Low Fat",
          "Low Fat",
          "Low Fat",
          "Low Fat",
          "Low Fat",
          "Low Fat",
          "Low Fat",
          "Low Fat",
          "Low Fat",
          "Low Fat",
          "Low Fat",
          "Low Fat",
          "Low Fat",
          "Low Fat",
          "Low Fat",
          "Low Fat",
          "Low Fat",
          "Low Fat",
          "Low Fat",
          "Low Fat",
          "Low Fat",
          "Low Fat",
          "Low Fat",
          "Low Fat",
          "Low Fat",
          "Low Fat",
          "Low Fat",
          "Low Fat",
          "Low Fat",
          "Low Fat",
          "Low Fat",
          "Low Fat",
          "Low Fat",
          "Low Fat",
          "Low Fat",
          "Low Fat",
          "Low Fat",
          "Low Fat",
          "Low Fat",
          "Low Fat",
          "Low Fat",
          "Low Fat",
          "Low Fat",
          "Low Fat",
          "Low Fat",
          "Low Fat",
          "Low Fat",
          "Low Fat",
          "Low Fat",
          "Low Fat",
          "Low Fat",
          "Low Fat",
          "Low Fat",
          "Low Fat",
          "Low Fat",
          "Low Fat",
          "Low Fat",
          "Low Fat",
          "Low Fat",
          "Low Fat",
          "Low Fat",
          "Low Fat",
          "Low Fat",
          "Low Fat",
          "Low Fat",
          "Low Fat",
          "Low Fat",
          "Low Fat",
          "Low Fat",
          "Low Fat",
          "Low Fat",
          "Low Fat",
          "Low Fat",
          "Low Fat",
          "Low Fat",
          "Low Fat",
          "Low Fat",
          "Low Fat",
          "Low Fat",
          "Low Fat",
          "Low Fat",
          "Low Fat",
          "Low Fat",
          "Low Fat",
          "Low Fat",
          "Low Fat",
          "Low Fat",
          "Low Fat",
          "Low Fat",
          "Low Fat",
          "Low Fat",
          "Low Fat",
          "Low Fat",
          "Low Fat",
          "Low Fat",
          "Low Fat",
          "Low Fat",
          "Low Fat",
          "Low Fat",
          "Low Fat",
          "Low Fat",
          "Low Fat",
          "Low Fat",
          "Low Fat",
          "Low Fat",
          "Low Fat",
          "Low Fat",
          "Low Fat",
          "Low Fat",
          "Low Fat",
          "Low Fat",
          "Low Fat",
          "Low Fat",
          "Low Fat",
          "Low Fat",
          "Low Fat",
          "Low Fat",
          "Low Fat",
          "Low Fat",
          "Low Fat",
          "Low Fat",
          "Low Fat",
          "Low Fat",
          "Low Fat",
          "Low Fat",
          "Low Fat",
          "Low Fat",
          "Low Fat",
          "Low Fat",
          "Low Fat",
          "Low Fat",
          "Low Fat",
          "Low Fat",
          "Low Fat",
          "Low Fat",
          "Low Fat",
          "Low Fat",
          "Low Fat",
          "Low Fat",
          "Low Fat",
          "Low Fat",
          "Low Fat",
          "Low Fat",
          "Low Fat",
          "Low Fat",
          "Low Fat",
          "Low Fat",
          "Low Fat",
          "Low Fat",
          "Low Fat",
          "Low Fat",
          "Low Fat",
          "Low Fat",
          "Low Fat",
          "Low Fat",
          "Low Fat",
          "Low Fat",
          "Low Fat",
          "Low Fat",
          "Low Fat",
          "Low Fat",
          "Low Fat",
          "Low Fat",
          "Low Fat",
          "Low Fat",
          "Low Fat",
          "Low Fat",
          "Low Fat",
          "Low Fat",
          "Low Fat",
          "Low Fat",
          "Low Fat",
          "Low Fat",
          "Low Fat",
          "Low Fat",
          "Low Fat",
          "Low Fat",
          "Low Fat",
          "Low Fat",
          "Low Fat",
          "Low Fat",
          "Low Fat",
          "Low Fat",
          "Low Fat",
          "Low Fat",
          "Low Fat",
          "Low Fat",
          "Low Fat",
          "Low Fat",
          "Low Fat",
          "Low Fat",
          "Low Fat",
          "Low Fat",
          "Low Fat",
          "Low Fat",
          "Low Fat",
          "Low Fat",
          "Low Fat",
          "Low Fat",
          "Low Fat",
          "Low Fat",
          "Low Fat",
          "Low Fat",
          "Low Fat",
          "Low Fat",
          "Low Fat",
          "Low Fat",
          "Low Fat",
          "Low Fat",
          "Low Fat",
          "Low Fat",
          "Low Fat",
          "Low Fat",
          "Low Fat",
          "Low Fat",
          "Low Fat",
          "Low Fat",
          "Low Fat",
          "Low Fat",
          "Low Fat",
          "Low Fat",
          "Low Fat",
          "Low Fat",
          "Low Fat",
          "Low Fat",
          "Low Fat",
          "Low Fat",
          "Low Fat",
          "Low Fat",
          "Low Fat",
          "Low Fat",
          "Low Fat",
          "Low Fat",
          "Low Fat",
          "Low Fat",
          "Low Fat",
          "Low Fat",
          "Low Fat",
          "Low Fat",
          "Low Fat",
          "Low Fat",
          "Low Fat",
          "Low Fat",
          "Low Fat",
          "Low Fat",
          "Low Fat",
          "Low Fat",
          "Low Fat",
          "Low Fat",
          "Low Fat",
          "Low Fat",
          "Low Fat",
          "Low Fat",
          "Low Fat",
          "Low Fat",
          "Low Fat",
          "Low Fat",
          "Low Fat",
          "Low Fat",
          "Low Fat",
          "Low Fat",
          "Low Fat",
          "Low Fat",
          "Low Fat",
          "Low Fat",
          "Low Fat",
          "Low Fat",
          "Low Fat",
          "Low Fat",
          "Low Fat",
          "Low Fat",
          "Low Fat",
          "Low Fat",
          "Low Fat",
          "Low Fat",
          "Low Fat",
          "Low Fat",
          "Low Fat",
          "Low Fat",
          "Low Fat",
          "Low Fat",
          "Low Fat",
          "Low Fat",
          "Low Fat",
          "Low Fat",
          "Low Fat",
          "Low Fat",
          "Low Fat",
          "Low Fat",
          "Low Fat",
          "Low Fat",
          "Low Fat",
          "Low Fat",
          "Low Fat",
          "Low Fat",
          "Low Fat",
          "Low Fat",
          "Low Fat",
          "Low Fat",
          "Low Fat",
          "Low Fat",
          "Low Fat",
          "Low Fat",
          "Low Fat",
          "Low Fat",
          "Low Fat",
          "Low Fat",
          "Low Fat",
          "Low Fat",
          "Low Fat",
          "Low Fat",
          "Low Fat",
          "Low Fat",
          "Low Fat",
          "Low Fat",
          "Low Fat",
          "Low Fat",
          "Low Fat",
          "Low Fat",
          "Low Fat",
          "Low Fat",
          "Low Fat",
          "Low Fat",
          "Low Fat",
          "Low Fat",
          "Low Fat",
          "Low Fat",
          "Low Fat",
          "Low Fat",
          "Low Fat",
          "Low Fat",
          "Low Fat",
          "Low Fat",
          "Low Fat",
          "Low Fat",
          "Low Fat",
          "Low Fat",
          "Low Fat",
          "Low Fat",
          "Low Fat",
          "Low Fat",
          "Low Fat",
          "Low Fat",
          "Low Fat",
          "Low Fat",
          "Low Fat",
          "Low Fat",
          "Low Fat",
          "Low Fat",
          "Low Fat",
          "Low Fat",
          "Low Fat",
          "Low Fat",
          "Low Fat",
          "Low Fat",
          "Low Fat",
          "Low Fat",
          "Low Fat",
          "Low Fat",
          "Low Fat",
          "Low Fat",
          "Low Fat",
          "Low Fat",
          "Low Fat",
          "Low Fat",
          "Low Fat",
          "Low Fat",
          "Low Fat",
          "Low Fat",
          "Low Fat",
          "Low Fat",
          "Low Fat",
          "Low Fat",
          "Low Fat",
          "Low Fat",
          "Low Fat",
          "Low Fat",
          "Low Fat",
          "Low Fat",
          "Low Fat",
          "Low Fat",
          "Low Fat",
          "Low Fat",
          "Low Fat",
          "Low Fat",
          "Low Fat",
          "Low Fat",
          "Low Fat",
          "Low Fat",
          "Low Fat",
          "Low Fat",
          "Low Fat",
          "Low Fat",
          "Low Fat",
          "Low Fat",
          "Low Fat",
          "Low Fat",
          "Low Fat",
          "Low Fat",
          "Low Fat",
          "Low Fat",
          "Low Fat",
          "Low Fat",
          "Low Fat",
          "Low Fat",
          "Low Fat",
          "Low Fat",
          "Low Fat",
          "Low Fat",
          "Low Fat",
          "Low Fat",
          "Low Fat",
          "Low Fat",
          "Low Fat",
          "Low Fat",
          "Low Fat",
          "Low Fat",
          "Low Fat",
          "Low Fat",
          "Low Fat",
          "Low Fat",
          "Low Fat",
          "Low Fat",
          "Low Fat",
          "Low Fat",
          "Low Fat",
          "Low Fat",
          "Low Fat",
          "Low Fat",
          "Low Fat",
          "Low Fat",
          "Low Fat",
          "Low Fat",
          "Low Fat",
          "Low Fat",
          "Low Fat",
          "Low Fat",
          "Low Fat",
          "Low Fat",
          "Low Fat",
          "Low Fat",
          "Low Fat",
          "Low Fat",
          "Low Fat",
          "Low Fat",
          "Low Fat",
          "Low Fat",
          "Low Fat",
          "Low Fat",
          "Low Fat",
          "Low Fat",
          "Low Fat",
          "Low Fat",
          "Low Fat",
          "Low Fat",
          "Low Fat",
          "Low Fat",
          "Low Fat",
          "Low Fat",
          "Low Fat",
          "Low Fat",
          "Low Fat",
          "Low Fat",
          "Low Fat",
          "Low Fat",
          "Low Fat",
          "Low Fat",
          "Low Fat",
          "Low Fat",
          "Low Fat",
          "Low Fat",
          "Low Fat",
          "Low Fat",
          "Low Fat",
          "Low Fat",
          "Low Fat",
          "Low Fat",
          "Low Fat",
          "Low Fat",
          "Low Fat",
          "Low Fat",
          "Low Fat",
          "Low Fat",
          "Low Fat",
          "Low Fat",
          "Low Fat",
          "Low Fat",
          "Low Fat",
          "Low Fat",
          "Low Fat",
          "Low Fat",
          "Low Fat",
          "Low Fat",
          "Low Fat",
          "Low Fat",
          "Low Fat",
          "Low Fat",
          "Low Fat",
          "Low Fat",
          "Low Fat",
          "Low Fat",
          "Low Fat",
          "Low Fat",
          "Low Fat",
          "Low Fat",
          "Low Fat",
          "Low Fat",
          "Low Fat",
          "Low Fat",
          "Low Fat",
          "Low Fat",
          "Low Fat",
          "Low Fat",
          "Low Fat",
          "Low Fat",
          "Low Fat",
          "Low Fat",
          "Low Fat",
          "Low Fat",
          "Low Fat",
          "Low Fat",
          "Low Fat",
          "Low Fat",
          "Low Fat",
          "Low Fat",
          "Low Fat",
          "Low Fat",
          "Low Fat",
          "Low Fat",
          "Low Fat",
          "Low Fat",
          "Low Fat",
          "Low Fat",
          "Low Fat",
          "Low Fat",
          "Low Fat",
          "Low Fat",
          "Low Fat",
          "Low Fat",
          "Low Fat",
          "Low Fat",
          "Low Fat",
          "Low Fat",
          "Low Fat",
          "Low Fat",
          "Low Fat",
          "Low Fat",
          "Low Fat",
          "Low Fat",
          "Low Fat",
          "Low Fat",
          "Low Fat",
          "Low Fat",
          "Low Fat",
          "Low Fat",
          "Low Fat",
          "Low Fat",
          "Low Fat",
          "Low Fat",
          "Low Fat",
          "Low Fat",
          "Low Fat",
          "Low Fat",
          "Low Fat",
          "Low Fat",
          "Low Fat",
          "Low Fat",
          "Low Fat",
          "Low Fat",
          "Low Fat",
          "Low Fat",
          "Low Fat",
          "Low Fat",
          "Low Fat",
          "Low Fat",
          "Low Fat",
          "Low Fat",
          "Low Fat",
          "Low Fat",
          "Low Fat",
          "Low Fat",
          "Low Fat",
          "Low Fat",
          "Low Fat",
          "Low Fat",
          "Low Fat",
          "Low Fat",
          "Low Fat",
          "Low Fat",
          "Low Fat",
          "Low Fat",
          "Low Fat",
          "Low Fat",
          "Low Fat",
          "Low Fat",
          "Low Fat",
          "Low Fat",
          "Low Fat",
          "Low Fat",
          "Low Fat",
          "Low Fat",
          "Low Fat",
          "Low Fat",
          "Low Fat",
          "Low Fat",
          "Low Fat",
          "Low Fat",
          "Low Fat",
          "Low Fat",
          "Low Fat",
          "Low Fat",
          "Low Fat",
          "Low Fat",
          "Low Fat",
          "Low Fat",
          "Low Fat",
          "Low Fat",
          "Low Fat",
          "Low Fat",
          "Low Fat",
          "Low Fat",
          "Low Fat"
         ],
         "xaxis": "x2",
         "yaxis": "y2"
        },
        {
         "alignmentgroup": "True",
         "bingroup": "x",
         "hovertemplate": " ItemFat Content=%{x}<br>count=%{y}<extra></extra>",
         "legendgroup": "low fat",
         "marker": {
          "color": "#00CC96",
          "pattern": {
           "shape": ""
          }
         },
         "name": "low fat",
         "nbinsx": 30,
         "offsetgroup": "low fat",
         "orientation": "v",
         "showlegend": true,
         "type": "histogram",
         "x": [
          "low fat",
          "low fat",
          "low fat",
          "low fat",
          "low fat",
          "low fat",
          "low fat",
          "low fat",
          "low fat",
          "low fat",
          "low fat",
          "low fat",
          "low fat",
          "low fat",
          "low fat",
          "low fat",
          "low fat",
          "low fat",
          "low fat",
          "low fat",
          "low fat",
          "low fat",
          "low fat",
          "low fat",
          "low fat",
          "low fat",
          "low fat",
          "low fat",
          "low fat",
          "low fat",
          "low fat",
          "low fat",
          "low fat",
          "low fat",
          "low fat",
          "low fat",
          "low fat",
          "low fat",
          "low fat",
          "low fat",
          "low fat",
          "low fat",
          "low fat",
          "low fat",
          "low fat",
          "low fat",
          "low fat",
          "low fat",
          "low fat",
          "low fat",
          "low fat",
          "low fat",
          "low fat",
          "low fat",
          "low fat",
          "low fat",
          "low fat",
          "low fat",
          "low fat",
          "low fat",
          "low fat",
          "low fat",
          "low fat",
          "low fat",
          "low fat",
          "low fat",
          "low fat",
          "low fat",
          "low fat",
          "low fat",
          "low fat",
          "low fat",
          "low fat",
          "low fat",
          "low fat",
          "low fat",
          "low fat",
          "low fat",
          "low fat",
          "low fat",
          "low fat",
          "low fat",
          "low fat",
          "low fat",
          "low fat",
          "low fat",
          "low fat",
          "low fat",
          "low fat",
          "low fat",
          "low fat",
          "low fat",
          "low fat",
          "low fat",
          "low fat",
          "low fat",
          "low fat",
          "low fat",
          "low fat",
          "low fat",
          "low fat",
          "low fat",
          "low fat",
          "low fat",
          "low fat",
          "low fat",
          "low fat",
          "low fat",
          "low fat",
          "low fat",
          "low fat",
          "low fat"
         ],
         "xaxis": "x",
         "yaxis": "y"
        },
        {
         "alignmentgroup": "True",
         "hovertemplate": " ItemFat Content=%{x}<extra></extra>",
         "legendgroup": "low fat",
         "marker": {
          "color": "#00CC96"
         },
         "name": "low fat",
         "offsetgroup": "low fat",
         "scalegroup": "x",
         "showlegend": false,
         "type": "violin",
         "x": [
          "low fat",
          "low fat",
          "low fat",
          "low fat",
          "low fat",
          "low fat",
          "low fat",
          "low fat",
          "low fat",
          "low fat",
          "low fat",
          "low fat",
          "low fat",
          "low fat",
          "low fat",
          "low fat",
          "low fat",
          "low fat",
          "low fat",
          "low fat",
          "low fat",
          "low fat",
          "low fat",
          "low fat",
          "low fat",
          "low fat",
          "low fat",
          "low fat",
          "low fat",
          "low fat",
          "low fat",
          "low fat",
          "low fat",
          "low fat",
          "low fat",
          "low fat",
          "low fat",
          "low fat",
          "low fat",
          "low fat",
          "low fat",
          "low fat",
          "low fat",
          "low fat",
          "low fat",
          "low fat",
          "low fat",
          "low fat",
          "low fat",
          "low fat",
          "low fat",
          "low fat",
          "low fat",
          "low fat",
          "low fat",
          "low fat",
          "low fat",
          "low fat",
          "low fat",
          "low fat",
          "low fat",
          "low fat",
          "low fat",
          "low fat",
          "low fat",
          "low fat",
          "low fat",
          "low fat",
          "low fat",
          "low fat",
          "low fat",
          "low fat",
          "low fat",
          "low fat",
          "low fat",
          "low fat",
          "low fat",
          "low fat",
          "low fat",
          "low fat",
          "low fat",
          "low fat",
          "low fat",
          "low fat",
          "low fat",
          "low fat",
          "low fat",
          "low fat",
          "low fat",
          "low fat",
          "low fat",
          "low fat",
          "low fat",
          "low fat",
          "low fat",
          "low fat",
          "low fat",
          "low fat",
          "low fat",
          "low fat",
          "low fat",
          "low fat",
          "low fat",
          "low fat",
          "low fat",
          "low fat",
          "low fat",
          "low fat",
          "low fat",
          "low fat",
          "low fat",
          "low fat"
         ],
         "xaxis": "x2",
         "yaxis": "y2"
        },
        {
         "alignmentgroup": "True",
         "bingroup": "x",
         "hovertemplate": " ItemFat Content=%{x}<br>count=%{y}<extra></extra>",
         "legendgroup": "LF",
         "marker": {
          "color": "#AB63FA",
          "pattern": {
           "shape": ""
          }
         },
         "name": "LF",
         "nbinsx": 30,
         "offsetgroup": "LF",
         "orientation": "v",
         "showlegend": true,
         "type": "histogram",
         "x": [
          "LF",
          "LF",
          "LF",
          "LF",
          "LF",
          "LF",
          "LF",
          "LF",
          "LF",
          "LF",
          "LF",
          "LF",
          "LF",
          "LF",
          "LF",
          "LF",
          "LF",
          "LF",
          "LF",
          "LF",
          "LF",
          "LF",
          "LF",
          "LF",
          "LF",
          "LF",
          "LF",
          "LF",
          "LF",
          "LF",
          "LF",
          "LF",
          "LF",
          "LF",
          "LF",
          "LF",
          "LF",
          "LF",
          "LF",
          "LF",
          "LF",
          "LF",
          "LF",
          "LF",
          "LF",
          "LF",
          "LF",
          "LF",
          "LF",
          "LF",
          "LF",
          "LF",
          "LF",
          "LF",
          "LF",
          "LF",
          "LF",
          "LF",
          "LF",
          "LF",
          "LF",
          "LF",
          "LF",
          "LF",
          "LF",
          "LF",
          "LF",
          "LF",
          "LF",
          "LF",
          "LF",
          "LF",
          "LF",
          "LF",
          "LF",
          "LF",
          "LF",
          "LF",
          "LF",
          "LF",
          "LF",
          "LF",
          "LF",
          "LF",
          "LF",
          "LF",
          "LF",
          "LF",
          "LF",
          "LF",
          "LF",
          "LF",
          "LF",
          "LF",
          "LF",
          "LF",
          "LF",
          "LF",
          "LF",
          "LF",
          "LF",
          "LF",
          "LF",
          "LF",
          "LF",
          "LF",
          "LF",
          "LF",
          "LF",
          "LF",
          "LF",
          "LF",
          "LF",
          "LF",
          "LF",
          "LF",
          "LF",
          "LF",
          "LF",
          "LF",
          "LF",
          "LF",
          "LF",
          "LF",
          "LF",
          "LF",
          "LF",
          "LF",
          "LF",
          "LF",
          "LF",
          "LF",
          "LF",
          "LF",
          "LF",
          "LF",
          "LF",
          "LF",
          "LF",
          "LF",
          "LF",
          "LF",
          "LF",
          "LF",
          "LF",
          "LF",
          "LF",
          "LF",
          "LF",
          "LF",
          "LF",
          "LF",
          "LF",
          "LF",
          "LF",
          "LF",
          "LF",
          "LF",
          "LF",
          "LF",
          "LF",
          "LF",
          "LF",
          "LF",
          "LF",
          "LF",
          "LF",
          "LF",
          "LF",
          "LF",
          "LF",
          "LF",
          "LF",
          "LF",
          "LF",
          "LF",
          "LF",
          "LF",
          "LF",
          "LF",
          "LF",
          "LF",
          "LF",
          "LF",
          "LF",
          "LF",
          "LF",
          "LF",
          "LF",
          "LF",
          "LF",
          "LF",
          "LF",
          "LF",
          "LF",
          "LF",
          "LF",
          "LF",
          "LF",
          "LF",
          "LF",
          "LF",
          "LF",
          "LF",
          "LF",
          "LF",
          "LF",
          "LF",
          "LF",
          "LF",
          "LF",
          "LF",
          "LF",
          "LF",
          "LF",
          "LF",
          "LF",
          "LF",
          "LF",
          "LF",
          "LF",
          "LF",
          "LF",
          "LF",
          "LF",
          "LF",
          "LF",
          "LF",
          "LF",
          "LF",
          "LF",
          "LF",
          "LF",
          "LF",
          "LF",
          "LF",
          "LF",
          "LF",
          "LF",
          "LF",
          "LF",
          "LF",
          "LF",
          "LF",
          "LF",
          "LF",
          "LF",
          "LF",
          "LF",
          "LF",
          "LF",
          "LF",
          "LF",
          "LF",
          "LF",
          "LF",
          "LF",
          "LF",
          "LF",
          "LF",
          "LF",
          "LF",
          "LF",
          "LF",
          "LF",
          "LF",
          "LF",
          "LF",
          "LF",
          "LF",
          "LF",
          "LF",
          "LF",
          "LF",
          "LF",
          "LF",
          "LF",
          "LF",
          "LF",
          "LF",
          "LF",
          "LF",
          "LF",
          "LF",
          "LF",
          "LF",
          "LF",
          "LF",
          "LF",
          "LF",
          "LF",
          "LF",
          "LF",
          "LF",
          "LF",
          "LF",
          "LF",
          "LF",
          "LF",
          "LF",
          "LF",
          "LF",
          "LF",
          "LF",
          "LF",
          "LF",
          "LF",
          "LF",
          "LF",
          "LF",
          "LF",
          "LF",
          "LF",
          "LF",
          "LF",
          "LF"
         ],
         "xaxis": "x",
         "yaxis": "y"
        },
        {
         "alignmentgroup": "True",
         "hovertemplate": " ItemFat Content=%{x}<extra></extra>",
         "legendgroup": "LF",
         "marker": {
          "color": "#AB63FA"
         },
         "name": "LF",
         "offsetgroup": "LF",
         "scalegroup": "x",
         "showlegend": false,
         "type": "violin",
         "x": [
          "LF",
          "LF",
          "LF",
          "LF",
          "LF",
          "LF",
          "LF",
          "LF",
          "LF",
          "LF",
          "LF",
          "LF",
          "LF",
          "LF",
          "LF",
          "LF",
          "LF",
          "LF",
          "LF",
          "LF",
          "LF",
          "LF",
          "LF",
          "LF",
          "LF",
          "LF",
          "LF",
          "LF",
          "LF",
          "LF",
          "LF",
          "LF",
          "LF",
          "LF",
          "LF",
          "LF",
          "LF",
          "LF",
          "LF",
          "LF",
          "LF",
          "LF",
          "LF",
          "LF",
          "LF",
          "LF",
          "LF",
          "LF",
          "LF",
          "LF",
          "LF",
          "LF",
          "LF",
          "LF",
          "LF",
          "LF",
          "LF",
          "LF",
          "LF",
          "LF",
          "LF",
          "LF",
          "LF",
          "LF",
          "LF",
          "LF",
          "LF",
          "LF",
          "LF",
          "LF",
          "LF",
          "LF",
          "LF",
          "LF",
          "LF",
          "LF",
          "LF",
          "LF",
          "LF",
          "LF",
          "LF",
          "LF",
          "LF",
          "LF",
          "LF",
          "LF",
          "LF",
          "LF",
          "LF",
          "LF",
          "LF",
          "LF",
          "LF",
          "LF",
          "LF",
          "LF",
          "LF",
          "LF",
          "LF",
          "LF",
          "LF",
          "LF",
          "LF",
          "LF",
          "LF",
          "LF",
          "LF",
          "LF",
          "LF",
          "LF",
          "LF",
          "LF",
          "LF",
          "LF",
          "LF",
          "LF",
          "LF",
          "LF",
          "LF",
          "LF",
          "LF",
          "LF",
          "LF",
          "LF",
          "LF",
          "LF",
          "LF",
          "LF",
          "LF",
          "LF",
          "LF",
          "LF",
          "LF",
          "LF",
          "LF",
          "LF",
          "LF",
          "LF",
          "LF",
          "LF",
          "LF",
          "LF",
          "LF",
          "LF",
          "LF",
          "LF",
          "LF",
          "LF",
          "LF",
          "LF",
          "LF",
          "LF",
          "LF",
          "LF",
          "LF",
          "LF",
          "LF",
          "LF",
          "LF",
          "LF",
          "LF",
          "LF",
          "LF",
          "LF",
          "LF",
          "LF",
          "LF",
          "LF",
          "LF",
          "LF",
          "LF",
          "LF",
          "LF",
          "LF",
          "LF",
          "LF",
          "LF",
          "LF",
          "LF",
          "LF",
          "LF",
          "LF",
          "LF",
          "LF",
          "LF",
          "LF",
          "LF",
          "LF",
          "LF",
          "LF",
          "LF",
          "LF",
          "LF",
          "LF",
          "LF",
          "LF",
          "LF",
          "LF",
          "LF",
          "LF",
          "LF",
          "LF",
          "LF",
          "LF",
          "LF",
          "LF",
          "LF",
          "LF",
          "LF",
          "LF",
          "LF",
          "LF",
          "LF",
          "LF",
          "LF",
          "LF",
          "LF",
          "LF",
          "LF",
          "LF",
          "LF",
          "LF",
          "LF",
          "LF",
          "LF",
          "LF",
          "LF",
          "LF",
          "LF",
          "LF",
          "LF",
          "LF",
          "LF",
          "LF",
          "LF",
          "LF",
          "LF",
          "LF",
          "LF",
          "LF",
          "LF",
          "LF",
          "LF",
          "LF",
          "LF",
          "LF",
          "LF",
          "LF",
          "LF",
          "LF",
          "LF",
          "LF",
          "LF",
          "LF",
          "LF",
          "LF",
          "LF",
          "LF",
          "LF",
          "LF",
          "LF",
          "LF",
          "LF",
          "LF",
          "LF",
          "LF",
          "LF",
          "LF",
          "LF",
          "LF",
          "LF",
          "LF",
          "LF",
          "LF",
          "LF",
          "LF",
          "LF",
          "LF",
          "LF",
          "LF",
          "LF",
          "LF",
          "LF",
          "LF",
          "LF",
          "LF",
          "LF",
          "LF",
          "LF",
          "LF",
          "LF",
          "LF",
          "LF",
          "LF",
          "LF",
          "LF",
          "LF",
          "LF",
          "LF",
          "LF",
          "LF",
          "LF",
          "LF",
          "LF",
          "LF",
          "LF",
          "LF",
          "LF",
          "LF",
          "LF",
          "LF",
          "LF",
          "LF",
          "LF",
          "LF",
          "LF"
         ],
         "xaxis": "x2",
         "yaxis": "y2"
        },
        {
         "alignmentgroup": "True",
         "bingroup": "x",
         "hovertemplate": " ItemFat Content=%{x}<br>count=%{y}<extra></extra>",
         "legendgroup": "reg",
         "marker": {
          "color": "#FFA15A",
          "pattern": {
           "shape": ""
          }
         },
         "name": "reg",
         "nbinsx": 30,
         "offsetgroup": "reg",
         "orientation": "v",
         "showlegend": true,
         "type": "histogram",
         "x": [
          "reg",
          "reg",
          "reg",
          "reg",
          "reg",
          "reg",
          "reg",
          "reg",
          "reg",
          "reg",
          "reg",
          "reg",
          "reg",
          "reg",
          "reg",
          "reg",
          "reg",
          "reg",
          "reg",
          "reg",
          "reg",
          "reg",
          "reg",
          "reg",
          "reg",
          "reg",
          "reg",
          "reg",
          "reg",
          "reg",
          "reg",
          "reg",
          "reg",
          "reg",
          "reg",
          "reg",
          "reg",
          "reg",
          "reg",
          "reg",
          "reg",
          "reg",
          "reg",
          "reg",
          "reg",
          "reg",
          "reg",
          "reg",
          "reg",
          "reg",
          "reg",
          "reg",
          "reg",
          "reg",
          "reg",
          "reg",
          "reg",
          "reg",
          "reg",
          "reg",
          "reg",
          "reg",
          "reg",
          "reg",
          "reg",
          "reg",
          "reg",
          "reg",
          "reg",
          "reg",
          "reg",
          "reg",
          "reg",
          "reg",
          "reg",
          "reg",
          "reg",
          "reg",
          "reg",
          "reg",
          "reg",
          "reg",
          "reg",
          "reg",
          "reg",
          "reg",
          "reg",
          "reg",
          "reg",
          "reg",
          "reg",
          "reg",
          "reg",
          "reg",
          "reg",
          "reg",
          "reg",
          "reg",
          "reg",
          "reg",
          "reg",
          "reg",
          "reg",
          "reg",
          "reg",
          "reg",
          "reg",
          "reg",
          "reg",
          "reg",
          "reg",
          "reg",
          "reg",
          "reg",
          "reg",
          "reg",
          "reg"
         ],
         "xaxis": "x",
         "yaxis": "y"
        },
        {
         "alignmentgroup": "True",
         "hovertemplate": " ItemFat Content=%{x}<extra></extra>",
         "legendgroup": "reg",
         "marker": {
          "color": "#FFA15A"
         },
         "name": "reg",
         "offsetgroup": "reg",
         "scalegroup": "x",
         "showlegend": false,
         "type": "violin",
         "x": [
          "reg",
          "reg",
          "reg",
          "reg",
          "reg",
          "reg",
          "reg",
          "reg",
          "reg",
          "reg",
          "reg",
          "reg",
          "reg",
          "reg",
          "reg",
          "reg",
          "reg",
          "reg",
          "reg",
          "reg",
          "reg",
          "reg",
          "reg",
          "reg",
          "reg",
          "reg",
          "reg",
          "reg",
          "reg",
          "reg",
          "reg",
          "reg",
          "reg",
          "reg",
          "reg",
          "reg",
          "reg",
          "reg",
          "reg",
          "reg",
          "reg",
          "reg",
          "reg",
          "reg",
          "reg",
          "reg",
          "reg",
          "reg",
          "reg",
          "reg",
          "reg",
          "reg",
          "reg",
          "reg",
          "reg",
          "reg",
          "reg",
          "reg",
          "reg",
          "reg",
          "reg",
          "reg",
          "reg",
          "reg",
          "reg",
          "reg",
          "reg",
          "reg",
          "reg",
          "reg",
          "reg",
          "reg",
          "reg",
          "reg",
          "reg",
          "reg",
          "reg",
          "reg",
          "reg",
          "reg",
          "reg",
          "reg",
          "reg",
          "reg",
          "reg",
          "reg",
          "reg",
          "reg",
          "reg",
          "reg",
          "reg",
          "reg",
          "reg",
          "reg",
          "reg",
          "reg",
          "reg",
          "reg",
          "reg",
          "reg",
          "reg",
          "reg",
          "reg",
          "reg",
          "reg",
          "reg",
          "reg",
          "reg",
          "reg",
          "reg",
          "reg",
          "reg",
          "reg",
          "reg",
          "reg",
          "reg",
          "reg"
         ],
         "xaxis": "x2",
         "yaxis": "y2"
        }
       ],
       "layout": {
        "barmode": "overlay",
        "legend": {
         "title": {
          "text": " ItemFat Content"
         },
         "tracegroupgap": 0
        },
        "template": {
         "data": {
          "bar": [
           {
            "error_x": {
             "color": "#2a3f5f"
            },
            "error_y": {
             "color": "#2a3f5f"
            },
            "marker": {
             "line": {
              "color": "white",
              "width": 0.5
             },
             "pattern": {
              "fillmode": "overlay",
              "size": 10,
              "solidity": 0.2
             }
            },
            "type": "bar"
           }
          ],
          "barpolar": [
           {
            "marker": {
             "line": {
              "color": "white",
              "width": 0.5
             },
             "pattern": {
              "fillmode": "overlay",
              "size": 10,
              "solidity": 0.2
             }
            },
            "type": "barpolar"
           }
          ],
          "carpet": [
           {
            "aaxis": {
             "endlinecolor": "#2a3f5f",
             "gridcolor": "#C8D4E3",
             "linecolor": "#C8D4E3",
             "minorgridcolor": "#C8D4E3",
             "startlinecolor": "#2a3f5f"
            },
            "baxis": {
             "endlinecolor": "#2a3f5f",
             "gridcolor": "#C8D4E3",
             "linecolor": "#C8D4E3",
             "minorgridcolor": "#C8D4E3",
             "startlinecolor": "#2a3f5f"
            },
            "type": "carpet"
           }
          ],
          "choropleth": [
           {
            "colorbar": {
             "outlinewidth": 0,
             "ticks": ""
            },
            "type": "choropleth"
           }
          ],
          "contour": [
           {
            "colorbar": {
             "outlinewidth": 0,
             "ticks": ""
            },
            "colorscale": [
             [
              0,
              "#0d0887"
             ],
             [
              0.1111111111111111,
              "#46039f"
             ],
             [
              0.2222222222222222,
              "#7201a8"
             ],
             [
              0.3333333333333333,
              "#9c179e"
             ],
             [
              0.4444444444444444,
              "#bd3786"
             ],
             [
              0.5555555555555556,
              "#d8576b"
             ],
             [
              0.6666666666666666,
              "#ed7953"
             ],
             [
              0.7777777777777778,
              "#fb9f3a"
             ],
             [
              0.8888888888888888,
              "#fdca26"
             ],
             [
              1,
              "#f0f921"
             ]
            ],
            "type": "contour"
           }
          ],
          "contourcarpet": [
           {
            "colorbar": {
             "outlinewidth": 0,
             "ticks": ""
            },
            "type": "contourcarpet"
           }
          ],
          "heatmap": [
           {
            "colorbar": {
             "outlinewidth": 0,
             "ticks": ""
            },
            "colorscale": [
             [
              0,
              "#0d0887"
             ],
             [
              0.1111111111111111,
              "#46039f"
             ],
             [
              0.2222222222222222,
              "#7201a8"
             ],
             [
              0.3333333333333333,
              "#9c179e"
             ],
             [
              0.4444444444444444,
              "#bd3786"
             ],
             [
              0.5555555555555556,
              "#d8576b"
             ],
             [
              0.6666666666666666,
              "#ed7953"
             ],
             [
              0.7777777777777778,
              "#fb9f3a"
             ],
             [
              0.8888888888888888,
              "#fdca26"
             ],
             [
              1,
              "#f0f921"
             ]
            ],
            "type": "heatmap"
           }
          ],
          "heatmapgl": [
           {
            "colorbar": {
             "outlinewidth": 0,
             "ticks": ""
            },
            "colorscale": [
             [
              0,
              "#0d0887"
             ],
             [
              0.1111111111111111,
              "#46039f"
             ],
             [
              0.2222222222222222,
              "#7201a8"
             ],
             [
              0.3333333333333333,
              "#9c179e"
             ],
             [
              0.4444444444444444,
              "#bd3786"
             ],
             [
              0.5555555555555556,
              "#d8576b"
             ],
             [
              0.6666666666666666,
              "#ed7953"
             ],
             [
              0.7777777777777778,
              "#fb9f3a"
             ],
             [
              0.8888888888888888,
              "#fdca26"
             ],
             [
              1,
              "#f0f921"
             ]
            ],
            "type": "heatmapgl"
           }
          ],
          "histogram": [
           {
            "marker": {
             "pattern": {
              "fillmode": "overlay",
              "size": 10,
              "solidity": 0.2
             }
            },
            "type": "histogram"
           }
          ],
          "histogram2d": [
           {
            "colorbar": {
             "outlinewidth": 0,
             "ticks": ""
            },
            "colorscale": [
             [
              0,
              "#0d0887"
             ],
             [
              0.1111111111111111,
              "#46039f"
             ],
             [
              0.2222222222222222,
              "#7201a8"
             ],
             [
              0.3333333333333333,
              "#9c179e"
             ],
             [
              0.4444444444444444,
              "#bd3786"
             ],
             [
              0.5555555555555556,
              "#d8576b"
             ],
             [
              0.6666666666666666,
              "#ed7953"
             ],
             [
              0.7777777777777778,
              "#fb9f3a"
             ],
             [
              0.8888888888888888,
              "#fdca26"
             ],
             [
              1,
              "#f0f921"
             ]
            ],
            "type": "histogram2d"
           }
          ],
          "histogram2dcontour": [
           {
            "colorbar": {
             "outlinewidth": 0,
             "ticks": ""
            },
            "colorscale": [
             [
              0,
              "#0d0887"
             ],
             [
              0.1111111111111111,
              "#46039f"
             ],
             [
              0.2222222222222222,
              "#7201a8"
             ],
             [
              0.3333333333333333,
              "#9c179e"
             ],
             [
              0.4444444444444444,
              "#bd3786"
             ],
             [
              0.5555555555555556,
              "#d8576b"
             ],
             [
              0.6666666666666666,
              "#ed7953"
             ],
             [
              0.7777777777777778,
              "#fb9f3a"
             ],
             [
              0.8888888888888888,
              "#fdca26"
             ],
             [
              1,
              "#f0f921"
             ]
            ],
            "type": "histogram2dcontour"
           }
          ],
          "mesh3d": [
           {
            "colorbar": {
             "outlinewidth": 0,
             "ticks": ""
            },
            "type": "mesh3d"
           }
          ],
          "parcoords": [
           {
            "line": {
             "colorbar": {
              "outlinewidth": 0,
              "ticks": ""
             }
            },
            "type": "parcoords"
           }
          ],
          "pie": [
           {
            "automargin": true,
            "type": "pie"
           }
          ],
          "scatter": [
           {
            "fillpattern": {
             "fillmode": "overlay",
             "size": 10,
             "solidity": 0.2
            },
            "type": "scatter"
           }
          ],
          "scatter3d": [
           {
            "line": {
             "colorbar": {
              "outlinewidth": 0,
              "ticks": ""
             }
            },
            "marker": {
             "colorbar": {
              "outlinewidth": 0,
              "ticks": ""
             }
            },
            "type": "scatter3d"
           }
          ],
          "scattercarpet": [
           {
            "marker": {
             "colorbar": {
              "outlinewidth": 0,
              "ticks": ""
             }
            },
            "type": "scattercarpet"
           }
          ],
          "scattergeo": [
           {
            "marker": {
             "colorbar": {
              "outlinewidth": 0,
              "ticks": ""
             }
            },
            "type": "scattergeo"
           }
          ],
          "scattergl": [
           {
            "marker": {
             "colorbar": {
              "outlinewidth": 0,
              "ticks": ""
             }
            },
            "type": "scattergl"
           }
          ],
          "scattermapbox": [
           {
            "marker": {
             "colorbar": {
              "outlinewidth": 0,
              "ticks": ""
             }
            },
            "type": "scattermapbox"
           }
          ],
          "scatterpolar": [
           {
            "marker": {
             "colorbar": {
              "outlinewidth": 0,
              "ticks": ""
             }
            },
            "type": "scatterpolar"
           }
          ],
          "scatterpolargl": [
           {
            "marker": {
             "colorbar": {
              "outlinewidth": 0,
              "ticks": ""
             }
            },
            "type": "scatterpolargl"
           }
          ],
          "scatterternary": [
           {
            "marker": {
             "colorbar": {
              "outlinewidth": 0,
              "ticks": ""
             }
            },
            "type": "scatterternary"
           }
          ],
          "surface": [
           {
            "colorbar": {
             "outlinewidth": 0,
             "ticks": ""
            },
            "colorscale": [
             [
              0,
              "#0d0887"
             ],
             [
              0.1111111111111111,
              "#46039f"
             ],
             [
              0.2222222222222222,
              "#7201a8"
             ],
             [
              0.3333333333333333,
              "#9c179e"
             ],
             [
              0.4444444444444444,
              "#bd3786"
             ],
             [
              0.5555555555555556,
              "#d8576b"
             ],
             [
              0.6666666666666666,
              "#ed7953"
             ],
             [
              0.7777777777777778,
              "#fb9f3a"
             ],
             [
              0.8888888888888888,
              "#fdca26"
             ],
             [
              1,
              "#f0f921"
             ]
            ],
            "type": "surface"
           }
          ],
          "table": [
           {
            "cells": {
             "fill": {
              "color": "#EBF0F8"
             },
             "line": {
              "color": "white"
             }
            },
            "header": {
             "fill": {
              "color": "#C8D4E3"
             },
             "line": {
              "color": "white"
             }
            },
            "type": "table"
           }
          ]
         },
         "layout": {
          "annotationdefaults": {
           "arrowcolor": "#2a3f5f",
           "arrowhead": 0,
           "arrowwidth": 1
          },
          "autotypenumbers": "strict",
          "coloraxis": {
           "colorbar": {
            "outlinewidth": 0,
            "ticks": ""
           }
          },
          "colorscale": {
           "diverging": [
            [
             0,
             "#8e0152"
            ],
            [
             0.1,
             "#c51b7d"
            ],
            [
             0.2,
             "#de77ae"
            ],
            [
             0.3,
             "#f1b6da"
            ],
            [
             0.4,
             "#fde0ef"
            ],
            [
             0.5,
             "#f7f7f7"
            ],
            [
             0.6,
             "#e6f5d0"
            ],
            [
             0.7,
             "#b8e186"
            ],
            [
             0.8,
             "#7fbc41"
            ],
            [
             0.9,
             "#4d9221"
            ],
            [
             1,
             "#276419"
            ]
           ],
           "sequential": [
            [
             0,
             "#0d0887"
            ],
            [
             0.1111111111111111,
             "#46039f"
            ],
            [
             0.2222222222222222,
             "#7201a8"
            ],
            [
             0.3333333333333333,
             "#9c179e"
            ],
            [
             0.4444444444444444,
             "#bd3786"
            ],
            [
             0.5555555555555556,
             "#d8576b"
            ],
            [
             0.6666666666666666,
             "#ed7953"
            ],
            [
             0.7777777777777778,
             "#fb9f3a"
            ],
            [
             0.8888888888888888,
             "#fdca26"
            ],
            [
             1,
             "#f0f921"
            ]
           ],
           "sequentialminus": [
            [
             0,
             "#0d0887"
            ],
            [
             0.1111111111111111,
             "#46039f"
            ],
            [
             0.2222222222222222,
             "#7201a8"
            ],
            [
             0.3333333333333333,
             "#9c179e"
            ],
            [
             0.4444444444444444,
             "#bd3786"
            ],
            [
             0.5555555555555556,
             "#d8576b"
            ],
            [
             0.6666666666666666,
             "#ed7953"
            ],
            [
             0.7777777777777778,
             "#fb9f3a"
            ],
            [
             0.8888888888888888,
             "#fdca26"
            ],
            [
             1,
             "#f0f921"
            ]
           ]
          },
          "colorway": [
           "#636efa",
           "#EF553B",
           "#00cc96",
           "#ab63fa",
           "#FFA15A",
           "#19d3f3",
           "#FF6692",
           "#B6E880",
           "#FF97FF",
           "#FECB52"
          ],
          "font": {
           "color": "#2a3f5f"
          },
          "geo": {
           "bgcolor": "white",
           "lakecolor": "white",
           "landcolor": "white",
           "showlakes": true,
           "showland": true,
           "subunitcolor": "#C8D4E3"
          },
          "hoverlabel": {
           "align": "left"
          },
          "hovermode": "closest",
          "mapbox": {
           "style": "light"
          },
          "paper_bgcolor": "white",
          "plot_bgcolor": "white",
          "polar": {
           "angularaxis": {
            "gridcolor": "#EBF0F8",
            "linecolor": "#EBF0F8",
            "ticks": ""
           },
           "bgcolor": "white",
           "radialaxis": {
            "gridcolor": "#EBF0F8",
            "linecolor": "#EBF0F8",
            "ticks": ""
           }
          },
          "scene": {
           "xaxis": {
            "backgroundcolor": "white",
            "gridcolor": "#DFE8F3",
            "gridwidth": 2,
            "linecolor": "#EBF0F8",
            "showbackground": true,
            "ticks": "",
            "zerolinecolor": "#EBF0F8"
           },
           "yaxis": {
            "backgroundcolor": "white",
            "gridcolor": "#DFE8F3",
            "gridwidth": 2,
            "linecolor": "#EBF0F8",
            "showbackground": true,
            "ticks": "",
            "zerolinecolor": "#EBF0F8"
           },
           "zaxis": {
            "backgroundcolor": "white",
            "gridcolor": "#DFE8F3",
            "gridwidth": 2,
            "linecolor": "#EBF0F8",
            "showbackground": true,
            "ticks": "",
            "zerolinecolor": "#EBF0F8"
           }
          },
          "shapedefaults": {
           "line": {
            "color": "#2a3f5f"
           }
          },
          "ternary": {
           "aaxis": {
            "gridcolor": "#DFE8F3",
            "linecolor": "#A2B1C6",
            "ticks": ""
           },
           "baxis": {
            "gridcolor": "#DFE8F3",
            "linecolor": "#A2B1C6",
            "ticks": ""
           },
           "bgcolor": "white",
           "caxis": {
            "gridcolor": "#DFE8F3",
            "linecolor": "#A2B1C6",
            "ticks": ""
           }
          },
          "title": {
           "x": 0.05
          },
          "xaxis": {
           "automargin": true,
           "gridcolor": "#EBF0F8",
           "linecolor": "#EBF0F8",
           "ticks": "",
           "title": {
            "standoff": 15
           },
           "zerolinecolor": "#EBF0F8",
           "zerolinewidth": 2
          },
          "yaxis": {
           "automargin": true,
           "gridcolor": "#EBF0F8",
           "linecolor": "#EBF0F8",
           "ticks": "",
           "title": {
            "standoff": 15
           },
           "zerolinecolor": "#EBF0F8",
           "zerolinewidth": 2
          }
         }
        },
        "title": {
         "text": "Distribution of Fat Content"
        },
        "xaxis": {
         "anchor": "y",
         "categoryarray": [
          "Regular",
          "Low Fat",
          "low fat",
          "LF",
          "reg"
         ],
         "categoryorder": "array",
         "domain": [
          0,
          1
         ],
         "title": {
          "text": "Fat Content"
         }
        },
        "xaxis2": {
         "anchor": "y2",
         "domain": [
          0,
          1
         ],
         "matches": "x",
         "showgrid": true,
         "showticklabels": false
        },
        "yaxis": {
         "anchor": "x",
         "domain": [
          0,
          0.7326
         ],
         "title": {
          "text": "Frequency"
         }
        },
        "yaxis2": {
         "anchor": "x2",
         "domain": [
          0.7426,
          1
         ],
         "matches": "y2",
         "showgrid": false,
         "showline": false,
         "showticklabels": false,
         "ticks": ""
        }
       }
      }
     },
     "metadata": {},
     "output_type": "display_data"
    }
   ],
   "source": [
    "import plotly.express as px\n",
    "\n",
    "# Plot distribution of fat content with multi-color\n",
    "fig = px.histogram(\n",
    "    df, \n",
    "    x=' ItemFat Content', \n",
    "    nbins=30, \n",
    "    marginal=\"violin\", \n",
    "    title=\"Distribution of Fat Content\",\n",
    "    color=' ItemFat Content',  # Use ItemFat Content for color differentiation\n",
    "    color_discrete_sequence=px.colors.qualitative.Plotly  # Use a qualitative color palette\n",
    ")\n",
    "\n",
    "# Update layout\n",
    "fig.update_layout(\n",
    "    xaxis_title='Fat Content',\n",
    "    yaxis_title='Frequency',\n",
    "    template='plotly_white',\n",
    "    barmode='overlay',  # Overlay bars for better visibility\n",
    ")\n",
    "\n",
    "# Show the plot\n",
    "fig.show()\n"
   ]
  },
  {
   "cell_type": "code",
   "execution_count": null,
   "metadata": {},
   "outputs": [
    {
     "data": {
      "application/vnd.plotly.v1+json": {
       "config": {
        "plotlyServerURL": "https://plot.ly"
       },
       "data": [
        {
         "type": "bar",
         "x": [
          "Sales"
         ],
         "y": [
          1201681.4928
         ]
        }
       ],
       "layout": {
        "template": {
         "data": {
          "bar": [
           {
            "error_x": {
             "color": "#2a3f5f"
            },
            "error_y": {
             "color": "#2a3f5f"
            },
            "marker": {
             "line": {
              "color": "white",
              "width": 0.5
             },
             "pattern": {
              "fillmode": "overlay",
              "size": 10,
              "solidity": 0.2
             }
            },
            "type": "bar"
           }
          ],
          "barpolar": [
           {
            "marker": {
             "line": {
              "color": "white",
              "width": 0.5
             },
             "pattern": {
              "fillmode": "overlay",
              "size": 10,
              "solidity": 0.2
             }
            },
            "type": "barpolar"
           }
          ],
          "carpet": [
           {
            "aaxis": {
             "endlinecolor": "#2a3f5f",
             "gridcolor": "#C8D4E3",
             "linecolor": "#C8D4E3",
             "minorgridcolor": "#C8D4E3",
             "startlinecolor": "#2a3f5f"
            },
            "baxis": {
             "endlinecolor": "#2a3f5f",
             "gridcolor": "#C8D4E3",
             "linecolor": "#C8D4E3",
             "minorgridcolor": "#C8D4E3",
             "startlinecolor": "#2a3f5f"
            },
            "type": "carpet"
           }
          ],
          "choropleth": [
           {
            "colorbar": {
             "outlinewidth": 0,
             "ticks": ""
            },
            "type": "choropleth"
           }
          ],
          "contour": [
           {
            "colorbar": {
             "outlinewidth": 0,
             "ticks": ""
            },
            "colorscale": [
             [
              0,
              "#0d0887"
             ],
             [
              0.1111111111111111,
              "#46039f"
             ],
             [
              0.2222222222222222,
              "#7201a8"
             ],
             [
              0.3333333333333333,
              "#9c179e"
             ],
             [
              0.4444444444444444,
              "#bd3786"
             ],
             [
              0.5555555555555556,
              "#d8576b"
             ],
             [
              0.6666666666666666,
              "#ed7953"
             ],
             [
              0.7777777777777778,
              "#fb9f3a"
             ],
             [
              0.8888888888888888,
              "#fdca26"
             ],
             [
              1,
              "#f0f921"
             ]
            ],
            "type": "contour"
           }
          ],
          "contourcarpet": [
           {
            "colorbar": {
             "outlinewidth": 0,
             "ticks": ""
            },
            "type": "contourcarpet"
           }
          ],
          "heatmap": [
           {
            "colorbar": {
             "outlinewidth": 0,
             "ticks": ""
            },
            "colorscale": [
             [
              0,
              "#0d0887"
             ],
             [
              0.1111111111111111,
              "#46039f"
             ],
             [
              0.2222222222222222,
              "#7201a8"
             ],
             [
              0.3333333333333333,
              "#9c179e"
             ],
             [
              0.4444444444444444,
              "#bd3786"
             ],
             [
              0.5555555555555556,
              "#d8576b"
             ],
             [
              0.6666666666666666,
              "#ed7953"
             ],
             [
              0.7777777777777778,
              "#fb9f3a"
             ],
             [
              0.8888888888888888,
              "#fdca26"
             ],
             [
              1,
              "#f0f921"
             ]
            ],
            "type": "heatmap"
           }
          ],
          "heatmapgl": [
           {
            "colorbar": {
             "outlinewidth": 0,
             "ticks": ""
            },
            "colorscale": [
             [
              0,
              "#0d0887"
             ],
             [
              0.1111111111111111,
              "#46039f"
             ],
             [
              0.2222222222222222,
              "#7201a8"
             ],
             [
              0.3333333333333333,
              "#9c179e"
             ],
             [
              0.4444444444444444,
              "#bd3786"
             ],
             [
              0.5555555555555556,
              "#d8576b"
             ],
             [
              0.6666666666666666,
              "#ed7953"
             ],
             [
              0.7777777777777778,
              "#fb9f3a"
             ],
             [
              0.8888888888888888,
              "#fdca26"
             ],
             [
              1,
              "#f0f921"
             ]
            ],
            "type": "heatmapgl"
           }
          ],
          "histogram": [
           {
            "marker": {
             "pattern": {
              "fillmode": "overlay",
              "size": 10,
              "solidity": 0.2
             }
            },
            "type": "histogram"
           }
          ],
          "histogram2d": [
           {
            "colorbar": {
             "outlinewidth": 0,
             "ticks": ""
            },
            "colorscale": [
             [
              0,
              "#0d0887"
             ],
             [
              0.1111111111111111,
              "#46039f"
             ],
             [
              0.2222222222222222,
              "#7201a8"
             ],
             [
              0.3333333333333333,
              "#9c179e"
             ],
             [
              0.4444444444444444,
              "#bd3786"
             ],
             [
              0.5555555555555556,
              "#d8576b"
             ],
             [
              0.6666666666666666,
              "#ed7953"
             ],
             [
              0.7777777777777778,
              "#fb9f3a"
             ],
             [
              0.8888888888888888,
              "#fdca26"
             ],
             [
              1,
              "#f0f921"
             ]
            ],
            "type": "histogram2d"
           }
          ],
          "histogram2dcontour": [
           {
            "colorbar": {
             "outlinewidth": 0,
             "ticks": ""
            },
            "colorscale": [
             [
              0,
              "#0d0887"
             ],
             [
              0.1111111111111111,
              "#46039f"
             ],
             [
              0.2222222222222222,
              "#7201a8"
             ],
             [
              0.3333333333333333,
              "#9c179e"
             ],
             [
              0.4444444444444444,
              "#bd3786"
             ],
             [
              0.5555555555555556,
              "#d8576b"
             ],
             [
              0.6666666666666666,
              "#ed7953"
             ],
             [
              0.7777777777777778,
              "#fb9f3a"
             ],
             [
              0.8888888888888888,
              "#fdca26"
             ],
             [
              1,
              "#f0f921"
             ]
            ],
            "type": "histogram2dcontour"
           }
          ],
          "mesh3d": [
           {
            "colorbar": {
             "outlinewidth": 0,
             "ticks": ""
            },
            "type": "mesh3d"
           }
          ],
          "parcoords": [
           {
            "line": {
             "colorbar": {
              "outlinewidth": 0,
              "ticks": ""
             }
            },
            "type": "parcoords"
           }
          ],
          "pie": [
           {
            "automargin": true,
            "type": "pie"
           }
          ],
          "scatter": [
           {
            "fillpattern": {
             "fillmode": "overlay",
             "size": 10,
             "solidity": 0.2
            },
            "type": "scatter"
           }
          ],
          "scatter3d": [
           {
            "line": {
             "colorbar": {
              "outlinewidth": 0,
              "ticks": ""
             }
            },
            "marker": {
             "colorbar": {
              "outlinewidth": 0,
              "ticks": ""
             }
            },
            "type": "scatter3d"
           }
          ],
          "scattercarpet": [
           {
            "marker": {
             "colorbar": {
              "outlinewidth": 0,
              "ticks": ""
             }
            },
            "type": "scattercarpet"
           }
          ],
          "scattergeo": [
           {
            "marker": {
             "colorbar": {
              "outlinewidth": 0,
              "ticks": ""
             }
            },
            "type": "scattergeo"
           }
          ],
          "scattergl": [
           {
            "marker": {
             "colorbar": {
              "outlinewidth": 0,
              "ticks": ""
             }
            },
            "type": "scattergl"
           }
          ],
          "scattermapbox": [
           {
            "marker": {
             "colorbar": {
              "outlinewidth": 0,
              "ticks": ""
             }
            },
            "type": "scattermapbox"
           }
          ],
          "scatterpolar": [
           {
            "marker": {
             "colorbar": {
              "outlinewidth": 0,
              "ticks": ""
             }
            },
            "type": "scatterpolar"
           }
          ],
          "scatterpolargl": [
           {
            "marker": {
             "colorbar": {
              "outlinewidth": 0,
              "ticks": ""
             }
            },
            "type": "scatterpolargl"
           }
          ],
          "scatterternary": [
           {
            "marker": {
             "colorbar": {
              "outlinewidth": 0,
              "ticks": ""
             }
            },
            "type": "scatterternary"
           }
          ],
          "surface": [
           {
            "colorbar": {
             "outlinewidth": 0,
             "ticks": ""
            },
            "colorscale": [
             [
              0,
              "#0d0887"
             ],
             [
              0.1111111111111111,
              "#46039f"
             ],
             [
              0.2222222222222222,
              "#7201a8"
             ],
             [
              0.3333333333333333,
              "#9c179e"
             ],
             [
              0.4444444444444444,
              "#bd3786"
             ],
             [
              0.5555555555555556,
              "#d8576b"
             ],
             [
              0.6666666666666666,
              "#ed7953"
             ],
             [
              0.7777777777777778,
              "#fb9f3a"
             ],
             [
              0.8888888888888888,
              "#fdca26"
             ],
             [
              1,
              "#f0f921"
             ]
            ],
            "type": "surface"
           }
          ],
          "table": [
           {
            "cells": {
             "fill": {
              "color": "#EBF0F8"
             },
             "line": {
              "color": "white"
             }
            },
            "header": {
             "fill": {
              "color": "#C8D4E3"
             },
             "line": {
              "color": "white"
             }
            },
            "type": "table"
           }
          ]
         },
         "layout": {
          "annotationdefaults": {
           "arrowcolor": "#2a3f5f",
           "arrowhead": 0,
           "arrowwidth": 1
          },
          "autotypenumbers": "strict",
          "coloraxis": {
           "colorbar": {
            "outlinewidth": 0,
            "ticks": ""
           }
          },
          "colorscale": {
           "diverging": [
            [
             0,
             "#8e0152"
            ],
            [
             0.1,
             "#c51b7d"
            ],
            [
             0.2,
             "#de77ae"
            ],
            [
             0.3,
             "#f1b6da"
            ],
            [
             0.4,
             "#fde0ef"
            ],
            [
             0.5,
             "#f7f7f7"
            ],
            [
             0.6,
             "#e6f5d0"
            ],
            [
             0.7,
             "#b8e186"
            ],
            [
             0.8,
             "#7fbc41"
            ],
            [
             0.9,
             "#4d9221"
            ],
            [
             1,
             "#276419"
            ]
           ],
           "sequential": [
            [
             0,
             "#0d0887"
            ],
            [
             0.1111111111111111,
             "#46039f"
            ],
            [
             0.2222222222222222,
             "#7201a8"
            ],
            [
             0.3333333333333333,
             "#9c179e"
            ],
            [
             0.4444444444444444,
             "#bd3786"
            ],
            [
             0.5555555555555556,
             "#d8576b"
            ],
            [
             0.6666666666666666,
             "#ed7953"
            ],
            [
             0.7777777777777778,
             "#fb9f3a"
            ],
            [
             0.8888888888888888,
             "#fdca26"
            ],
            [
             1,
             "#f0f921"
            ]
           ],
           "sequentialminus": [
            [
             0,
             "#0d0887"
            ],
            [
             0.1111111111111111,
             "#46039f"
            ],
            [
             0.2222222222222222,
             "#7201a8"
            ],
            [
             0.3333333333333333,
             "#9c179e"
            ],
            [
             0.4444444444444444,
             "#bd3786"
            ],
            [
             0.5555555555555556,
             "#d8576b"
            ],
            [
             0.6666666666666666,
             "#ed7953"
            ],
            [
             0.7777777777777778,
             "#fb9f3a"
            ],
            [
             0.8888888888888888,
             "#fdca26"
            ],
            [
             1,
             "#f0f921"
            ]
           ]
          },
          "colorway": [
           "#636efa",
           "#EF553B",
           "#00cc96",
           "#ab63fa",
           "#FFA15A",
           "#19d3f3",
           "#FF6692",
           "#B6E880",
           "#FF97FF",
           "#FECB52"
          ],
          "font": {
           "color": "#2a3f5f"
          },
          "geo": {
           "bgcolor": "white",
           "lakecolor": "white",
           "landcolor": "white",
           "showlakes": true,
           "showland": true,
           "subunitcolor": "#C8D4E3"
          },
          "hoverlabel": {
           "align": "left"
          },
          "hovermode": "closest",
          "mapbox": {
           "style": "light"
          },
          "paper_bgcolor": "white",
          "plot_bgcolor": "white",
          "polar": {
           "angularaxis": {
            "gridcolor": "#EBF0F8",
            "linecolor": "#EBF0F8",
            "ticks": ""
           },
           "bgcolor": "white",
           "radialaxis": {
            "gridcolor": "#EBF0F8",
            "linecolor": "#EBF0F8",
            "ticks": ""
           }
          },
          "scene": {
           "xaxis": {
            "backgroundcolor": "white",
            "gridcolor": "#DFE8F3",
            "gridwidth": 2,
            "linecolor": "#EBF0F8",
            "showbackground": true,
            "ticks": "",
            "zerolinecolor": "#EBF0F8"
           },
           "yaxis": {
            "backgroundcolor": "white",
            "gridcolor": "#DFE8F3",
            "gridwidth": 2,
            "linecolor": "#EBF0F8",
            "showbackground": true,
            "ticks": "",
            "zerolinecolor": "#EBF0F8"
           },
           "zaxis": {
            "backgroundcolor": "white",
            "gridcolor": "#DFE8F3",
            "gridwidth": 2,
            "linecolor": "#EBF0F8",
            "showbackground": true,
            "ticks": "",
            "zerolinecolor": "#EBF0F8"
           }
          },
          "shapedefaults": {
           "line": {
            "color": "#2a3f5f"
           }
          },
          "ternary": {
           "aaxis": {
            "gridcolor": "#DFE8F3",
            "linecolor": "#A2B1C6",
            "ticks": ""
           },
           "baxis": {
            "gridcolor": "#DFE8F3",
            "linecolor": "#A2B1C6",
            "ticks": ""
           },
           "bgcolor": "white",
           "caxis": {
            "gridcolor": "#DFE8F3",
            "linecolor": "#A2B1C6",
            "ticks": ""
           }
          },
          "title": {
           "x": 0.05
          },
          "xaxis": {
           "automargin": true,
           "gridcolor": "#EBF0F8",
           "linecolor": "#EBF0F8",
           "ticks": "",
           "title": {
            "standoff": 15
           },
           "zerolinecolor": "#EBF0F8",
           "zerolinewidth": 2
          },
          "yaxis": {
           "automargin": true,
           "gridcolor": "#EBF0F8",
           "linecolor": "#EBF0F8",
           "ticks": "",
           "title": {
            "standoff": 15
           },
           "zerolinecolor": "#EBF0F8",
           "zerolinewidth": 2
          }
         }
        },
        "title": {
         "text": "Total Sales"
        },
        "xaxis": {
         "title": {
          "text": "Sales"
         }
        },
        "yaxis": {
         "title": {
          "text": "Sales Amount"
         }
        }
       }
      }
     },
     "metadata": {},
     "output_type": "display_data"
    }
   ],
   "source": [
    "import plotly.graph_objects as go\n",
    "\n",
    "# Create a bar plot for total sales\n",
    "fig = go.Figure(data=[go.Bar(x=['Sales'], y=[total_sales])])\n",
    "\n",
    "# Update the layout\n",
    "fig.update_layout(\n",
    "    title='Total Sales',\n",
    "    xaxis_title='Sales',\n",
    "    yaxis_title='Sales Amount',\n",
    "    template='plotly_white'\n",
    ")\n",
    "\n",
    "fig.show()\n"
   ]
  },
  {
   "cell_type": "code",
   "execution_count": null,
   "metadata": {},
   "outputs": [
    {
     "data": {
      "application/vnd.plotly.v1+json": {
       "config": {
        "plotlyServerURL": "https://plot.ly"
       },
       "data": [
        {
         "domain": {
          "x": [
           0,
           1
          ],
          "y": [
           0,
           1
          ]
         },
         "hole": 0.3,
         "hoverinfo": "label+percent+value",
         "hovertemplate": "label=%{label}<br>value=%{value}<extra></extra>",
         "labels": [
          "Medium",
          "Small",
          "High"
         ],
         "legendgroup": "",
         "marker": {
          "line": {
           "color": "white",
           "width": 2
          }
         },
         "name": "",
         "pull": [
          0.05,
          0.05,
          0.05
         ],
         "showlegend": true,
         "textinfo": "percent+label",
         "type": "pie",
         "values": [
          3631,
          3139,
          1753
         ]
        }
       ],
       "layout": {
        "annotations": [
         {
          "font": {
           "size": 18
          },
          "showarrow": false,
          "text": "Outlet Sizes",
          "x": 0.5,
          "y": 0.5
         }
        ],
        "legend": {
         "bgcolor": "rgba(0,0,0,0)",
         "font": {
          "size": 12
         },
         "tracegroupgap": 0
        },
        "piecolorway": [
         "#636EFA",
         "#EF553B",
         "#00CC96",
         "#AB63FA",
         "#FFA15A"
        ],
        "showlegend": true,
        "template": {
         "data": {
          "bar": [
           {
            "error_x": {
             "color": "#2a3f5f"
            },
            "error_y": {
             "color": "#2a3f5f"
            },
            "marker": {
             "line": {
              "color": "white",
              "width": 0.5
             },
             "pattern": {
              "fillmode": "overlay",
              "size": 10,
              "solidity": 0.2
             }
            },
            "type": "bar"
           }
          ],
          "barpolar": [
           {
            "marker": {
             "line": {
              "color": "white",
              "width": 0.5
             },
             "pattern": {
              "fillmode": "overlay",
              "size": 10,
              "solidity": 0.2
             }
            },
            "type": "barpolar"
           }
          ],
          "carpet": [
           {
            "aaxis": {
             "endlinecolor": "#2a3f5f",
             "gridcolor": "#C8D4E3",
             "linecolor": "#C8D4E3",
             "minorgridcolor": "#C8D4E3",
             "startlinecolor": "#2a3f5f"
            },
            "baxis": {
             "endlinecolor": "#2a3f5f",
             "gridcolor": "#C8D4E3",
             "linecolor": "#C8D4E3",
             "minorgridcolor": "#C8D4E3",
             "startlinecolor": "#2a3f5f"
            },
            "type": "carpet"
           }
          ],
          "choropleth": [
           {
            "colorbar": {
             "outlinewidth": 0,
             "ticks": ""
            },
            "type": "choropleth"
           }
          ],
          "contour": [
           {
            "colorbar": {
             "outlinewidth": 0,
             "ticks": ""
            },
            "colorscale": [
             [
              0,
              "#0d0887"
             ],
             [
              0.1111111111111111,
              "#46039f"
             ],
             [
              0.2222222222222222,
              "#7201a8"
             ],
             [
              0.3333333333333333,
              "#9c179e"
             ],
             [
              0.4444444444444444,
              "#bd3786"
             ],
             [
              0.5555555555555556,
              "#d8576b"
             ],
             [
              0.6666666666666666,
              "#ed7953"
             ],
             [
              0.7777777777777778,
              "#fb9f3a"
             ],
             [
              0.8888888888888888,
              "#fdca26"
             ],
             [
              1,
              "#f0f921"
             ]
            ],
            "type": "contour"
           }
          ],
          "contourcarpet": [
           {
            "colorbar": {
             "outlinewidth": 0,
             "ticks": ""
            },
            "type": "contourcarpet"
           }
          ],
          "heatmap": [
           {
            "colorbar": {
             "outlinewidth": 0,
             "ticks": ""
            },
            "colorscale": [
             [
              0,
              "#0d0887"
             ],
             [
              0.1111111111111111,
              "#46039f"
             ],
             [
              0.2222222222222222,
              "#7201a8"
             ],
             [
              0.3333333333333333,
              "#9c179e"
             ],
             [
              0.4444444444444444,
              "#bd3786"
             ],
             [
              0.5555555555555556,
              "#d8576b"
             ],
             [
              0.6666666666666666,
              "#ed7953"
             ],
             [
              0.7777777777777778,
              "#fb9f3a"
             ],
             [
              0.8888888888888888,
              "#fdca26"
             ],
             [
              1,
              "#f0f921"
             ]
            ],
            "type": "heatmap"
           }
          ],
          "heatmapgl": [
           {
            "colorbar": {
             "outlinewidth": 0,
             "ticks": ""
            },
            "colorscale": [
             [
              0,
              "#0d0887"
             ],
             [
              0.1111111111111111,
              "#46039f"
             ],
             [
              0.2222222222222222,
              "#7201a8"
             ],
             [
              0.3333333333333333,
              "#9c179e"
             ],
             [
              0.4444444444444444,
              "#bd3786"
             ],
             [
              0.5555555555555556,
              "#d8576b"
             ],
             [
              0.6666666666666666,
              "#ed7953"
             ],
             [
              0.7777777777777778,
              "#fb9f3a"
             ],
             [
              0.8888888888888888,
              "#fdca26"
             ],
             [
              1,
              "#f0f921"
             ]
            ],
            "type": "heatmapgl"
           }
          ],
          "histogram": [
           {
            "marker": {
             "pattern": {
              "fillmode": "overlay",
              "size": 10,
              "solidity": 0.2
             }
            },
            "type": "histogram"
           }
          ],
          "histogram2d": [
           {
            "colorbar": {
             "outlinewidth": 0,
             "ticks": ""
            },
            "colorscale": [
             [
              0,
              "#0d0887"
             ],
             [
              0.1111111111111111,
              "#46039f"
             ],
             [
              0.2222222222222222,
              "#7201a8"
             ],
             [
              0.3333333333333333,
              "#9c179e"
             ],
             [
              0.4444444444444444,
              "#bd3786"
             ],
             [
              0.5555555555555556,
              "#d8576b"
             ],
             [
              0.6666666666666666,
              "#ed7953"
             ],
             [
              0.7777777777777778,
              "#fb9f3a"
             ],
             [
              0.8888888888888888,
              "#fdca26"
             ],
             [
              1,
              "#f0f921"
             ]
            ],
            "type": "histogram2d"
           }
          ],
          "histogram2dcontour": [
           {
            "colorbar": {
             "outlinewidth": 0,
             "ticks": ""
            },
            "colorscale": [
             [
              0,
              "#0d0887"
             ],
             [
              0.1111111111111111,
              "#46039f"
             ],
             [
              0.2222222222222222,
              "#7201a8"
             ],
             [
              0.3333333333333333,
              "#9c179e"
             ],
             [
              0.4444444444444444,
              "#bd3786"
             ],
             [
              0.5555555555555556,
              "#d8576b"
             ],
             [
              0.6666666666666666,
              "#ed7953"
             ],
             [
              0.7777777777777778,
              "#fb9f3a"
             ],
             [
              0.8888888888888888,
              "#fdca26"
             ],
             [
              1,
              "#f0f921"
             ]
            ],
            "type": "histogram2dcontour"
           }
          ],
          "mesh3d": [
           {
            "colorbar": {
             "outlinewidth": 0,
             "ticks": ""
            },
            "type": "mesh3d"
           }
          ],
          "parcoords": [
           {
            "line": {
             "colorbar": {
              "outlinewidth": 0,
              "ticks": ""
             }
            },
            "type": "parcoords"
           }
          ],
          "pie": [
           {
            "automargin": true,
            "type": "pie"
           }
          ],
          "scatter": [
           {
            "fillpattern": {
             "fillmode": "overlay",
             "size": 10,
             "solidity": 0.2
            },
            "type": "scatter"
           }
          ],
          "scatter3d": [
           {
            "line": {
             "colorbar": {
              "outlinewidth": 0,
              "ticks": ""
             }
            },
            "marker": {
             "colorbar": {
              "outlinewidth": 0,
              "ticks": ""
             }
            },
            "type": "scatter3d"
           }
          ],
          "scattercarpet": [
           {
            "marker": {
             "colorbar": {
              "outlinewidth": 0,
              "ticks": ""
             }
            },
            "type": "scattercarpet"
           }
          ],
          "scattergeo": [
           {
            "marker": {
             "colorbar": {
              "outlinewidth": 0,
              "ticks": ""
             }
            },
            "type": "scattergeo"
           }
          ],
          "scattergl": [
           {
            "marker": {
             "colorbar": {
              "outlinewidth": 0,
              "ticks": ""
             }
            },
            "type": "scattergl"
           }
          ],
          "scattermapbox": [
           {
            "marker": {
             "colorbar": {
              "outlinewidth": 0,
              "ticks": ""
             }
            },
            "type": "scattermapbox"
           }
          ],
          "scatterpolar": [
           {
            "marker": {
             "colorbar": {
              "outlinewidth": 0,
              "ticks": ""
             }
            },
            "type": "scatterpolar"
           }
          ],
          "scatterpolargl": [
           {
            "marker": {
             "colorbar": {
              "outlinewidth": 0,
              "ticks": ""
             }
            },
            "type": "scatterpolargl"
           }
          ],
          "scatterternary": [
           {
            "marker": {
             "colorbar": {
              "outlinewidth": 0,
              "ticks": ""
             }
            },
            "type": "scatterternary"
           }
          ],
          "surface": [
           {
            "colorbar": {
             "outlinewidth": 0,
             "ticks": ""
            },
            "colorscale": [
             [
              0,
              "#0d0887"
             ],
             [
              0.1111111111111111,
              "#46039f"
             ],
             [
              0.2222222222222222,
              "#7201a8"
             ],
             [
              0.3333333333333333,
              "#9c179e"
             ],
             [
              0.4444444444444444,
              "#bd3786"
             ],
             [
              0.5555555555555556,
              "#d8576b"
             ],
             [
              0.6666666666666666,
              "#ed7953"
             ],
             [
              0.7777777777777778,
              "#fb9f3a"
             ],
             [
              0.8888888888888888,
              "#fdca26"
             ],
             [
              1,
              "#f0f921"
             ]
            ],
            "type": "surface"
           }
          ],
          "table": [
           {
            "cells": {
             "fill": {
              "color": "#EBF0F8"
             },
             "line": {
              "color": "white"
             }
            },
            "header": {
             "fill": {
              "color": "#C8D4E3"
             },
             "line": {
              "color": "white"
             }
            },
            "type": "table"
           }
          ]
         },
         "layout": {
          "annotationdefaults": {
           "arrowcolor": "#2a3f5f",
           "arrowhead": 0,
           "arrowwidth": 1
          },
          "autotypenumbers": "strict",
          "coloraxis": {
           "colorbar": {
            "outlinewidth": 0,
            "ticks": ""
           }
          },
          "colorscale": {
           "diverging": [
            [
             0,
             "#8e0152"
            ],
            [
             0.1,
             "#c51b7d"
            ],
            [
             0.2,
             "#de77ae"
            ],
            [
             0.3,
             "#f1b6da"
            ],
            [
             0.4,
             "#fde0ef"
            ],
            [
             0.5,
             "#f7f7f7"
            ],
            [
             0.6,
             "#e6f5d0"
            ],
            [
             0.7,
             "#b8e186"
            ],
            [
             0.8,
             "#7fbc41"
            ],
            [
             0.9,
             "#4d9221"
            ],
            [
             1,
             "#276419"
            ]
           ],
           "sequential": [
            [
             0,
             "#0d0887"
            ],
            [
             0.1111111111111111,
             "#46039f"
            ],
            [
             0.2222222222222222,
             "#7201a8"
            ],
            [
             0.3333333333333333,
             "#9c179e"
            ],
            [
             0.4444444444444444,
             "#bd3786"
            ],
            [
             0.5555555555555556,
             "#d8576b"
            ],
            [
             0.6666666666666666,
             "#ed7953"
            ],
            [
             0.7777777777777778,
             "#fb9f3a"
            ],
            [
             0.8888888888888888,
             "#fdca26"
            ],
            [
             1,
             "#f0f921"
            ]
           ],
           "sequentialminus": [
            [
             0,
             "#0d0887"
            ],
            [
             0.1111111111111111,
             "#46039f"
            ],
            [
             0.2222222222222222,
             "#7201a8"
            ],
            [
             0.3333333333333333,
             "#9c179e"
            ],
            [
             0.4444444444444444,
             "#bd3786"
            ],
            [
             0.5555555555555556,
             "#d8576b"
            ],
            [
             0.6666666666666666,
             "#ed7953"
            ],
            [
             0.7777777777777778,
             "#fb9f3a"
            ],
            [
             0.8888888888888888,
             "#fdca26"
            ],
            [
             1,
             "#f0f921"
            ]
           ]
          },
          "colorway": [
           "#636efa",
           "#EF553B",
           "#00cc96",
           "#ab63fa",
           "#FFA15A",
           "#19d3f3",
           "#FF6692",
           "#B6E880",
           "#FF97FF",
           "#FECB52"
          ],
          "font": {
           "color": "#2a3f5f"
          },
          "geo": {
           "bgcolor": "white",
           "lakecolor": "white",
           "landcolor": "white",
           "showlakes": true,
           "showland": true,
           "subunitcolor": "#C8D4E3"
          },
          "hoverlabel": {
           "align": "left"
          },
          "hovermode": "closest",
          "mapbox": {
           "style": "light"
          },
          "paper_bgcolor": "white",
          "plot_bgcolor": "white",
          "polar": {
           "angularaxis": {
            "gridcolor": "#EBF0F8",
            "linecolor": "#EBF0F8",
            "ticks": ""
           },
           "bgcolor": "white",
           "radialaxis": {
            "gridcolor": "#EBF0F8",
            "linecolor": "#EBF0F8",
            "ticks": ""
           }
          },
          "scene": {
           "xaxis": {
            "backgroundcolor": "white",
            "gridcolor": "#DFE8F3",
            "gridwidth": 2,
            "linecolor": "#EBF0F8",
            "showbackground": true,
            "ticks": "",
            "zerolinecolor": "#EBF0F8"
           },
           "yaxis": {
            "backgroundcolor": "white",
            "gridcolor": "#DFE8F3",
            "gridwidth": 2,
            "linecolor": "#EBF0F8",
            "showbackground": true,
            "ticks": "",
            "zerolinecolor": "#EBF0F8"
           },
           "zaxis": {
            "backgroundcolor": "white",
            "gridcolor": "#DFE8F3",
            "gridwidth": 2,
            "linecolor": "#EBF0F8",
            "showbackground": true,
            "ticks": "",
            "zerolinecolor": "#EBF0F8"
           }
          },
          "shapedefaults": {
           "line": {
            "color": "#2a3f5f"
           }
          },
          "ternary": {
           "aaxis": {
            "gridcolor": "#DFE8F3",
            "linecolor": "#A2B1C6",
            "ticks": ""
           },
           "baxis": {
            "gridcolor": "#DFE8F3",
            "linecolor": "#A2B1C6",
            "ticks": ""
           },
           "bgcolor": "white",
           "caxis": {
            "gridcolor": "#DFE8F3",
            "linecolor": "#A2B1C6",
            "ticks": ""
           }
          },
          "title": {
           "x": 0.05
          },
          "xaxis": {
           "automargin": true,
           "gridcolor": "#EBF0F8",
           "linecolor": "#EBF0F8",
           "ticks": "",
           "title": {
            "standoff": 15
           },
           "zerolinecolor": "#EBF0F8",
           "zerolinewidth": 2
          },
          "yaxis": {
           "automargin": true,
           "gridcolor": "#EBF0F8",
           "linecolor": "#EBF0F8",
           "ticks": "",
           "title": {
            "standoff": 15
           },
           "zerolinecolor": "#EBF0F8",
           "zerolinewidth": 2
          }
         }
        },
        "title": {
         "font": {
          "size": 22
         },
         "text": "Distribution of Outlet Sizes",
         "x": 0.5
        }
       }
      }
     },
     "metadata": {},
     "output_type": "display_data"
    }
   ],
   "source": [
    "import plotly.express as px\n",
    "\n",
    "# Custom color palette for the pie chart\n",
    "colors = ['#636EFA', '#EF553B', '#00CC96', '#AB63FA', '#FFA15A']\n",
    "\n",
    "# Create a more attractive pie chart for outlet size distribution\n",
    "fig = px.pie(values=outlet_size_distribution, \n",
    "            names=outlet_size_distribution.index, \n",
    "            title='Distribution of Outlet Sizes',\n",
    "            hole=0.3, \n",
    "            color_discrete_sequence=colors)\n",
    "\n",
    "# Update the layout for aesthetics\n",
    "fig.update_traces(\n",
    "    textinfo='percent+label', \n",
    "    hoverinfo='label+percent+value',  # Show label, percentage, and value on hover\n",
    "    pull=[0.05]*len(outlet_size_distribution),  # Pull slices out slightly for emphasis\n",
    "    marker=dict(line=dict(color='white', width=2))  # Add white borders around slices\n",
    ")\n",
    "\n",
    "# Customizing the overall layout\n",
    "fig.update_layout(\n",
    "    title_font_size=22,  # Larger title font\n",
    "    title_x=0.5,  # Center the title\n",
    "    annotations=[dict(text='Outlet Sizes', x=0.5, y=0.5, font_size=18, showarrow=False)],  # Add text in the donut hole\n",
    "    showlegend=True,  # Show legend\n",
    "    legend=dict(\n",
    "        font_size=12,  # Increase legend font size\n",
    "        bgcolor='rgba(0,0,0,0)',  # Transparent legend background\n",
    "    ),\n",
    "    template='plotly_white'  # Use a  theme for a vibrant look\n",
    ")\n",
    "\n",
    "fig.show()\n"
   ]
  },
  {
   "cell_type": "code",
   "execution_count": null,
   "metadata": {},
   "outputs": [
    {
     "data": {
      "application/vnd.plotly.v1+json": {
       "config": {
        "plotlyServerURL": "https://plot.ly"
       },
       "data": [
        {
         "alignmentgroup": "True",
         "hoverinfo": "x+y",
         "hovertemplate": "Year: %{x}<br>Count: %{y}<extra></extra>",
         "legendgroup": "",
         "marker": {
          "color": [
           2011,
           2012,
           2014,
           2015,
           2016,
           2017,
           2018,
           2020,
           2022
          ],
          "coloraxis": "coloraxis",
          "line": {
           "color": "black",
           "width": 1
          },
          "pattern": {
           "shape": ""
          }
         },
         "name": "",
         "offsetgroup": "",
         "orientation": "v",
         "showlegend": false,
         "textposition": "outside",
         "texttemplate": "%{y}",
         "type": "bar",
         "x": [
          2011,
          2012,
          2014,
          2015,
          2016,
          2017,
          2018,
          2020,
          2022
         ],
         "xaxis": "x",
         "y": [
          555,
          930,
          932,
          929,
          930,
          930,
          1463,
          926,
          928
         ],
         "yaxis": "y"
        }
       ],
       "layout": {
        "bargap": 0.3,
        "barmode": "relative",
        "coloraxis": {
         "colorbar": {
          "title": {
           "text": "Year"
          }
         },
         "colorscale": [
          [
           0,
           "#0d0887"
          ],
          [
           0.1111111111111111,
           "#46039f"
          ],
          [
           0.2222222222222222,
           "#7201a8"
          ],
          [
           0.3333333333333333,
           "#9c179e"
          ],
          [
           0.4444444444444444,
           "#bd3786"
          ],
          [
           0.5555555555555556,
           "#d8576b"
          ],
          [
           0.6666666666666666,
           "#ed7953"
          ],
          [
           0.7777777777777778,
           "#fb9f3a"
          ],
          [
           0.8888888888888888,
           "#fdca26"
          ],
          [
           1,
           "#f0f921"
          ]
         ]
        },
        "legend": {
         "tracegroupgap": 0
        },
        "paper_bgcolor": "white",
        "plot_bgcolor": "white",
        "template": {
         "data": {
          "bar": [
           {
            "error_x": {
             "color": "#2a3f5f"
            },
            "error_y": {
             "color": "#2a3f5f"
            },
            "marker": {
             "line": {
              "color": "white",
              "width": 0.5
             },
             "pattern": {
              "fillmode": "overlay",
              "size": 10,
              "solidity": 0.2
             }
            },
            "type": "bar"
           }
          ],
          "barpolar": [
           {
            "marker": {
             "line": {
              "color": "white",
              "width": 0.5
             },
             "pattern": {
              "fillmode": "overlay",
              "size": 10,
              "solidity": 0.2
             }
            },
            "type": "barpolar"
           }
          ],
          "carpet": [
           {
            "aaxis": {
             "endlinecolor": "#2a3f5f",
             "gridcolor": "#C8D4E3",
             "linecolor": "#C8D4E3",
             "minorgridcolor": "#C8D4E3",
             "startlinecolor": "#2a3f5f"
            },
            "baxis": {
             "endlinecolor": "#2a3f5f",
             "gridcolor": "#C8D4E3",
             "linecolor": "#C8D4E3",
             "minorgridcolor": "#C8D4E3",
             "startlinecolor": "#2a3f5f"
            },
            "type": "carpet"
           }
          ],
          "choropleth": [
           {
            "colorbar": {
             "outlinewidth": 0,
             "ticks": ""
            },
            "type": "choropleth"
           }
          ],
          "contour": [
           {
            "colorbar": {
             "outlinewidth": 0,
             "ticks": ""
            },
            "colorscale": [
             [
              0,
              "#0d0887"
             ],
             [
              0.1111111111111111,
              "#46039f"
             ],
             [
              0.2222222222222222,
              "#7201a8"
             ],
             [
              0.3333333333333333,
              "#9c179e"
             ],
             [
              0.4444444444444444,
              "#bd3786"
             ],
             [
              0.5555555555555556,
              "#d8576b"
             ],
             [
              0.6666666666666666,
              "#ed7953"
             ],
             [
              0.7777777777777778,
              "#fb9f3a"
             ],
             [
              0.8888888888888888,
              "#fdca26"
             ],
             [
              1,
              "#f0f921"
             ]
            ],
            "type": "contour"
           }
          ],
          "contourcarpet": [
           {
            "colorbar": {
             "outlinewidth": 0,
             "ticks": ""
            },
            "type": "contourcarpet"
           }
          ],
          "heatmap": [
           {
            "colorbar": {
             "outlinewidth": 0,
             "ticks": ""
            },
            "colorscale": [
             [
              0,
              "#0d0887"
             ],
             [
              0.1111111111111111,
              "#46039f"
             ],
             [
              0.2222222222222222,
              "#7201a8"
             ],
             [
              0.3333333333333333,
              "#9c179e"
             ],
             [
              0.4444444444444444,
              "#bd3786"
             ],
             [
              0.5555555555555556,
              "#d8576b"
             ],
             [
              0.6666666666666666,
              "#ed7953"
             ],
             [
              0.7777777777777778,
              "#fb9f3a"
             ],
             [
              0.8888888888888888,
              "#fdca26"
             ],
             [
              1,
              "#f0f921"
             ]
            ],
            "type": "heatmap"
           }
          ],
          "heatmapgl": [
           {
            "colorbar": {
             "outlinewidth": 0,
             "ticks": ""
            },
            "colorscale": [
             [
              0,
              "#0d0887"
             ],
             [
              0.1111111111111111,
              "#46039f"
             ],
             [
              0.2222222222222222,
              "#7201a8"
             ],
             [
              0.3333333333333333,
              "#9c179e"
             ],
             [
              0.4444444444444444,
              "#bd3786"
             ],
             [
              0.5555555555555556,
              "#d8576b"
             ],
             [
              0.6666666666666666,
              "#ed7953"
             ],
             [
              0.7777777777777778,
              "#fb9f3a"
             ],
             [
              0.8888888888888888,
              "#fdca26"
             ],
             [
              1,
              "#f0f921"
             ]
            ],
            "type": "heatmapgl"
           }
          ],
          "histogram": [
           {
            "marker": {
             "pattern": {
              "fillmode": "overlay",
              "size": 10,
              "solidity": 0.2
             }
            },
            "type": "histogram"
           }
          ],
          "histogram2d": [
           {
            "colorbar": {
             "outlinewidth": 0,
             "ticks": ""
            },
            "colorscale": [
             [
              0,
              "#0d0887"
             ],
             [
              0.1111111111111111,
              "#46039f"
             ],
             [
              0.2222222222222222,
              "#7201a8"
             ],
             [
              0.3333333333333333,
              "#9c179e"
             ],
             [
              0.4444444444444444,
              "#bd3786"
             ],
             [
              0.5555555555555556,
              "#d8576b"
             ],
             [
              0.6666666666666666,
              "#ed7953"
             ],
             [
              0.7777777777777778,
              "#fb9f3a"
             ],
             [
              0.8888888888888888,
              "#fdca26"
             ],
             [
              1,
              "#f0f921"
             ]
            ],
            "type": "histogram2d"
           }
          ],
          "histogram2dcontour": [
           {
            "colorbar": {
             "outlinewidth": 0,
             "ticks": ""
            },
            "colorscale": [
             [
              0,
              "#0d0887"
             ],
             [
              0.1111111111111111,
              "#46039f"
             ],
             [
              0.2222222222222222,
              "#7201a8"
             ],
             [
              0.3333333333333333,
              "#9c179e"
             ],
             [
              0.4444444444444444,
              "#bd3786"
             ],
             [
              0.5555555555555556,
              "#d8576b"
             ],
             [
              0.6666666666666666,
              "#ed7953"
             ],
             [
              0.7777777777777778,
              "#fb9f3a"
             ],
             [
              0.8888888888888888,
              "#fdca26"
             ],
             [
              1,
              "#f0f921"
             ]
            ],
            "type": "histogram2dcontour"
           }
          ],
          "mesh3d": [
           {
            "colorbar": {
             "outlinewidth": 0,
             "ticks": ""
            },
            "type": "mesh3d"
           }
          ],
          "parcoords": [
           {
            "line": {
             "colorbar": {
              "outlinewidth": 0,
              "ticks": ""
             }
            },
            "type": "parcoords"
           }
          ],
          "pie": [
           {
            "automargin": true,
            "type": "pie"
           }
          ],
          "scatter": [
           {
            "fillpattern": {
             "fillmode": "overlay",
             "size": 10,
             "solidity": 0.2
            },
            "type": "scatter"
           }
          ],
          "scatter3d": [
           {
            "line": {
             "colorbar": {
              "outlinewidth": 0,
              "ticks": ""
             }
            },
            "marker": {
             "colorbar": {
              "outlinewidth": 0,
              "ticks": ""
             }
            },
            "type": "scatter3d"
           }
          ],
          "scattercarpet": [
           {
            "marker": {
             "colorbar": {
              "outlinewidth": 0,
              "ticks": ""
             }
            },
            "type": "scattercarpet"
           }
          ],
          "scattergeo": [
           {
            "marker": {
             "colorbar": {
              "outlinewidth": 0,
              "ticks": ""
             }
            },
            "type": "scattergeo"
           }
          ],
          "scattergl": [
           {
            "marker": {
             "colorbar": {
              "outlinewidth": 0,
              "ticks": ""
             }
            },
            "type": "scattergl"
           }
          ],
          "scattermapbox": [
           {
            "marker": {
             "colorbar": {
              "outlinewidth": 0,
              "ticks": ""
             }
            },
            "type": "scattermapbox"
           }
          ],
          "scatterpolar": [
           {
            "marker": {
             "colorbar": {
              "outlinewidth": 0,
              "ticks": ""
             }
            },
            "type": "scatterpolar"
           }
          ],
          "scatterpolargl": [
           {
            "marker": {
             "colorbar": {
              "outlinewidth": 0,
              "ticks": ""
             }
            },
            "type": "scatterpolargl"
           }
          ],
          "scatterternary": [
           {
            "marker": {
             "colorbar": {
              "outlinewidth": 0,
              "ticks": ""
             }
            },
            "type": "scatterternary"
           }
          ],
          "surface": [
           {
            "colorbar": {
             "outlinewidth": 0,
             "ticks": ""
            },
            "colorscale": [
             [
              0,
              "#0d0887"
             ],
             [
              0.1111111111111111,
              "#46039f"
             ],
             [
              0.2222222222222222,
              "#7201a8"
             ],
             [
              0.3333333333333333,
              "#9c179e"
             ],
             [
              0.4444444444444444,
              "#bd3786"
             ],
             [
              0.5555555555555556,
              "#d8576b"
             ],
             [
              0.6666666666666666,
              "#ed7953"
             ],
             [
              0.7777777777777778,
              "#fb9f3a"
             ],
             [
              0.8888888888888888,
              "#fdca26"
             ],
             [
              1,
              "#f0f921"
             ]
            ],
            "type": "surface"
           }
          ],
          "table": [
           {
            "cells": {
             "fill": {
              "color": "#EBF0F8"
             },
             "line": {
              "color": "white"
             }
            },
            "header": {
             "fill": {
              "color": "#C8D4E3"
             },
             "line": {
              "color": "white"
             }
            },
            "type": "table"
           }
          ]
         },
         "layout": {
          "annotationdefaults": {
           "arrowcolor": "#2a3f5f",
           "arrowhead": 0,
           "arrowwidth": 1
          },
          "autotypenumbers": "strict",
          "coloraxis": {
           "colorbar": {
            "outlinewidth": 0,
            "ticks": ""
           }
          },
          "colorscale": {
           "diverging": [
            [
             0,
             "#8e0152"
            ],
            [
             0.1,
             "#c51b7d"
            ],
            [
             0.2,
             "#de77ae"
            ],
            [
             0.3,
             "#f1b6da"
            ],
            [
             0.4,
             "#fde0ef"
            ],
            [
             0.5,
             "#f7f7f7"
            ],
            [
             0.6,
             "#e6f5d0"
            ],
            [
             0.7,
             "#b8e186"
            ],
            [
             0.8,
             "#7fbc41"
            ],
            [
             0.9,
             "#4d9221"
            ],
            [
             1,
             "#276419"
            ]
           ],
           "sequential": [
            [
             0,
             "#0d0887"
            ],
            [
             0.1111111111111111,
             "#46039f"
            ],
            [
             0.2222222222222222,
             "#7201a8"
            ],
            [
             0.3333333333333333,
             "#9c179e"
            ],
            [
             0.4444444444444444,
             "#bd3786"
            ],
            [
             0.5555555555555556,
             "#d8576b"
            ],
            [
             0.6666666666666666,
             "#ed7953"
            ],
            [
             0.7777777777777778,
             "#fb9f3a"
            ],
            [
             0.8888888888888888,
             "#fdca26"
            ],
            [
             1,
             "#f0f921"
            ]
           ],
           "sequentialminus": [
            [
             0,
             "#0d0887"
            ],
            [
             0.1111111111111111,
             "#46039f"
            ],
            [
             0.2222222222222222,
             "#7201a8"
            ],
            [
             0.3333333333333333,
             "#9c179e"
            ],
            [
             0.4444444444444444,
             "#bd3786"
            ],
            [
             0.5555555555555556,
             "#d8576b"
            ],
            [
             0.6666666666666666,
             "#ed7953"
            ],
            [
             0.7777777777777778,
             "#fb9f3a"
            ],
            [
             0.8888888888888888,
             "#fdca26"
            ],
            [
             1,
             "#f0f921"
            ]
           ]
          },
          "colorway": [
           "#636efa",
           "#EF553B",
           "#00cc96",
           "#ab63fa",
           "#FFA15A",
           "#19d3f3",
           "#FF6692",
           "#B6E880",
           "#FF97FF",
           "#FECB52"
          ],
          "font": {
           "color": "#2a3f5f"
          },
          "geo": {
           "bgcolor": "white",
           "lakecolor": "white",
           "landcolor": "white",
           "showlakes": true,
           "showland": true,
           "subunitcolor": "#C8D4E3"
          },
          "hoverlabel": {
           "align": "left"
          },
          "hovermode": "closest",
          "mapbox": {
           "style": "light"
          },
          "paper_bgcolor": "white",
          "plot_bgcolor": "white",
          "polar": {
           "angularaxis": {
            "gridcolor": "#EBF0F8",
            "linecolor": "#EBF0F8",
            "ticks": ""
           },
           "bgcolor": "white",
           "radialaxis": {
            "gridcolor": "#EBF0F8",
            "linecolor": "#EBF0F8",
            "ticks": ""
           }
          },
          "scene": {
           "xaxis": {
            "backgroundcolor": "white",
            "gridcolor": "#DFE8F3",
            "gridwidth": 2,
            "linecolor": "#EBF0F8",
            "showbackground": true,
            "ticks": "",
            "zerolinecolor": "#EBF0F8"
           },
           "yaxis": {
            "backgroundcolor": "white",
            "gridcolor": "#DFE8F3",
            "gridwidth": 2,
            "linecolor": "#EBF0F8",
            "showbackground": true,
            "ticks": "",
            "zerolinecolor": "#EBF0F8"
           },
           "zaxis": {
            "backgroundcolor": "white",
            "gridcolor": "#DFE8F3",
            "gridwidth": 2,
            "linecolor": "#EBF0F8",
            "showbackground": true,
            "ticks": "",
            "zerolinecolor": "#EBF0F8"
           }
          },
          "shapedefaults": {
           "line": {
            "color": "#2a3f5f"
           }
          },
          "ternary": {
           "aaxis": {
            "gridcolor": "#DFE8F3",
            "linecolor": "#A2B1C6",
            "ticks": ""
           },
           "baxis": {
            "gridcolor": "#DFE8F3",
            "linecolor": "#A2B1C6",
            "ticks": ""
           },
           "bgcolor": "white",
           "caxis": {
            "gridcolor": "#DFE8F3",
            "linecolor": "#A2B1C6",
            "ticks": ""
           }
          },
          "title": {
           "x": 0.05
          },
          "xaxis": {
           "automargin": true,
           "gridcolor": "#EBF0F8",
           "linecolor": "#EBF0F8",
           "ticks": "",
           "title": {
            "standoff": 15
           },
           "zerolinecolor": "#EBF0F8",
           "zerolinewidth": 2
          },
          "yaxis": {
           "automargin": true,
           "gridcolor": "#EBF0F8",
           "linecolor": "#EBF0F8",
           "ticks": "",
           "title": {
            "standoff": 15
           },
           "zerolinecolor": "#EBF0F8",
           "zerolinewidth": 2
          }
         }
        },
        "title": {
         "text": "Outlet Establishment Year Distribution",
         "x": 0.5
        },
        "xaxis": {
         "anchor": "y",
         "domain": [
          0,
          1
         ],
         "title": {
          "text": "Year"
         }
        },
        "yaxis": {
         "anchor": "x",
         "domain": [
          0,
          1
         ],
         "title": {
          "text": "Count"
         }
        }
       }
      }
     },
     "metadata": {},
     "output_type": "display_data"
    }
   ],
   "source": [
    "import plotly.express as px\n",
    "\n",
    "# Create a count plot for 'Outlet Establishment Year' using Plotly\n",
    "# First, we create a DataFrame with counts and sort it\n",
    "year_counts = df['Outlet Establishment Year'].value_counts().reset_index()\n",
    "year_counts.columns = ['Year', 'Count']  # Rename columns for clarity\n",
    "year_counts.sort_values('Year', inplace=True)  # Sort by Year\n",
    "\n",
    "# Create a histogram with multi-colors\n",
    "fig = px.bar(\n",
    "    year_counts, \n",
    "    x='Year', \n",
    "    y='Count', \n",
    "    title='Outlet Establishment Year Distribution',\n",
    "    color='Year',  # Use Year for color differentiation\n",
    "    color_discrete_sequence=px.colors.qualitative.Plotly  # Use a qualitative color palette\n",
    ")\n",
    "\n",
    "# Update the layout for aesthetics\n",
    "fig.update_layout(\n",
    "    xaxis_title='Year',\n",
    "    yaxis_title='Count',\n",
    "    title_x=0.5,  # Center the title\n",
    "    template='plotly_white',  # Use a white theme\n",
    "    bargap=0.3,  # Add space between bars\n",
    "    plot_bgcolor='white',  # White plot background\n",
    "    paper_bgcolor='white',  # White paper background\n",
    ")\n",
    "\n",
    "# Adding labels on top of the bars\n",
    "fig.update_traces(\n",
    "    texttemplate='%{y}',  # Show the count value\n",
    "    textposition='outside',  # Position text above the bars\n",
    "    marker=dict(line=dict(color='black', width=1))  # Add black border around bars\n",
    ")\n",
    "\n",
    "# Customize hover information\n",
    "fig.update_traces(hoverinfo='x+y', hovertemplate='Year: %{x}<br>Count: %{y}<extra></extra>')\n",
    "\n",
    "# Show the plot\n",
    "fig.show()\n"
   ]
  },
  {
   "cell_type": "code",
   "execution_count": null,
   "metadata": {},
   "outputs": [
    {
     "data": {
      "application/vnd.plotly.v1+json": {
       "config": {
        "plotlyServerURL": "https://plot.ly"
       },
       "data": [
        {
         "alignmentgroup": "True",
         "hoverinfo": "x+y",
         "hovertemplate": "Item Type: %{x}<br>Count: %{y}<extra></extra>",
         "legendgroup": "Fruits and Vegetables",
         "marker": {
          "color": "#636EFA",
          "line": {
           "color": "black",
           "width": 1
          },
          "pattern": {
           "shape": ""
          }
         },
         "name": "Fruits and Vegetables",
         "offsetgroup": "Fruits and Vegetables",
         "orientation": "v",
         "showlegend": true,
         "textposition": "outside",
         "texttemplate": "%{y}",
         "type": "bar",
         "x": [
          "Fruits and Vegetables"
         ],
         "xaxis": "x",
         "y": [
          1232
         ],
         "yaxis": "y"
        },
        {
         "alignmentgroup": "True",
         "hoverinfo": "x+y",
         "hovertemplate": "Item Type: %{x}<br>Count: %{y}<extra></extra>",
         "legendgroup": "Snack Foods",
         "marker": {
          "color": "#EF553B",
          "line": {
           "color": "black",
           "width": 1
          },
          "pattern": {
           "shape": ""
          }
         },
         "name": "Snack Foods",
         "offsetgroup": "Snack Foods",
         "orientation": "v",
         "showlegend": true,
         "textposition": "outside",
         "texttemplate": "%{y}",
         "type": "bar",
         "x": [
          "Snack Foods"
         ],
         "xaxis": "x",
         "y": [
          1200
         ],
         "yaxis": "y"
        },
        {
         "alignmentgroup": "True",
         "hoverinfo": "x+y",
         "hovertemplate": "Item Type: %{x}<br>Count: %{y}<extra></extra>",
         "legendgroup": "Household",
         "marker": {
          "color": "#00CC96",
          "line": {
           "color": "black",
           "width": 1
          },
          "pattern": {
           "shape": ""
          }
         },
         "name": "Household",
         "offsetgroup": "Household",
         "orientation": "v",
         "showlegend": true,
         "textposition": "outside",
         "texttemplate": "%{y}",
         "type": "bar",
         "x": [
          "Household"
         ],
         "xaxis": "x",
         "y": [
          910
         ],
         "yaxis": "y"
        },
        {
         "alignmentgroup": "True",
         "hoverinfo": "x+y",
         "hovertemplate": "Item Type: %{x}<br>Count: %{y}<extra></extra>",
         "legendgroup": "Frozen Foods",
         "marker": {
          "color": "#AB63FA",
          "line": {
           "color": "black",
           "width": 1
          },
          "pattern": {
           "shape": ""
          }
         },
         "name": "Frozen Foods",
         "offsetgroup": "Frozen Foods",
         "orientation": "v",
         "showlegend": true,
         "textposition": "outside",
         "texttemplate": "%{y}",
         "type": "bar",
         "x": [
          "Frozen Foods"
         ],
         "xaxis": "x",
         "y": [
          856
         ],
         "yaxis": "y"
        },
        {
         "alignmentgroup": "True",
         "hoverinfo": "x+y",
         "hovertemplate": "Item Type: %{x}<br>Count: %{y}<extra></extra>",
         "legendgroup": "Dairy",
         "marker": {
          "color": "#FFA15A",
          "line": {
           "color": "black",
           "width": 1
          },
          "pattern": {
           "shape": ""
          }
         },
         "name": "Dairy",
         "offsetgroup": "Dairy",
         "orientation": "v",
         "showlegend": true,
         "textposition": "outside",
         "texttemplate": "%{y}",
         "type": "bar",
         "x": [
          "Dairy"
         ],
         "xaxis": "x",
         "y": [
          682
         ],
         "yaxis": "y"
        },
        {
         "alignmentgroup": "True",
         "hoverinfo": "x+y",
         "hovertemplate": "Item Type: %{x}<br>Count: %{y}<extra></extra>",
         "legendgroup": "Canned",
         "marker": {
          "color": "#19D3F3",
          "line": {
           "color": "black",
           "width": 1
          },
          "pattern": {
           "shape": ""
          }
         },
         "name": "Canned",
         "offsetgroup": "Canned",
         "orientation": "v",
         "showlegend": true,
         "textposition": "outside",
         "texttemplate": "%{y}",
         "type": "bar",
         "x": [
          "Canned"
         ],
         "xaxis": "x",
         "y": [
          649
         ],
         "yaxis": "y"
        },
        {
         "alignmentgroup": "True",
         "hoverinfo": "x+y",
         "hovertemplate": "Item Type: %{x}<br>Count: %{y}<extra></extra>",
         "legendgroup": "Baking Goods",
         "marker": {
          "color": "#FF6692",
          "line": {
           "color": "black",
           "width": 1
          },
          "pattern": {
           "shape": ""
          }
         },
         "name": "Baking Goods",
         "offsetgroup": "Baking Goods",
         "orientation": "v",
         "showlegend": true,
         "textposition": "outside",
         "texttemplate": "%{y}",
         "type": "bar",
         "x": [
          "Baking Goods"
         ],
         "xaxis": "x",
         "y": [
          648
         ],
         "yaxis": "y"
        },
        {
         "alignmentgroup": "True",
         "hoverinfo": "x+y",
         "hovertemplate": "Item Type: %{x}<br>Count: %{y}<extra></extra>",
         "legendgroup": "Health and Hygiene",
         "marker": {
          "color": "#B6E880",
          "line": {
           "color": "black",
           "width": 1
          },
          "pattern": {
           "shape": ""
          }
         },
         "name": "Health and Hygiene",
         "offsetgroup": "Health and Hygiene",
         "orientation": "v",
         "showlegend": true,
         "textposition": "outside",
         "texttemplate": "%{y}",
         "type": "bar",
         "x": [
          "Health and Hygiene"
         ],
         "xaxis": "x",
         "y": [
          520
         ],
         "yaxis": "y"
        },
        {
         "alignmentgroup": "True",
         "hoverinfo": "x+y",
         "hovertemplate": "Item Type: %{x}<br>Count: %{y}<extra></extra>",
         "legendgroup": "Soft Drinks",
         "marker": {
          "color": "#FF97FF",
          "line": {
           "color": "black",
           "width": 1
          },
          "pattern": {
           "shape": ""
          }
         },
         "name": "Soft Drinks",
         "offsetgroup": "Soft Drinks",
         "orientation": "v",
         "showlegend": true,
         "textposition": "outside",
         "texttemplate": "%{y}",
         "type": "bar",
         "x": [
          "Soft Drinks"
         ],
         "xaxis": "x",
         "y": [
          445
         ],
         "yaxis": "y"
        },
        {
         "alignmentgroup": "True",
         "hoverinfo": "x+y",
         "hovertemplate": "Item Type: %{x}<br>Count: %{y}<extra></extra>",
         "legendgroup": "Meat",
         "marker": {
          "color": "#FECB52",
          "line": {
           "color": "black",
           "width": 1
          },
          "pattern": {
           "shape": ""
          }
         },
         "name": "Meat",
         "offsetgroup": "Meat",
         "orientation": "v",
         "showlegend": true,
         "textposition": "outside",
         "texttemplate": "%{y}",
         "type": "bar",
         "x": [
          "Meat"
         ],
         "xaxis": "x",
         "y": [
          425
         ],
         "yaxis": "y"
        },
        {
         "alignmentgroup": "True",
         "hoverinfo": "x+y",
         "hovertemplate": "Item Type: %{x}<br>Count: %{y}<extra></extra>",
         "legendgroup": "Breads",
         "marker": {
          "color": "#636EFA",
          "line": {
           "color": "black",
           "width": 1
          },
          "pattern": {
           "shape": ""
          }
         },
         "name": "Breads",
         "offsetgroup": "Breads",
         "orientation": "v",
         "showlegend": true,
         "textposition": "outside",
         "texttemplate": "%{y}",
         "type": "bar",
         "x": [
          "Breads"
         ],
         "xaxis": "x",
         "y": [
          251
         ],
         "yaxis": "y"
        },
        {
         "alignmentgroup": "True",
         "hoverinfo": "x+y",
         "hovertemplate": "Item Type: %{x}<br>Count: %{y}<extra></extra>",
         "legendgroup": "Hard Drinks",
         "marker": {
          "color": "#EF553B",
          "line": {
           "color": "black",
           "width": 1
          },
          "pattern": {
           "shape": ""
          }
         },
         "name": "Hard Drinks",
         "offsetgroup": "Hard Drinks",
         "orientation": "v",
         "showlegend": true,
         "textposition": "outside",
         "texttemplate": "%{y}",
         "type": "bar",
         "x": [
          "Hard Drinks"
         ],
         "xaxis": "x",
         "y": [
          214
         ],
         "yaxis": "y"
        },
        {
         "alignmentgroup": "True",
         "hoverinfo": "x+y",
         "hovertemplate": "Item Type: %{x}<br>Count: %{y}<extra></extra>",
         "legendgroup": "Others",
         "marker": {
          "color": "#00CC96",
          "line": {
           "color": "black",
           "width": 1
          },
          "pattern": {
           "shape": ""
          }
         },
         "name": "Others",
         "offsetgroup": "Others",
         "orientation": "v",
         "showlegend": true,
         "textposition": "outside",
         "texttemplate": "%{y}",
         "type": "bar",
         "x": [
          "Others"
         ],
         "xaxis": "x",
         "y": [
          169
         ],
         "yaxis": "y"
        },
        {
         "alignmentgroup": "True",
         "hoverinfo": "x+y",
         "hovertemplate": "Item Type: %{x}<br>Count: %{y}<extra></extra>",
         "legendgroup": "Starchy Foods",
         "marker": {
          "color": "#AB63FA",
          "line": {
           "color": "black",
           "width": 1
          },
          "pattern": {
           "shape": ""
          }
         },
         "name": "Starchy Foods",
         "offsetgroup": "Starchy Foods",
         "orientation": "v",
         "showlegend": true,
         "textposition": "outside",
         "texttemplate": "%{y}",
         "type": "bar",
         "x": [
          "Starchy Foods"
         ],
         "xaxis": "x",
         "y": [
          148
         ],
         "yaxis": "y"
        },
        {
         "alignmentgroup": "True",
         "hoverinfo": "x+y",
         "hovertemplate": "Item Type: %{x}<br>Count: %{y}<extra></extra>",
         "legendgroup": "Breakfast",
         "marker": {
          "color": "#FFA15A",
          "line": {
           "color": "black",
           "width": 1
          },
          "pattern": {
           "shape": ""
          }
         },
         "name": "Breakfast",
         "offsetgroup": "Breakfast",
         "orientation": "v",
         "showlegend": true,
         "textposition": "outside",
         "texttemplate": "%{y}",
         "type": "bar",
         "x": [
          "Breakfast"
         ],
         "xaxis": "x",
         "y": [
          110
         ],
         "yaxis": "y"
        },
        {
         "alignmentgroup": "True",
         "hoverinfo": "x+y",
         "hovertemplate": "Item Type: %{x}<br>Count: %{y}<extra></extra>",
         "legendgroup": "Seafood",
         "marker": {
          "color": "#19D3F3",
          "line": {
           "color": "black",
           "width": 1
          },
          "pattern": {
           "shape": ""
          }
         },
         "name": "Seafood",
         "offsetgroup": "Seafood",
         "orientation": "v",
         "showlegend": true,
         "textposition": "outside",
         "texttemplate": "%{y}",
         "type": "bar",
         "x": [
          "Seafood"
         ],
         "xaxis": "x",
         "y": [
          64
         ],
         "yaxis": "y"
        }
       ],
       "layout": {
        "barmode": "relative",
        "font": {
         "size": 14
        },
        "height": 600,
        "legend": {
         "title": {
          "text": "Item Type"
         },
         "tracegroupgap": 0
        },
        "paper_bgcolor": "white",
        "plot_bgcolor": "white",
        "template": {
         "data": {
          "bar": [
           {
            "error_x": {
             "color": "#2a3f5f"
            },
            "error_y": {
             "color": "#2a3f5f"
            },
            "marker": {
             "line": {
              "color": "white",
              "width": 0.5
             },
             "pattern": {
              "fillmode": "overlay",
              "size": 10,
              "solidity": 0.2
             }
            },
            "type": "bar"
           }
          ],
          "barpolar": [
           {
            "marker": {
             "line": {
              "color": "white",
              "width": 0.5
             },
             "pattern": {
              "fillmode": "overlay",
              "size": 10,
              "solidity": 0.2
             }
            },
            "type": "barpolar"
           }
          ],
          "carpet": [
           {
            "aaxis": {
             "endlinecolor": "#2a3f5f",
             "gridcolor": "#C8D4E3",
             "linecolor": "#C8D4E3",
             "minorgridcolor": "#C8D4E3",
             "startlinecolor": "#2a3f5f"
            },
            "baxis": {
             "endlinecolor": "#2a3f5f",
             "gridcolor": "#C8D4E3",
             "linecolor": "#C8D4E3",
             "minorgridcolor": "#C8D4E3",
             "startlinecolor": "#2a3f5f"
            },
            "type": "carpet"
           }
          ],
          "choropleth": [
           {
            "colorbar": {
             "outlinewidth": 0,
             "ticks": ""
            },
            "type": "choropleth"
           }
          ],
          "contour": [
           {
            "colorbar": {
             "outlinewidth": 0,
             "ticks": ""
            },
            "colorscale": [
             [
              0,
              "#0d0887"
             ],
             [
              0.1111111111111111,
              "#46039f"
             ],
             [
              0.2222222222222222,
              "#7201a8"
             ],
             [
              0.3333333333333333,
              "#9c179e"
             ],
             [
              0.4444444444444444,
              "#bd3786"
             ],
             [
              0.5555555555555556,
              "#d8576b"
             ],
             [
              0.6666666666666666,
              "#ed7953"
             ],
             [
              0.7777777777777778,
              "#fb9f3a"
             ],
             [
              0.8888888888888888,
              "#fdca26"
             ],
             [
              1,
              "#f0f921"
             ]
            ],
            "type": "contour"
           }
          ],
          "contourcarpet": [
           {
            "colorbar": {
             "outlinewidth": 0,
             "ticks": ""
            },
            "type": "contourcarpet"
           }
          ],
          "heatmap": [
           {
            "colorbar": {
             "outlinewidth": 0,
             "ticks": ""
            },
            "colorscale": [
             [
              0,
              "#0d0887"
             ],
             [
              0.1111111111111111,
              "#46039f"
             ],
             [
              0.2222222222222222,
              "#7201a8"
             ],
             [
              0.3333333333333333,
              "#9c179e"
             ],
             [
              0.4444444444444444,
              "#bd3786"
             ],
             [
              0.5555555555555556,
              "#d8576b"
             ],
             [
              0.6666666666666666,
              "#ed7953"
             ],
             [
              0.7777777777777778,
              "#fb9f3a"
             ],
             [
              0.8888888888888888,
              "#fdca26"
             ],
             [
              1,
              "#f0f921"
             ]
            ],
            "type": "heatmap"
           }
          ],
          "heatmapgl": [
           {
            "colorbar": {
             "outlinewidth": 0,
             "ticks": ""
            },
            "colorscale": [
             [
              0,
              "#0d0887"
             ],
             [
              0.1111111111111111,
              "#46039f"
             ],
             [
              0.2222222222222222,
              "#7201a8"
             ],
             [
              0.3333333333333333,
              "#9c179e"
             ],
             [
              0.4444444444444444,
              "#bd3786"
             ],
             [
              0.5555555555555556,
              "#d8576b"
             ],
             [
              0.6666666666666666,
              "#ed7953"
             ],
             [
              0.7777777777777778,
              "#fb9f3a"
             ],
             [
              0.8888888888888888,
              "#fdca26"
             ],
             [
              1,
              "#f0f921"
             ]
            ],
            "type": "heatmapgl"
           }
          ],
          "histogram": [
           {
            "marker": {
             "pattern": {
              "fillmode": "overlay",
              "size": 10,
              "solidity": 0.2
             }
            },
            "type": "histogram"
           }
          ],
          "histogram2d": [
           {
            "colorbar": {
             "outlinewidth": 0,
             "ticks": ""
            },
            "colorscale": [
             [
              0,
              "#0d0887"
             ],
             [
              0.1111111111111111,
              "#46039f"
             ],
             [
              0.2222222222222222,
              "#7201a8"
             ],
             [
              0.3333333333333333,
              "#9c179e"
             ],
             [
              0.4444444444444444,
              "#bd3786"
             ],
             [
              0.5555555555555556,
              "#d8576b"
             ],
             [
              0.6666666666666666,
              "#ed7953"
             ],
             [
              0.7777777777777778,
              "#fb9f3a"
             ],
             [
              0.8888888888888888,
              "#fdca26"
             ],
             [
              1,
              "#f0f921"
             ]
            ],
            "type": "histogram2d"
           }
          ],
          "histogram2dcontour": [
           {
            "colorbar": {
             "outlinewidth": 0,
             "ticks": ""
            },
            "colorscale": [
             [
              0,
              "#0d0887"
             ],
             [
              0.1111111111111111,
              "#46039f"
             ],
             [
              0.2222222222222222,
              "#7201a8"
             ],
             [
              0.3333333333333333,
              "#9c179e"
             ],
             [
              0.4444444444444444,
              "#bd3786"
             ],
             [
              0.5555555555555556,
              "#d8576b"
             ],
             [
              0.6666666666666666,
              "#ed7953"
             ],
             [
              0.7777777777777778,
              "#fb9f3a"
             ],
             [
              0.8888888888888888,
              "#fdca26"
             ],
             [
              1,
              "#f0f921"
             ]
            ],
            "type": "histogram2dcontour"
           }
          ],
          "mesh3d": [
           {
            "colorbar": {
             "outlinewidth": 0,
             "ticks": ""
            },
            "type": "mesh3d"
           }
          ],
          "parcoords": [
           {
            "line": {
             "colorbar": {
              "outlinewidth": 0,
              "ticks": ""
             }
            },
            "type": "parcoords"
           }
          ],
          "pie": [
           {
            "automargin": true,
            "type": "pie"
           }
          ],
          "scatter": [
           {
            "fillpattern": {
             "fillmode": "overlay",
             "size": 10,
             "solidity": 0.2
            },
            "type": "scatter"
           }
          ],
          "scatter3d": [
           {
            "line": {
             "colorbar": {
              "outlinewidth": 0,
              "ticks": ""
             }
            },
            "marker": {
             "colorbar": {
              "outlinewidth": 0,
              "ticks": ""
             }
            },
            "type": "scatter3d"
           }
          ],
          "scattercarpet": [
           {
            "marker": {
             "colorbar": {
              "outlinewidth": 0,
              "ticks": ""
             }
            },
            "type": "scattercarpet"
           }
          ],
          "scattergeo": [
           {
            "marker": {
             "colorbar": {
              "outlinewidth": 0,
              "ticks": ""
             }
            },
            "type": "scattergeo"
           }
          ],
          "scattergl": [
           {
            "marker": {
             "colorbar": {
              "outlinewidth": 0,
              "ticks": ""
             }
            },
            "type": "scattergl"
           }
          ],
          "scattermapbox": [
           {
            "marker": {
             "colorbar": {
              "outlinewidth": 0,
              "ticks": ""
             }
            },
            "type": "scattermapbox"
           }
          ],
          "scatterpolar": [
           {
            "marker": {
             "colorbar": {
              "outlinewidth": 0,
              "ticks": ""
             }
            },
            "type": "scatterpolar"
           }
          ],
          "scatterpolargl": [
           {
            "marker": {
             "colorbar": {
              "outlinewidth": 0,
              "ticks": ""
             }
            },
            "type": "scatterpolargl"
           }
          ],
          "scatterternary": [
           {
            "marker": {
             "colorbar": {
              "outlinewidth": 0,
              "ticks": ""
             }
            },
            "type": "scatterternary"
           }
          ],
          "surface": [
           {
            "colorbar": {
             "outlinewidth": 0,
             "ticks": ""
            },
            "colorscale": [
             [
              0,
              "#0d0887"
             ],
             [
              0.1111111111111111,
              "#46039f"
             ],
             [
              0.2222222222222222,
              "#7201a8"
             ],
             [
              0.3333333333333333,
              "#9c179e"
             ],
             [
              0.4444444444444444,
              "#bd3786"
             ],
             [
              0.5555555555555556,
              "#d8576b"
             ],
             [
              0.6666666666666666,
              "#ed7953"
             ],
             [
              0.7777777777777778,
              "#fb9f3a"
             ],
             [
              0.8888888888888888,
              "#fdca26"
             ],
             [
              1,
              "#f0f921"
             ]
            ],
            "type": "surface"
           }
          ],
          "table": [
           {
            "cells": {
             "fill": {
              "color": "#EBF0F8"
             },
             "line": {
              "color": "white"
             }
            },
            "header": {
             "fill": {
              "color": "#C8D4E3"
             },
             "line": {
              "color": "white"
             }
            },
            "type": "table"
           }
          ]
         },
         "layout": {
          "annotationdefaults": {
           "arrowcolor": "#2a3f5f",
           "arrowhead": 0,
           "arrowwidth": 1
          },
          "autotypenumbers": "strict",
          "coloraxis": {
           "colorbar": {
            "outlinewidth": 0,
            "ticks": ""
           }
          },
          "colorscale": {
           "diverging": [
            [
             0,
             "#8e0152"
            ],
            [
             0.1,
             "#c51b7d"
            ],
            [
             0.2,
             "#de77ae"
            ],
            [
             0.3,
             "#f1b6da"
            ],
            [
             0.4,
             "#fde0ef"
            ],
            [
             0.5,
             "#f7f7f7"
            ],
            [
             0.6,
             "#e6f5d0"
            ],
            [
             0.7,
             "#b8e186"
            ],
            [
             0.8,
             "#7fbc41"
            ],
            [
             0.9,
             "#4d9221"
            ],
            [
             1,
             "#276419"
            ]
           ],
           "sequential": [
            [
             0,
             "#0d0887"
            ],
            [
             0.1111111111111111,
             "#46039f"
            ],
            [
             0.2222222222222222,
             "#7201a8"
            ],
            [
             0.3333333333333333,
             "#9c179e"
            ],
            [
             0.4444444444444444,
             "#bd3786"
            ],
            [
             0.5555555555555556,
             "#d8576b"
            ],
            [
             0.6666666666666666,
             "#ed7953"
            ],
            [
             0.7777777777777778,
             "#fb9f3a"
            ],
            [
             0.8888888888888888,
             "#fdca26"
            ],
            [
             1,
             "#f0f921"
            ]
           ],
           "sequentialminus": [
            [
             0,
             "#0d0887"
            ],
            [
             0.1111111111111111,
             "#46039f"
            ],
            [
             0.2222222222222222,
             "#7201a8"
            ],
            [
             0.3333333333333333,
             "#9c179e"
            ],
            [
             0.4444444444444444,
             "#bd3786"
            ],
            [
             0.5555555555555556,
             "#d8576b"
            ],
            [
             0.6666666666666666,
             "#ed7953"
            ],
            [
             0.7777777777777778,
             "#fb9f3a"
            ],
            [
             0.8888888888888888,
             "#fdca26"
            ],
            [
             1,
             "#f0f921"
            ]
           ]
          },
          "colorway": [
           "#636efa",
           "#EF553B",
           "#00cc96",
           "#ab63fa",
           "#FFA15A",
           "#19d3f3",
           "#FF6692",
           "#B6E880",
           "#FF97FF",
           "#FECB52"
          ],
          "font": {
           "color": "#2a3f5f"
          },
          "geo": {
           "bgcolor": "white",
           "lakecolor": "white",
           "landcolor": "white",
           "showlakes": true,
           "showland": true,
           "subunitcolor": "#C8D4E3"
          },
          "hoverlabel": {
           "align": "left"
          },
          "hovermode": "closest",
          "mapbox": {
           "style": "light"
          },
          "paper_bgcolor": "white",
          "plot_bgcolor": "white",
          "polar": {
           "angularaxis": {
            "gridcolor": "#EBF0F8",
            "linecolor": "#EBF0F8",
            "ticks": ""
           },
           "bgcolor": "white",
           "radialaxis": {
            "gridcolor": "#EBF0F8",
            "linecolor": "#EBF0F8",
            "ticks": ""
           }
          },
          "scene": {
           "xaxis": {
            "backgroundcolor": "white",
            "gridcolor": "#DFE8F3",
            "gridwidth": 2,
            "linecolor": "#EBF0F8",
            "showbackground": true,
            "ticks": "",
            "zerolinecolor": "#EBF0F8"
           },
           "yaxis": {
            "backgroundcolor": "white",
            "gridcolor": "#DFE8F3",
            "gridwidth": 2,
            "linecolor": "#EBF0F8",
            "showbackground": true,
            "ticks": "",
            "zerolinecolor": "#EBF0F8"
           },
           "zaxis": {
            "backgroundcolor": "white",
            "gridcolor": "#DFE8F3",
            "gridwidth": 2,
            "linecolor": "#EBF0F8",
            "showbackground": true,
            "ticks": "",
            "zerolinecolor": "#EBF0F8"
           }
          },
          "shapedefaults": {
           "line": {
            "color": "#2a3f5f"
           }
          },
          "ternary": {
           "aaxis": {
            "gridcolor": "#DFE8F3",
            "linecolor": "#A2B1C6",
            "ticks": ""
           },
           "baxis": {
            "gridcolor": "#DFE8F3",
            "linecolor": "#A2B1C6",
            "ticks": ""
           },
           "bgcolor": "white",
           "caxis": {
            "gridcolor": "#DFE8F3",
            "linecolor": "#A2B1C6",
            "ticks": ""
           }
          },
          "title": {
           "x": 0.05
          },
          "xaxis": {
           "automargin": true,
           "gridcolor": "#EBF0F8",
           "linecolor": "#EBF0F8",
           "ticks": "",
           "title": {
            "standoff": 15
           },
           "zerolinecolor": "#EBF0F8",
           "zerolinewidth": 2
          },
          "yaxis": {
           "automargin": true,
           "gridcolor": "#EBF0F8",
           "linecolor": "#EBF0F8",
           "ticks": "",
           "title": {
            "standoff": 15
           },
           "zerolinecolor": "#EBF0F8",
           "zerolinewidth": 2
          }
         }
        },
        "title": {
         "text": "Distribution of Item Types",
         "x": 0.5
        },
        "width": 900,
        "xaxis": {
         "anchor": "y",
         "categoryarray": [
          "Fruits and Vegetables",
          "Snack Foods",
          "Household",
          "Frozen Foods",
          "Dairy",
          "Canned",
          "Baking Goods",
          "Health and Hygiene",
          "Soft Drinks",
          "Meat",
          "Breads",
          "Hard Drinks",
          "Others",
          "Starchy Foods",
          "Breakfast",
          "Seafood"
         ],
         "categoryorder": "array",
         "domain": [
          0,
          1
         ],
         "gridcolor": "lightgrey",
         "showgrid": true,
         "tickangle": -45,
         "title": {
          "text": "Item Type"
         }
        },
        "yaxis": {
         "anchor": "x",
         "domain": [
          0,
          1
         ],
         "gridcolor": "lightgrey",
         "showgrid": true,
         "title": {
          "text": "Count"
         }
        }
       }
      }
     },
     "metadata": {},
     "output_type": "display_data"
    }
   ],
   "source": [
    "import plotly.express as px\n",
    "\n",
    "# Create a count plot for 'Item Type' using Plotly\n",
    "item_counts = df['Item Type'].value_counts().reset_index()\n",
    "item_counts.columns = ['Item Type', 'Count']  # Rename columns for clarity\n",
    "\n",
    "# Create a bar chart with multi-color\n",
    "fig = px.bar(\n",
    "    item_counts, \n",
    "    x='Item Type', \n",
    "    y='Count', \n",
    "    title='Distribution of Item Types',\n",
    "    color='Item Type',  # Use Item Type for color differentiation\n",
    "    color_discrete_sequence=px.colors.qualitative.Plotly  # Use a qualitative color palette\n",
    ")\n",
    "\n",
    "# Update layout for aesthetics\n",
    "fig.update_layout(\n",
    "    xaxis_title='Item Type',\n",
    "    yaxis_title='Count',\n",
    "    title_x=0.5,  # Center the title\n",
    "    template='plotly_white',  # Use a white theme\n",
    "    xaxis_tickangle=-45,  # Rotate x-axis labels for better visibility\n",
    "    paper_bgcolor='white',  # White paper background\n",
    "    plot_bgcolor='white',  # White plot background\n",
    "    height=600,  # Increase height for better visibility\n",
    "    width=900,   # Increase width for better visibility\n",
    "    font=dict(size=14),  # Increase font size\n",
    "    xaxis=dict(showgrid=True, gridcolor='lightgrey'),  # Add gridlines\n",
    "    yaxis=dict(showgrid=True, gridcolor='lightgrey')   # Add gridlines\n",
    ")\n",
    "\n",
    "# Adding labels on top of the bars\n",
    "fig.update_traces(\n",
    "    texttemplate='%{y}',  # Show the count value\n",
    "    textposition='outside',  # Position text above the bars\n",
    "    marker=dict(line=dict(color='black', width=1))  # Add black border around bars\n",
    ")\n",
    "\n",
    "# Customize hover information\n",
    "fig.update_traces(hoverinfo='x+y', hovertemplate='Item Type: %{x}<br>Count: %{y}<extra></extra>')\n",
    "\n",
    "# Show the plot\n",
    "fig.show()\n"
   ]
  },
  {
   "cell_type": "code",
   "execution_count": null,
   "metadata": {},
   "outputs": [
    {
     "data": {
      "application/vnd.plotly.v1+json": {
       "config": {
        "plotlyServerURL": "https://plot.ly"
       },
       "data": [
        {
         "alignmentgroup": "True",
         "hoverinfo": "x+y",
         "hovertemplate": "Location Type: %{x}<br>Count: %{y}<extra></extra>",
         "legendgroup": "Tier 3",
         "marker": {
          "color": "#0d0887",
          "line": {
           "color": "black",
           "width": 1
          },
          "pattern": {
           "shape": ""
          }
         },
         "name": "Tier 3",
         "offsetgroup": "Tier 3",
         "orientation": "v",
         "showlegend": true,
         "textposition": "outside",
         "texttemplate": "%{y}",
         "type": "bar",
         "x": [
          "Tier 3"
         ],
         "xaxis": "x",
         "y": [
          3350
         ],
         "yaxis": "y"
        },
        {
         "alignmentgroup": "True",
         "hoverinfo": "x+y",
         "hovertemplate": "Location Type: %{x}<br>Count: %{y}<extra></extra>",
         "legendgroup": "Tier 2",
         "marker": {
          "color": "#46039f",
          "line": {
           "color": "black",
           "width": 1
          },
          "pattern": {
           "shape": ""
          }
         },
         "name": "Tier 2",
         "offsetgroup": "Tier 2",
         "orientation": "v",
         "showlegend": true,
         "textposition": "outside",
         "texttemplate": "%{y}",
         "type": "bar",
         "x": [
          "Tier 2"
         ],
         "xaxis": "x",
         "y": [
          2785
         ],
         "yaxis": "y"
        },
        {
         "alignmentgroup": "True",
         "hoverinfo": "x+y",
         "hovertemplate": "Location Type: %{x}<br>Count: %{y}<extra></extra>",
         "legendgroup": "Tier 1",
         "marker": {
          "color": "#7201a8",
          "line": {
           "color": "black",
           "width": 1
          },
          "pattern": {
           "shape": ""
          }
         },
         "name": "Tier 1",
         "offsetgroup": "Tier 1",
         "orientation": "v",
         "showlegend": true,
         "textposition": "outside",
         "texttemplate": "%{y}",
         "type": "bar",
         "x": [
          "Tier 1"
         ],
         "xaxis": "x",
         "y": [
          2388
         ],
         "yaxis": "y"
        }
       ],
       "layout": {
        "barmode": "relative",
        "font": {
         "size": 14
        },
        "height": 600,
        "legend": {
         "title": {
          "text": "Outlet Location Type"
         },
         "tracegroupgap": 0
        },
        "paper_bgcolor": "white",
        "plot_bgcolor": "white",
        "template": {
         "data": {
          "bar": [
           {
            "error_x": {
             "color": "#2a3f5f"
            },
            "error_y": {
             "color": "#2a3f5f"
            },
            "marker": {
             "line": {
              "color": "white",
              "width": 0.5
             },
             "pattern": {
              "fillmode": "overlay",
              "size": 10,
              "solidity": 0.2
             }
            },
            "type": "bar"
           }
          ],
          "barpolar": [
           {
            "marker": {
             "line": {
              "color": "white",
              "width": 0.5
             },
             "pattern": {
              "fillmode": "overlay",
              "size": 10,
              "solidity": 0.2
             }
            },
            "type": "barpolar"
           }
          ],
          "carpet": [
           {
            "aaxis": {
             "endlinecolor": "#2a3f5f",
             "gridcolor": "#C8D4E3",
             "linecolor": "#C8D4E3",
             "minorgridcolor": "#C8D4E3",
             "startlinecolor": "#2a3f5f"
            },
            "baxis": {
             "endlinecolor": "#2a3f5f",
             "gridcolor": "#C8D4E3",
             "linecolor": "#C8D4E3",
             "minorgridcolor": "#C8D4E3",
             "startlinecolor": "#2a3f5f"
            },
            "type": "carpet"
           }
          ],
          "choropleth": [
           {
            "colorbar": {
             "outlinewidth": 0,
             "ticks": ""
            },
            "type": "choropleth"
           }
          ],
          "contour": [
           {
            "colorbar": {
             "outlinewidth": 0,
             "ticks": ""
            },
            "colorscale": [
             [
              0,
              "#0d0887"
             ],
             [
              0.1111111111111111,
              "#46039f"
             ],
             [
              0.2222222222222222,
              "#7201a8"
             ],
             [
              0.3333333333333333,
              "#9c179e"
             ],
             [
              0.4444444444444444,
              "#bd3786"
             ],
             [
              0.5555555555555556,
              "#d8576b"
             ],
             [
              0.6666666666666666,
              "#ed7953"
             ],
             [
              0.7777777777777778,
              "#fb9f3a"
             ],
             [
              0.8888888888888888,
              "#fdca26"
             ],
             [
              1,
              "#f0f921"
             ]
            ],
            "type": "contour"
           }
          ],
          "contourcarpet": [
           {
            "colorbar": {
             "outlinewidth": 0,
             "ticks": ""
            },
            "type": "contourcarpet"
           }
          ],
          "heatmap": [
           {
            "colorbar": {
             "outlinewidth": 0,
             "ticks": ""
            },
            "colorscale": [
             [
              0,
              "#0d0887"
             ],
             [
              0.1111111111111111,
              "#46039f"
             ],
             [
              0.2222222222222222,
              "#7201a8"
             ],
             [
              0.3333333333333333,
              "#9c179e"
             ],
             [
              0.4444444444444444,
              "#bd3786"
             ],
             [
              0.5555555555555556,
              "#d8576b"
             ],
             [
              0.6666666666666666,
              "#ed7953"
             ],
             [
              0.7777777777777778,
              "#fb9f3a"
             ],
             [
              0.8888888888888888,
              "#fdca26"
             ],
             [
              1,
              "#f0f921"
             ]
            ],
            "type": "heatmap"
           }
          ],
          "heatmapgl": [
           {
            "colorbar": {
             "outlinewidth": 0,
             "ticks": ""
            },
            "colorscale": [
             [
              0,
              "#0d0887"
             ],
             [
              0.1111111111111111,
              "#46039f"
             ],
             [
              0.2222222222222222,
              "#7201a8"
             ],
             [
              0.3333333333333333,
              "#9c179e"
             ],
             [
              0.4444444444444444,
              "#bd3786"
             ],
             [
              0.5555555555555556,
              "#d8576b"
             ],
             [
              0.6666666666666666,
              "#ed7953"
             ],
             [
              0.7777777777777778,
              "#fb9f3a"
             ],
             [
              0.8888888888888888,
              "#fdca26"
             ],
             [
              1,
              "#f0f921"
             ]
            ],
            "type": "heatmapgl"
           }
          ],
          "histogram": [
           {
            "marker": {
             "pattern": {
              "fillmode": "overlay",
              "size": 10,
              "solidity": 0.2
             }
            },
            "type": "histogram"
           }
          ],
          "histogram2d": [
           {
            "colorbar": {
             "outlinewidth": 0,
             "ticks": ""
            },
            "colorscale": [
             [
              0,
              "#0d0887"
             ],
             [
              0.1111111111111111,
              "#46039f"
             ],
             [
              0.2222222222222222,
              "#7201a8"
             ],
             [
              0.3333333333333333,
              "#9c179e"
             ],
             [
              0.4444444444444444,
              "#bd3786"
             ],
             [
              0.5555555555555556,
              "#d8576b"
             ],
             [
              0.6666666666666666,
              "#ed7953"
             ],
             [
              0.7777777777777778,
              "#fb9f3a"
             ],
             [
              0.8888888888888888,
              "#fdca26"
             ],
             [
              1,
              "#f0f921"
             ]
            ],
            "type": "histogram2d"
           }
          ],
          "histogram2dcontour": [
           {
            "colorbar": {
             "outlinewidth": 0,
             "ticks": ""
            },
            "colorscale": [
             [
              0,
              "#0d0887"
             ],
             [
              0.1111111111111111,
              "#46039f"
             ],
             [
              0.2222222222222222,
              "#7201a8"
             ],
             [
              0.3333333333333333,
              "#9c179e"
             ],
             [
              0.4444444444444444,
              "#bd3786"
             ],
             [
              0.5555555555555556,
              "#d8576b"
             ],
             [
              0.6666666666666666,
              "#ed7953"
             ],
             [
              0.7777777777777778,
              "#fb9f3a"
             ],
             [
              0.8888888888888888,
              "#fdca26"
             ],
             [
              1,
              "#f0f921"
             ]
            ],
            "type": "histogram2dcontour"
           }
          ],
          "mesh3d": [
           {
            "colorbar": {
             "outlinewidth": 0,
             "ticks": ""
            },
            "type": "mesh3d"
           }
          ],
          "parcoords": [
           {
            "line": {
             "colorbar": {
              "outlinewidth": 0,
              "ticks": ""
             }
            },
            "type": "parcoords"
           }
          ],
          "pie": [
           {
            "automargin": true,
            "type": "pie"
           }
          ],
          "scatter": [
           {
            "fillpattern": {
             "fillmode": "overlay",
             "size": 10,
             "solidity": 0.2
            },
            "type": "scatter"
           }
          ],
          "scatter3d": [
           {
            "line": {
             "colorbar": {
              "outlinewidth": 0,
              "ticks": ""
             }
            },
            "marker": {
             "colorbar": {
              "outlinewidth": 0,
              "ticks": ""
             }
            },
            "type": "scatter3d"
           }
          ],
          "scattercarpet": [
           {
            "marker": {
             "colorbar": {
              "outlinewidth": 0,
              "ticks": ""
             }
            },
            "type": "scattercarpet"
           }
          ],
          "scattergeo": [
           {
            "marker": {
             "colorbar": {
              "outlinewidth": 0,
              "ticks": ""
             }
            },
            "type": "scattergeo"
           }
          ],
          "scattergl": [
           {
            "marker": {
             "colorbar": {
              "outlinewidth": 0,
              "ticks": ""
             }
            },
            "type": "scattergl"
           }
          ],
          "scattermapbox": [
           {
            "marker": {
             "colorbar": {
              "outlinewidth": 0,
              "ticks": ""
             }
            },
            "type": "scattermapbox"
           }
          ],
          "scatterpolar": [
           {
            "marker": {
             "colorbar": {
              "outlinewidth": 0,
              "ticks": ""
             }
            },
            "type": "scatterpolar"
           }
          ],
          "scatterpolargl": [
           {
            "marker": {
             "colorbar": {
              "outlinewidth": 0,
              "ticks": ""
             }
            },
            "type": "scatterpolargl"
           }
          ],
          "scatterternary": [
           {
            "marker": {
             "colorbar": {
              "outlinewidth": 0,
              "ticks": ""
             }
            },
            "type": "scatterternary"
           }
          ],
          "surface": [
           {
            "colorbar": {
             "outlinewidth": 0,
             "ticks": ""
            },
            "colorscale": [
             [
              0,
              "#0d0887"
             ],
             [
              0.1111111111111111,
              "#46039f"
             ],
             [
              0.2222222222222222,
              "#7201a8"
             ],
             [
              0.3333333333333333,
              "#9c179e"
             ],
             [
              0.4444444444444444,
              "#bd3786"
             ],
             [
              0.5555555555555556,
              "#d8576b"
             ],
             [
              0.6666666666666666,
              "#ed7953"
             ],
             [
              0.7777777777777778,
              "#fb9f3a"
             ],
             [
              0.8888888888888888,
              "#fdca26"
             ],
             [
              1,
              "#f0f921"
             ]
            ],
            "type": "surface"
           }
          ],
          "table": [
           {
            "cells": {
             "fill": {
              "color": "#EBF0F8"
             },
             "line": {
              "color": "white"
             }
            },
            "header": {
             "fill": {
              "color": "#C8D4E3"
             },
             "line": {
              "color": "white"
             }
            },
            "type": "table"
           }
          ]
         },
         "layout": {
          "annotationdefaults": {
           "arrowcolor": "#2a3f5f",
           "arrowhead": 0,
           "arrowwidth": 1
          },
          "autotypenumbers": "strict",
          "coloraxis": {
           "colorbar": {
            "outlinewidth": 0,
            "ticks": ""
           }
          },
          "colorscale": {
           "diverging": [
            [
             0,
             "#8e0152"
            ],
            [
             0.1,
             "#c51b7d"
            ],
            [
             0.2,
             "#de77ae"
            ],
            [
             0.3,
             "#f1b6da"
            ],
            [
             0.4,
             "#fde0ef"
            ],
            [
             0.5,
             "#f7f7f7"
            ],
            [
             0.6,
             "#e6f5d0"
            ],
            [
             0.7,
             "#b8e186"
            ],
            [
             0.8,
             "#7fbc41"
            ],
            [
             0.9,
             "#4d9221"
            ],
            [
             1,
             "#276419"
            ]
           ],
           "sequential": [
            [
             0,
             "#0d0887"
            ],
            [
             0.1111111111111111,
             "#46039f"
            ],
            [
             0.2222222222222222,
             "#7201a8"
            ],
            [
             0.3333333333333333,
             "#9c179e"
            ],
            [
             0.4444444444444444,
             "#bd3786"
            ],
            [
             0.5555555555555556,
             "#d8576b"
            ],
            [
             0.6666666666666666,
             "#ed7953"
            ],
            [
             0.7777777777777778,
             "#fb9f3a"
            ],
            [
             0.8888888888888888,
             "#fdca26"
            ],
            [
             1,
             "#f0f921"
            ]
           ],
           "sequentialminus": [
            [
             0,
             "#0d0887"
            ],
            [
             0.1111111111111111,
             "#46039f"
            ],
            [
             0.2222222222222222,
             "#7201a8"
            ],
            [
             0.3333333333333333,
             "#9c179e"
            ],
            [
             0.4444444444444444,
             "#bd3786"
            ],
            [
             0.5555555555555556,
             "#d8576b"
            ],
            [
             0.6666666666666666,
             "#ed7953"
            ],
            [
             0.7777777777777778,
             "#fb9f3a"
            ],
            [
             0.8888888888888888,
             "#fdca26"
            ],
            [
             1,
             "#f0f921"
            ]
           ]
          },
          "colorway": [
           "#636efa",
           "#EF553B",
           "#00cc96",
           "#ab63fa",
           "#FFA15A",
           "#19d3f3",
           "#FF6692",
           "#B6E880",
           "#FF97FF",
           "#FECB52"
          ],
          "font": {
           "color": "#2a3f5f"
          },
          "geo": {
           "bgcolor": "white",
           "lakecolor": "white",
           "landcolor": "white",
           "showlakes": true,
           "showland": true,
           "subunitcolor": "#C8D4E3"
          },
          "hoverlabel": {
           "align": "left"
          },
          "hovermode": "closest",
          "mapbox": {
           "style": "light"
          },
          "paper_bgcolor": "white",
          "plot_bgcolor": "white",
          "polar": {
           "angularaxis": {
            "gridcolor": "#EBF0F8",
            "linecolor": "#EBF0F8",
            "ticks": ""
           },
           "bgcolor": "white",
           "radialaxis": {
            "gridcolor": "#EBF0F8",
            "linecolor": "#EBF0F8",
            "ticks": ""
           }
          },
          "scene": {
           "xaxis": {
            "backgroundcolor": "white",
            "gridcolor": "#DFE8F3",
            "gridwidth": 2,
            "linecolor": "#EBF0F8",
            "showbackground": true,
            "ticks": "",
            "zerolinecolor": "#EBF0F8"
           },
           "yaxis": {
            "backgroundcolor": "white",
            "gridcolor": "#DFE8F3",
            "gridwidth": 2,
            "linecolor": "#EBF0F8",
            "showbackground": true,
            "ticks": "",
            "zerolinecolor": "#EBF0F8"
           },
           "zaxis": {
            "backgroundcolor": "white",
            "gridcolor": "#DFE8F3",
            "gridwidth": 2,
            "linecolor": "#EBF0F8",
            "showbackground": true,
            "ticks": "",
            "zerolinecolor": "#EBF0F8"
           }
          },
          "shapedefaults": {
           "line": {
            "color": "#2a3f5f"
           }
          },
          "ternary": {
           "aaxis": {
            "gridcolor": "#DFE8F3",
            "linecolor": "#A2B1C6",
            "ticks": ""
           },
           "baxis": {
            "gridcolor": "#DFE8F3",
            "linecolor": "#A2B1C6",
            "ticks": ""
           },
           "bgcolor": "white",
           "caxis": {
            "gridcolor": "#DFE8F3",
            "linecolor": "#A2B1C6",
            "ticks": ""
           }
          },
          "title": {
           "x": 0.05
          },
          "xaxis": {
           "automargin": true,
           "gridcolor": "#EBF0F8",
           "linecolor": "#EBF0F8",
           "ticks": "",
           "title": {
            "standoff": 15
           },
           "zerolinecolor": "#EBF0F8",
           "zerolinewidth": 2
          },
          "yaxis": {
           "automargin": true,
           "gridcolor": "#EBF0F8",
           "linecolor": "#EBF0F8",
           "ticks": "",
           "title": {
            "standoff": 15
           },
           "zerolinecolor": "#EBF0F8",
           "zerolinewidth": 2
          }
         }
        },
        "title": {
         "text": "Distribution of Outlet Locations",
         "x": 0.5
        },
        "width": 900,
        "xaxis": {
         "anchor": "y",
         "categoryarray": [
          "Tier 3",
          "Tier 2",
          "Tier 1"
         ],
         "categoryorder": "array",
         "domain": [
          0,
          1
         ],
         "gridcolor": "lightgrey",
         "showgrid": true,
         "tickangle": -45,
         "title": {
          "text": "Outlet Location Type"
         }
        },
        "yaxis": {
         "anchor": "x",
         "domain": [
          0,
          1
         ],
         "gridcolor": "lightgrey",
         "showgrid": true,
         "title": {
          "text": "Count"
         }
        }
       }
      }
     },
     "metadata": {},
     "output_type": "display_data"
    }
   ],
   "source": [
    "import plotly.express as px\n",
    "\n",
    "# Create a count plot for 'Outlet Location Type' using Plotly\n",
    "location_counts = df['Outlet Location Type'].value_counts().reset_index()\n",
    "location_counts.columns = ['Outlet Location Type', 'Count']  # Rename columns for clarity\n",
    "\n",
    "# Create a bar chart with elegant colors\n",
    "fig = px.bar(\n",
    "    location_counts,\n",
    "    x='Outlet Location Type',\n",
    "    y='Count',\n",
    "    title='Distribution of Outlet Locations',\n",
    "    color='Outlet Location Type',  # Use Outlet Location Type for color differentiation\n",
    "    color_discrete_sequence=px.colors.sequential.Plasma  # Use an elegant sequential color palette\n",
    ")\n",
    "\n",
    "# Update layout for aesthetics\n",
    "fig.update_layout(\n",
    "    xaxis_title='Outlet Location Type',\n",
    "    yaxis_title='Count',\n",
    "    title_x=0.5,  # Center the title\n",
    "    template='plotly_white',  # Use a white theme\n",
    "    xaxis_tickangle=-45,  # Rotate x-axis labels for better visibility\n",
    "    paper_bgcolor='white',  # White paper background\n",
    "    plot_bgcolor='white',  # White plot background\n",
    "    height=600,  # Increase height for better visibility\n",
    "    width=900,   # Increase width for better visibility\n",
    "    font=dict(size=14),  # Increase font size\n",
    "    xaxis=dict(showgrid=True, gridcolor='lightgrey'),  # Add gridlines\n",
    "    yaxis=dict(showgrid=True, gridcolor='lightgrey')   # Add gridlines\n",
    ")\n",
    "\n",
    "# Adding labels on top of the bars\n",
    "fig.update_traces(\n",
    "    texttemplate='%{y}',  # Show the count value\n",
    "    textposition='outside',  # Position text above the bars\n",
    "    marker=dict(line=dict(color='black', width=1))  # Add black border around bars\n",
    ")\n",
    "# Customize hover information\n",
    "fig.update_traces(hoverinfo='x+y', hovertemplate='Location Type: %{x}<br>Count: %{y}<extra></extra>')\n",
    "\n",
    "# Show the plot\n",
    "fig.show()\n"
   ]
  },
  {
   "cell_type": "code",
   "execution_count": null,
   "metadata": {},
   "outputs": [
    {
     "data": {
      "application/vnd.plotly.v1+json": {
       "config": {
        "plotlyServerURL": "https://plot.ly"
       },
       "data": [
        {
         "alignmentgroup": "True",
         "hovertemplate": "Outlet Location Type=%{x}<br>Total Sales=%{y}<extra></extra>",
         "legendgroup": "Tier 1",
         "marker": {
          "color": "#636efa",
          "pattern": {
           "shape": ""
          }
         },
         "name": "Tier 1",
         "offsetgroup": "Tier 1",
         "orientation": "v",
         "showlegend": true,
         "textposition": "auto",
         "type": "bar",
         "x": [
          "Tier 1"
         ],
         "xaxis": "x",
         "y": [
          336397.812
         ],
         "yaxis": "y"
        },
        {
         "alignmentgroup": "True",
         "hovertemplate": "Outlet Location Type=%{x}<br>Total Sales=%{y}<extra></extra>",
         "legendgroup": "Tier 2",
         "marker": {
          "color": "#EF553B",
          "pattern": {
           "shape": ""
          }
         },
         "name": "Tier 2",
         "offsetgroup": "Tier 2",
         "orientation": "v",
         "showlegend": true,
         "textposition": "auto",
         "type": "bar",
         "x": [
          "Tier 2"
         ],
         "xaxis": "x",
         "y": [
          393150.6476
         ],
         "yaxis": "y"
        },
        {
         "alignmentgroup": "True",
         "hovertemplate": "Outlet Location Type=%{x}<br>Total Sales=%{y}<extra></extra>",
         "legendgroup": "Tier 3",
         "marker": {
          "color": "#00cc96",
          "pattern": {
           "shape": ""
          }
         },
         "name": "Tier 3",
         "offsetgroup": "Tier 3",
         "orientation": "v",
         "showlegend": true,
         "textposition": "auto",
         "type": "bar",
         "x": [
          "Tier 3"
         ],
         "xaxis": "x",
         "y": [
          472133.0332
         ],
         "yaxis": "y"
        }
       ],
       "layout": {
        "barmode": "relative",
        "height": 500,
        "legend": {
         "title": {
          "text": "Outlet Location Type"
         },
         "tracegroupgap": 0
        },
        "template": {
         "data": {
          "bar": [
           {
            "error_x": {
             "color": "#2a3f5f"
            },
            "error_y": {
             "color": "#2a3f5f"
            },
            "marker": {
             "line": {
              "color": "#E5ECF6",
              "width": 0.5
             },
             "pattern": {
              "fillmode": "overlay",
              "size": 10,
              "solidity": 0.2
             }
            },
            "type": "bar"
           }
          ],
          "barpolar": [
           {
            "marker": {
             "line": {
              "color": "#E5ECF6",
              "width": 0.5
             },
             "pattern": {
              "fillmode": "overlay",
              "size": 10,
              "solidity": 0.2
             }
            },
            "type": "barpolar"
           }
          ],
          "carpet": [
           {
            "aaxis": {
             "endlinecolor": "#2a3f5f",
             "gridcolor": "white",
             "linecolor": "white",
             "minorgridcolor": "white",
             "startlinecolor": "#2a3f5f"
            },
            "baxis": {
             "endlinecolor": "#2a3f5f",
             "gridcolor": "white",
             "linecolor": "white",
             "minorgridcolor": "white",
             "startlinecolor": "#2a3f5f"
            },
            "type": "carpet"
           }
          ],
          "choropleth": [
           {
            "colorbar": {
             "outlinewidth": 0,
             "ticks": ""
            },
            "type": "choropleth"
           }
          ],
          "contour": [
           {
            "colorbar": {
             "outlinewidth": 0,
             "ticks": ""
            },
            "colorscale": [
             [
              0,
              "#0d0887"
             ],
             [
              0.1111111111111111,
              "#46039f"
             ],
             [
              0.2222222222222222,
              "#7201a8"
             ],
             [
              0.3333333333333333,
              "#9c179e"
             ],
             [
              0.4444444444444444,
              "#bd3786"
             ],
             [
              0.5555555555555556,
              "#d8576b"
             ],
             [
              0.6666666666666666,
              "#ed7953"
             ],
             [
              0.7777777777777778,
              "#fb9f3a"
             ],
             [
              0.8888888888888888,
              "#fdca26"
             ],
             [
              1,
              "#f0f921"
             ]
            ],
            "type": "contour"
           }
          ],
          "contourcarpet": [
           {
            "colorbar": {
             "outlinewidth": 0,
             "ticks": ""
            },
            "type": "contourcarpet"
           }
          ],
          "heatmap": [
           {
            "colorbar": {
             "outlinewidth": 0,
             "ticks": ""
            },
            "colorscale": [
             [
              0,
              "#0d0887"
             ],
             [
              0.1111111111111111,
              "#46039f"
             ],
             [
              0.2222222222222222,
              "#7201a8"
             ],
             [
              0.3333333333333333,
              "#9c179e"
             ],
             [
              0.4444444444444444,
              "#bd3786"
             ],
             [
              0.5555555555555556,
              "#d8576b"
             ],
             [
              0.6666666666666666,
              "#ed7953"
             ],
             [
              0.7777777777777778,
              "#fb9f3a"
             ],
             [
              0.8888888888888888,
              "#fdca26"
             ],
             [
              1,
              "#f0f921"
             ]
            ],
            "type": "heatmap"
           }
          ],
          "heatmapgl": [
           {
            "colorbar": {
             "outlinewidth": 0,
             "ticks": ""
            },
            "colorscale": [
             [
              0,
              "#0d0887"
             ],
             [
              0.1111111111111111,
              "#46039f"
             ],
             [
              0.2222222222222222,
              "#7201a8"
             ],
             [
              0.3333333333333333,
              "#9c179e"
             ],
             [
              0.4444444444444444,
              "#bd3786"
             ],
             [
              0.5555555555555556,
              "#d8576b"
             ],
             [
              0.6666666666666666,
              "#ed7953"
             ],
             [
              0.7777777777777778,
              "#fb9f3a"
             ],
             [
              0.8888888888888888,
              "#fdca26"
             ],
             [
              1,
              "#f0f921"
             ]
            ],
            "type": "heatmapgl"
           }
          ],
          "histogram": [
           {
            "marker": {
             "pattern": {
              "fillmode": "overlay",
              "size": 10,
              "solidity": 0.2
             }
            },
            "type": "histogram"
           }
          ],
          "histogram2d": [
           {
            "colorbar": {
             "outlinewidth": 0,
             "ticks": ""
            },
            "colorscale": [
             [
              0,
              "#0d0887"
             ],
             [
              0.1111111111111111,
              "#46039f"
             ],
             [
              0.2222222222222222,
              "#7201a8"
             ],
             [
              0.3333333333333333,
              "#9c179e"
             ],
             [
              0.4444444444444444,
              "#bd3786"
             ],
             [
              0.5555555555555556,
              "#d8576b"
             ],
             [
              0.6666666666666666,
              "#ed7953"
             ],
             [
              0.7777777777777778,
              "#fb9f3a"
             ],
             [
              0.8888888888888888,
              "#fdca26"
             ],
             [
              1,
              "#f0f921"
             ]
            ],
            "type": "histogram2d"
           }
          ],
          "histogram2dcontour": [
           {
            "colorbar": {
             "outlinewidth": 0,
             "ticks": ""
            },
            "colorscale": [
             [
              0,
              "#0d0887"
             ],
             [
              0.1111111111111111,
              "#46039f"
             ],
             [
              0.2222222222222222,
              "#7201a8"
             ],
             [
              0.3333333333333333,
              "#9c179e"
             ],
             [
              0.4444444444444444,
              "#bd3786"
             ],
             [
              0.5555555555555556,
              "#d8576b"
             ],
             [
              0.6666666666666666,
              "#ed7953"
             ],
             [
              0.7777777777777778,
              "#fb9f3a"
             ],
             [
              0.8888888888888888,
              "#fdca26"
             ],
             [
              1,
              "#f0f921"
             ]
            ],
            "type": "histogram2dcontour"
           }
          ],
          "mesh3d": [
           {
            "colorbar": {
             "outlinewidth": 0,
             "ticks": ""
            },
            "type": "mesh3d"
           }
          ],
          "parcoords": [
           {
            "line": {
             "colorbar": {
              "outlinewidth": 0,
              "ticks": ""
             }
            },
            "type": "parcoords"
           }
          ],
          "pie": [
           {
            "automargin": true,
            "type": "pie"
           }
          ],
          "scatter": [
           {
            "fillpattern": {
             "fillmode": "overlay",
             "size": 10,
             "solidity": 0.2
            },
            "type": "scatter"
           }
          ],
          "scatter3d": [
           {
            "line": {
             "colorbar": {
              "outlinewidth": 0,
              "ticks": ""
             }
            },
            "marker": {
             "colorbar": {
              "outlinewidth": 0,
              "ticks": ""
             }
            },
            "type": "scatter3d"
           }
          ],
          "scattercarpet": [
           {
            "marker": {
             "colorbar": {
              "outlinewidth": 0,
              "ticks": ""
             }
            },
            "type": "scattercarpet"
           }
          ],
          "scattergeo": [
           {
            "marker": {
             "colorbar": {
              "outlinewidth": 0,
              "ticks": ""
             }
            },
            "type": "scattergeo"
           }
          ],
          "scattergl": [
           {
            "marker": {
             "colorbar": {
              "outlinewidth": 0,
              "ticks": ""
             }
            },
            "type": "scattergl"
           }
          ],
          "scattermapbox": [
           {
            "marker": {
             "colorbar": {
              "outlinewidth": 0,
              "ticks": ""
             }
            },
            "type": "scattermapbox"
           }
          ],
          "scatterpolar": [
           {
            "marker": {
             "colorbar": {
              "outlinewidth": 0,
              "ticks": ""
             }
            },
            "type": "scatterpolar"
           }
          ],
          "scatterpolargl": [
           {
            "marker": {
             "colorbar": {
              "outlinewidth": 0,
              "ticks": ""
             }
            },
            "type": "scatterpolargl"
           }
          ],
          "scatterternary": [
           {
            "marker": {
             "colorbar": {
              "outlinewidth": 0,
              "ticks": ""
             }
            },
            "type": "scatterternary"
           }
          ],
          "surface": [
           {
            "colorbar": {
             "outlinewidth": 0,
             "ticks": ""
            },
            "colorscale": [
             [
              0,
              "#0d0887"
             ],
             [
              0.1111111111111111,
              "#46039f"
             ],
             [
              0.2222222222222222,
              "#7201a8"
             ],
             [
              0.3333333333333333,
              "#9c179e"
             ],
             [
              0.4444444444444444,
              "#bd3786"
             ],
             [
              0.5555555555555556,
              "#d8576b"
             ],
             [
              0.6666666666666666,
              "#ed7953"
             ],
             [
              0.7777777777777778,
              "#fb9f3a"
             ],
             [
              0.8888888888888888,
              "#fdca26"
             ],
             [
              1,
              "#f0f921"
             ]
            ],
            "type": "surface"
           }
          ],
          "table": [
           {
            "cells": {
             "fill": {
              "color": "#EBF0F8"
             },
             "line": {
              "color": "white"
             }
            },
            "header": {
             "fill": {
              "color": "#C8D4E3"
             },
             "line": {
              "color": "white"
             }
            },
            "type": "table"
           }
          ]
         },
         "layout": {
          "annotationdefaults": {
           "arrowcolor": "#2a3f5f",
           "arrowhead": 0,
           "arrowwidth": 1
          },
          "autotypenumbers": "strict",
          "coloraxis": {
           "colorbar": {
            "outlinewidth": 0,
            "ticks": ""
           }
          },
          "colorscale": {
           "diverging": [
            [
             0,
             "#8e0152"
            ],
            [
             0.1,
             "#c51b7d"
            ],
            [
             0.2,
             "#de77ae"
            ],
            [
             0.3,
             "#f1b6da"
            ],
            [
             0.4,
             "#fde0ef"
            ],
            [
             0.5,
             "#f7f7f7"
            ],
            [
             0.6,
             "#e6f5d0"
            ],
            [
             0.7,
             "#b8e186"
            ],
            [
             0.8,
             "#7fbc41"
            ],
            [
             0.9,
             "#4d9221"
            ],
            [
             1,
             "#276419"
            ]
           ],
           "sequential": [
            [
             0,
             "#0d0887"
            ],
            [
             0.1111111111111111,
             "#46039f"
            ],
            [
             0.2222222222222222,
             "#7201a8"
            ],
            [
             0.3333333333333333,
             "#9c179e"
            ],
            [
             0.4444444444444444,
             "#bd3786"
            ],
            [
             0.5555555555555556,
             "#d8576b"
            ],
            [
             0.6666666666666666,
             "#ed7953"
            ],
            [
             0.7777777777777778,
             "#fb9f3a"
            ],
            [
             0.8888888888888888,
             "#fdca26"
            ],
            [
             1,
             "#f0f921"
            ]
           ],
           "sequentialminus": [
            [
             0,
             "#0d0887"
            ],
            [
             0.1111111111111111,
             "#46039f"
            ],
            [
             0.2222222222222222,
             "#7201a8"
            ],
            [
             0.3333333333333333,
             "#9c179e"
            ],
            [
             0.4444444444444444,
             "#bd3786"
            ],
            [
             0.5555555555555556,
             "#d8576b"
            ],
            [
             0.6666666666666666,
             "#ed7953"
            ],
            [
             0.7777777777777778,
             "#fb9f3a"
            ],
            [
             0.8888888888888888,
             "#fdca26"
            ],
            [
             1,
             "#f0f921"
            ]
           ]
          },
          "colorway": [
           "#636efa",
           "#EF553B",
           "#00cc96",
           "#ab63fa",
           "#FFA15A",
           "#19d3f3",
           "#FF6692",
           "#B6E880",
           "#FF97FF",
           "#FECB52"
          ],
          "font": {
           "color": "#2a3f5f"
          },
          "geo": {
           "bgcolor": "white",
           "lakecolor": "white",
           "landcolor": "#E5ECF6",
           "showlakes": true,
           "showland": true,
           "subunitcolor": "white"
          },
          "hoverlabel": {
           "align": "left"
          },
          "hovermode": "closest",
          "mapbox": {
           "style": "light"
          },
          "paper_bgcolor": "white",
          "plot_bgcolor": "#E5ECF6",
          "polar": {
           "angularaxis": {
            "gridcolor": "white",
            "linecolor": "white",
            "ticks": ""
           },
           "bgcolor": "#E5ECF6",
           "radialaxis": {
            "gridcolor": "white",
            "linecolor": "white",
            "ticks": ""
           }
          },
          "scene": {
           "xaxis": {
            "backgroundcolor": "#E5ECF6",
            "gridcolor": "white",
            "gridwidth": 2,
            "linecolor": "white",
            "showbackground": true,
            "ticks": "",
            "zerolinecolor": "white"
           },
           "yaxis": {
            "backgroundcolor": "#E5ECF6",
            "gridcolor": "white",
            "gridwidth": 2,
            "linecolor": "white",
            "showbackground": true,
            "ticks": "",
            "zerolinecolor": "white"
           },
           "zaxis": {
            "backgroundcolor": "#E5ECF6",
            "gridcolor": "white",
            "gridwidth": 2,
            "linecolor": "white",
            "showbackground": true,
            "ticks": "",
            "zerolinecolor": "white"
           }
          },
          "shapedefaults": {
           "line": {
            "color": "#2a3f5f"
           }
          },
          "ternary": {
           "aaxis": {
            "gridcolor": "white",
            "linecolor": "white",
            "ticks": ""
           },
           "baxis": {
            "gridcolor": "white",
            "linecolor": "white",
            "ticks": ""
           },
           "bgcolor": "#E5ECF6",
           "caxis": {
            "gridcolor": "white",
            "linecolor": "white",
            "ticks": ""
           }
          },
          "title": {
           "x": 0.05
          },
          "xaxis": {
           "automargin": true,
           "gridcolor": "white",
           "linecolor": "white",
           "ticks": "",
           "title": {
            "standoff": 15
           },
           "zerolinecolor": "white",
           "zerolinewidth": 2
          },
          "yaxis": {
           "automargin": true,
           "gridcolor": "white",
           "linecolor": "white",
           "ticks": "",
           "title": {
            "standoff": 15
           },
           "zerolinecolor": "white",
           "zerolinewidth": 2
          }
         }
        },
        "title": {
         "text": "Sales by Outlet Location Type"
        },
        "width": 800,
        "xaxis": {
         "anchor": "y",
         "categoryarray": [
          "Tier 1",
          "Tier 2",
          "Tier 3"
         ],
         "categoryorder": "array",
         "domain": [
          0,
          1
         ],
         "title": {
          "text": "Outlet Location Type"
         }
        },
        "yaxis": {
         "anchor": "x",
         "domain": [
          0,
          1
         ],
         "title": {
          "text": "Total Sales"
         }
        }
       }
      }
     },
     "metadata": {},
     "output_type": "display_data"
    }
   ],
   "source": [
    "import pandas as pd\n",
    "import plotly.express as px\n",
    "\n",
    "# Assuming df is already defined and contains your data\n",
    "\n",
    "# Group by 'Outlet Location Type' and sum the 'Sales'\n",
    "location_sales = df.groupby('Outlet Location Type')['Sales'].sum().reset_index()\n",
    "\n",
    "# Create the plot using plotly.express with multiple colors\n",
    "fig = px.bar(location_sales, \n",
    "            x='Outlet Location Type', \n",
    "            y='Sales', \n",
    "            color='Outlet Location Type',  # Use this argument to set colors by Outlet Location Type\n",
    "            title='Sales by Outlet Location Type',\n",
    "            labels={'Sales': 'Total Sales', 'Outlet Location Type': 'Outlet Location Type'},\n",
    "            width=800, height=500)\n",
    "\n",
    "# Show the plot\n",
    "fig.show()\n"
   ]
  },
  {
   "cell_type": "code",
   "execution_count": null,
   "metadata": {},
   "outputs": [
    {
     "data": {
      "image/png": "[encoded data removed]",
      "text/plain": [
       "<Figure size 1000x600 with 1 Axes>"
      ]
     },
     "metadata": {},
     "output_type": "display_data"
    }
   ],
   "source": [
    "top_items = df.groupby('Item Identifier')['Sales'].sum().sort_values(ascending=False).head(10)\n",
    "top_items.plot(kind='bar', figsize=(10, 6))\n",
    "plt.title('Top 10 Best-Selling Items')\n",
    "plt.xlabel('Item Identifier')\n",
    "plt.ylabel('Total Sales')\n",
    "plt.show()"
   ]
  },
  {
   "cell_type": "code",
   "execution_count": null,
   "metadata": {},
   "outputs": [
    {
     "data": {
      "application/vnd.plotly.v1+json": {
       "config": {
        "plotlyServerURL": "https://plot.ly"
       },
       "data": [
        {
         "hovertemplate": "Year=%{x}<br>Total Sales=%{y}<extra></extra>",
         "legendgroup": "",
         "line": {
          "color": "#636efa",
          "dash": "solid"
         },
         "marker": {
          "symbol": "circle"
         },
         "mode": "lines+markers",
         "name": "",
         "orientation": "v",
         "showlegend": false,
         "type": "scatter",
         "x": [
          2011,
          2012,
          2014,
          2015,
          2016,
          2017,
          2018,
          2020,
          2022
         ],
         "xaxis": "x",
         "y": [
          78131.5666,
          130476.8598,
          131809.0156,
          130942.7802,
          132113.3698,
          133103.907,
          204522.257,
          129103.9604,
          131477.7764
         ],
         "yaxis": "y"
        }
       ],
       "layout": {
        "height": 500,
        "legend": {
         "tracegroupgap": 0
        },
        "template": {
         "data": {
          "bar": [
           {
            "error_x": {
             "color": "#2a3f5f"
            },
            "error_y": {
             "color": "#2a3f5f"
            },
            "marker": {
             "line": {
              "color": "#E5ECF6",
              "width": 0.5
             },
             "pattern": {
              "fillmode": "overlay",
              "size": 10,
              "solidity": 0.2
             }
            },
            "type": "bar"
           }
          ],
          "barpolar": [
           {
            "marker": {
             "line": {
              "color": "#E5ECF6",
              "width": 0.5
             },
             "pattern": {
              "fillmode": "overlay",
              "size": 10,
              "solidity": 0.2
             }
            },
            "type": "barpolar"
           }
          ],
          "carpet": [
           {
            "aaxis": {
             "endlinecolor": "#2a3f5f",
             "gridcolor": "white",
             "linecolor": "white",
             "minorgridcolor": "white",
             "startlinecolor": "#2a3f5f"
            },
            "baxis": {
             "endlinecolor": "#2a3f5f",
             "gridcolor": "white",
             "linecolor": "white",
             "minorgridcolor": "white",
             "startlinecolor": "#2a3f5f"
            },
            "type": "carpet"
           }
          ],
          "choropleth": [
           {
            "colorbar": {
             "outlinewidth": 0,
             "ticks": ""
            },
            "type": "choropleth"
           }
          ],
          "contour": [
           {
            "colorbar": {
             "outlinewidth": 0,
             "ticks": ""
            },
            "colorscale": [
             [
              0,
              "#0d0887"
             ],
             [
              0.1111111111111111,
              "#46039f"
             ],
             [
              0.2222222222222222,
              "#7201a8"
             ],
             [
              0.3333333333333333,
              "#9c179e"
             ],
             [
              0.4444444444444444,
              "#bd3786"
             ],
             [
              0.5555555555555556,
              "#d8576b"
             ],
             [
              0.6666666666666666,
              "#ed7953"
             ],
             [
              0.7777777777777778,
              "#fb9f3a"
             ],
             [
              0.8888888888888888,
              "#fdca26"
             ],
             [
              1,
              "#f0f921"
             ]
            ],
            "type": "contour"
           }
          ],
          "contourcarpet": [
           {
            "colorbar": {
             "outlinewidth": 0,
             "ticks": ""
            },
            "type": "contourcarpet"
           }
          ],
          "heatmap": [
           {
            "colorbar": {
             "outlinewidth": 0,
             "ticks": ""
            },
            "colorscale": [
             [
              0,
              "#0d0887"
             ],
             [
              0.1111111111111111,
              "#46039f"
             ],
             [
              0.2222222222222222,
              "#7201a8"
             ],
             [
              0.3333333333333333,
              "#9c179e"
             ],
             [
              0.4444444444444444,
              "#bd3786"
             ],
             [
              0.5555555555555556,
              "#d8576b"
             ],
             [
              0.6666666666666666,
              "#ed7953"
             ],
             [
              0.7777777777777778,
              "#fb9f3a"
             ],
             [
              0.8888888888888888,
              "#fdca26"
             ],
             [
              1,
              "#f0f921"
             ]
            ],
            "type": "heatmap"
           }
          ],
          "heatmapgl": [
           {
            "colorbar": {
             "outlinewidth": 0,
             "ticks": ""
            },
            "colorscale": [
             [
              0,
              "#0d0887"
             ],
             [
              0.1111111111111111,
              "#46039f"
             ],
             [
              0.2222222222222222,
              "#7201a8"
             ],
             [
              0.3333333333333333,
              "#9c179e"
             ],
             [
              0.4444444444444444,
              "#bd3786"
             ],
             [
              0.5555555555555556,
              "#d8576b"
             ],
             [
              0.6666666666666666,
              "#ed7953"
             ],
             [
              0.7777777777777778,
              "#fb9f3a"
             ],
             [
              0.8888888888888888,
              "#fdca26"
             ],
             [
              1,
              "#f0f921"
             ]
            ],
            "type": "heatmapgl"
           }
          ],
          "histogram": [
           {
            "marker": {
             "pattern": {
              "fillmode": "overlay",
              "size": 10,
              "solidity": 0.2
             }
            },
            "type": "histogram"
           }
          ],
          "histogram2d": [
           {
            "colorbar": {
             "outlinewidth": 0,
             "ticks": ""
            },
            "colorscale": [
             [
              0,
              "#0d0887"
             ],
             [
              0.1111111111111111,
              "#46039f"
             ],
             [
              0.2222222222222222,
              "#7201a8"
             ],
             [
              0.3333333333333333,
              "#9c179e"
             ],
             [
              0.4444444444444444,
              "#bd3786"
             ],
             [
              0.5555555555555556,
              "#d8576b"
             ],
             [
              0.6666666666666666,
              "#ed7953"
             ],
             [
              0.7777777777777778,
              "#fb9f3a"
             ],
             [
              0.8888888888888888,
              "#fdca26"
             ],
             [
              1,
              "#f0f921"
             ]
            ],
            "type": "histogram2d"
           }
          ],
          "histogram2dcontour": [
           {
            "colorbar": {
             "outlinewidth": 0,
             "ticks": ""
            },
            "colorscale": [
             [
              0,
              "#0d0887"
             ],
             [
              0.1111111111111111,
              "#46039f"
             ],
             [
              0.2222222222222222,
              "#7201a8"
             ],
             [
              0.3333333333333333,
              "#9c179e"
             ],
             [
              0.4444444444444444,
              "#bd3786"
             ],
             [
              0.5555555555555556,
              "#d8576b"
             ],
             [
              0.6666666666666666,
              "#ed7953"
             ],
             [
              0.7777777777777778,
              "#fb9f3a"
             ],
             [
              0.8888888888888888,
              "#fdca26"
             ],
             [
              1,
              "#f0f921"
             ]
            ],
            "type": "histogram2dcontour"
           }
          ],
          "mesh3d": [
           {
            "colorbar": {
             "outlinewidth": 0,
             "ticks": ""
            },
            "type": "mesh3d"
           }
          ],
          "parcoords": [
           {
            "line": {
             "colorbar": {
              "outlinewidth": 0,
              "ticks": ""
             }
            },
            "type": "parcoords"
           }
          ],
          "pie": [
           {
            "automargin": true,
            "type": "pie"
           }
          ],
          "scatter": [
           {
            "fillpattern": {
             "fillmode": "overlay",
             "size": 10,
             "solidity": 0.2
            },
            "type": "scatter"
           }
          ],
          "scatter3d": [
           {
            "line": {
             "colorbar": {
              "outlinewidth": 0,
              "ticks": ""
             }
            },
            "marker": {
             "colorbar": {
              "outlinewidth": 0,
              "ticks": ""
             }
            },
            "type": "scatter3d"
           }
          ],
          "scattercarpet": [
           {
            "marker": {
             "colorbar": {
              "outlinewidth": 0,
              "ticks": ""
             }
            },
            "type": "scattercarpet"
           }
          ],
          "scattergeo": [
           {
            "marker": {
             "colorbar": {
              "outlinewidth": 0,
              "ticks": ""
             }
            },
            "type": "scattergeo"
           }
          ],
          "scattergl": [
           {
            "marker": {
             "colorbar": {
              "outlinewidth": 0,
              "ticks": ""
             }
            },
            "type": "scattergl"
           }
          ],
          "scattermapbox": [
           {
            "marker": {
             "colorbar": {
              "outlinewidth": 0,
              "ticks": ""
             }
            },
            "type": "scattermapbox"
           }
          ],
          "scatterpolar": [
           {
            "marker": {
             "colorbar": {
              "outlinewidth": 0,
              "ticks": ""
             }
            },
            "type": "scatterpolar"
           }
          ],
          "scatterpolargl": [
           {
            "marker": {
             "colorbar": {
              "outlinewidth": 0,
              "ticks": ""
             }
            },
            "type": "scatterpolargl"
           }
          ],
          "scatterternary": [
           {
            "marker": {
             "colorbar": {
              "outlinewidth": 0,
              "ticks": ""
             }
            },
            "type": "scatterternary"
           }
          ],
          "surface": [
           {
            "colorbar": {
             "outlinewidth": 0,
             "ticks": ""
            },
            "colorscale": [
             [
              0,
              "#0d0887"
             ],
             [
              0.1111111111111111,
              "#46039f"
             ],
             [
              0.2222222222222222,
              "#7201a8"
             ],
             [
              0.3333333333333333,
              "#9c179e"
             ],
             [
              0.4444444444444444,
              "#bd3786"
             ],
             [
              0.5555555555555556,
              "#d8576b"
             ],
             [
              0.6666666666666666,
              "#ed7953"
             ],
             [
              0.7777777777777778,
              "#fb9f3a"
             ],
             [
              0.8888888888888888,
              "#fdca26"
             ],
             [
              1,
              "#f0f921"
             ]
            ],
            "type": "surface"
           }
          ],
          "table": [
           {
            "cells": {
             "fill": {
              "color": "#EBF0F8"
             },
             "line": {
              "color": "white"
             }
            },
            "header": {
             "fill": {
              "color": "#C8D4E3"
             },
             "line": {
              "color": "white"
             }
            },
            "type": "table"
           }
          ]
         },
         "layout": {
          "annotationdefaults": {
           "arrowcolor": "#2a3f5f",
           "arrowhead": 0,
           "arrowwidth": 1
          },
          "autotypenumbers": "strict",
          "coloraxis": {
           "colorbar": {
            "outlinewidth": 0,
            "ticks": ""
           }
          },
          "colorscale": {
           "diverging": [
            [
             0,
             "#8e0152"
            ],
            [
             0.1,
             "#c51b7d"
            ],
            [
             0.2,
             "#de77ae"
            ],
            [
             0.3,
             "#f1b6da"
            ],
            [
             0.4,
             "#fde0ef"
            ],
            [
             0.5,
             "#f7f7f7"
            ],
            [
             0.6,
             "#e6f5d0"
            ],
            [
             0.7,
             "#b8e186"
            ],
            [
             0.8,
             "#7fbc41"
            ],
            [
             0.9,
             "#4d9221"
            ],
            [
             1,
             "#276419"
            ]
           ],
           "sequential": [
            [
             0,
             "#0d0887"
            ],
            [
             0.1111111111111111,
             "#46039f"
            ],
            [
             0.2222222222222222,
             "#7201a8"
            ],
            [
             0.3333333333333333,
             "#9c179e"
            ],
            [
             0.4444444444444444,
             "#bd3786"
            ],
            [
             0.5555555555555556,
             "#d8576b"
            ],
            [
             0.6666666666666666,
             "#ed7953"
            ],
            [
             0.7777777777777778,
             "#fb9f3a"
            ],
            [
             0.8888888888888888,
             "#fdca26"
            ],
            [
             1,
             "#f0f921"
            ]
           ],
           "sequentialminus": [
            [
             0,
             "#0d0887"
            ],
            [
             0.1111111111111111,
             "#46039f"
            ],
            [
             0.2222222222222222,
             "#7201a8"
            ],
            [
             0.3333333333333333,
             "#9c179e"
            ],
            [
             0.4444444444444444,
             "#bd3786"
            ],
            [
             0.5555555555555556,
             "#d8576b"
            ],
            [
             0.6666666666666666,
             "#ed7953"
            ],
            [
             0.7777777777777778,
             "#fb9f3a"
            ],
            [
             0.8888888888888888,
             "#fdca26"
            ],
            [
             1,
             "#f0f921"
            ]
           ]
          },
          "colorway": [
           "#636efa",
           "#EF553B",
           "#00cc96",
           "#ab63fa",
           "#FFA15A",
           "#19d3f3",
           "#FF6692",
           "#B6E880",
           "#FF97FF",
           "#FECB52"
          ],
          "font": {
           "color": "#2a3f5f"
          },
          "geo": {
           "bgcolor": "white",
           "lakecolor": "white",
           "landcolor": "#E5ECF6",
           "showlakes": true,
           "showland": true,
           "subunitcolor": "white"
          },
          "hoverlabel": {
           "align": "left"
          },
          "hovermode": "closest",
          "mapbox": {
           "style": "light"
          },
          "paper_bgcolor": "white",
          "plot_bgcolor": "#E5ECF6",
          "polar": {
           "angularaxis": {
            "gridcolor": "white",
            "linecolor": "white",
            "ticks": ""
           },
           "bgcolor": "#E5ECF6",
           "radialaxis": {
            "gridcolor": "white",
            "linecolor": "white",
            "ticks": ""
           }
          },
          "scene": {
           "xaxis": {
            "backgroundcolor": "#E5ECF6",
            "gridcolor": "white",
            "gridwidth": 2,
            "linecolor": "white",
            "showbackground": true,
            "ticks": "",
            "zerolinecolor": "white"
           },
           "yaxis": {
            "backgroundcolor": "#E5ECF6",
            "gridcolor": "white",
            "gridwidth": 2,
            "linecolor": "white",
            "showbackground": true,
            "ticks": "",
            "zerolinecolor": "white"
           },
           "zaxis": {
            "backgroundcolor": "#E5ECF6",
            "gridcolor": "white",
            "gridwidth": 2,
            "linecolor": "white",
            "showbackground": true,
            "ticks": "",
            "zerolinecolor": "white"
           }
          },
          "shapedefaults": {
           "line": {
            "color": "#2a3f5f"
           }
          },
          "ternary": {
           "aaxis": {
            "gridcolor": "white",
            "linecolor": "white",
            "ticks": ""
           },
           "baxis": {
            "gridcolor": "white",
            "linecolor": "white",
            "ticks": ""
           },
           "bgcolor": "#E5ECF6",
           "caxis": {
            "gridcolor": "white",
            "linecolor": "white",
            "ticks": ""
           }
          },
          "title": {
           "x": 0.05
          },
          "xaxis": {
           "automargin": true,
           "gridcolor": "white",
           "linecolor": "white",
           "ticks": "",
           "title": {
            "standoff": 15
           },
           "zerolinecolor": "white",
           "zerolinewidth": 2
          },
          "yaxis": {
           "automargin": true,
           "gridcolor": "white",
           "linecolor": "white",
           "ticks": "",
           "title": {
            "standoff": 15
           },
           "zerolinecolor": "white",
           "zerolinewidth": 2
          }
         }
        },
        "title": {
         "text": "Sales Trends Over Time (by Year of Outlet Establishment)"
        },
        "transition": {
         "duration": 500
        },
        "width": 800,
        "xaxis": {
         "anchor": "y",
         "domain": [
          0,
          1
         ],
         "title": {
          "text": "Year"
         }
        },
        "yaxis": {
         "anchor": "x",
         "domain": [
          0,
          1
         ],
         "title": {
          "text": "Total Sales"
         }
        }
       }
      }
     },
     "metadata": {},
     "output_type": "display_data"
    }
   ],
   "source": [
    "import pandas as pd\n",
    "import plotly.express as px\n",
    "\n",
    "# Assuming df is already defined and contains your data\n",
    "\n",
    "# Create a new column for 'Year'\n",
    "df['Year'] = df['Outlet Establishment Year']\n",
    "\n",
    "# Group by 'Year' and sum the 'Sales'\n",
    "year_sales = df.groupby('Year')['Sales'].sum().reset_index()\n",
    "\n",
    "# Create the animated line plot\n",
    "fig = px.line(year_sales, \n",
    "            x='Year', \n",
    "            y='Sales', \n",
    "            title='Sales Trends Over Time (by Year of Outlet Establishment)',\n",
    "            labels={'Sales': 'Total Sales', 'Year': 'Year'},\n",
    "            width=800, height=500)\n",
    "\n",
    "# Add a frame for animation\n",
    "fig.update_traces(mode='lines+markers')  # Add markers to the line\n",
    "fig.update_layout(transition_duration=500)  # Duration of the animation transition\n",
    "\n",
    "# Show the plot\n",
    "fig.show()\n"
   ]
  },
  {
   "cell_type": "code",
   "execution_count": null,
   "metadata": {},
   "outputs": [
    {
     "data": {
      "application/vnd.plotly.v1+json": {
       "config": {
        "plotlyServerURL": "https://plot.ly"
       },
       "data": [
        {
         "alignmentgroup": "True",
         "hovertemplate": "Tier=High Tier<br>Outlet Location Type=%{x}<br>Total Sales=%{y}<extra></extra>",
         "legendgroup": "High Tier",
         "marker": {
          "color": "#636efa",
          "pattern": {
           "shape": ""
          }
         },
         "name": "High Tier",
         "offsetgroup": "High Tier",
         "orientation": "v",
         "showlegend": true,
         "textposition": "auto",
         "type": "bar",
         "x": [
          "Urban"
         ],
         "xaxis": "x",
         "y": [
          250000
         ],
         "yaxis": "y"
        },
        {
         "alignmentgroup": "True",
         "hovertemplate": "Tier=Mid Tier<br>Outlet Location Type=%{x}<br>Total Sales=%{y}<extra></extra>",
         "legendgroup": "Mid Tier",
         "marker": {
          "color": "#EF553B",
          "pattern": {
           "shape": ""
          }
         },
         "name": "Mid Tier",
         "offsetgroup": "Mid Tier",
         "orientation": "v",
         "showlegend": true,
         "textposition": "auto",
         "type": "bar",
         "x": [
          "Suburban"
         ],
         "xaxis": "x",
         "y": [
          150000
         ],
         "yaxis": "y"
        },
        {
         "alignmentgroup": "True",
         "hovertemplate": "Tier=Low Tier<br>Outlet Location Type=%{x}<br>Total Sales=%{y}<extra></extra>",
         "legendgroup": "Low Tier",
         "marker": {
          "color": "#00cc96",
          "pattern": {
           "shape": ""
          }
         },
         "name": "Low Tier",
         "offsetgroup": "Low Tier",
         "orientation": "v",
         "showlegend": true,
         "textposition": "auto",
         "type": "bar",
         "x": [
          "Rural"
         ],
         "xaxis": "x",
         "y": [
          80000
         ],
         "yaxis": "y"
        }
       ],
       "layout": {
        "barmode": "relative",
        "height": 500,
        "legend": {
         "title": {
          "text": "Tier"
         },
         "tracegroupgap": 0
        },
        "template": {
         "data": {
          "bar": [
           {
            "error_x": {
             "color": "#2a3f5f"
            },
            "error_y": {
             "color": "#2a3f5f"
            },
            "marker": {
             "line": {
              "color": "#E5ECF6",
              "width": 0.5
             },
             "pattern": {
              "fillmode": "overlay",
              "size": 10,
              "solidity": 0.2
             }
            },
            "type": "bar"
           }
          ],
          "barpolar": [
           {
            "marker": {
             "line": {
              "color": "#E5ECF6",
              "width": 0.5
             },
             "pattern": {
              "fillmode": "overlay",
              "size": 10,
              "solidity": 0.2
             }
            },
            "type": "barpolar"
           }
          ],
          "carpet": [
           {
            "aaxis": {
             "endlinecolor": "#2a3f5f",
             "gridcolor": "white",
             "linecolor": "white",
             "minorgridcolor": "white",
             "startlinecolor": "#2a3f5f"
            },
            "baxis": {
             "endlinecolor": "#2a3f5f",
             "gridcolor": "white",
             "linecolor": "white",
             "minorgridcolor": "white",
             "startlinecolor": "#2a3f5f"
            },
            "type": "carpet"
           }
          ],
          "choropleth": [
           {
            "colorbar": {
             "outlinewidth": 0,
             "ticks": ""
            },
            "type": "choropleth"
           }
          ],
          "contour": [
           {
            "colorbar": {
             "outlinewidth": 0,
             "ticks": ""
            },
            "colorscale": [
             [
              0,
              "#0d0887"
             ],
             [
              0.1111111111111111,
              "#46039f"
             ],
             [
              0.2222222222222222,
              "#7201a8"
             ],
             [
              0.3333333333333333,
              "#9c179e"
             ],
             [
              0.4444444444444444,
              "#bd3786"
             ],
             [
              0.5555555555555556,
              "#d8576b"
             ],
             [
              0.6666666666666666,
              "#ed7953"
             ],
             [
              0.7777777777777778,
              "#fb9f3a"
             ],
             [
              0.8888888888888888,
              "#fdca26"
             ],
             [
              1,
              "#f0f921"
             ]
            ],
            "type": "contour"
           }
          ],
          "contourcarpet": [
           {
            "colorbar": {
             "outlinewidth": 0,
             "ticks": ""
            },
            "type": "contourcarpet"
           }
          ],
          "heatmap": [
           {
            "colorbar": {
             "outlinewidth": 0,
             "ticks": ""
            },
            "colorscale": [
             [
              0,
              "#0d0887"
             ],
             [
              0.1111111111111111,
              "#46039f"
             ],
             [
              0.2222222222222222,
              "#7201a8"
             ],
             [
              0.3333333333333333,
              "#9c179e"
             ],
             [
              0.4444444444444444,
              "#bd3786"
             ],
             [
              0.5555555555555556,
              "#d8576b"
             ],
             [
              0.6666666666666666,
              "#ed7953"
             ],
             [
              0.7777777777777778,
              "#fb9f3a"
             ],
             [
              0.8888888888888888,
              "#fdca26"
             ],
             [
              1,
              "#f0f921"
             ]
            ],
            "type": "heatmap"
           }
          ],
          "heatmapgl": [
           {
            "colorbar": {
             "outlinewidth": 0,
             "ticks": ""
            },
            "colorscale": [
             [
              0,
              "#0d0887"
             ],
             [
              0.1111111111111111,
              "#46039f"
             ],
             [
              0.2222222222222222,
              "#7201a8"
             ],
             [
              0.3333333333333333,
              "#9c179e"
             ],
             [
              0.4444444444444444,
              "#bd3786"
             ],
             [
              0.5555555555555556,
              "#d8576b"
             ],
             [
              0.6666666666666666,
              "#ed7953"
             ],
             [
              0.7777777777777778,
              "#fb9f3a"
             ],
             [
              0.8888888888888888,
              "#fdca26"
             ],
             [
              1,
              "#f0f921"
             ]
            ],
            "type": "heatmapgl"
           }
          ],
          "histogram": [
           {
            "marker": {
             "pattern": {
              "fillmode": "overlay",
              "size": 10,
              "solidity": 0.2
             }
            },
            "type": "histogram"
           }
          ],
          "histogram2d": [
           {
            "colorbar": {
             "outlinewidth": 0,
             "ticks": ""
            },
            "colorscale": [
             [
              0,
              "#0d0887"
             ],
             [
              0.1111111111111111,
              "#46039f"
             ],
             [
              0.2222222222222222,
              "#7201a8"
             ],
             [
              0.3333333333333333,
              "#9c179e"
             ],
             [
              0.4444444444444444,
              "#bd3786"
             ],
             [
              0.5555555555555556,
              "#d8576b"
             ],
             [
              0.6666666666666666,
              "#ed7953"
             ],
             [
              0.7777777777777778,
              "#fb9f3a"
             ],
             [
              0.8888888888888888,
              "#fdca26"
             ],
             [
              1,
              "#f0f921"
             ]
            ],
            "type": "histogram2d"
           }
          ],
          "histogram2dcontour": [
           {
            "colorbar": {
             "outlinewidth": 0,
             "ticks": ""
            },
            "colorscale": [
             [
              0,
              "#0d0887"
             ],
             [
              0.1111111111111111,
              "#46039f"
             ],
             [
              0.2222222222222222,
              "#7201a8"
             ],
             [
              0.3333333333333333,
              "#9c179e"
             ],
             [
              0.4444444444444444,
              "#bd3786"
             ],
             [
              0.5555555555555556,
              "#d8576b"
             ],
             [
              0.6666666666666666,
              "#ed7953"
             ],
             [
              0.7777777777777778,
              "#fb9f3a"
             ],
             [
              0.8888888888888888,
              "#fdca26"
             ],
             [
              1,
              "#f0f921"
             ]
            ],
            "type": "histogram2dcontour"
           }
          ],
          "mesh3d": [
           {
            "colorbar": {
             "outlinewidth": 0,
             "ticks": ""
            },
            "type": "mesh3d"
           }
          ],
          "parcoords": [
           {
            "line": {
             "colorbar": {
              "outlinewidth": 0,
              "ticks": ""
             }
            },
            "type": "parcoords"
           }
          ],
          "pie": [
           {
            "automargin": true,
            "type": "pie"
           }
          ],
          "scatter": [
           {
            "fillpattern": {
             "fillmode": "overlay",
             "size": 10,
             "solidity": 0.2
            },
            "type": "scatter"
           }
          ],
          "scatter3d": [
           {
            "line": {
             "colorbar": {
              "outlinewidth": 0,
              "ticks": ""
             }
            },
            "marker": {
             "colorbar": {
              "outlinewidth": 0,
              "ticks": ""
             }
            },
            "type": "scatter3d"
           }
          ],
          "scattercarpet": [
           {
            "marker": {
             "colorbar": {
              "outlinewidth": 0,
              "ticks": ""
             }
            },
            "type": "scattercarpet"
           }
          ],
          "scattergeo": [
           {
            "marker": {
             "colorbar": {
              "outlinewidth": 0,
              "ticks": ""
             }
            },
            "type": "scattergeo"
           }
          ],
          "scattergl": [
           {
            "marker": {
             "colorbar": {
              "outlinewidth": 0,
              "ticks": ""
             }
            },
            "type": "scattergl"
           }
          ],
          "scattermapbox": [
           {
            "marker": {
             "colorbar": {
              "outlinewidth": 0,
              "ticks": ""
             }
            },
            "type": "scattermapbox"
           }
          ],
          "scatterpolar": [
           {
            "marker": {
             "colorbar": {
              "outlinewidth": 0,
              "ticks": ""
             }
            },
            "type": "scatterpolar"
           }
          ],
          "scatterpolargl": [
           {
            "marker": {
             "colorbar": {
              "outlinewidth": 0,
              "ticks": ""
             }
            },
            "type": "scatterpolargl"
           }
          ],
          "scatterternary": [
           {
            "marker": {
             "colorbar": {
              "outlinewidth": 0,
              "ticks": ""
             }
            },
            "type": "scatterternary"
           }
          ],
          "surface": [
           {
            "colorbar": {
             "outlinewidth": 0,
             "ticks": ""
            },
            "colorscale": [
             [
              0,
              "#0d0887"
             ],
             [
              0.1111111111111111,
              "#46039f"
             ],
             [
              0.2222222222222222,
              "#7201a8"
             ],
             [
              0.3333333333333333,
              "#9c179e"
             ],
             [
              0.4444444444444444,
              "#bd3786"
             ],
             [
              0.5555555555555556,
              "#d8576b"
             ],
             [
              0.6666666666666666,
              "#ed7953"
             ],
             [
              0.7777777777777778,
              "#fb9f3a"
             ],
             [
              0.8888888888888888,
              "#fdca26"
             ],
             [
              1,
              "#f0f921"
             ]
            ],
            "type": "surface"
           }
          ],
          "table": [
           {
            "cells": {
             "fill": {
              "color": "#EBF0F8"
             },
             "line": {
              "color": "white"
             }
            },
            "header": {
             "fill": {
              "color": "#C8D4E3"
             },
             "line": {
              "color": "white"
             }
            },
            "type": "table"
           }
          ]
         },
         "layout": {
          "annotationdefaults": {
           "arrowcolor": "#2a3f5f",
           "arrowhead": 0,
           "arrowwidth": 1
          },
          "autotypenumbers": "strict",
          "coloraxis": {
           "colorbar": {
            "outlinewidth": 0,
            "ticks": ""
           }
          },
          "colorscale": {
           "diverging": [
            [
             0,
             "#8e0152"
            ],
            [
             0.1,
             "#c51b7d"
            ],
            [
             0.2,
             "#de77ae"
            ],
            [
             0.3,
             "#f1b6da"
            ],
            [
             0.4,
             "#fde0ef"
            ],
            [
             0.5,
             "#f7f7f7"
            ],
            [
             0.6,
             "#e6f5d0"
            ],
            [
             0.7,
             "#b8e186"
            ],
            [
             0.8,
             "#7fbc41"
            ],
            [
             0.9,
             "#4d9221"
            ],
            [
             1,
             "#276419"
            ]
           ],
           "sequential": [
            [
             0,
             "#0d0887"
            ],
            [
             0.1111111111111111,
             "#46039f"
            ],
            [
             0.2222222222222222,
             "#7201a8"
            ],
            [
             0.3333333333333333,
             "#9c179e"
            ],
            [
             0.4444444444444444,
             "#bd3786"
            ],
            [
             0.5555555555555556,
             "#d8576b"
            ],
            [
             0.6666666666666666,
             "#ed7953"
            ],
            [
             0.7777777777777778,
             "#fb9f3a"
            ],
            [
             0.8888888888888888,
             "#fdca26"
            ],
            [
             1,
             "#f0f921"
            ]
           ],
           "sequentialminus": [
            [
             0,
             "#0d0887"
            ],
            [
             0.1111111111111111,
             "#46039f"
            ],
            [
             0.2222222222222222,
             "#7201a8"
            ],
            [
             0.3333333333333333,
             "#9c179e"
            ],
            [
             0.4444444444444444,
             "#bd3786"
            ],
            [
             0.5555555555555556,
             "#d8576b"
            ],
            [
             0.6666666666666666,
             "#ed7953"
            ],
            [
             0.7777777777777778,
             "#fb9f3a"
            ],
            [
             0.8888888888888888,
             "#fdca26"
            ],
            [
             1,
             "#f0f921"
            ]
           ]
          },
          "colorway": [
           "#636efa",
           "#EF553B",
           "#00cc96",
           "#ab63fa",
           "#FFA15A",
           "#19d3f3",
           "#FF6692",
           "#B6E880",
           "#FF97FF",
           "#FECB52"
          ],
          "font": {
           "color": "#2a3f5f"
          },
          "geo": {
           "bgcolor": "white",
           "lakecolor": "white",
           "landcolor": "#E5ECF6",
           "showlakes": true,
           "showland": true,
           "subunitcolor": "white"
          },
          "hoverlabel": {
           "align": "left"
          },
          "hovermode": "closest",
          "mapbox": {
           "style": "light"
          },
          "paper_bgcolor": "white",
          "plot_bgcolor": "#E5ECF6",
          "polar": {
           "angularaxis": {
            "gridcolor": "white",
            "linecolor": "white",
            "ticks": ""
           },
           "bgcolor": "#E5ECF6",
           "radialaxis": {
            "gridcolor": "white",
            "linecolor": "white",
            "ticks": ""
           }
          },
          "scene": {
           "xaxis": {
            "backgroundcolor": "#E5ECF6",
            "gridcolor": "white",
            "gridwidth": 2,
            "linecolor": "white",
            "showbackground": true,
            "ticks": "",
            "zerolinecolor": "white"
           },
           "yaxis": {
            "backgroundcolor": "#E5ECF6",
            "gridcolor": "white",
            "gridwidth": 2,
            "linecolor": "white",
            "showbackground": true,
            "ticks": "",
            "zerolinecolor": "white"
           },
           "zaxis": {
            "backgroundcolor": "#E5ECF6",
            "gridcolor": "white",
            "gridwidth": 2,
            "linecolor": "white",
            "showbackground": true,
            "ticks": "",
            "zerolinecolor": "white"
           }
          },
          "shapedefaults": {
           "line": {
            "color": "#2a3f5f"
           }
          },
          "ternary": {
           "aaxis": {
            "gridcolor": "white",
            "linecolor": "white",
            "ticks": ""
           },
           "baxis": {
            "gridcolor": "white",
            "linecolor": "white",
            "ticks": ""
           },
           "bgcolor": "#E5ECF6",
           "caxis": {
            "gridcolor": "white",
            "linecolor": "white",
            "ticks": ""
           }
          },
          "title": {
           "x": 0.05
          },
          "xaxis": {
           "automargin": true,
           "gridcolor": "white",
           "linecolor": "white",
           "ticks": "",
           "title": {
            "standoff": 15
           },
           "zerolinecolor": "white",
           "zerolinewidth": 2
          },
          "yaxis": {
           "automargin": true,
           "gridcolor": "white",
           "linecolor": "white",
           "ticks": "",
           "title": {
            "standoff": 15
           },
           "zerolinecolor": "white",
           "zerolinewidth": 2
          }
         }
        },
        "title": {
         "text": "Sales by Outlet Location Type"
        },
        "width": 800,
        "xaxis": {
         "anchor": "y",
         "domain": [
          0,
          1
         ],
         "title": {
          "text": "Outlet Location Type"
         }
        },
        "yaxis": {
         "anchor": "x",
         "domain": [
          0,
          1
         ],
         "title": {
          "text": "Total Sales"
         }
        }
       }
      }
     },
     "metadata": {},
     "output_type": "display_data"
    }
   ],
   "source": [
    "import pandas as pd\n",
    "import plotly.express as px\n",
    "\n",
    "# Sample data (replace with your actual dataset)\n",
    "data = {\n",
    "    'Outlet Location Type': ['Urban', 'Suburban', 'Rural'],\n",
    "    'Sales': [250000, 150000, 80000]\n",
    "}\n",
    "location_sales = pd.DataFrame(data)\n",
    "\n",
    "# Define tiers based on sales\n",
    "def assign_tier(sales):\n",
    "    if sales > 200000:\n",
    "        return 'High Tier'\n",
    "    elif 100000 <= sales <= 200000:\n",
    "        return 'Mid Tier'\n",
    "    else:\n",
    "        return 'Low Tier'\n",
    "\n",
    "location_sales['Tier'] = location_sales['Sales'].apply(assign_tier)\n",
    "\n",
    "# Create the plot using Plotly Express with color coding\n",
    "fig = px.bar(location_sales, \n",
    "            x='Outlet Location Type', \n",
    "            y='Sales', \n",
    "            color='Tier',  # Color based on tiers\n",
    "            title='Sales by Outlet Location Type',\n",
    "            labels={'Sales': 'Total Sales', 'Outlet Location Type': 'Outlet Location Type'},\n",
    "            width=800, height=500)\n",
    "\n",
    "# Show the plot\n",
    "fig.show()\n"
   ]
  },
  {
   "cell_type": "code",
   "execution_count": null,
   "metadata": {},
   "outputs": [
    {
     "data": {
      "application/vnd.plotly.v1+json": {
       "config": {
        "plotlyServerURL": "https://plot.ly"
       },
       "data": [
        {
         "alignmentgroup": "True",
         "hovertemplate": "Outlet Location Type=%{x}<br>Percentage (%)=%{y}<extra></extra>",
         "legendgroup": "Urban",
         "marker": {
          "color": "#636efa",
          "pattern": {
           "shape": ""
          }
         },
         "name": "Urban",
         "offsetgroup": "Urban",
         "orientation": "v",
         "showlegend": true,
         "textposition": "auto",
         "type": "bar",
         "x": [
          "Urban"
         ],
         "xaxis": "x",
         "y": [
          39
         ],
         "yaxis": "y"
        },
        {
         "alignmentgroup": "True",
         "hovertemplate": "Outlet Location Type=%{x}<br>Percentage (%)=%{y}<extra></extra>",
         "legendgroup": "Suburban",
         "marker": {
          "color": "#EF553B",
          "pattern": {
           "shape": ""
          }
         },
         "name": "Suburban",
         "offsetgroup": "Suburban",
         "orientation": "v",
         "showlegend": true,
         "textposition": "auto",
         "type": "bar",
         "x": [
          "Suburban"
         ],
         "xaxis": "x",
         "y": [
          33
         ],
         "yaxis": "y"
        },
        {
         "alignmentgroup": "True",
         "hovertemplate": "Outlet Location Type=%{x}<br>Percentage (%)=%{y}<extra></extra>",
         "legendgroup": "Rural",
         "marker": {
          "color": "#00cc96",
          "pattern": {
           "shape": ""
          }
         },
         "name": "Rural",
         "offsetgroup": "Rural",
         "orientation": "v",
         "showlegend": true,
         "textposition": "auto",
         "type": "bar",
         "x": [
          "Rural"
         ],
         "xaxis": "x",
         "y": [
          28
         ],
         "yaxis": "y"
        }
       ],
       "layout": {
        "barmode": "relative",
        "font": {
         "size": 14
        },
        "height": 500,
        "legend": {
         "title": {
          "text": "Outlet Location Type"
         },
         "tracegroupgap": 0
        },
        "paper_bgcolor": "white",
        "template": {
         "data": {
          "bar": [
           {
            "error_x": {
             "color": "#2a3f5f"
            },
            "error_y": {
             "color": "#2a3f5f"
            },
            "marker": {
             "line": {
              "color": "white",
              "width": 0.5
             },
             "pattern": {
              "fillmode": "overlay",
              "size": 10,
              "solidity": 0.2
             }
            },
            "type": "bar"
           }
          ],
          "barpolar": [
           {
            "marker": {
             "line": {
              "color": "white",
              "width": 0.5
             },
             "pattern": {
              "fillmode": "overlay",
              "size": 10,
              "solidity": 0.2
             }
            },
            "type": "barpolar"
           }
          ],
          "carpet": [
           {
            "aaxis": {
             "endlinecolor": "#2a3f5f",
             "gridcolor": "#C8D4E3",
             "linecolor": "#C8D4E3",
             "minorgridcolor": "#C8D4E3",
             "startlinecolor": "#2a3f5f"
            },
            "baxis": {
             "endlinecolor": "#2a3f5f",
             "gridcolor": "#C8D4E3",
             "linecolor": "#C8D4E3",
             "minorgridcolor": "#C8D4E3",
             "startlinecolor": "#2a3f5f"
            },
            "type": "carpet"
           }
          ],
          "choropleth": [
           {
            "colorbar": {
             "outlinewidth": 0,
             "ticks": ""
            },
            "type": "choropleth"
           }
          ],
          "contour": [
           {
            "colorbar": {
             "outlinewidth": 0,
             "ticks": ""
            },
            "colorscale": [
             [
              0,
              "#0d0887"
             ],
             [
              0.1111111111111111,
              "#46039f"
             ],
             [
              0.2222222222222222,
              "#7201a8"
             ],
             [
              0.3333333333333333,
              "#9c179e"
             ],
             [
              0.4444444444444444,
              "#bd3786"
             ],
             [
              0.5555555555555556,
              "#d8576b"
             ],
             [
              0.6666666666666666,
              "#ed7953"
             ],
             [
              0.7777777777777778,
              "#fb9f3a"
             ],
             [
              0.8888888888888888,
              "#fdca26"
             ],
             [
              1,
              "#f0f921"
             ]
            ],
            "type": "contour"
           }
          ],
          "contourcarpet": [
           {
            "colorbar": {
             "outlinewidth": 0,
             "ticks": ""
            },
            "type": "contourcarpet"
           }
          ],
          "heatmap": [
           {
            "colorbar": {
             "outlinewidth": 0,
             "ticks": ""
            },
            "colorscale": [
             [
              0,
              "#0d0887"
             ],
             [
              0.1111111111111111,
              "#46039f"
             ],
             [
              0.2222222222222222,
              "#7201a8"
             ],
             [
              0.3333333333333333,
              "#9c179e"
             ],
             [
              0.4444444444444444,
              "#bd3786"
             ],
             [
              0.5555555555555556,
              "#d8576b"
             ],
             [
              0.6666666666666666,
              "#ed7953"
             ],
             [
              0.7777777777777778,
              "#fb9f3a"
             ],
             [
              0.8888888888888888,
              "#fdca26"
             ],
             [
              1,
              "#f0f921"
             ]
            ],
            "type": "heatmap"
           }
          ],
          "heatmapgl": [
           {
            "colorbar": {
             "outlinewidth": 0,
             "ticks": ""
            },
            "colorscale": [
             [
              0,
              "#0d0887"
             ],
             [
              0.1111111111111111,
              "#46039f"
             ],
             [
              0.2222222222222222,
              "#7201a8"
             ],
             [
              0.3333333333333333,
              "#9c179e"
             ],
             [
              0.4444444444444444,
              "#bd3786"
             ],
             [
              0.5555555555555556,
              "#d8576b"
             ],
             [
              0.6666666666666666,
              "#ed7953"
             ],
             [
              0.7777777777777778,
              "#fb9f3a"
             ],
             [
              0.8888888888888888,
              "#fdca26"
             ],
             [
              1,
              "#f0f921"
             ]
            ],
            "type": "heatmapgl"
           }
          ],
          "histogram": [
           {
            "marker": {
             "pattern": {
              "fillmode": "overlay",
              "size": 10,
              "solidity": 0.2
             }
            },
            "type": "histogram"
           }
          ],
          "histogram2d": [
           {
            "colorbar": {
             "outlinewidth": 0,
             "ticks": ""
            },
            "colorscale": [
             [
              0,
              "#0d0887"
             ],
             [
              0.1111111111111111,
              "#46039f"
             ],
             [
              0.2222222222222222,
              "#7201a8"
             ],
             [
              0.3333333333333333,
              "#9c179e"
             ],
             [
              0.4444444444444444,
              "#bd3786"
             ],
             [
              0.5555555555555556,
              "#d8576b"
             ],
             [
              0.6666666666666666,
              "#ed7953"
             ],
             [
              0.7777777777777778,
              "#fb9f3a"
             ],
             [
              0.8888888888888888,
              "#fdca26"
             ],
             [
              1,
              "#f0f921"
             ]
            ],
            "type": "histogram2d"
           }
          ],
          "histogram2dcontour": [
           {
            "colorbar": {
             "outlinewidth": 0,
             "ticks": ""
            },
            "colorscale": [
             [
              0,
              "#0d0887"
             ],
             [
              0.1111111111111111,
              "#46039f"
             ],
             [
              0.2222222222222222,
              "#7201a8"
             ],
             [
              0.3333333333333333,
              "#9c179e"
             ],
             [
              0.4444444444444444,
              "#bd3786"
             ],
             [
              0.5555555555555556,
              "#d8576b"
             ],
             [
              0.6666666666666666,
              "#ed7953"
             ],
             [
              0.7777777777777778,
              "#fb9f3a"
             ],
             [
              0.8888888888888888,
              "#fdca26"
             ],
             [
              1,
              "#f0f921"
             ]
            ],
            "type": "histogram2dcontour"
           }
          ],
          "mesh3d": [
           {
            "colorbar": {
             "outlinewidth": 0,
             "ticks": ""
            },
            "type": "mesh3d"
           }
          ],
          "parcoords": [
           {
            "line": {
             "colorbar": {
              "outlinewidth": 0,
              "ticks": ""
             }
            },
            "type": "parcoords"
           }
          ],
          "pie": [
           {
            "automargin": true,
            "type": "pie"
           }
          ],
          "scatter": [
           {
            "fillpattern": {
             "fillmode": "overlay",
             "size": 10,
             "solidity": 0.2
            },
            "type": "scatter"
           }
          ],
          "scatter3d": [
           {
            "line": {
             "colorbar": {
              "outlinewidth": 0,
              "ticks": ""
             }
            },
            "marker": {
             "colorbar": {
              "outlinewidth": 0,
              "ticks": ""
             }
            },
            "type": "scatter3d"
           }
          ],
          "scattercarpet": [
           {
            "marker": {
             "colorbar": {
              "outlinewidth": 0,
              "ticks": ""
             }
            },
            "type": "scattercarpet"
           }
          ],
          "scattergeo": [
           {
            "marker": {
             "colorbar": {
              "outlinewidth": 0,
              "ticks": ""
             }
            },
            "type": "scattergeo"
           }
          ],
          "scattergl": [
           {
            "marker": {
             "colorbar": {
              "outlinewidth": 0,
              "ticks": ""
             }
            },
            "type": "scattergl"
           }
          ],
          "scattermapbox": [
           {
            "marker": {
             "colorbar": {
              "outlinewidth": 0,
              "ticks": ""
             }
            },
            "type": "scattermapbox"
           }
          ],
          "scatterpolar": [
           {
            "marker": {
             "colorbar": {
              "outlinewidth": 0,
              "ticks": ""
             }
            },
            "type": "scatterpolar"
           }
          ],
          "scatterpolargl": [
           {
            "marker": {
             "colorbar": {
              "outlinewidth": 0,
              "ticks": ""
             }
            },
            "type": "scatterpolargl"
           }
          ],
          "scatterternary": [
           {
            "marker": {
             "colorbar": {
              "outlinewidth": 0,
              "ticks": ""
             }
            },
            "type": "scatterternary"
           }
          ],
          "surface": [
           {
            "colorbar": {
             "outlinewidth": 0,
             "ticks": ""
            },
            "colorscale": [
             [
              0,
              "#0d0887"
             ],
             [
              0.1111111111111111,
              "#46039f"
             ],
             [
              0.2222222222222222,
              "#7201a8"
             ],
             [
              0.3333333333333333,
              "#9c179e"
             ],
             [
              0.4444444444444444,
              "#bd3786"
             ],
             [
              0.5555555555555556,
              "#d8576b"
             ],
             [
              0.6666666666666666,
              "#ed7953"
             ],
             [
              0.7777777777777778,
              "#fb9f3a"
             ],
             [
              0.8888888888888888,
              "#fdca26"
             ],
             [
              1,
              "#f0f921"
             ]
            ],
            "type": "surface"
           }
          ],
          "table": [
           {
            "cells": {
             "fill": {
              "color": "#EBF0F8"
             },
             "line": {
              "color": "white"
             }
            },
            "header": {
             "fill": {
              "color": "#C8D4E3"
             },
             "line": {
              "color": "white"
             }
            },
            "type": "table"
           }
          ]
         },
         "layout": {
          "annotationdefaults": {
           "arrowcolor": "#2a3f5f",
           "arrowhead": 0,
           "arrowwidth": 1
          },
          "autotypenumbers": "strict",
          "coloraxis": {
           "colorbar": {
            "outlinewidth": 0,
            "ticks": ""
           }
          },
          "colorscale": {
           "diverging": [
            [
             0,
             "#8e0152"
            ],
            [
             0.1,
             "#c51b7d"
            ],
            [
             0.2,
             "#de77ae"
            ],
            [
             0.3,
             "#f1b6da"
            ],
            [
             0.4,
             "#fde0ef"
            ],
            [
             0.5,
             "#f7f7f7"
            ],
            [
             0.6,
             "#e6f5d0"
            ],
            [
             0.7,
             "#b8e186"
            ],
            [
             0.8,
             "#7fbc41"
            ],
            [
             0.9,
             "#4d9221"
            ],
            [
             1,
             "#276419"
            ]
           ],
           "sequential": [
            [
             0,
             "#0d0887"
            ],
            [
             0.1111111111111111,
             "#46039f"
            ],
            [
             0.2222222222222222,
             "#7201a8"
            ],
            [
             0.3333333333333333,
             "#9c179e"
            ],
            [
             0.4444444444444444,
             "#bd3786"
            ],
            [
             0.5555555555555556,
             "#d8576b"
            ],
            [
             0.6666666666666666,
             "#ed7953"
            ],
            [
             0.7777777777777778,
             "#fb9f3a"
            ],
            [
             0.8888888888888888,
             "#fdca26"
            ],
            [
             1,
             "#f0f921"
            ]
           ],
           "sequentialminus": [
            [
             0,
             "#0d0887"
            ],
            [
             0.1111111111111111,
             "#46039f"
            ],
            [
             0.2222222222222222,
             "#7201a8"
            ],
            [
             0.3333333333333333,
             "#9c179e"
            ],
            [
             0.4444444444444444,
             "#bd3786"
            ],
            [
             0.5555555555555556,
             "#d8576b"
            ],
            [
             0.6666666666666666,
             "#ed7953"
            ],
            [
             0.7777777777777778,
             "#fb9f3a"
            ],
            [
             0.8888888888888888,
             "#fdca26"
            ],
            [
             1,
             "#f0f921"
            ]
           ]
          },
          "colorway": [
           "#636efa",
           "#EF553B",
           "#00cc96",
           "#ab63fa",
           "#FFA15A",
           "#19d3f3",
           "#FF6692",
           "#B6E880",
           "#FF97FF",
           "#FECB52"
          ],
          "font": {
           "color": "#2a3f5f"
          },
          "geo": {
           "bgcolor": "white",
           "lakecolor": "white",
           "landcolor": "white",
           "showlakes": true,
           "showland": true,
           "subunitcolor": "#C8D4E3"
          },
          "hoverlabel": {
           "align": "left"
          },
          "hovermode": "closest",
          "mapbox": {
           "style": "light"
          },
          "paper_bgcolor": "white",
          "plot_bgcolor": "white",
          "polar": {
           "angularaxis": {
            "gridcolor": "#EBF0F8",
            "linecolor": "#EBF0F8",
            "ticks": ""
           },
           "bgcolor": "white",
           "radialaxis": {
            "gridcolor": "#EBF0F8",
            "linecolor": "#EBF0F8",
            "ticks": ""
           }
          },
          "scene": {
           "xaxis": {
            "backgroundcolor": "white",
            "gridcolor": "#DFE8F3",
            "gridwidth": 2,
            "linecolor": "#EBF0F8",
            "showbackground": true,
            "ticks": "",
            "zerolinecolor": "#EBF0F8"
           },
           "yaxis": {
            "backgroundcolor": "white",
            "gridcolor": "#DFE8F3",
            "gridwidth": 2,
            "linecolor": "#EBF0F8",
            "showbackground": true,
            "ticks": "",
            "zerolinecolor": "#EBF0F8"
           },
           "zaxis": {
            "backgroundcolor": "white",
            "gridcolor": "#DFE8F3",
            "gridwidth": 2,
            "linecolor": "#EBF0F8",
            "showbackground": true,
            "ticks": "",
            "zerolinecolor": "#EBF0F8"
           }
          },
          "shapedefaults": {
           "line": {
            "color": "#2a3f5f"
           }
          },
          "ternary": {
           "aaxis": {
            "gridcolor": "#DFE8F3",
            "linecolor": "#A2B1C6",
            "ticks": ""
           },
           "baxis": {
            "gridcolor": "#DFE8F3",
            "linecolor": "#A2B1C6",
            "ticks": ""
           },
           "bgcolor": "white",
           "caxis": {
            "gridcolor": "#DFE8F3",
            "linecolor": "#A2B1C6",
            "ticks": ""
           }
          },
          "title": {
           "x": 0.05
          },
          "xaxis": {
           "automargin": true,
           "gridcolor": "#EBF0F8",
           "linecolor": "#EBF0F8",
           "ticks": "",
           "title": {
            "standoff": 15
           },
           "zerolinecolor": "#EBF0F8",
           "zerolinewidth": 2
          },
          "yaxis": {
           "automargin": true,
           "gridcolor": "#EBF0F8",
           "linecolor": "#EBF0F8",
           "ticks": "",
           "title": {
            "standoff": 15
           },
           "zerolinecolor": "#EBF0F8",
           "zerolinewidth": 2
          }
         }
        },
        "title": {
         "text": "Distribution of Outlet Location Types",
         "x": 0.5
        },
        "width": 800,
        "xaxis": {
         "anchor": "y",
         "categoryarray": [
          "Urban",
          "Suburban",
          "Rural"
         ],
         "categoryorder": "array",
         "domain": [
          0,
          1
         ],
         "title": {
          "text": "Outlet Location Type"
         }
        },
        "yaxis": {
         "anchor": "x",
         "domain": [
          0,
          1
         ],
         "title": {
          "text": "Percentage (%)"
         }
        }
       }
      }
     },
     "metadata": {},
     "output_type": "display_data"
    }
   ],
   "source": [
    "import pandas as pd\n",
    "import plotly.express as px\n",
    "\n",
    "# Data for outlet location type distribution\n",
    "data = {\n",
    "    'Outlet Location Type': ['Urban', 'Suburban', 'Rural'],\n",
    "    'Percentage': [39, 33, 28]  # Given percentages for each location type\n",
    "}\n",
    "\n",
    "# Create a DataFrame\n",
    "outlet_location_distribution = pd.DataFrame(data)\n",
    "\n",
    "# Create the bar chart\n",
    "fig = px.bar(\n",
    "    outlet_location_distribution,\n",
    "    x='Outlet Location Type',\n",
    "    y='Percentage',\n",
    "    title='Distribution of Outlet Location Types',\n",
    "    labels={'Percentage': 'Percentage (%)', 'Outlet Location Type': 'Outlet Location Type'},\n",
    "    color='Outlet Location Type',  # Color differentiation by outlet type\n",
    "    width=800, height=500\n",
    ")\n",
    "\n",
    "# Update layout for better aesthetics\n",
    "fig.update_layout(\n",
    "    template='plotly_white',\n",
    "    paper_bgcolor='white',\n",
    "    font=dict(size=14),\n",
    "    title_x=0.5,  # Center the title\n",
    ")\n",
    "\n",
    "# Show the plot\n",
    "fig.show()\n"
   ]
  },
  {
   "cell_type": "code",
   "execution_count": null,
   "metadata": {},
   "outputs": [
    {
     "data": {
      "application/vnd.plotly.v1+json": {
       "config": {
        "plotlyServerURL": "https://plot.ly"
       },
       "data": [
        {
         "customdata": [
          [
           "Supermarket "
          ],
          [
           "Grocery Store"
          ],
          [
           "Other"
          ]
         ],
         "domain": {
          "x": [
           0,
           1
          ],
          "y": [
           0,
           1
          ]
         },
         "hovertemplate": "Outlet Type=%{customdata[0]}<br>Percentage=%{value}<extra></extra>",
         "labels": [
          "Supermarket ",
          "Grocery Store",
          "Other"
         ],
         "legendgroup": "",
         "marker": {
          "colors": [
           "blue",
           "orange",
           "green"
          ]
         },
         "name": "",
         "pull": [
          0.1,
          0,
          0
         ],
         "showlegend": true,
         "textinfo": "percent+label",
         "textposition": "inside",
         "type": "pie",
         "values": [
          65,
          13,
          22
         ]
        }
       ],
       "layout": {
        "font": {
         "size": 14
        },
        "height": 500,
        "legend": {
         "tracegroupgap": 0
        },
        "paper_bgcolor": "white",
        "template": {
         "data": {
          "bar": [
           {
            "error_x": {
             "color": "#2a3f5f"
            },
            "error_y": {
             "color": "#2a3f5f"
            },
            "marker": {
             "line": {
              "color": "white",
              "width": 0.5
             },
             "pattern": {
              "fillmode": "overlay",
              "size": 10,
              "solidity": 0.2
             }
            },
            "type": "bar"
           }
          ],
          "barpolar": [
           {
            "marker": {
             "line": {
              "color": "white",
              "width": 0.5
             },
             "pattern": {
              "fillmode": "overlay",
              "size": 10,
              "solidity": 0.2
             }
            },
            "type": "barpolar"
           }
          ],
          "carpet": [
           {
            "aaxis": {
             "endlinecolor": "#2a3f5f",
             "gridcolor": "#C8D4E3",
             "linecolor": "#C8D4E3",
             "minorgridcolor": "#C8D4E3",
             "startlinecolor": "#2a3f5f"
            },
            "baxis": {
             "endlinecolor": "#2a3f5f",
             "gridcolor": "#C8D4E3",
             "linecolor": "#C8D4E3",
             "minorgridcolor": "#C8D4E3",
             "startlinecolor": "#2a3f5f"
            },
            "type": "carpet"
           }
          ],
          "choropleth": [
           {
            "colorbar": {
             "outlinewidth": 0,
             "ticks": ""
            },
            "type": "choropleth"
           }
          ],
          "contour": [
           {
            "colorbar": {
             "outlinewidth": 0,
             "ticks": ""
            },
            "colorscale": [
             [
              0,
              "#0d0887"
             ],
             [
              0.1111111111111111,
              "#46039f"
             ],
             [
              0.2222222222222222,
              "#7201a8"
             ],
             [
              0.3333333333333333,
              "#9c179e"
             ],
             [
              0.4444444444444444,
              "#bd3786"
             ],
             [
              0.5555555555555556,
              "#d8576b"
             ],
             [
              0.6666666666666666,
              "#ed7953"
             ],
             [
              0.7777777777777778,
              "#fb9f3a"
             ],
             [
              0.8888888888888888,
              "#fdca26"
             ],
             [
              1,
              "#f0f921"
             ]
            ],
            "type": "contour"
           }
          ],
          "contourcarpet": [
           {
            "colorbar": {
             "outlinewidth": 0,
             "ticks": ""
            },
            "type": "contourcarpet"
           }
          ],
          "heatmap": [
           {
            "colorbar": {
             "outlinewidth": 0,
             "ticks": ""
            },
            "colorscale": [
             [
              0,
              "#0d0887"
             ],
             [
              0.1111111111111111,
              "#46039f"
             ],
             [
              0.2222222222222222,
              "#7201a8"
             ],
             [
              0.3333333333333333,
              "#9c179e"
             ],
             [
              0.4444444444444444,
              "#bd3786"
             ],
             [
              0.5555555555555556,
              "#d8576b"
             ],
             [
              0.6666666666666666,
              "#ed7953"
             ],
             [
              0.7777777777777778,
              "#fb9f3a"
             ],
             [
              0.8888888888888888,
              "#fdca26"
             ],
             [
              1,
              "#f0f921"
             ]
            ],
            "type": "heatmap"
           }
          ],
          "heatmapgl": [
           {
            "colorbar": {
             "outlinewidth": 0,
             "ticks": ""
            },
            "colorscale": [
             [
              0,
              "#0d0887"
             ],
             [
              0.1111111111111111,
              "#46039f"
             ],
             [
              0.2222222222222222,
              "#7201a8"
             ],
             [
              0.3333333333333333,
              "#9c179e"
             ],
             [
              0.4444444444444444,
              "#bd3786"
             ],
             [
              0.5555555555555556,
              "#d8576b"
             ],
             [
              0.6666666666666666,
              "#ed7953"
             ],
             [
              0.7777777777777778,
              "#fb9f3a"
             ],
             [
              0.8888888888888888,
              "#fdca26"
             ],
             [
              1,
              "#f0f921"
             ]
            ],
            "type": "heatmapgl"
           }
          ],
          "histogram": [
           {
            "marker": {
             "pattern": {
              "fillmode": "overlay",
              "size": 10,
              "solidity": 0.2
             }
            },
            "type": "histogram"
           }
          ],
          "histogram2d": [
           {
            "colorbar": {
             "outlinewidth": 0,
             "ticks": ""
            },
            "colorscale": [
             [
              0,
              "#0d0887"
             ],
             [
              0.1111111111111111,
              "#46039f"
             ],
             [
              0.2222222222222222,
              "#7201a8"
             ],
             [
              0.3333333333333333,
              "#9c179e"
             ],
             [
              0.4444444444444444,
              "#bd3786"
             ],
             [
              0.5555555555555556,
              "#d8576b"
             ],
             [
              0.6666666666666666,
              "#ed7953"
             ],
             [
              0.7777777777777778,
              "#fb9f3a"
             ],
             [
              0.8888888888888888,
              "#fdca26"
             ],
             [
              1,
              "#f0f921"
             ]
            ],
            "type": "histogram2d"
           }
          ],
          "histogram2dcontour": [
           {
            "colorbar": {
             "outlinewidth": 0,
             "ticks": ""
            },
            "colorscale": [
             [
              0,
              "#0d0887"
             ],
             [
              0.1111111111111111,
              "#46039f"
             ],
             [
              0.2222222222222222,
              "#7201a8"
             ],
             [
              0.3333333333333333,
              "#9c179e"
             ],
             [
              0.4444444444444444,
              "#bd3786"
             ],
             [
              0.5555555555555556,
              "#d8576b"
             ],
             [
              0.6666666666666666,
              "#ed7953"
             ],
             [
              0.7777777777777778,
              "#fb9f3a"
             ],
             [
              0.8888888888888888,
              "#fdca26"
             ],
             [
              1,
              "#f0f921"
             ]
            ],
            "type": "histogram2dcontour"
           }
          ],
          "mesh3d": [
           {
            "colorbar": {
             "outlinewidth": 0,
             "ticks": ""
            },
            "type": "mesh3d"
           }
          ],
          "parcoords": [
           {
            "line": {
             "colorbar": {
              "outlinewidth": 0,
              "ticks": ""
             }
            },
            "type": "parcoords"
           }
          ],
          "pie": [
           {
            "automargin": true,
            "type": "pie"
           }
          ],
          "scatter": [
           {
            "fillpattern": {
             "fillmode": "overlay",
             "size": 10,
             "solidity": 0.2
            },
            "type": "scatter"
           }
          ],
          "scatter3d": [
           {
            "line": {
             "colorbar": {
              "outlinewidth": 0,
              "ticks": ""
             }
            },
            "marker": {
             "colorbar": {
              "outlinewidth": 0,
              "ticks": ""
             }
            },
            "type": "scatter3d"
           }
          ],
          "scattercarpet": [
           {
            "marker": {
             "colorbar": {
              "outlinewidth": 0,
              "ticks": ""
             }
            },
            "type": "scattercarpet"
           }
          ],
          "scattergeo": [
           {
            "marker": {
             "colorbar": {
              "outlinewidth": 0,
              "ticks": ""
             }
            },
            "type": "scattergeo"
           }
          ],
          "scattergl": [
           {
            "marker": {
             "colorbar": {
              "outlinewidth": 0,
              "ticks": ""
             }
            },
            "type": "scattergl"
           }
          ],
          "scattermapbox": [
           {
            "marker": {
             "colorbar": {
              "outlinewidth": 0,
              "ticks": ""
             }
            },
            "type": "scattermapbox"
           }
          ],
          "scatterpolar": [
           {
            "marker": {
             "colorbar": {
              "outlinewidth": 0,
              "ticks": ""
             }
            },
            "type": "scatterpolar"
           }
          ],
          "scatterpolargl": [
           {
            "marker": {
             "colorbar": {
              "outlinewidth": 0,
              "ticks": ""
             }
            },
            "type": "scatterpolargl"
           }
          ],
          "scatterternary": [
           {
            "marker": {
             "colorbar": {
              "outlinewidth": 0,
              "ticks": ""
             }
            },
            "type": "scatterternary"
           }
          ],
          "surface": [
           {
            "colorbar": {
             "outlinewidth": 0,
             "ticks": ""
            },
            "colorscale": [
             [
              0,
              "#0d0887"
             ],
             [
              0.1111111111111111,
              "#46039f"
             ],
             [
              0.2222222222222222,
              "#7201a8"
             ],
             [
              0.3333333333333333,
              "#9c179e"
             ],
             [
              0.4444444444444444,
              "#bd3786"
             ],
             [
              0.5555555555555556,
              "#d8576b"
             ],
             [
              0.6666666666666666,
              "#ed7953"
             ],
             [
              0.7777777777777778,
              "#fb9f3a"
             ],
             [
              0.8888888888888888,
              "#fdca26"
             ],
             [
              1,
              "#f0f921"
             ]
            ],
            "type": "surface"
           }
          ],
          "table": [
           {
            "cells": {
             "fill": {
              "color": "#EBF0F8"
             },
             "line": {
              "color": "white"
             }
            },
            "header": {
             "fill": {
              "color": "#C8D4E3"
             },
             "line": {
              "color": "white"
             }
            },
            "type": "table"
           }
          ]
         },
         "layout": {
          "annotationdefaults": {
           "arrowcolor": "#2a3f5f",
           "arrowhead": 0,
           "arrowwidth": 1
          },
          "autotypenumbers": "strict",
          "coloraxis": {
           "colorbar": {
            "outlinewidth": 0,
            "ticks": ""
           }
          },
          "colorscale": {
           "diverging": [
            [
             0,
             "#8e0152"
            ],
            [
             0.1,
             "#c51b7d"
            ],
            [
             0.2,
             "#de77ae"
            ],
            [
             0.3,
             "#f1b6da"
            ],
            [
             0.4,
             "#fde0ef"
            ],
            [
             0.5,
             "#f7f7f7"
            ],
            [
             0.6,
             "#e6f5d0"
            ],
            [
             0.7,
             "#b8e186"
            ],
            [
             0.8,
             "#7fbc41"
            ],
            [
             0.9,
             "#4d9221"
            ],
            [
             1,
             "#276419"
            ]
           ],
           "sequential": [
            [
             0,
             "#0d0887"
            ],
            [
             0.1111111111111111,
             "#46039f"
            ],
            [
             0.2222222222222222,
             "#7201a8"
            ],
            [
             0.3333333333333333,
             "#9c179e"
            ],
            [
             0.4444444444444444,
             "#bd3786"
            ],
            [
             0.5555555555555556,
             "#d8576b"
            ],
            [
             0.6666666666666666,
             "#ed7953"
            ],
            [
             0.7777777777777778,
             "#fb9f3a"
            ],
            [
             0.8888888888888888,
             "#fdca26"
            ],
            [
             1,
             "#f0f921"
            ]
           ],
           "sequentialminus": [
            [
             0,
             "#0d0887"
            ],
            [
             0.1111111111111111,
             "#46039f"
            ],
            [
             0.2222222222222222,
             "#7201a8"
            ],
            [
             0.3333333333333333,
             "#9c179e"
            ],
            [
             0.4444444444444444,
             "#bd3786"
            ],
            [
             0.5555555555555556,
             "#d8576b"
            ],
            [
             0.6666666666666666,
             "#ed7953"
            ],
            [
             0.7777777777777778,
             "#fb9f3a"
            ],
            [
             0.8888888888888888,
             "#fdca26"
            ],
            [
             1,
             "#f0f921"
            ]
           ]
          },
          "colorway": [
           "#636efa",
           "#EF553B",
           "#00cc96",
           "#ab63fa",
           "#FFA15A",
           "#19d3f3",
           "#FF6692",
           "#B6E880",
           "#FF97FF",
           "#FECB52"
          ],
          "font": {
           "color": "#2a3f5f"
          },
          "geo": {
           "bgcolor": "white",
           "lakecolor": "white",
           "landcolor": "white",
           "showlakes": true,
           "showland": true,
           "subunitcolor": "#C8D4E3"
          },
          "hoverlabel": {
           "align": "left"
          },
          "hovermode": "closest",
          "mapbox": {
           "style": "light"
          },
          "paper_bgcolor": "white",
          "plot_bgcolor": "white",
          "polar": {
           "angularaxis": {
            "gridcolor": "#EBF0F8",
            "linecolor": "#EBF0F8",
            "ticks": ""
           },
           "bgcolor": "white",
           "radialaxis": {
            "gridcolor": "#EBF0F8",
            "linecolor": "#EBF0F8",
            "ticks": ""
           }
          },
          "scene": {
           "xaxis": {
            "backgroundcolor": "white",
            "gridcolor": "#DFE8F3",
            "gridwidth": 2,
            "linecolor": "#EBF0F8",
            "showbackground": true,
            "ticks": "",
            "zerolinecolor": "#EBF0F8"
           },
           "yaxis": {
            "backgroundcolor": "white",
            "gridcolor": "#DFE8F3",
            "gridwidth": 2,
            "linecolor": "#EBF0F8",
            "showbackground": true,
            "ticks": "",
            "zerolinecolor": "#EBF0F8"
           },
           "zaxis": {
            "backgroundcolor": "white",
            "gridcolor": "#DFE8F3",
            "gridwidth": 2,
            "linecolor": "#EBF0F8",
            "showbackground": true,
            "ticks": "",
            "zerolinecolor": "#EBF0F8"
           }
          },
          "shapedefaults": {
           "line": {
            "color": "#2a3f5f"
           }
          },
          "ternary": {
           "aaxis": {
            "gridcolor": "#DFE8F3",
            "linecolor": "#A2B1C6",
            "ticks": ""
           },
           "baxis": {
            "gridcolor": "#DFE8F3",
            "linecolor": "#A2B1C6",
            "ticks": ""
           },
           "bgcolor": "white",
           "caxis": {
            "gridcolor": "#DFE8F3",
            "linecolor": "#A2B1C6",
            "ticks": ""
           }
          },
          "title": {
           "x": 0.05
          },
          "xaxis": {
           "automargin": true,
           "gridcolor": "#EBF0F8",
           "linecolor": "#EBF0F8",
           "ticks": "",
           "title": {
            "standoff": 15
           },
           "zerolinecolor": "#EBF0F8",
           "zerolinewidth": 2
          },
          "yaxis": {
           "automargin": true,
           "gridcolor": "#EBF0F8",
           "linecolor": "#EBF0F8",
           "ticks": "",
           "title": {
            "standoff": 15
           },
           "zerolinecolor": "#EBF0F8",
           "zerolinewidth": 2
          }
         }
        },
        "title": {
         "text": "Outlet Type Distribution in Blinkit Dataset",
         "x": 0.5
        },
        "width": 700
       }
      }
     },
     "metadata": {},
     "output_type": "display_data"
    }
   ],
   "source": [
    "import plotly.express as px\n",
    "import pandas as pd\n",
    "\n",
    "# Data for Outlet Type distribution\n",
    "data = {\n",
    "    'Outlet Type': ['Supermarket ', 'Grocery Store', 'Other'],\n",
    "    'Percentage': [65, 13, 22]  # Provided percentages\n",
    "}\n",
    "\n",
    "# Create a DataFrame\n",
    "df = pd.DataFrame(data)\n",
    "\n",
    "# Create a pie chart\n",
    "fig = px.pie(\n",
    "    df,\n",
    "    names='Outlet Type',\n",
    "    values='Percentage',\n",
    "    title='Outlet Type Distribution ',\n",
    "    color='Outlet Type',  # Color differentiation by Outlet Type\n",
    "    color_discrete_map={\n",
    "        'Supermarket ': 'blue',\n",
    "        'Grocery Store': 'orange',\n",
    "        'Other': 'green'\n",
    "    }\n",
    ")\n",
    "\n",
    "# Customize layout for better aesthetics\n",
    "fig.update_layout(\n",
    "    title_x=0.5,  # Center the title\n",
    "    template='plotly_white',\n",
    "    paper_bgcolor='white',\n",
    "    height=500,\n",
    "    width=700,\n",
    "    font=dict(size=14),\n",
    ")\n",
    "\n",
    "# Add percentage labels on the pie slices\n",
    "fig.update_traces(\n",
    "    textposition='inside',\n",
    "    textinfo='percent+label',\n",
    "    pull=[0.1, 0, 0]  # Slightly pull out the largest slice for emphasis\n",
    ")\n",
    "\n",
    "# Show the plot\n",
    "fig.show()\n"
   ]
  },
  {
   "cell_type": "code",
   "execution_count": null,
   "metadata": {},
   "outputs": [
    {
     "data": {
      "application/vnd.plotly.v1+json": {
       "config": {
        "plotlyServerURL": "https://plot.ly"
       },
       "data": [
        {
         "alignmentgroup": "True",
         "hovertemplate": "Outlet Type=%{x}<br>Percentage (%)=%{y}<extra></extra>",
         "legendgroup": "Supermarket ",
         "marker": {
          "color": "blue",
          "pattern": {
           "shape": ""
          }
         },
         "name": "Supermarket ",
         "offsetgroup": "Supermarket ",
         "orientation": "v",
         "showlegend": true,
         "textposition": "auto",
         "type": "bar",
         "x": [
          "Supermarket "
         ],
         "xaxis": "x",
         "y": [
          65
         ],
         "yaxis": "y"
        },
        {
         "alignmentgroup": "True",
         "hovertemplate": "Outlet Type=%{x}<br>Percentage (%)=%{y}<extra></extra>",
         "legendgroup": "Grocery Store",
         "marker": {
          "color": "orange",
          "pattern": {
           "shape": ""
          }
         },
         "name": "Grocery Store",
         "offsetgroup": "Grocery Store",
         "orientation": "v",
         "showlegend": true,
         "textposition": "auto",
         "type": "bar",
         "x": [
          "Grocery Store"
         ],
         "xaxis": "x",
         "y": [
          13
         ],
         "yaxis": "y"
        },
        {
         "alignmentgroup": "True",
         "hovertemplate": "Outlet Type=%{x}<br>Percentage (%)=%{y}<extra></extra>",
         "legendgroup": "Other",
         "marker": {
          "color": "green",
          "pattern": {
           "shape": ""
          }
         },
         "name": "Other",
         "offsetgroup": "Other",
         "orientation": "v",
         "showlegend": true,
         "textposition": "auto",
         "type": "bar",
         "x": [
          "Other"
         ],
         "xaxis": "x",
         "y": [
          22
         ],
         "yaxis": "y"
        }
       ],
       "layout": {
        "barmode": "relative",
        "font": {
         "size": 14
        },
        "height": 500,
        "legend": {
         "title": {
          "text": "Outlet Type"
         },
         "tracegroupgap": 0
        },
        "paper_bgcolor": "white",
        "template": {
         "data": {
          "bar": [
           {
            "error_x": {
             "color": "#2a3f5f"
            },
            "error_y": {
             "color": "#2a3f5f"
            },
            "marker": {
             "line": {
              "color": "white",
              "width": 0.5
             },
             "pattern": {
              "fillmode": "overlay",
              "size": 10,
              "solidity": 0.2
             }
            },
            "type": "bar"
           }
          ],
          "barpolar": [
           {
            "marker": {
             "line": {
              "color": "white",
              "width": 0.5
             },
             "pattern": {
              "fillmode": "overlay",
              "size": 10,
              "solidity": 0.2
             }
            },
            "type": "barpolar"
           }
          ],
          "carpet": [
           {
            "aaxis": {
             "endlinecolor": "#2a3f5f",
             "gridcolor": "#C8D4E3",
             "linecolor": "#C8D4E3",
             "minorgridcolor": "#C8D4E3",
             "startlinecolor": "#2a3f5f"
            },
            "baxis": {
             "endlinecolor": "#2a3f5f",
             "gridcolor": "#C8D4E3",
             "linecolor": "#C8D4E3",
             "minorgridcolor": "#C8D4E3",
             "startlinecolor": "#2a3f5f"
            },
            "type": "carpet"
           }
          ],
          "choropleth": [
           {
            "colorbar": {
             "outlinewidth": 0,
             "ticks": ""
            },
            "type": "choropleth"
           }
          ],
          "contour": [
           {
            "colorbar": {
             "outlinewidth": 0,
             "ticks": ""
            },
            "colorscale": [
             [
              0,
              "#0d0887"
             ],
             [
              0.1111111111111111,
              "#46039f"
             ],
             [
              0.2222222222222222,
              "#7201a8"
             ],
             [
              0.3333333333333333,
              "#9c179e"
             ],
             [
              0.4444444444444444,
              "#bd3786"
             ],
             [
              0.5555555555555556,
              "#d8576b"
             ],
             [
              0.6666666666666666,
              "#ed7953"
             ],
             [
              0.7777777777777778,
              "#fb9f3a"
             ],
             [
              0.8888888888888888,
              "#fdca26"
             ],
             [
              1,
              "#f0f921"
             ]
            ],
            "type": "contour"
           }
          ],
          "contourcarpet": [
           {
            "colorbar": {
             "outlinewidth": 0,
             "ticks": ""
            },
            "type": "contourcarpet"
           }
          ],
          "heatmap": [
           {
            "colorbar": {
             "outlinewidth": 0,
             "ticks": ""
            },
            "colorscale": [
             [
              0,
              "#0d0887"
             ],
             [
              0.1111111111111111,
              "#46039f"
             ],
             [
              0.2222222222222222,
              "#7201a8"
             ],
             [
              0.3333333333333333,
              "#9c179e"
             ],
             [
              0.4444444444444444,
              "#bd3786"
             ],
             [
              0.5555555555555556,
              "#d8576b"
             ],
             [
              0.6666666666666666,
              "#ed7953"
             ],
             [
              0.7777777777777778,
              "#fb9f3a"
             ],
             [
              0.8888888888888888,
              "#fdca26"
             ],
             [
              1,
              "#f0f921"
             ]
            ],
            "type": "heatmap"
           }
          ],
          "heatmapgl": [
           {
            "colorbar": {
             "outlinewidth": 0,
             "ticks": ""
            },
            "colorscale": [
             [
              0,
              "#0d0887"
             ],
             [
              0.1111111111111111,
              "#46039f"
             ],
             [
              0.2222222222222222,
              "#7201a8"
             ],
             [
              0.3333333333333333,
              "#9c179e"
             ],
             [
              0.4444444444444444,
              "#bd3786"
             ],
             [
              0.5555555555555556,
              "#d8576b"
             ],
             [
              0.6666666666666666,
              "#ed7953"
             ],
             [
              0.7777777777777778,
              "#fb9f3a"
             ],
             [
              0.8888888888888888,
              "#fdca26"
             ],
             [
              1,
              "#f0f921"
             ]
            ],
            "type": "heatmapgl"
           }
          ],
          "histogram": [
           {
            "marker": {
             "pattern": {
              "fillmode": "overlay",
              "size": 10,
              "solidity": 0.2
             }
            },
            "type": "histogram"
           }
          ],
          "histogram2d": [
           {
            "colorbar": {
             "outlinewidth": 0,
             "ticks": ""
            },
            "colorscale": [
             [
              0,
              "#0d0887"
             ],
             [
              0.1111111111111111,
              "#46039f"
             ],
             [
              0.2222222222222222,
              "#7201a8"
             ],
             [
              0.3333333333333333,
              "#9c179e"
             ],
             [
              0.4444444444444444,
              "#bd3786"
             ],
             [
              0.5555555555555556,
              "#d8576b"
             ],
             [
              0.6666666666666666,
              "#ed7953"
             ],
             [
              0.7777777777777778,
              "#fb9f3a"
             ],
             [
              0.8888888888888888,
              "#fdca26"
             ],
             [
              1,
              "#f0f921"
             ]
            ],
            "type": "histogram2d"
           }
          ],
          "histogram2dcontour": [
           {
            "colorbar": {
             "outlinewidth": 0,
             "ticks": ""
            },
            "colorscale": [
             [
              0,
              "#0d0887"
             ],
             [
              0.1111111111111111,
              "#46039f"
             ],
             [
              0.2222222222222222,
              "#7201a8"
             ],
             [
              0.3333333333333333,
              "#9c179e"
             ],
             [
              0.4444444444444444,
              "#bd3786"
             ],
             [
              0.5555555555555556,
              "#d8576b"
             ],
             [
              0.6666666666666666,
              "#ed7953"
             ],
             [
              0.7777777777777778,
              "#fb9f3a"
             ],
             [
              0.8888888888888888,
              "#fdca26"
             ],
             [
              1,
              "#f0f921"
             ]
            ],
            "type": "histogram2dcontour"
           }
          ],
          "mesh3d": [
           {
            "colorbar": {
             "outlinewidth": 0,
             "ticks": ""
            },
            "type": "mesh3d"
           }
          ],
          "parcoords": [
           {
            "line": {
             "colorbar": {
              "outlinewidth": 0,
              "ticks": ""
             }
            },
            "type": "parcoords"
           }
          ],
          "pie": [
           {
            "automargin": true,
            "type": "pie"
           }
          ],
          "scatter": [
           {
            "fillpattern": {
             "fillmode": "overlay",
             "size": 10,
             "solidity": 0.2
            },
            "type": "scatter"
           }
          ],
          "scatter3d": [
           {
            "line": {
             "colorbar": {
              "outlinewidth": 0,
              "ticks": ""
             }
            },
            "marker": {
             "colorbar": {
              "outlinewidth": 0,
              "ticks": ""
             }
            },
            "type": "scatter3d"
           }
          ],
          "scattercarpet": [
           {
            "marker": {
             "colorbar": {
              "outlinewidth": 0,
              "ticks": ""
             }
            },
            "type": "scattercarpet"
           }
          ],
          "scattergeo": [
           {
            "marker": {
             "colorbar": {
              "outlinewidth": 0,
              "ticks": ""
             }
            },
            "type": "scattergeo"
           }
          ],
          "scattergl": [
           {
            "marker": {
             "colorbar": {
              "outlinewidth": 0,
              "ticks": ""
             }
            },
            "type": "scattergl"
           }
          ],
          "scattermapbox": [
           {
            "marker": {
             "colorbar": {
              "outlinewidth": 0,
              "ticks": ""
             }
            },
            "type": "scattermapbox"
           }
          ],
          "scatterpolar": [
           {
            "marker": {
             "colorbar": {
              "outlinewidth": 0,
              "ticks": ""
             }
            },
            "type": "scatterpolar"
           }
          ],
          "scatterpolargl": [
           {
            "marker": {
             "colorbar": {
              "outlinewidth": 0,
              "ticks": ""
             }
            },
            "type": "scatterpolargl"
           }
          ],
          "scatterternary": [
           {
            "marker": {
             "colorbar": {
              "outlinewidth": 0,
              "ticks": ""
             }
            },
            "type": "scatterternary"
           }
          ],
          "surface": [
           {
            "colorbar": {
             "outlinewidth": 0,
             "ticks": ""
            },
            "colorscale": [
             [
              0,
              "#0d0887"
             ],
             [
              0.1111111111111111,
              "#46039f"
             ],
             [
              0.2222222222222222,
              "#7201a8"
             ],
             [
              0.3333333333333333,
              "#9c179e"
             ],
             [
              0.4444444444444444,
              "#bd3786"
             ],
             [
              0.5555555555555556,
              "#d8576b"
             ],
             [
              0.6666666666666666,
              "#ed7953"
             ],
             [
              0.7777777777777778,
              "#fb9f3a"
             ],
             [
              0.8888888888888888,
              "#fdca26"
             ],
             [
              1,
              "#f0f921"
             ]
            ],
            "type": "surface"
           }
          ],
          "table": [
           {
            "cells": {
             "fill": {
              "color": "#EBF0F8"
             },
             "line": {
              "color": "white"
             }
            },
            "header": {
             "fill": {
              "color": "#C8D4E3"
             },
             "line": {
              "color": "white"
             }
            },
            "type": "table"
           }
          ]
         },
         "layout": {
          "annotationdefaults": {
           "arrowcolor": "#2a3f5f",
           "arrowhead": 0,
           "arrowwidth": 1
          },
          "autotypenumbers": "strict",
          "coloraxis": {
           "colorbar": {
            "outlinewidth": 0,
            "ticks": ""
           }
          },
          "colorscale": {
           "diverging": [
            [
             0,
             "#8e0152"
            ],
            [
             0.1,
             "#c51b7d"
            ],
            [
             0.2,
             "#de77ae"
            ],
            [
             0.3,
             "#f1b6da"
            ],
            [
             0.4,
             "#fde0ef"
            ],
            [
             0.5,
             "#f7f7f7"
            ],
            [
             0.6,
             "#e6f5d0"
            ],
            [
             0.7,
             "#b8e186"
            ],
            [
             0.8,
             "#7fbc41"
            ],
            [
             0.9,
             "#4d9221"
            ],
            [
             1,
             "#276419"
            ]
           ],
           "sequential": [
            [
             0,
             "#0d0887"
            ],
            [
             0.1111111111111111,
             "#46039f"
            ],
            [
             0.2222222222222222,
             "#7201a8"
            ],
            [
             0.3333333333333333,
             "#9c179e"
            ],
            [
             0.4444444444444444,
             "#bd3786"
            ],
            [
             0.5555555555555556,
             "#d8576b"
            ],
            [
             0.6666666666666666,
             "#ed7953"
            ],
            [
             0.7777777777777778,
             "#fb9f3a"
            ],
            [
             0.8888888888888888,
             "#fdca26"
            ],
            [
             1,
             "#f0f921"
            ]
           ],
           "sequentialminus": [
            [
             0,
             "#0d0887"
            ],
            [
             0.1111111111111111,
             "#46039f"
            ],
            [
             0.2222222222222222,
             "#7201a8"
            ],
            [
             0.3333333333333333,
             "#9c179e"
            ],
            [
             0.4444444444444444,
             "#bd3786"
            ],
            [
             0.5555555555555556,
             "#d8576b"
            ],
            [
             0.6666666666666666,
             "#ed7953"
            ],
            [
             0.7777777777777778,
             "#fb9f3a"
            ],
            [
             0.8888888888888888,
             "#fdca26"
            ],
            [
             1,
             "#f0f921"
            ]
           ]
          },
          "colorway": [
           "#636efa",
           "#EF553B",
           "#00cc96",
           "#ab63fa",
           "#FFA15A",
           "#19d3f3",
           "#FF6692",
           "#B6E880",
           "#FF97FF",
           "#FECB52"
          ],
          "font": {
           "color": "#2a3f5f"
          },
          "geo": {
           "bgcolor": "white",
           "lakecolor": "white",
           "landcolor": "white",
           "showlakes": true,
           "showland": true,
           "subunitcolor": "#C8D4E3"
          },
          "hoverlabel": {
           "align": "left"
          },
          "hovermode": "closest",
          "mapbox": {
           "style": "light"
          },
          "paper_bgcolor": "white",
          "plot_bgcolor": "white",
          "polar": {
           "angularaxis": {
            "gridcolor": "#EBF0F8",
            "linecolor": "#EBF0F8",
            "ticks": ""
           },
           "bgcolor": "white",
           "radialaxis": {
            "gridcolor": "#EBF0F8",
            "linecolor": "#EBF0F8",
            "ticks": ""
           }
          },
          "scene": {
           "xaxis": {
            "backgroundcolor": "white",
            "gridcolor": "#DFE8F3",
            "gridwidth": 2,
            "linecolor": "#EBF0F8",
            "showbackground": true,
            "ticks": "",
            "zerolinecolor": "#EBF0F8"
           },
           "yaxis": {
            "backgroundcolor": "white",
            "gridcolor": "#DFE8F3",
            "gridwidth": 2,
            "linecolor": "#EBF0F8",
            "showbackground": true,
            "ticks": "",
            "zerolinecolor": "#EBF0F8"
           },
           "zaxis": {
            "backgroundcolor": "white",
            "gridcolor": "#DFE8F3",
            "gridwidth": 2,
            "linecolor": "#EBF0F8",
            "showbackground": true,
            "ticks": "",
            "zerolinecolor": "#EBF0F8"
           }
          },
          "shapedefaults": {
           "line": {
            "color": "#2a3f5f"
           }
          },
          "ternary": {
           "aaxis": {
            "gridcolor": "#DFE8F3",
            "linecolor": "#A2B1C6",
            "ticks": ""
           },
           "baxis": {
            "gridcolor": "#DFE8F3",
            "linecolor": "#A2B1C6",
            "ticks": ""
           },
           "bgcolor": "white",
           "caxis": {
            "gridcolor": "#DFE8F3",
            "linecolor": "#A2B1C6",
            "ticks": ""
           }
          },
          "title": {
           "x": 0.05
          },
          "xaxis": {
           "automargin": true,
           "gridcolor": "#EBF0F8",
           "linecolor": "#EBF0F8",
           "ticks": "",
           "title": {
            "standoff": 15
           },
           "zerolinecolor": "#EBF0F8",
           "zerolinewidth": 2
          },
          "yaxis": {
           "automargin": true,
           "gridcolor": "#EBF0F8",
           "linecolor": "#EBF0F8",
           "ticks": "",
           "title": {
            "standoff": 15
           },
           "zerolinecolor": "#EBF0F8",
           "zerolinewidth": 2
          }
         }
        },
        "title": {
         "text": "Outlet Type Distribution",
         "x": 0.5
        },
        "width": 700,
        "xaxis": {
         "anchor": "y",
         "categoryarray": [
          "Supermarket ",
          "Grocery Store",
          "Other"
         ],
         "categoryorder": "array",
         "domain": [
          0,
          1
         ],
         "title": {
          "text": "Outlet Type"
         }
        },
        "yaxis": {
         "anchor": "x",
         "domain": [
          0,
          1
         ],
         "title": {
          "text": "Percentage (%)"
         }
        }
       }
      }
     },
     "metadata": {},
     "output_type": "display_data"
    }
   ],
   "source": [
    "import pandas as pd\n",
    "import plotly.express as px\n",
    "\n",
    "# Data for Outlet Type distribution\n",
    "data = {\n",
    "    'Outlet Type': ['Supermarket ', 'Grocery Store', 'Other'],\n",
    "    'Percentage': [65, 13, 22]  # Provided percentages\n",
    "}\n",
    "\n",
    "# Create a DataFrame\n",
    "df = pd.DataFrame(data)\n",
    "\n",
    "# Create a bar chart\n",
    "fig = px.bar(\n",
    "    df,\n",
    "    x='Outlet Type',\n",
    "    y='Percentage',\n",
    "    title='Outlet Type Distribution',\n",
    "    labels={'Percentage': 'Percentage (%)', 'Outlet Type': 'Outlet Type'},\n",
    "    color='Outlet Type',  # Color differentiation by Outlet Type\n",
    "    color_discrete_map={\n",
    "        'Supermarket ': 'blue',\n",
    "        'Grocery Store': 'orange',\n",
    "        'Other': 'green'\n",
    "    },\n",
    "    width=700,\n",
    "    height=500\n",
    ")\n",
    "\n",
    "# Customize layout for better aesthetics\n",
    "fig.update_layout(\n",
    "    title_x=0.5,  # Center the title\n",
    "    template='plotly_white',\n",
    "    paper_bgcolor='white',\n",
    "    font=dict(size=14),\n",
    ")\n",
    "\n",
    "# Show the plot\n",
    "fig.show()\n"
   ]
  },
  {
   "cell_type": "code",
   "execution_count": null,
   "metadata": {},
   "outputs": [],
   "source": []
  }
 ],
 "metadata": {
  "kernelspec": {
   "display_name": "base",
   "language": "python",
   "name": "python3"
  },
  "language_info": {
   "codemirror_mode": {
    "name": "ipython",
    "version": 3
   },
   "file_extension": ".py",
   "mimetype": "text/x-python",
   "name": "python",
   "nbconvert_exporter": "python",
   "pygments_lexer": "ipython3",
   "version": "3.12.4"
  }
 },
 "nbformat": 4,
 "nbformat_minor": 2
}
